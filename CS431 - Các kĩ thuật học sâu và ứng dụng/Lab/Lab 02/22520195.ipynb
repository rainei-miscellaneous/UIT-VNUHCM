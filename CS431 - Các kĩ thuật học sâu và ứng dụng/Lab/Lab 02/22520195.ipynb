{
  "cells": [
    {
      "cell_type": "markdown",
      "id": "gAAdqHUTUNtL",
      "metadata": {
        "id": "gAAdqHUTUNtL"
      },
      "source": [
        "# PHẦN 0 - KIỂM TRA PHIÊN BẢN CỦA THƯ VIỆN TENSORFLOW VÀ KERAS"
      ]
    },
    {
      "cell_type": "markdown",
      "id": "_73yrUJlVMtq",
      "metadata": {
        "id": "_73yrUJlVMtq"
      },
      "source": [
        "Trong bài tập này, chúng ta chỉ sẽ sử dụng thiết bị `CPU`. Bạn phải sử dụng phiên bản `2.15.0` của `TensorFlow` (đây cũng là phiên bản của môi trường `Google Colab` hiện tại). Trong trường hợp môi trường `Python 3` của bạn chưa có thư viện `TensorFlow` theo như yêu cầu, bạn cài đặt bằng cách thực hiện lệnh sau `pip install tensorflow==2.15.0`."
      ]
    },
    {
      "cell_type": "code",
      "execution_count": 67,
      "id": "udSpqqalTjLE",
      "metadata": {
        "colab": {
          "base_uri": "https://localhost:8080/"
        },
        "execution": {
          "iopub.execute_input": "2024-04-06T10:11:41.033263Z",
          "iopub.status.busy": "2024-04-06T10:11:41.032422Z",
          "iopub.status.idle": "2024-04-06T10:11:53.636749Z",
          "shell.execute_reply": "2024-04-06T10:11:53.633415Z"
        },
        "id": "udSpqqalTjLE",
        "outputId": "af56f715-5589-45d0-aa82-f5ecd3c913c3"
      },
      "outputs": [
        {
          "output_type": "stream",
          "name": "stdout",
          "text": [
            "Requirement already satisfied: tensorflow==2.15.0 in /usr/local/lib/python3.11/dist-packages (2.15.0)\n",
            "Requirement already satisfied: absl-py>=1.0.0 in /usr/local/lib/python3.11/dist-packages (from tensorflow==2.15.0) (1.4.0)\n",
            "Requirement already satisfied: astunparse>=1.6.0 in /usr/local/lib/python3.11/dist-packages (from tensorflow==2.15.0) (1.6.3)\n",
            "Requirement already satisfied: flatbuffers>=23.5.26 in /usr/local/lib/python3.11/dist-packages (from tensorflow==2.15.0) (25.2.10)\n",
            "Requirement already satisfied: gast!=0.5.0,!=0.5.1,!=0.5.2,>=0.2.1 in /usr/local/lib/python3.11/dist-packages (from tensorflow==2.15.0) (0.6.0)\n",
            "Requirement already satisfied: google-pasta>=0.1.1 in /usr/local/lib/python3.11/dist-packages (from tensorflow==2.15.0) (0.2.0)\n",
            "Requirement already satisfied: h5py>=2.9.0 in /usr/local/lib/python3.11/dist-packages (from tensorflow==2.15.0) (3.12.1)\n",
            "Requirement already satisfied: libclang>=13.0.0 in /usr/local/lib/python3.11/dist-packages (from tensorflow==2.15.0) (18.1.1)\n",
            "Requirement already satisfied: ml-dtypes~=0.2.0 in /usr/local/lib/python3.11/dist-packages (from tensorflow==2.15.0) (0.2.0)\n",
            "Requirement already satisfied: numpy<2.0.0,>=1.23.5 in /usr/local/lib/python3.11/dist-packages (from tensorflow==2.15.0) (1.26.4)\n",
            "Requirement already satisfied: opt-einsum>=2.3.2 in /usr/local/lib/python3.11/dist-packages (from tensorflow==2.15.0) (3.4.0)\n",
            "Requirement already satisfied: packaging in /usr/local/lib/python3.11/dist-packages (from tensorflow==2.15.0) (24.2)\n",
            "Requirement already satisfied: protobuf!=4.21.0,!=4.21.1,!=4.21.2,!=4.21.3,!=4.21.4,!=4.21.5,<5.0.0dev,>=3.20.3 in /usr/local/lib/python3.11/dist-packages (from tensorflow==2.15.0) (4.25.6)\n",
            "Requirement already satisfied: setuptools in /usr/local/lib/python3.11/dist-packages (from tensorflow==2.15.0) (75.1.0)\n",
            "Requirement already satisfied: six>=1.12.0 in /usr/local/lib/python3.11/dist-packages (from tensorflow==2.15.0) (1.17.0)\n",
            "Requirement already satisfied: termcolor>=1.1.0 in /usr/local/lib/python3.11/dist-packages (from tensorflow==2.15.0) (2.5.0)\n",
            "Requirement already satisfied: typing-extensions>=3.6.6 in /usr/local/lib/python3.11/dist-packages (from tensorflow==2.15.0) (4.12.2)\n",
            "Requirement already satisfied: wrapt<1.15,>=1.11.0 in /usr/local/lib/python3.11/dist-packages (from tensorflow==2.15.0) (1.14.1)\n",
            "Requirement already satisfied: tensorflow-io-gcs-filesystem>=0.23.1 in /usr/local/lib/python3.11/dist-packages (from tensorflow==2.15.0) (0.37.1)\n",
            "Requirement already satisfied: grpcio<2.0,>=1.24.3 in /usr/local/lib/python3.11/dist-packages (from tensorflow==2.15.0) (1.70.0)\n",
            "Requirement already satisfied: tensorboard<2.16,>=2.15 in /usr/local/lib/python3.11/dist-packages (from tensorflow==2.15.0) (2.15.2)\n",
            "Requirement already satisfied: tensorflow-estimator<2.16,>=2.15.0 in /usr/local/lib/python3.11/dist-packages (from tensorflow==2.15.0) (2.15.0)\n",
            "Requirement already satisfied: keras<2.16,>=2.15.0 in /usr/local/lib/python3.11/dist-packages (from tensorflow==2.15.0) (2.15.0)\n",
            "Requirement already satisfied: wheel<1.0,>=0.23.0 in /usr/local/lib/python3.11/dist-packages (from astunparse>=1.6.0->tensorflow==2.15.0) (0.45.1)\n",
            "Requirement already satisfied: google-auth<3,>=1.6.3 in /usr/local/lib/python3.11/dist-packages (from tensorboard<2.16,>=2.15->tensorflow==2.15.0) (2.38.0)\n",
            "Requirement already satisfied: google-auth-oauthlib<2,>=0.5 in /usr/local/lib/python3.11/dist-packages (from tensorboard<2.16,>=2.15->tensorflow==2.15.0) (1.2.1)\n",
            "Requirement already satisfied: markdown>=2.6.8 in /usr/local/lib/python3.11/dist-packages (from tensorboard<2.16,>=2.15->tensorflow==2.15.0) (3.7)\n",
            "Requirement already satisfied: requests<3,>=2.21.0 in /usr/local/lib/python3.11/dist-packages (from tensorboard<2.16,>=2.15->tensorflow==2.15.0) (2.32.3)\n",
            "Requirement already satisfied: tensorboard-data-server<0.8.0,>=0.7.0 in /usr/local/lib/python3.11/dist-packages (from tensorboard<2.16,>=2.15->tensorflow==2.15.0) (0.7.2)\n",
            "Requirement already satisfied: werkzeug>=1.0.1 in /usr/local/lib/python3.11/dist-packages (from tensorboard<2.16,>=2.15->tensorflow==2.15.0) (3.1.3)\n",
            "Requirement already satisfied: cachetools<6.0,>=2.0.0 in /usr/local/lib/python3.11/dist-packages (from google-auth<3,>=1.6.3->tensorboard<2.16,>=2.15->tensorflow==2.15.0) (5.5.2)\n",
            "Requirement already satisfied: pyasn1-modules>=0.2.1 in /usr/local/lib/python3.11/dist-packages (from google-auth<3,>=1.6.3->tensorboard<2.16,>=2.15->tensorflow==2.15.0) (0.4.1)\n",
            "Requirement already satisfied: rsa<5,>=3.1.4 in /usr/local/lib/python3.11/dist-packages (from google-auth<3,>=1.6.3->tensorboard<2.16,>=2.15->tensorflow==2.15.0) (4.9)\n",
            "Requirement already satisfied: requests-oauthlib>=0.7.0 in /usr/local/lib/python3.11/dist-packages (from google-auth-oauthlib<2,>=0.5->tensorboard<2.16,>=2.15->tensorflow==2.15.0) (2.0.0)\n",
            "Requirement already satisfied: charset-normalizer<4,>=2 in /usr/local/lib/python3.11/dist-packages (from requests<3,>=2.21.0->tensorboard<2.16,>=2.15->tensorflow==2.15.0) (3.4.1)\n",
            "Requirement already satisfied: idna<4,>=2.5 in /usr/local/lib/python3.11/dist-packages (from requests<3,>=2.21.0->tensorboard<2.16,>=2.15->tensorflow==2.15.0) (3.10)\n",
            "Requirement already satisfied: urllib3<3,>=1.21.1 in /usr/local/lib/python3.11/dist-packages (from requests<3,>=2.21.0->tensorboard<2.16,>=2.15->tensorflow==2.15.0) (2.3.0)\n",
            "Requirement already satisfied: certifi>=2017.4.17 in /usr/local/lib/python3.11/dist-packages (from requests<3,>=2.21.0->tensorboard<2.16,>=2.15->tensorflow==2.15.0) (2025.1.31)\n",
            "Requirement already satisfied: MarkupSafe>=2.1.1 in /usr/local/lib/python3.11/dist-packages (from werkzeug>=1.0.1->tensorboard<2.16,>=2.15->tensorflow==2.15.0) (3.0.2)\n",
            "Requirement already satisfied: pyasn1<0.7.0,>=0.4.6 in /usr/local/lib/python3.11/dist-packages (from pyasn1-modules>=0.2.1->google-auth<3,>=1.6.3->tensorboard<2.16,>=2.15->tensorflow==2.15.0) (0.6.1)\n",
            "Requirement already satisfied: oauthlib>=3.0.0 in /usr/local/lib/python3.11/dist-packages (from requests-oauthlib>=0.7.0->google-auth-oauthlib<2,>=0.5->tensorboard<2.16,>=2.15->tensorflow==2.15.0) (3.2.2)\n",
            "2025-03-06 03:11:09.612220: E external/local_xla/xla/stream_executor/cuda/cuda_dnn.cc:9261] Unable to register cuDNN factory: Attempting to register factory for plugin cuDNN when one has already been registered\n",
            "2025-03-06 03:11:09.612303: E external/local_xla/xla/stream_executor/cuda/cuda_fft.cc:607] Unable to register cuFFT factory: Attempting to register factory for plugin cuFFT when one has already been registered\n",
            "2025-03-06 03:11:09.613910: E external/local_xla/xla/stream_executor/cuda/cuda_blas.cc:1515] Unable to register cuBLAS factory: Attempting to register factory for plugin cuBLAS when one has already been registered\n",
            "2025-03-06 03:11:11.057633: W tensorflow/compiler/tf2tensorrt/utils/py_utils.cc:38] TF-TRT Warning: Could not find TensorRT\n",
            "2.15.0\n",
            "[PhysicalDevice(name='/physical_device:CPU:0', device_type='CPU')]\n"
          ]
        }
      ],
      "source": [
        "# Kiểm tra phiên bản của thư viện TensorFlow và in ra danh sách các thiết bị.\n",
        "!pip install tensorflow==2.15.0\n",
        "!python -c 'import tensorflow; print(tensorflow.__version__); print(tensorflow.config.list_physical_devices())'"
      ]
    },
    {
      "cell_type": "code",
      "execution_count": 68,
      "id": "7PV29RCaUDze",
      "metadata": {
        "colab": {
          "base_uri": "https://localhost:8080/"
        },
        "execution": {
          "iopub.execute_input": "2024-04-06T10:11:53.649814Z",
          "iopub.status.busy": "2024-04-06T10:11:53.647465Z",
          "iopub.status.idle": "2024-04-06T10:12:02.632962Z",
          "shell.execute_reply": "2024-04-06T10:12:02.628945Z"
        },
        "id": "7PV29RCaUDze",
        "outputId": "a47635fd-a3a7-492d-9807-509f19685514"
      },
      "outputs": [
        {
          "output_type": "stream",
          "name": "stdout",
          "text": [
            "2025-03-06 03:11:15.921491: E external/local_xla/xla/stream_executor/cuda/cuda_dnn.cc:9261] Unable to register cuDNN factory: Attempting to register factory for plugin cuDNN when one has already been registered\n",
            "2025-03-06 03:11:15.921584: E external/local_xla/xla/stream_executor/cuda/cuda_fft.cc:607] Unable to register cuFFT factory: Attempting to register factory for plugin cuFFT when one has already been registered\n",
            "2025-03-06 03:11:15.923464: E external/local_xla/xla/stream_executor/cuda/cuda_blas.cc:1515] Unable to register cuBLAS factory: Attempting to register factory for plugin cuBLAS when one has already been registered\n",
            "2025-03-06 03:11:17.599202: W tensorflow/compiler/tf2tensorrt/utils/py_utils.cc:38] TF-TRT Warning: Could not find TensorRT\n",
            "2.15.0\n"
          ]
        }
      ],
      "source": [
        "# Kiểm tra phiên bản của thư viện Keras.\n",
        "!python -c 'import keras; print(keras.__version__)'"
      ]
    },
    {
      "cell_type": "markdown",
      "id": "32d8e798-415f-437f-9595-395432d2f6ea",
      "metadata": {
        "id": "32d8e798-415f-437f-9595-395432d2f6ea",
        "nbgrader": {
          "grade": false,
          "grade_id": "cell-cd8ada6364a44dde",
          "locked": true,
          "schema_version": 3,
          "solution": false,
          "task": false
        },
        "tags": []
      },
      "source": [
        "## PHẦN 1 - CÀI ĐẶT MÔ HÌNH LINEAR REGRESSION VỚI KERAS"
      ]
    },
    {
      "cell_type": "markdown",
      "id": "fd050030-303d-46a5-814b-39eb047ad932",
      "metadata": {
        "id": "fd050030-303d-46a5-814b-39eb047ad932",
        "nbgrader": {
          "grade": false,
          "grade_id": "cell-0bffba57d1ad9cb3",
          "locked": true,
          "schema_version": 3,
          "solution": false,
          "task": false
        },
        "tags": []
      },
      "source": [
        "Một mô hình máy học cần có đủ ít nhất 7 phương thức sau:\n",
        "- `__init__`: hàm constructor trong hướng đối tượng, được sử dụng để khởi tạo các tham số mặc định hoặc tham số bắt đầu một mô hình. Trong những bài tập đầu tiên, để đơn giản constructor sẽ không sử dụng.\n",
        "- `build`: xây dựng kiến trúc của mô hình\n",
        "- `train`: bắt đầu quá trình huấn luyện mô hình\n",
        "- `save`: lưu lại mô hình sau khi đã huấn luyện\n",
        "- `load`: load lên mô hình từ file đã huấn luyện (pretrained)\n",
        "- `summary`: in tóm tắt kiến trúc mô hình\n",
        "- `predict`: dự đoán giá trị output từ dữ liệu đầu vào"
      ]
    },
    {
      "cell_type": "code",
      "execution_count": 69,
      "id": "4045ce28-ee6d-4e9b-a48a-f1735f301574",
      "metadata": {
        "execution": {
          "iopub.execute_input": "2024-04-06T10:12:02.645556Z",
          "iopub.status.busy": "2024-04-06T10:12:02.644447Z",
          "iopub.status.idle": "2024-04-06T10:12:02.666988Z",
          "shell.execute_reply": "2024-04-06T10:12:02.664538Z"
        },
        "id": "4045ce28-ee6d-4e9b-a48a-f1735f301574",
        "nbgrader": {
          "grade": false,
          "grade_id": "cell-126fc97be75a7453",
          "locked": true,
          "schema_version": 3,
          "solution": false,
          "task": false
        },
        "tags": []
      },
      "outputs": [],
      "source": [
        "# Mô hình cài đặt tổng quát bao gồm 7 phương thức cơ bản\n",
        "# Lưu ý: mô hình này chỉ mang tính gợi ý, không bắt buộc\n",
        "# Tuy nhiên, trong phần bài tập cần tuân theo các tên phương thức này\n",
        "class MyModel:\n",
        "    # constructor\n",
        "    def __init__(self):\n",
        "        return None\n",
        "\n",
        "    # Implement architecture of the model\n",
        "    def build(self):\n",
        "        return None\n",
        "\n",
        "    # Train the defined model with training and validation data\n",
        "    def train(self):\n",
        "        return None\n",
        "\n",
        "    # Save the trained model to file\n",
        "    def save(self, model_path):\n",
        "        return None\n",
        "\n",
        "    # Load pretrained model from file\n",
        "    def load(self):\n",
        "        return None\n",
        "\n",
        "    # Visualize your model\n",
        "    def summary(self):\n",
        "        return None\n",
        "\n",
        "    # Apply your model with new input data\n",
        "    def predict(self):\n",
        "        return None"
      ]
    },
    {
      "cell_type": "markdown",
      "id": "498cd880-c80c-4d9a-9ca8-bff003cf2ae6",
      "metadata": {
        "id": "498cd880-c80c-4d9a-9ca8-bff003cf2ae6",
        "nbgrader": {
          "grade": false,
          "grade_id": "cell-449bbee0eee23e80",
          "locked": true,
          "schema_version": 3,
          "solution": false,
          "task": false
        },
        "tags": []
      },
      "source": [
        "## 1. Import các thư viện Keras\n",
        "\n",
        "Đầu tiên, ta sẽ import các thư viện, module, hàm của `Keras`:\n",
        "- `Input`: để nhận dữ liệu đầu vào cho mô hình\n",
        "- `Dense`: hay còn gọi là lớp Fully Connected (Lớp kết nối đầy đủ), một thành phần quan trọng của các mô hình dựa trên mạng Neural Network.\n",
        "- `Model`: đây là lớp đối tượng mô hình được sử dụng để đóng gói lớp đầu vào, đầu ra, sau đó huấn luyện với phương thức `fit` và dự đoán kết quả với `predict`.\n",
        "- `load_model`: hàm sử dụng để load mô hình lên từ file"
      ]
    },
    {
      "cell_type": "code",
      "execution_count": 70,
      "id": "1f4b4acb-157f-4309-96de-b8e7b01f6506",
      "metadata": {
        "execution": {
          "iopub.execute_input": "2024-04-06T10:12:02.676506Z",
          "iopub.status.busy": "2024-04-06T10:12:02.675591Z",
          "iopub.status.idle": "2024-04-06T10:12:10.331216Z",
          "shell.execute_reply": "2024-04-06T10:12:10.328873Z"
        },
        "id": "1f4b4acb-157f-4309-96de-b8e7b01f6506",
        "nbgrader": {
          "grade": false,
          "grade_id": "cell-57c79d33953aeef2",
          "locked": true,
          "schema_version": 3,
          "solution": false,
          "task": false
        },
        "tags": []
      },
      "outputs": [],
      "source": [
        "from keras.layers import Input, Dense\n",
        "from keras import Model\n",
        "import tensorflow as tf\n",
        "from keras.models import load_model"
      ]
    },
    {
      "cell_type": "markdown",
      "id": "04a833c1-4990-489c-bbac-968b578eac39",
      "metadata": {
        "id": "04a833c1-4990-489c-bbac-968b578eac39",
        "nbgrader": {
          "grade": false,
          "grade_id": "cell-f72ad50b2c988c98",
          "locked": true,
          "schema_version": 3,
          "solution": false,
          "task": false
        },
        "tags": []
      },
      "source": [
        "## 2. Cài đặt mô hình Linear Regression\n",
        "Tiếp theo, ta sẽ dựa trên khung đối tượng `MyModel` đã trình bày ở mục trước để tiến hành cài đặt mô hình **Linear Regression**. Phương thức chính mà bài tập này cần thực hiện là `def build()`. Các phương thức còn lại đã được cài đặt sẵn, các bạn cần đọc, hiểu ý nghĩa và cách thức sử dụng về sau.\n",
        "\n",
        "<p align=\"center\">\n",
        "  <img src=\"./images/LinearReg.png\" />\n",
        "</p>"
      ]
    },
    {
      "cell_type": "code",
      "execution_count": 71,
      "id": "60b33717-b96f-4c9b-97f8-2e0eb49d7afa",
      "metadata": {
        "execution": {
          "iopub.execute_input": "2024-04-06T10:12:10.342530Z",
          "iopub.status.busy": "2024-04-06T10:12:10.340979Z",
          "iopub.status.idle": "2024-04-06T10:12:10.360725Z",
          "shell.execute_reply": "2024-04-06T10:12:10.358720Z"
        },
        "id": "60b33717-b96f-4c9b-97f8-2e0eb49d7afa",
        "nbgrader": {
          "grade": false,
          "grade_id": "cell-39579eccef29b960",
          "locked": false,
          "schema_version": 3,
          "solution": true,
          "task": false
        },
        "tags": []
      },
      "outputs": [],
      "source": [
        "# Linear Regression\n",
        "class LinearRegression:\n",
        "    def __init__(self): # Self is similar to your 'this' pointer in C++\n",
        "        return None\n",
        "\n",
        "    def build(self, input_dim):\n",
        "\n",
        "        self.model = None\n",
        "        # Hãy cài đặt để định nghĩa KIẾN TRÚC MÔ HÌNH và lưu ở thuộc tính `self.model`\n",
        "        # với các biến đối tượng sau:\n",
        "        #  - tạo biến `input` với lớp đối tượng `Input` của Keras,\n",
        "        #    truyền vào kích thước đầu vào `input_dim`\n",
        "        #  - tạo biến `output` với lớp đối tượng `Dense` của Keras,\n",
        "        #    truyền vào các tham số:  kích thước output, có sử dụng bias,\n",
        "        #    không sử dụng hàm activation\n",
        "        # Sau bước này, self.model sẽ đóng gói 2 biến `input` và `output` để tạo thành mô hình\n",
        "        ### BEGIN SOLUTION\n",
        "        input = Input(shape=(input_dim,))\n",
        "        output = Dense(units=1, use_bias=True, activation=None)(input)\n",
        "\n",
        "        ### END SOLUTION\n",
        "        self.model = Model(input, output)\n",
        "        return self.model\n",
        "\n",
        "    def train(self, x_train, y_train):\n",
        "        opt = tf.keras.optimizers.SGD(learning_rate=0.1) # Stochastic Gradient Descent\n",
        "        self.model.compile(optimizer=opt, loss='mse') # MSE: mean squared error or L2 distance # (y~ - y)^2\n",
        "        return self.model.fit(x_train, y_train, epochs=30)\n",
        "\n",
        "    def save(self, model_file):\n",
        "        return self.model.save(model_file)\n",
        "\n",
        "    def load(self, model_file):\n",
        "        self.model = load_model(model_file)\n",
        "\n",
        "    def summary(self):\n",
        "        self.model.summary()\n",
        "\n",
        "    def predict(self, x_test):\n",
        "        return self.model.predict(x_test)\n",
        "\n",
        "    def get_weights(self):\n",
        "        return self.model.layers[1].get_weights()"
      ]
    },
    {
      "cell_type": "markdown",
      "id": "97f6c731-3e41-4d71-988d-b41a6dfa2999",
      "metadata": {
        "id": "97f6c731-3e41-4d71-988d-b41a6dfa2999",
        "nbgrader": {
          "grade": false,
          "grade_id": "cell-ac1cf2df36b35acb",
          "locked": true,
          "schema_version": 3,
          "solution": false,
          "task": false
        },
        "tags": []
      },
      "source": [
        "Tiếp theo, ta sẽ khởi tạo đối tượng LinearRegression và kiểm tra thử xem phương `build` đã cài đặt chính xác chưa."
      ]
    },
    {
      "cell_type": "code",
      "execution_count": 72,
      "id": "74d6e729-8fcc-4464-9d1f-0e24da5629dc",
      "metadata": {
        "colab": {
          "base_uri": "https://localhost:8080/"
        },
        "execution": {
          "iopub.execute_input": "2024-04-06T10:12:10.370409Z",
          "iopub.status.busy": "2024-04-06T10:12:10.369257Z",
          "iopub.status.idle": "2024-04-06T10:12:10.507939Z",
          "shell.execute_reply": "2024-04-06T10:12:10.505720Z"
        },
        "id": "74d6e729-8fcc-4464-9d1f-0e24da5629dc",
        "nbgrader": {
          "grade": false,
          "grade_id": "cell-cb24e77ca4ff451e",
          "locked": true,
          "schema_version": 3,
          "solution": false,
          "task": false
        },
        "outputId": "54c38dc4-1465-4744-8478-c79ed2b36c78",
        "tags": []
      },
      "outputs": [
        {
          "output_type": "execute_result",
          "data": {
            "text/plain": [
              "<keras.src.engine.functional.Functional at 0x78d1a26e3d10>"
            ]
          },
          "metadata": {},
          "execution_count": 72
        }
      ],
      "source": [
        "lr = LinearRegression()\n",
        "# Trong ví dụ này, ta sẽ khởi tạo input là một vector 1000 chiều:\n",
        "lr.build(1000)"
      ]
    },
    {
      "cell_type": "code",
      "execution_count": 73,
      "id": "9ca9fdb2-e913-4c1d-a858-48a3842f3436",
      "metadata": {
        "execution": {
          "iopub.execute_input": "2024-04-06T10:12:10.517399Z",
          "iopub.status.busy": "2024-04-06T10:12:10.516169Z",
          "iopub.status.idle": "2024-04-06T10:12:10.527331Z",
          "shell.execute_reply": "2024-04-06T10:12:10.525334Z"
        },
        "id": "9ca9fdb2-e913-4c1d-a858-48a3842f3436",
        "nbgrader": {
          "grade": true,
          "grade_id": "cell-278fafeae5c407d0",
          "locked": true,
          "points": 5,
          "schema_version": 3,
          "solution": false,
          "task": false
        },
        "tags": []
      },
      "outputs": [],
      "source": [
        "# Public Test\n",
        "assert len(lr.model.layers) == 2\n",
        "assert str(type(lr.model.layers[0])).endswith(\"input_layer.InputLayer'>\") == True\n",
        "assert str(type(lr.model.layers[1])).endswith(\"core.dense.Dense'>\") == True\n",
        "assert lr.model.layers[0].input_shape[0][1] == 1000"
      ]
    },
    {
      "cell_type": "markdown",
      "id": "834e8988-86a3-4914-8b48-5b1e0c26ef9f",
      "metadata": {
        "id": "834e8988-86a3-4914-8b48-5b1e0c26ef9f",
        "nbgrader": {
          "grade": false,
          "grade_id": "cell-ac7a9ddf407c8762",
          "locked": true,
          "schema_version": 3,
          "solution": false,
          "task": false
        },
        "tags": []
      },
      "source": [
        "## 3. Tạo dữ liệu mẫu (toy example)\n",
        "Bước tiếp theo, ta sẽ tiến hành tạo mẫu dữ liệu để huấn luyện và kiểm thử.\n",
        "\n",
        "Dữ liệu được tạo ra là các điểm xoay xung quanh một đường thẳng với một số nhiễu"
      ]
    },
    {
      "cell_type": "code",
      "execution_count": 74,
      "id": "e85e8cda-f476-4091-8bbc-e1c5c05a8c99",
      "metadata": {
        "colab": {
          "base_uri": "https://localhost:8080/",
          "height": 430
        },
        "execution": {
          "iopub.execute_input": "2024-04-06T10:12:10.593161Z",
          "iopub.status.busy": "2024-04-06T10:12:10.591940Z",
          "iopub.status.idle": "2024-04-06T10:12:13.263311Z",
          "shell.execute_reply": "2024-04-06T10:12:13.260875Z"
        },
        "id": "e85e8cda-f476-4091-8bbc-e1c5c05a8c99",
        "nbgrader": {
          "grade": false,
          "grade_id": "cell-596b906e8b2db48f",
          "locked": true,
          "schema_version": 3,
          "solution": false,
          "task": false
        },
        "outputId": "2d93cb6d-5fad-477b-bd1b-ba65e77d9482",
        "tags": []
      },
      "outputs": [
        {
          "output_type": "display_data",
          "data": {
            "text/plain": [
              "<Figure size 640x480 with 1 Axes>"
            ],
            "image/png": "[encoded data removed]"
          },
          "metadata": {}
        }
      ],
      "source": [
        "import numpy as np\n",
        "import matplotlib.pyplot as plt\n",
        "\n",
        "# Khởi tạo các điểm xung quanh đường thẳng y = -3*x + 10\n",
        "x = np.arange(-5, 5, 0.5)\n",
        "n = len(x) # Số mẫu dữ liệu\n",
        "\n",
        "std = 2 # tham số thể hiện mức độ nhiễu nhiều hay ít. Càng lớn càng nhiễu\n",
        "y = -3*x + 10 + np.random.normal(0, std, n)\n",
        "\n",
        "# Trực quan hóa dữ liệu bằng các hình tròn màu đỏ\n",
        "plt.plot(x, y, 'ro')\n",
        "plt.show()"
      ]
    },
    {
      "cell_type": "code",
      "execution_count": 75,
      "id": "8aa7ce32-4f59-4cee-ae56-25f0cd972886",
      "metadata": {
        "colab": {
          "base_uri": "https://localhost:8080/"
        },
        "execution": {
          "iopub.execute_input": "2024-04-06T10:12:13.273023Z",
          "iopub.status.busy": "2024-04-06T10:12:13.271725Z",
          "iopub.status.idle": "2024-04-06T10:12:13.361109Z",
          "shell.execute_reply": "2024-04-06T10:12:13.358630Z"
        },
        "id": "8aa7ce32-4f59-4cee-ae56-25f0cd972886",
        "nbgrader": {
          "grade": false,
          "grade_id": "cell-7b350a0e29be5844",
          "locked": false,
          "schema_version": 3,
          "solution": true,
          "task": false
        },
        "outputId": "c8289ddc-d8db-48dc-96c4-3f69bc6d85b1",
        "tags": []
      },
      "outputs": [
        {
          "output_type": "stream",
          "name": "stdout",
          "text": [
            "The architecture of Linear Regression model: \n",
            "Model: \"model_7\"\n",
            "_________________________________________________________________\n",
            " Layer (type)                Output Shape              Param #   \n",
            "=================================================================\n",
            " input_10 (InputLayer)       [(None, 1)]               0         \n",
            "                                                                 \n",
            " dense_9 (Dense)             (None, 1)                 2         \n",
            "                                                                 \n",
            "=================================================================\n",
            "Total params: 2 (8.00 Byte)\n",
            "Trainable params: 2 (8.00 Byte)\n",
            "Non-trainable params: 0 (0.00 Byte)\n",
            "_________________________________________________________________\n"
          ]
        }
      ],
      "source": [
        "lr = LinearRegression()\n",
        "\n",
        "# Hãy gọi phương thức `build` cho đối tượng `lr` và truyền tham số đầu vào\n",
        "# tương ứng với dữ liệu train đã phát sinh ở code block trên\n",
        "# Theo bạn, `input_dim` bằng bao nhiêu?\n",
        "\n",
        "### BEGIN SOLUTION\n",
        "lr.build(1)\n",
        "### END SOLUTION\n",
        "\n",
        "# Để hiển thị kiến trúc của mô hình ta gọi phương thức `summary`\n",
        "print(\"The architecture of Linear Regression model: \")\n",
        "lr.summary()"
      ]
    },
    {
      "cell_type": "code",
      "execution_count": 76,
      "id": "7f34ecff-3ef0-497f-bcd0-c138cb7b7af3",
      "metadata": {
        "execution": {
          "iopub.execute_input": "2024-04-06T10:12:13.399961Z",
          "iopub.status.busy": "2024-04-06T10:12:13.398012Z",
          "iopub.status.idle": "2024-04-06T10:12:14.786352Z",
          "shell.execute_reply": "2024-04-06T10:12:14.783772Z"
        },
        "id": "7f34ecff-3ef0-497f-bcd0-c138cb7b7af3",
        "nbgrader": {
          "grade": false,
          "grade_id": "cell-9ba3148b1e8aacd3",
          "locked": true,
          "schema_version": 3,
          "solution": false,
          "task": false
        },
        "tags": [],
        "colab": {
          "base_uri": "https://localhost:8080/"
        },
        "outputId": "614f5f26-1caf-47e5-8301-d27225983dba"
      },
      "outputs": [
        {
          "output_type": "stream",
          "name": "stdout",
          "text": [
            "Epoch 1/30\n",
            "1/1 [==============================] - 1s 660ms/step - loss: 286.4056\n",
            "Epoch 2/30\n",
            "1/1 [==============================] - 0s 25ms/step - loss: 149.2388\n",
            "Epoch 3/30\n",
            "1/1 [==============================] - 0s 12ms/step - loss: 80.5134\n",
            "Epoch 4/30\n",
            "1/1 [==============================] - 0s 13ms/step - loss: 45.2417\n",
            "Epoch 5/30\n",
            "1/1 [==============================] - 0s 10ms/step - loss: 26.6470\n",
            "Epoch 6/30\n",
            "1/1 [==============================] - 0s 15ms/step - loss: 16.5619\n",
            "Epoch 7/30\n",
            "1/1 [==============================] - 0s 15ms/step - loss: 10.9346\n",
            "Epoch 8/30\n",
            "1/1 [==============================] - 0s 15ms/step - loss: 7.7091\n",
            "Epoch 9/30\n",
            "1/1 [==============================] - 0s 19ms/step - loss: 5.8151\n",
            "Epoch 10/30\n",
            "1/1 [==============================] - 0s 21ms/step - loss: 4.6799\n",
            "Epoch 11/30\n",
            "1/1 [==============================] - 0s 23ms/step - loss: 3.9879\n",
            "Epoch 12/30\n",
            "1/1 [==============================] - 0s 22ms/step - loss: 3.5603\n",
            "Epoch 13/30\n",
            "1/1 [==============================] - 0s 16ms/step - loss: 3.2934\n",
            "Epoch 14/30\n",
            "1/1 [==============================] - 0s 19ms/step - loss: 3.1254\n",
            "Epoch 15/30\n",
            "1/1 [==============================] - 0s 15ms/step - loss: 3.0192\n",
            "Epoch 16/30\n",
            "1/1 [==============================] - 0s 18ms/step - loss: 2.9516\n",
            "Epoch 17/30\n",
            "1/1 [==============================] - 0s 21ms/step - loss: 2.9085\n",
            "Epoch 18/30\n",
            "1/1 [==============================] - 0s 15ms/step - loss: 2.8810\n",
            "Epoch 19/30\n",
            "1/1 [==============================] - 0s 8ms/step - loss: 2.8634\n",
            "Epoch 20/30\n",
            "1/1 [==============================] - 0s 9ms/step - loss: 2.8521\n",
            "Epoch 21/30\n",
            "1/1 [==============================] - 0s 9ms/step - loss: 2.8448\n",
            "Epoch 22/30\n",
            "1/1 [==============================] - 0s 15ms/step - loss: 2.8402\n",
            "Epoch 23/30\n",
            "1/1 [==============================] - 0s 17ms/step - loss: 2.8372\n",
            "Epoch 24/30\n",
            "1/1 [==============================] - 0s 15ms/step - loss: 2.8353\n",
            "Epoch 25/30\n",
            "1/1 [==============================] - 0s 20ms/step - loss: 2.8341\n",
            "Epoch 26/30\n",
            "1/1 [==============================] - 0s 11ms/step - loss: 2.8333\n",
            "Epoch 27/30\n",
            "1/1 [==============================] - 0s 10ms/step - loss: 2.8328\n",
            "Epoch 28/30\n",
            "1/1 [==============================] - 0s 9ms/step - loss: 2.8324\n",
            "Epoch 29/30\n",
            "1/1 [==============================] - 0s 11ms/step - loss: 2.8322\n",
            "Epoch 30/30\n",
            "1/1 [==============================] - 0s 10ms/step - loss: 2.8321\n"
          ]
        }
      ],
      "source": [
        "# Để huấn luyện mô hình ta gọi phương thức `train` với dữ liệu mẫu đã tạo được\n",
        "# Nếu bước `build` mô hình gọi đúng thì bước `train` sau sẽ thực hiện thành công\n",
        "hist = lr.train(x, y)"
      ]
    },
    {
      "cell_type": "code",
      "execution_count": 77,
      "id": "44d04e58-792d-40e7-b4c5-01b4e0a582df",
      "metadata": {
        "execution": {
          "iopub.execute_input": "2024-04-06T10:12:14.795469Z",
          "iopub.status.busy": "2024-04-06T10:12:14.794741Z",
          "iopub.status.idle": "2024-04-06T10:12:15.285124Z",
          "shell.execute_reply": "2024-04-06T10:12:15.282907Z"
        },
        "id": "44d04e58-792d-40e7-b4c5-01b4e0a582df",
        "nbgrader": {
          "grade": false,
          "grade_id": "cell-410570417a6e9fdd",
          "locked": true,
          "schema_version": 3,
          "solution": false,
          "task": false
        },
        "tags": [],
        "colab": {
          "base_uri": "https://localhost:8080/",
          "height": 472
        },
        "outputId": "141b1244-d4eb-4b34-a47e-a6bf885e61be"
      },
      "outputs": [
        {
          "output_type": "display_data",
          "data": {
            "text/plain": [
              "<Figure size 640x480 with 1 Axes>"
            ],
            "image/png": "[encoded data removed]"
          },
          "metadata": {}
        }
      ],
      "source": [
        "# Hiển thị loss theo số epoch\n",
        "plt.plot(hist.history['loss'])\n",
        "plt.title('Model Loss')\n",
        "plt.ylabel('loss')\n",
        "plt.xlabel('epoch')\n",
        "plt.show()"
      ]
    },
    {
      "cell_type": "code",
      "execution_count": 78,
      "id": "3fb633a4-92b1-4d1d-a189-df8b64bca31d",
      "metadata": {
        "execution": {
          "iopub.execute_input": "2024-04-06T10:12:15.295209Z",
          "iopub.status.busy": "2024-04-06T10:12:15.293279Z",
          "iopub.status.idle": "2024-04-06T10:12:15.326391Z",
          "shell.execute_reply": "2024-04-06T10:12:15.324227Z"
        },
        "id": "3fb633a4-92b1-4d1d-a189-df8b64bca31d",
        "nbgrader": {
          "grade": false,
          "grade_id": "cell-bbe1e1b3f7109f67",
          "locked": true,
          "schema_version": 3,
          "solution": false,
          "task": false
        },
        "tags": [],
        "colab": {
          "base_uri": "https://localhost:8080/"
        },
        "outputId": "b14af3df-e38d-481c-a91b-193a1b8528bc"
      },
      "outputs": [
        {
          "output_type": "stream",
          "name": "stderr",
          "text": [
            "/usr/local/lib/python3.11/dist-packages/keras/src/engine/training.py:3103: UserWarning: You are saving your model as an HDF5 file via `model.save()`. This file format is considered legacy. We recommend using instead the native Keras format, e.g. `model.save('my_model.keras')`.\n",
            "  saving_api.save_model(\n"
          ]
        }
      ],
      "source": [
        "# Sau khi đã huấn luyện, ta lưu mô hình về để sau này tái sử dụng\n",
        "# Lưu ý: hai phương thức lưu mô hình `save` và tải mô hình lên 'load'\n",
        "# được sử dụng khi muốn tái sử dụng nhiều lần mà KHÔNG CẦN PHẢI HUẤN LUYỆN LẠI\n",
        "lr.save('linear_regression_model.h5')"
      ]
    },
    {
      "cell_type": "markdown",
      "id": "70ea400e-07a0-42d5-a516-0d902674dc01",
      "metadata": {
        "id": "70ea400e-07a0-42d5-a516-0d902674dc01"
      },
      "source": [
        "## 5. Trực quan hóa mô hình và dự đoán với dữ liệu test"
      ]
    },
    {
      "cell_type": "code",
      "execution_count": 79,
      "id": "734b3a8b-8f30-4acb-a92a-471ee4c3b052",
      "metadata": {
        "execution": {
          "iopub.execute_input": "2024-04-06T10:12:15.335776Z",
          "iopub.status.busy": "2024-04-06T10:12:15.333965Z",
          "iopub.status.idle": "2024-04-06T10:12:15.423359Z",
          "shell.execute_reply": "2024-04-06T10:12:15.421034Z"
        },
        "id": "734b3a8b-8f30-4acb-a92a-471ee4c3b052",
        "nbgrader": {
          "grade": false,
          "grade_id": "cell-6caaefefab9d0f32",
          "locked": true,
          "schema_version": 3,
          "solution": false,
          "task": false
        },
        "tags": []
      },
      "outputs": [],
      "source": [
        "# Khởi tạo đối tượng mới và gọi phương thức load mô hình từ file\n",
        "pretrain_lr = LinearRegression()\n",
        "pretrain_lr.load('linear_regression_model.h5')"
      ]
    },
    {
      "cell_type": "code",
      "execution_count": 80,
      "id": "dd9a079b-2dd4-49f6-b766-d16fe4358b55",
      "metadata": {
        "execution": {
          "iopub.execute_input": "2024-04-06T10:12:15.433735Z",
          "iopub.status.busy": "2024-04-06T10:12:15.431560Z",
          "iopub.status.idle": "2024-04-06T10:12:15.447377Z",
          "shell.execute_reply": "2024-04-06T10:12:15.445379Z"
        },
        "id": "dd9a079b-2dd4-49f6-b766-d16fe4358b55",
        "nbgrader": {
          "grade": false,
          "grade_id": "cell-4c57bf1e1c1fe3c9",
          "locked": true,
          "schema_version": 3,
          "solution": false,
          "task": false
        },
        "tags": [],
        "colab": {
          "base_uri": "https://localhost:8080/"
        },
        "outputId": "1fd7be1b-5154-412a-84ff-7df66ab55bec"
      },
      "outputs": [
        {
          "output_type": "stream",
          "name": "stdout",
          "text": [
            "Tham số tối ưu: \n",
            "[array([[-3.2015867]], dtype=float32), array([9.649936], dtype=float32)]\n",
            "Trong đó: \n",
            "   - bias (hệ số tự do) :  9.649936\n",
            "   - theta (hệ số cho dữ liệu đầu vào):  -3.2015867\n"
          ]
        }
      ],
      "source": [
        "theta = pretrain_lr.get_weights()\n",
        "print('Tham số tối ưu: ')\n",
        "print(theta)\n",
        "bias = theta[1][0] # bias chính là theta0 trong mô hình gốc\n",
        "theta1 = theta[0][0][0]\n",
        "print('Trong đó: ')\n",
        "print('   - bias (hệ số tự do) : ', bias)\n",
        "print('   - theta (hệ số cho dữ liệu đầu vào): ', theta1)"
      ]
    },
    {
      "cell_type": "markdown",
      "id": "5b3d5093-1ed8-4366-a430-950609438930",
      "metadata": {
        "id": "5b3d5093-1ed8-4366-a430-950609438930",
        "nbgrader": {
          "grade": false,
          "grade_id": "cell-e2cbb740bcdc77a8",
          "locked": true,
          "schema_version": 3,
          "solution": false,
          "task": false
        },
        "tags": []
      },
      "source": [
        "Như ta có thể thấy, tham số tối ưu xấp xỉ với mô hình gốc được sử dụng để khởi tạo dữ liệu:\n",
        "\n",
        "`y = -3*x + 10 + np.random.normal(0, std, n)`"
      ]
    },
    {
      "cell_type": "code",
      "execution_count": 81,
      "id": "6d32360d-f18c-4c90-85af-1a4df14d8ae6",
      "metadata": {
        "execution": {
          "iopub.execute_input": "2024-04-06T10:12:15.456648Z",
          "iopub.status.busy": "2024-04-06T10:12:15.454894Z",
          "iopub.status.idle": "2024-04-06T10:12:15.785236Z",
          "shell.execute_reply": "2024-04-06T10:12:15.782996Z"
        },
        "id": "6d32360d-f18c-4c90-85af-1a4df14d8ae6",
        "nbgrader": {
          "grade": false,
          "grade_id": "cell-1ad67705d50f701d",
          "locked": true,
          "schema_version": 3,
          "solution": false,
          "task": false
        },
        "tags": [],
        "colab": {
          "base_uri": "https://localhost:8080/",
          "height": 430
        },
        "outputId": "8952a8fb-5f76-4349-b402-38c26759d699"
      },
      "outputs": [
        {
          "output_type": "display_data",
          "data": {
            "text/plain": [
              "<Figure size 640x480 with 1 Axes>"
            ],
            "image/png": "[encoded data removed]"
          },
          "metadata": {}
        }
      ],
      "source": [
        "# Trực quan hóa dữ liệu và mô hình sau khi huấn luyện\n",
        "plt.plot(x, y, 'ro')\n",
        "\n",
        "# Trực quan hóa mô hình\n",
        "plt.plot([x[0],x[-1]], [theta1*x[0]+bias, theta1*x[-1]+bias])\n",
        "plt.show()"
      ]
    },
    {
      "cell_type": "markdown",
      "id": "f6d90f1f-8ff1-49f7-9c4b-a099ca7bfed8",
      "metadata": {
        "id": "f6d90f1f-8ff1-49f7-9c4b-a099ca7bfed8",
        "nbgrader": {
          "grade": false,
          "grade_id": "cell-64f389b662b21977",
          "locked": true,
          "schema_version": 3,
          "solution": false,
          "task": false
        },
        "tags": []
      },
      "source": [
        "Như vậy ta có thể thấy rằng, các hệ số đã huấn luyện tương ứng đã tạo thành phương trình đường thẳng đi qua các điểm mẫu huấn luyện.\n",
        "\n",
        "Tiếp theo, ta sẽ thử nghiệm với dữ liệu x_test với 2 trường hợp: -4, 0 và 4.\n",
        "\n",
        "Dựa trên biểu đồ, ta đoán rằng y_test sẽ nhận giá trị lân cận các giá trị\n",
        "trên 20, xấp xỉ 10 và 0."
      ]
    },
    {
      "cell_type": "code",
      "execution_count": 82,
      "id": "253408c5-0133-42c6-bd35-140d7b8602d7",
      "metadata": {
        "execution": {
          "iopub.execute_input": "2024-04-06T10:12:15.795057Z",
          "iopub.status.busy": "2024-04-06T10:12:15.793095Z",
          "iopub.status.idle": "2024-04-06T10:12:16.088746Z",
          "shell.execute_reply": "2024-04-06T10:12:16.086185Z"
        },
        "id": "253408c5-0133-42c6-bd35-140d7b8602d7",
        "nbgrader": {
          "grade": false,
          "grade_id": "cell-d893fdd4cbcd3c2c",
          "locked": true,
          "schema_version": 3,
          "solution": false,
          "task": false
        },
        "tags": [],
        "colab": {
          "base_uri": "https://localhost:8080/"
        },
        "outputId": "4d9b16f9-5438-4c07-ff78-6df3b39d3476"
      },
      "outputs": [
        {
          "output_type": "stream",
          "name": "stdout",
          "text": [
            "1/1 [==============================] - 0s 103ms/step\n",
            "Các giá trị mà mô hình hồi quy dự đoán trên x_test:  [-4, 0, 4]\n",
            "[[22.456284 ]\n",
            " [ 9.649936 ]\n",
            " [-3.1564112]]\n"
          ]
        }
      ],
      "source": [
        "x_test = [-4, 0, 4]\n",
        "y_pred = pretrain_lr.predict(x_test)\n",
        "\n",
        "print(\"Các giá trị mà mô hình hồi quy dự đoán trên x_test: \", x_test)\n",
        "print(y_pred)"
      ]
    },
    {
      "cell_type": "markdown",
      "id": "dc2861f5-840e-4ee8-8be6-c8010feb0cee",
      "metadata": {
        "id": "dc2861f5-840e-4ee8-8be6-c8010feb0cee",
        "nbgrader": {
          "grade": false,
          "grade_id": "cell-cbe9714134925bf2",
          "locked": true,
          "schema_version": 3,
          "solution": false,
          "task": false
        },
        "tags": []
      },
      "source": [
        "Các giá trị này khá khớp với giá trị dự đoán ở trên."
      ]
    },
    {
      "cell_type": "markdown",
      "id": "PfhpTe84YdAM",
      "metadata": {
        "id": "PfhpTe84YdAM"
      },
      "source": [
        "# PHẦN 2 - CÀI ĐẶT MÔ HÌNH LOGISTIC REGRESSION VỚI KERAS"
      ]
    },
    {
      "cell_type": "markdown",
      "id": "J9scHu9VYfJk",
      "metadata": {
        "id": "J9scHu9VYfJk"
      },
      "source": [
        "Một mô hình máy học cần có đủ ít nhất 7 phương thức sau:\n",
        "- `__init__`: hàm constructor trong hướng đối tượng, được sử dụng để khởi tạo các tham số mặc định hoặc tham số bắt đầu một mô hình. Trong những bài tập đầu tiên, để đơn giản constructor sẽ không sử dụng.\n",
        "- `build`: xây dựng kiến trúc của mô hình\n",
        "- `train`: bắt đầu quá trình huấn luyện mô hình\n",
        "- `save`: lưu lại mô hình sau khi đã huấn luyện\n",
        "- `load`: load lên mô hình từ file đã huấn luyện (pretrained)\n",
        "- `summary`: in tóm tắt kiến trúc mô hình\n",
        "- `predict`: dự đoán giá trị output từ dữ liệu đầu vào"
      ]
    },
    {
      "cell_type": "code",
      "execution_count": 83,
      "id": "-J2Vtt_wUpUT",
      "metadata": {
        "execution": {
          "iopub.execute_input": "2024-04-06T10:12:16.098586Z",
          "iopub.status.busy": "2024-04-06T10:12:16.097726Z",
          "iopub.status.idle": "2024-04-06T10:12:16.111629Z",
          "shell.execute_reply": "2024-04-06T10:12:16.109170Z"
        },
        "id": "-J2Vtt_wUpUT"
      },
      "outputs": [],
      "source": [
        "# Mô hình cài đặt tổng quát bao gồm 7 phương thức cơ bản\n",
        "# Lưu ý: mô hình này chỉ mang tính gợi ý, không bắt buộc\n",
        "# Tuy nhiên, trong phần bài tập cần tuân theo các tên phương thức này\n",
        "class MyModel:\n",
        "    # constructor\n",
        "    def __init__(self):\n",
        "        return None\n",
        "\n",
        "    # Implement architecture of the model\n",
        "    def build(self):\n",
        "        return None\n",
        "\n",
        "    # Train the defined model with training and validation data\n",
        "    def train(self):\n",
        "        return None\n",
        "\n",
        "    # Save the trained model to file\n",
        "    def save(self, model_path):\n",
        "        return None\n",
        "\n",
        "    # Load pretrained model from file\n",
        "    def load(self):\n",
        "        return None\n",
        "\n",
        "    # Visualize your model\n",
        "    def summary(self):\n",
        "        return None\n",
        "\n",
        "    # Apply your model with new input data\n",
        "    def predict(self):\n",
        "        return None"
      ]
    },
    {
      "cell_type": "markdown",
      "id": "Ap0HnJP9YmwG",
      "metadata": {
        "id": "Ap0HnJP9YmwG"
      },
      "source": [
        "## 1. Import các thư viện Keras\n",
        "\n",
        "Đầu tiên, ta sẽ import các thư viện, module, hàm của `Keras`:\n",
        "- `Input`: để nhận dữ liệu đầu vào cho mô hình\n",
        "- `Dense`: hay còn gọi là lớp Fully Connected (Lớp kết nối đầy đủ), một thành phần quan trọng của các mô hình dựa trên mạng Neural Network.\n",
        "- `Model`: đây là lớp đối tượng mô hình được sử dụng để đóng gói lớp đầu vào, đầu ra, sau đó huấn luyện với phương thức `fit` và dự đoán kết quả với `predict`.\n",
        "- `load_model`: hàm sử dụng để load mô hình lên từ file"
      ]
    },
    {
      "cell_type": "code",
      "execution_count": 84,
      "id": "NHbyXVt5Ykpl",
      "metadata": {
        "execution": {
          "iopub.execute_input": "2024-04-06T10:12:16.120394Z",
          "iopub.status.busy": "2024-04-06T10:12:16.119296Z",
          "iopub.status.idle": "2024-04-06T10:12:16.129652Z",
          "shell.execute_reply": "2024-04-06T10:12:16.127151Z"
        },
        "id": "NHbyXVt5Ykpl"
      },
      "outputs": [],
      "source": [
        "from keras.layers import Input, Dense\n",
        "from keras import Model\n",
        "import tensorflow as tf\n",
        "from keras.models import load_model"
      ]
    },
    {
      "cell_type": "markdown",
      "id": "5MgrsybzYq3K",
      "metadata": {
        "id": "5MgrsybzYq3K"
      },
      "source": [
        "## 2. Cài đặt mô hình Logistic Regression\n",
        "Tiếp theo, ta sẽ dựa trên khung đối tượng `MyModel` đã trình bày ở mục trước để tiến hành cài đặt mô hình **Logistic Regression**. Phương thức chính mà bài tập này cần thực hiện là `def build()`. Các phương thức còn lại đã được cài đặt sẵn, các bạn cần đọc, hiểu ý nghĩa và cách thức sử dụng về sau.\n",
        "\n",
        "<p align=\"center\">\n",
        "  <img src=\"./images/LogisticReg.png\" />\n",
        "</p>"
      ]
    },
    {
      "cell_type": "code",
      "execution_count": 85,
      "id": "jdzrovIlYrN6",
      "metadata": {
        "execution": {
          "iopub.execute_input": "2024-04-06T10:12:16.138436Z",
          "iopub.status.busy": "2024-04-06T10:12:16.137587Z",
          "iopub.status.idle": "2024-04-06T10:12:16.157751Z",
          "shell.execute_reply": "2024-04-06T10:12:16.155296Z"
        },
        "id": "jdzrovIlYrN6"
      },
      "outputs": [],
      "source": [
        "# Logistic Regression\n",
        "class LogisticRegression:\n",
        "    def __init__(self): # Self is similar to your 'this' pointer in C++\n",
        "        return None\n",
        "\n",
        "    def build(self, input_dim):\n",
        "\n",
        "        self.model = None\n",
        "        # Hãy cài đặt để định nghĩa KIẾN TRÚC MÔ HÌNH và lưu ở thuộc tính `self.model`\n",
        "        # với các biến đối tượng sau:\n",
        "        #  - tạo biến `input` với lớp đối tượng `Input` của Keras,\n",
        "        #    truyền vào kích thước đầu vào `input_dim`\n",
        "        #  - tạo biến `output` với lớp đối tượng `Dense` của Keras,\n",
        "        #    truyền vào các tham số:  kích thước output, có sử dụng bias,\n",
        "        #    CÓ SỬ DỤNG hàm activation là `sigmoid`\n",
        "        # Sau bước này, self.model sẽ đóng gói 2 biến `input` và `output` để tạo thành mô hình\n",
        "        ### BEGIN SOLUTION\n",
        "        input = Input(shape=(input_dim,))\n",
        "        output = Dense(units=1, use_bias=True, activation='sigmoid')(input)\n",
        "        ### END SOLUTION\n",
        "        self.model = Model(input, output)\n",
        "        return self.model\n",
        "\n",
        "    def train(self, x_train, y_train):\n",
        "        opt = tf.keras.optimizers.SGD(learning_rate=0.1) # Stochastic Gradient Descent\n",
        "        self.model.compile(optimizer=opt, loss='binary_crossentropy') # BCE loss\n",
        "        return self.model.fit(x_train, y_train, epochs=50)\n",
        "\n",
        "    def save(self, model_file):\n",
        "        return self.model.save(model_file)\n",
        "\n",
        "    def load(self, model_file):\n",
        "        self.model = load_model(model_file)\n",
        "\n",
        "    def summary(self):\n",
        "        self.model.summary()\n",
        "\n",
        "    def predict(self, x_test):\n",
        "        return self.model.predict(x_test)\n",
        "\n",
        "    def get_weights(self):\n",
        "        return self.model.layers[1].get_weights()"
      ]
    },
    {
      "cell_type": "markdown",
      "id": "fZem401-ZAuD",
      "metadata": {
        "id": "fZem401-ZAuD"
      },
      "source": [
        "Tiếp theo, ta sẽ khởi tạo đối tượng LogisticRegression và kiểm tra thử xem phương `build` đã cài đặt chính xác chưa."
      ]
    },
    {
      "cell_type": "code",
      "execution_count": 86,
      "id": "U_wNpI4pY9TO",
      "metadata": {
        "execution": {
          "iopub.execute_input": "2024-04-06T10:12:16.166176Z",
          "iopub.status.busy": "2024-04-06T10:12:16.165326Z",
          "iopub.status.idle": "2024-04-06T10:12:16.216424Z",
          "shell.execute_reply": "2024-04-06T10:12:16.213993Z"
        },
        "id": "U_wNpI4pY9TO",
        "colab": {
          "base_uri": "https://localhost:8080/"
        },
        "outputId": "00057bc6-6be2-4238-a7d5-0077e640f67b"
      },
      "outputs": [
        {
          "output_type": "execute_result",
          "data": {
            "text/plain": [
              "<keras.src.engine.functional.Functional at 0x78d1a255e490>"
            ]
          },
          "metadata": {},
          "execution_count": 86
        }
      ],
      "source": [
        "lr = LogisticRegression()\n",
        "# Trong ví dụ này, ta sẽ khởi tạo input là một vector 1000 chiều:\n",
        "lr.build(1000)"
      ]
    },
    {
      "cell_type": "code",
      "execution_count": 87,
      "id": "JAXMyvv3ZDJm",
      "metadata": {
        "execution": {
          "iopub.execute_input": "2024-04-06T10:12:16.225145Z",
          "iopub.status.busy": "2024-04-06T10:12:16.224248Z",
          "iopub.status.idle": "2024-04-06T10:12:16.242227Z",
          "shell.execute_reply": "2024-04-06T10:12:16.238257Z"
        },
        "id": "JAXMyvv3ZDJm"
      },
      "outputs": [],
      "source": [
        "# Public Test\n",
        "assert len(lr.model.layers) == 2\n",
        "assert str(type(lr.model.layers[0])).endswith(\"input_layer.InputLayer'>\") == True\n",
        "assert str(type(lr.model.layers[1])).endswith(\"core.dense.Dense'>\") == True\n",
        "assert lr.model.layers[0].input_shape[0][1] == 1000\n",
        "assert lr.model.layers[1].activation(0.0).numpy() == 0.5"
      ]
    },
    {
      "cell_type": "markdown",
      "id": "Km1UuqZ1ZHNP",
      "metadata": {
        "id": "Km1UuqZ1ZHNP"
      },
      "source": [
        "## 3. Tạo dữ liệu mẫu (toy example)\n",
        "Bước tiếp theo, ta sẽ tiến hành tạo mẫu dữ liệu để huấn luyện và kiểm thử.\n",
        "\n",
        "Dữ liệu được tạo ra là 02 cụm điểm ngẫu nhiên xung quanh hai tâm cụm:\n",
        "- [1, 5]\n",
        "- [5, 1]\n",
        "\n",
        "Lưu ý rằng, hai điểm này đủ cách xa để khi các điểm ngẫu nhiên phát sinh không giao thoa với nhau."
      ]
    },
    {
      "cell_type": "code",
      "execution_count": 88,
      "id": "-c5Rtn2rZFkm",
      "metadata": {
        "execution": {
          "iopub.execute_input": "2024-04-06T10:12:16.322028Z",
          "iopub.status.busy": "2024-04-06T10:12:16.321163Z",
          "iopub.status.idle": "2024-04-06T10:12:16.807365Z",
          "shell.execute_reply": "2024-04-06T10:12:16.804650Z"
        },
        "id": "-c5Rtn2rZFkm",
        "colab": {
          "base_uri": "https://localhost:8080/",
          "height": 447
        },
        "outputId": "fe7a310c-d049-4d35-990e-47c970cb0634"
      },
      "outputs": [
        {
          "output_type": "execute_result",
          "data": {
            "text/plain": [
              "[<matplotlib.lines.Line2D at 0x78d1a2448fd0>]"
            ]
          },
          "metadata": {},
          "execution_count": 88
        },
        {
          "output_type": "display_data",
          "data": {
            "text/plain": [
              "<Figure size 640x480 with 1 Axes>"
            ],
            "image/png": "[encoded data removed]"
          },
          "metadata": {}
        }
      ],
      "source": [
        "import numpy as np\n",
        "import matplotlib.pyplot as plt\n",
        "\n",
        "n_sample = 10\n",
        "\n",
        "# Tạo bộ dữ  liệu gồm 2 tập đỏ và xanh\n",
        "red_points = np.random.randn(n_sample, 2) + np.array([[1,5]])\n",
        "blue_points = np.random.randn(n_sample, 2) + np.array([[5,1]])\n",
        "x_train = np.concatenate((red_points, blue_points))\n",
        "y_train = np.concatenate((np.ones(n_sample), np.zeros(n_sample)))\n",
        "\n",
        "# Tạo tập dữ liệu validation\n",
        "red_points_test = np.random.randn(n_sample, 2) + np.array([[1,5]])\n",
        "blue_points_test = np.random.randn(n_sample, 2) + np.array([[5,1]])\n",
        "x_test = np.concatenate((red_points_test, blue_points_test))\n",
        "y_test = np.concatenate((np.ones(n_sample), np.zeros(n_sample)))\n",
        "\n",
        "# Trực quan hóa dữ liệu bằng các hình tròn màu đỏ, xanh\n",
        "plt.plot(red_points[:,0], red_points[:,1], 'ro')\n",
        "plt.plot(blue_points[:,0], blue_points[:,1], 'bo')"
      ]
    },
    {
      "cell_type": "code",
      "execution_count": 89,
      "id": "S41NGr9lZJw1",
      "metadata": {
        "execution": {
          "iopub.execute_input": "2024-04-06T10:12:16.816346Z",
          "iopub.status.busy": "2024-04-06T10:12:16.815454Z",
          "iopub.status.idle": "2024-04-06T10:12:16.900280Z",
          "shell.execute_reply": "2024-04-06T10:12:16.897585Z"
        },
        "id": "S41NGr9lZJw1",
        "colab": {
          "base_uri": "https://localhost:8080/"
        },
        "outputId": "b5e1e208-6ccb-4215-a943-6fa2e1a30483"
      },
      "outputs": [
        {
          "output_type": "stream",
          "name": "stdout",
          "text": [
            "Kiến trúc của mô hình Logistic Regression: \n",
            "Model: \"model_9\"\n",
            "_________________________________________________________________\n",
            " Layer (type)                Output Shape              Param #   \n",
            "=================================================================\n",
            " input_12 (InputLayer)       [(None, 2)]               0         \n",
            "                                                                 \n",
            " dense_11 (Dense)            (None, 1)                 3         \n",
            "                                                                 \n",
            "=================================================================\n",
            "Total params: 3 (12.00 Byte)\n",
            "Trainable params: 3 (12.00 Byte)\n",
            "Non-trainable params: 0 (0.00 Byte)\n",
            "_________________________________________________________________\n"
          ]
        }
      ],
      "source": [
        "lr = LogisticRegression()\n",
        "\n",
        "# Hãy gọi phương thức `build` cho đối tượng `lr` và truyền tham số đầu vào\n",
        "# tương ứng với dữ liệu train đã phát sinh ở code block trên\n",
        "# Theo bạn, `input_dim` bằng bao nhiêu?\n",
        "\n",
        "### BEGIN SOLUTION\n",
        "lr.build(2)\n",
        "### END SOLUTION\n",
        "\n",
        "# Để hiển thị kiến trúc của mô hình ta gọi phương thức `summary`\n",
        "print(\"Kiến trúc của mô hình Logistic Regression: \")\n",
        "lr.summary()"
      ]
    },
    {
      "cell_type": "code",
      "execution_count": 90,
      "id": "_MXAKQwCZNFG",
      "metadata": {
        "execution": {
          "iopub.execute_input": "2024-04-06T10:12:16.936936Z",
          "iopub.status.busy": "2024-04-06T10:12:16.936040Z",
          "iopub.status.idle": "2024-04-06T10:12:18.430924Z",
          "shell.execute_reply": "2024-04-06T10:12:18.428281Z"
        },
        "id": "_MXAKQwCZNFG",
        "colab": {
          "base_uri": "https://localhost:8080/"
        },
        "outputId": "d93d2018-5c84-4463-9051-efd834aaf40d"
      },
      "outputs": [
        {
          "output_type": "stream",
          "name": "stdout",
          "text": [
            "Epoch 1/50\n",
            "1/1 [==============================] - 1s 865ms/step - loss: 3.2865\n",
            "Epoch 2/50\n",
            "1/1 [==============================] - 0s 11ms/step - loss: 2.7243\n",
            "Epoch 3/50\n",
            "1/1 [==============================] - 0s 12ms/step - loss: 2.1770\n",
            "Epoch 4/50\n",
            "1/1 [==============================] - 0s 12ms/step - loss: 1.6559\n",
            "Epoch 5/50\n",
            "1/1 [==============================] - 0s 12ms/step - loss: 1.1844\n",
            "Epoch 6/50\n",
            "1/1 [==============================] - 0s 13ms/step - loss: 0.8044\n",
            "Epoch 7/50\n",
            "1/1 [==============================] - 0s 10ms/step - loss: 0.5538\n",
            "Epoch 8/50\n",
            "1/1 [==============================] - 0s 19ms/step - loss: 0.4143\n",
            "Epoch 9/50\n",
            "1/1 [==============================] - 0s 21ms/step - loss: 0.3352\n",
            "Epoch 10/50\n",
            "1/1 [==============================] - 0s 37ms/step - loss: 0.2847\n",
            "Epoch 11/50\n",
            "1/1 [==============================] - 0s 30ms/step - loss: 0.2489\n",
            "Epoch 12/50\n",
            "1/1 [==============================] - 0s 23ms/step - loss: 0.2220\n",
            "Epoch 13/50\n",
            "1/1 [==============================] - 0s 13ms/step - loss: 0.2009\n",
            "Epoch 14/50\n",
            "1/1 [==============================] - 0s 22ms/step - loss: 0.1838\n",
            "Epoch 15/50\n",
            "1/1 [==============================] - 0s 20ms/step - loss: 0.1696\n",
            "Epoch 16/50\n",
            "1/1 [==============================] - 0s 19ms/step - loss: 0.1576\n",
            "Epoch 17/50\n",
            "1/1 [==============================] - 0s 17ms/step - loss: 0.1473\n",
            "Epoch 18/50\n",
            "1/1 [==============================] - 0s 11ms/step - loss: 0.1384\n",
            "Epoch 19/50\n",
            "1/1 [==============================] - 0s 12ms/step - loss: 0.1306\n",
            "Epoch 20/50\n",
            "1/1 [==============================] - 0s 10ms/step - loss: 0.1238\n",
            "Epoch 21/50\n",
            "1/1 [==============================] - 0s 13ms/step - loss: 0.1176\n",
            "Epoch 22/50\n",
            "1/1 [==============================] - 0s 10ms/step - loss: 0.1121\n",
            "Epoch 23/50\n",
            "1/1 [==============================] - 0s 11ms/step - loss: 0.1071\n",
            "Epoch 24/50\n",
            "1/1 [==============================] - 0s 11ms/step - loss: 0.1026\n",
            "Epoch 25/50\n",
            "1/1 [==============================] - 0s 12ms/step - loss: 0.0985\n",
            "Epoch 26/50\n",
            "1/1 [==============================] - 0s 21ms/step - loss: 0.0948\n",
            "Epoch 27/50\n",
            "1/1 [==============================] - 0s 13ms/step - loss: 0.0913\n",
            "Epoch 28/50\n",
            "1/1 [==============================] - 0s 18ms/step - loss: 0.0881\n",
            "Epoch 29/50\n",
            "1/1 [==============================] - 0s 44ms/step - loss: 0.0852\n",
            "Epoch 30/50\n",
            "1/1 [==============================] - 0s 38ms/step - loss: 0.0824\n",
            "Epoch 31/50\n",
            "1/1 [==============================] - 0s 11ms/step - loss: 0.0798\n",
            "Epoch 32/50\n",
            "1/1 [==============================] - 0s 11ms/step - loss: 0.0774\n",
            "Epoch 33/50\n",
            "1/1 [==============================] - 0s 13ms/step - loss: 0.0752\n",
            "Epoch 34/50\n",
            "1/1 [==============================] - 0s 10ms/step - loss: 0.0731\n",
            "Epoch 35/50\n",
            "1/1 [==============================] - 0s 10ms/step - loss: 0.0711\n",
            "Epoch 36/50\n",
            "1/1 [==============================] - 0s 11ms/step - loss: 0.0693\n",
            "Epoch 37/50\n",
            "1/1 [==============================] - 0s 11ms/step - loss: 0.0675\n",
            "Epoch 38/50\n",
            "1/1 [==============================] - 0s 10ms/step - loss: 0.0658\n",
            "Epoch 39/50\n",
            "1/1 [==============================] - 0s 11ms/step - loss: 0.0642\n",
            "Epoch 40/50\n",
            "1/1 [==============================] - 0s 11ms/step - loss: 0.0628\n",
            "Epoch 41/50\n",
            "1/1 [==============================] - 0s 11ms/step - loss: 0.0613\n",
            "Epoch 42/50\n",
            "1/1 [==============================] - 0s 12ms/step - loss: 0.0600\n",
            "Epoch 43/50\n",
            "1/1 [==============================] - 0s 11ms/step - loss: 0.0587\n",
            "Epoch 44/50\n",
            "1/1 [==============================] - 0s 11ms/step - loss: 0.0574\n",
            "Epoch 45/50\n",
            "1/1 [==============================] - 0s 14ms/step - loss: 0.0563\n",
            "Epoch 46/50\n",
            "1/1 [==============================] - 0s 26ms/step - loss: 0.0551\n",
            "Epoch 47/50\n",
            "1/1 [==============================] - 0s 13ms/step - loss: 0.0541\n",
            "Epoch 48/50\n",
            "1/1 [==============================] - 0s 13ms/step - loss: 0.0530\n",
            "Epoch 49/50\n",
            "1/1 [==============================] - 0s 14ms/step - loss: 0.0520\n",
            "Epoch 50/50\n",
            "1/1 [==============================] - 0s 14ms/step - loss: 0.0511\n"
          ]
        }
      ],
      "source": [
        "# Để huấn luyện mô hình ta gọi phương thức `train` với dữ liệu mẫu đã tạo được\n",
        "# Nếu bước `build` mô hình gọi đúng thì bước `train` sau sẽ thực hiện thành công\n",
        "hist = lr.train(x_train, y_train)"
      ]
    },
    {
      "cell_type": "code",
      "execution_count": 91,
      "id": "DXpSoCTXZOY3",
      "metadata": {
        "execution": {
          "iopub.execute_input": "2024-04-06T10:12:18.441285Z",
          "iopub.status.busy": "2024-04-06T10:12:18.440513Z",
          "iopub.status.idle": "2024-04-06T10:12:18.941578Z",
          "shell.execute_reply": "2024-04-06T10:12:18.939337Z"
        },
        "id": "DXpSoCTXZOY3",
        "colab": {
          "base_uri": "https://localhost:8080/",
          "height": 472
        },
        "outputId": "57dca911-7353-4f2d-e183-da5e50f6b0d0"
      },
      "outputs": [
        {
          "output_type": "display_data",
          "data": {
            "text/plain": [
              "<Figure size 640x480 with 1 Axes>"
            ],
            "image/png": "[encoded data removed]"
          },
          "metadata": {}
        }
      ],
      "source": [
        "# Hiển thị loss theo số epoch\n",
        "plt.plot(hist.history['loss'])\n",
        "plt.title('Model Loss')\n",
        "plt.ylabel('loss')\n",
        "plt.xlabel('epoch')\n",
        "plt.show()"
      ]
    },
    {
      "cell_type": "code",
      "execution_count": 92,
      "id": "wN3Ea__sZR5E",
      "metadata": {
        "execution": {
          "iopub.execute_input": "2024-04-06T10:12:18.950996Z",
          "iopub.status.busy": "2024-04-06T10:12:18.949114Z",
          "iopub.status.idle": "2024-04-06T10:12:18.978529Z",
          "shell.execute_reply": "2024-04-06T10:12:18.976344Z"
        },
        "id": "wN3Ea__sZR5E"
      },
      "outputs": [],
      "source": [
        "# Sau khi đã huấn luyện, ta lưu mô hình về để sau này tái sử dụng\n",
        "# Lưu ý: hai phương thức lưu mô hình `save` và tải mô hình lên 'load'\n",
        "# được sử dụng khi muốn tái sử dụng nhiều lần mà KHÔNG CẦN PHẢI HUẤN LUYỆN LẠI\n",
        "lr.save('logistic_regression_model.h5')"
      ]
    },
    {
      "cell_type": "markdown",
      "id": "7mi8vdRRZWlm",
      "metadata": {
        "id": "7mi8vdRRZWlm"
      },
      "source": [
        "## 5. Trực quan hóa mô hình và dự đoán với dữ liệu test"
      ]
    },
    {
      "cell_type": "code",
      "execution_count": 93,
      "id": "qTSxO8D_ZT-I",
      "metadata": {
        "execution": {
          "iopub.execute_input": "2024-04-06T10:12:18.987643Z",
          "iopub.status.busy": "2024-04-06T10:12:18.985963Z",
          "iopub.status.idle": "2024-04-06T10:12:19.070114Z",
          "shell.execute_reply": "2024-04-06T10:12:19.067679Z"
        },
        "id": "qTSxO8D_ZT-I"
      },
      "outputs": [],
      "source": [
        "# Khởi tạo đối tượng mới và gọi phương thức load mô hình từ file\n",
        "pretrain_lr = LogisticRegression()\n",
        "pretrain_lr.load('logistic_regression_model.h5')"
      ]
    },
    {
      "cell_type": "code",
      "execution_count": 94,
      "id": "0ss2l-poZYZT",
      "metadata": {
        "execution": {
          "iopub.execute_input": "2024-04-06T10:12:19.079562Z",
          "iopub.status.busy": "2024-04-06T10:12:19.077563Z",
          "iopub.status.idle": "2024-04-06T10:12:19.094447Z",
          "shell.execute_reply": "2024-04-06T10:12:19.092397Z"
        },
        "id": "0ss2l-poZYZT",
        "colab": {
          "base_uri": "https://localhost:8080/"
        },
        "outputId": "d94b2acd-2c00-4710-be93-daa9c928940f"
      },
      "outputs": [
        {
          "output_type": "stream",
          "name": "stdout",
          "text": [
            "Tham số tối ưu: \n",
            "[array([[-0.9450304 ],\n",
            "       [ 0.87650067]], dtype=float32), array([0.28469065], dtype=float32)]\n",
            "Trong đó: \n",
            "   - bias (hệ số tự do) :  0.28469065\n",
            "   - theta1 (hệ số cho dữ liệu x1):  -0.9450304\n",
            "   - theta2 (hệ số cho dữ liệu x2):  0.87650067\n"
          ]
        }
      ],
      "source": [
        "theta = pretrain_lr.get_weights()\n",
        "print('Tham số tối ưu: ')\n",
        "print(theta)\n",
        "bias = theta[1][0] # bias chính là theta0 trong mô hình gốc\n",
        "theta1 = theta[0][0][0]\n",
        "theta2 = theta[0][1][0]\n",
        "print('Trong đó: ')\n",
        "print('   - bias (hệ số tự do) : ', bias)\n",
        "print('   - theta1 (hệ số cho dữ liệu x1): ', theta1)\n",
        "print('   - theta2 (hệ số cho dữ liệu x2): ', theta2)"
      ]
    },
    {
      "cell_type": "code",
      "execution_count": 95,
      "id": "6FXeII6SZZO9",
      "metadata": {
        "execution": {
          "iopub.execute_input": "2024-04-06T10:12:19.103292Z",
          "iopub.status.busy": "2024-04-06T10:12:19.101437Z",
          "iopub.status.idle": "2024-04-06T10:12:19.500683Z",
          "shell.execute_reply": "2024-04-06T10:12:19.498530Z"
        },
        "id": "6FXeII6SZZO9",
        "colab": {
          "base_uri": "https://localhost:8080/",
          "height": 430
        },
        "outputId": "bd0d003a-d710-437e-95bd-71d00be984c5"
      },
      "outputs": [
        {
          "output_type": "display_data",
          "data": {
            "text/plain": [
              "<Figure size 640x480 with 1 Axes>"
            ],
            "image/png": "[encoded data removed]"
          },
          "metadata": {}
        }
      ],
      "source": [
        "# Trực quan hóa dữ liệu và mô hình sau khi huấn luyện\n",
        "plt.plot(red_points[:,0], red_points[:,1], 'ro')\n",
        "plt.plot(blue_points[:,0], blue_points[:,1], 'bo')\n",
        "\n",
        "# Trực quan hóa đường thẳng phân lớp 2 tập đỏ, xanh\n",
        "# Khoảng giá trị nhỏ nhất và lớn nhất mà x1 có thể nhận được từ 0-6\n",
        "x1=[0, 6]\n",
        "# Tính giá trị x2 dựa trên phương trình đường thẳng:\n",
        "# theta1*x1 + theta2*x2 + bias = 0\n",
        "# => x2 = -(theta1*x1 + bias)/theta2\n",
        "x2=[-(theta1*x1[0]+bias)/theta2, -(theta1*x1[-1]+bias)/theta2]\n",
        "plt.plot(x1, x2)\n",
        "plt.show()"
      ]
    },
    {
      "cell_type": "markdown",
      "id": "mRy3Z5ITZdyO",
      "metadata": {
        "id": "mRy3Z5ITZdyO"
      },
      "source": [
        "Như vậy ta có thể thấy rằng, các hệ số đã huấn luyện tương ứng đã tạo thành phương trình đường thẳng chia tách các điểm huấn luyện đỏ và xanh."
      ]
    },
    {
      "cell_type": "code",
      "execution_count": 96,
      "id": "6wbdN2NpZauv",
      "metadata": {
        "execution": {
          "iopub.execute_input": "2024-04-06T10:12:19.510690Z",
          "iopub.status.busy": "2024-04-06T10:12:19.508644Z",
          "iopub.status.idle": "2024-04-06T10:12:19.692229Z",
          "shell.execute_reply": "2024-04-06T10:12:19.690073Z"
        },
        "id": "6wbdN2NpZauv",
        "colab": {
          "base_uri": "https://localhost:8080/"
        },
        "outputId": "6a910e51-a7d2-4aeb-b3ee-ee505d20921d"
      },
      "outputs": [
        {
          "output_type": "stream",
          "name": "stderr",
          "text": [
            "WARNING:tensorflow:5 out of the last 5 calls to <function Model.make_predict_function.<locals>.predict_function at 0x78d1a23cb100> triggered tf.function retracing. Tracing is expensive and the excessive number of tracings could be due to (1) creating @tf.function repeatedly in a loop, (2) passing tensors with different shapes, (3) passing Python objects instead of tensors. For (1), please define your @tf.function outside of the loop. For (2), @tf.function has reduce_retracing=True option that can avoid unnecessary retracing. For (3), please refer to https://www.tensorflow.org/guide/function#controlling_retracing and https://www.tensorflow.org/api_docs/python/tf/function for  more details.\n"
          ]
        },
        {
          "output_type": "stream",
          "name": "stdout",
          "text": [
            "1/1 [==============================] - 0s 132ms/step\n",
            "Giá trị nhãn dự đoán trên tập test: \n",
            "[1. 1. 1. 1. 1. 1. 1. 1. 1. 1. 0. 0. 0. 0. 0. 0. 0. 0. 0. 0.]\n",
            "Giá trị nhãn phát sinh (tập test): \n",
            "[1. 1. 1. 1. 1. 1. 1. 1. 1. 1. 0. 0. 0. 0. 0. 0. 0. 0. 0. 0.]\n"
          ]
        }
      ],
      "source": [
        "# Sai số trung bình khi thử nghiệm trên  tập test:\n",
        "y_pred = lr.predict(x_test)[:,0]\n",
        "y_pred[y_pred >= 0.5] = 1\n",
        "y_pred[y_pred < 0.5] = 0\n",
        "print('Giá trị nhãn dự đoán trên tập test: ')\n",
        "print(y_pred)\n",
        "print('Giá trị nhãn phát sinh (tập test): ')\n",
        "print(y_test)"
      ]
    },
    {
      "cell_type": "markdown",
      "id": "Ib_I4CJRZhcn",
      "metadata": {
        "id": "Ib_I4CJRZhcn"
      },
      "source": [
        "Như ta đã thấy, giá trị dự đoán `y_pred` **gần như chính xác** so với dữ liệu phát sinh `y_test`. Sẽ có tình huống `y_pred` không khớp với `y_test`, phụ thuộc vào yếu tố nhiễu khi tạo sinh dữ liệu.\n",
        "\n",
        "Để tính tổng độ chính xác (Accuracy), ta đếm tổng số mẫu mà giá trị dự đoán khớp với giá trị phát sinh, sau đó chia cho tổng số mẫu:"
      ]
    },
    {
      "cell_type": "code",
      "execution_count": 97,
      "id": "mQyvyBp7Zc4Q",
      "metadata": {
        "execution": {
          "iopub.execute_input": "2024-04-06T10:12:19.702172Z",
          "iopub.status.busy": "2024-04-06T10:12:19.700082Z",
          "iopub.status.idle": "2024-04-06T10:12:19.710977Z",
          "shell.execute_reply": "2024-04-06T10:12:19.708907Z"
        },
        "id": "mQyvyBp7Zc4Q"
      },
      "outputs": [],
      "source": [
        "def accuracy(y_pred, y_test):\n",
        "    acc = None\n",
        "    # Cài đặt biến `acc` chứa độ chính xác theo %\n",
        "    # với công thức tính bằng tổng số mẫu dự đoán đúng\n",
        "    # (`y_pred` và `y_test` khớp nhau) chia cho tổng số mẫu\n",
        "    # của tập test.\n",
        "    # Lưu ý: giá trị nhỏ nhất là 0%, lớn nhất là 100%\n",
        "    ### BEGIN SOLUTION\n",
        "    acc = np.sum(y_pred==y_test) * 100 / len(y_test)\n",
        "    ### END SOLUTION\n",
        "    return acc"
      ]
    },
    {
      "cell_type": "code",
      "execution_count": 98,
      "id": "Hm0mHyaKZjER",
      "metadata": {
        "execution": {
          "iopub.execute_input": "2024-04-06T10:12:19.721724Z",
          "iopub.status.busy": "2024-04-06T10:12:19.719636Z",
          "iopub.status.idle": "2024-04-06T10:12:19.730846Z",
          "shell.execute_reply": "2024-04-06T10:12:19.728841Z"
        },
        "id": "Hm0mHyaKZjER",
        "colab": {
          "base_uri": "https://localhost:8080/"
        },
        "outputId": "c116fef1-83a6-4efb-905b-fc0044e77329"
      },
      "outputs": [
        {
          "output_type": "stream",
          "name": "stdout",
          "text": [
            "Độ chính xác trên tập test:  100.0 (%)\n"
          ]
        }
      ],
      "source": [
        "print(\"Độ chính xác trên tập test: \", accuracy(y_pred, y_test), \"(%)\")"
      ]
    },
    {
      "cell_type": "code",
      "execution_count": 99,
      "id": "fbf4ErkeZkPq",
      "metadata": {
        "execution": {
          "iopub.execute_input": "2024-04-06T10:12:19.739441Z",
          "iopub.status.busy": "2024-04-06T10:12:19.737723Z",
          "iopub.status.idle": "2024-04-06T10:12:19.748527Z",
          "shell.execute_reply": "2024-04-06T10:12:19.746441Z"
        },
        "id": "fbf4ErkeZkPq"
      },
      "outputs": [],
      "source": [
        "# Kiểm tra với một số bộ test mở\n",
        "assert accuracy(np.array([1, 1]), np.array([0, 1])) == 50.0\n",
        "assert accuracy(np.array([1, 0, 1]), np.array([0, 1, 0])) == 0.0"
      ]
    },
    {
      "cell_type": "markdown",
      "id": "m1PzYbK9bLeq",
      "metadata": {
        "id": "m1PzYbK9bLeq"
      },
      "source": [
        "# PHẦN 3 - CÀI ĐẶT MÔ HÌNH SOFTMAX REGRESSION VỚI KERAS"
      ]
    },
    {
      "cell_type": "markdown",
      "id": "tKdiBV5bbQQ8",
      "metadata": {
        "id": "tKdiBV5bbQQ8"
      },
      "source": [
        "Một mô hình máy học cần có đủ ít nhất 7 phương thức sau:\n",
        "- `__init__`: hàm constructor trong hướng đối tượng, được sử dụng để khởi tạo các tham số mặc định hoặc tham số bắt đầu một mô hình. Trong những bài tập đầu tiên, để đơn giản constructor sẽ không sử dụng.\n",
        "- `build`: xây dựng kiến trúc của mô hình\n",
        "- `train`: bắt đầu quá trình huấn luyện mô hình\n",
        "- `save`: lưu lại mô hình sau khi đã huấn luyện\n",
        "- `load`: load lên mô hình từ file đã huấn luyện (pretrained)\n",
        "- `summary`: in tóm tắt kiến trúc mô hình\n",
        "- `predict`: dự đoán giá trị output từ dữ liệu đầu vào"
      ]
    },
    {
      "cell_type": "code",
      "execution_count": 100,
      "id": "_MfEDzohZmgJ",
      "metadata": {
        "execution": {
          "iopub.execute_input": "2024-04-06T10:12:19.784308Z",
          "iopub.status.busy": "2024-04-06T10:12:19.782341Z",
          "iopub.status.idle": "2024-04-06T10:12:19.795258Z",
          "shell.execute_reply": "2024-04-06T10:12:19.793243Z"
        },
        "id": "_MfEDzohZmgJ"
      },
      "outputs": [],
      "source": [
        "# Mô hình cài đặt tổng quát bao gồm 7 phương thức cơ bản\n",
        "# Lưu ý: mô hình này chỉ mang tính gợi ý, không bắt buộc\n",
        "# Tuy nhiên, trong phần bài tập cần tuân theo các tên phương thức này\n",
        "class MyModel:\n",
        "    # constructor\n",
        "    def __init__(self):\n",
        "        return None\n",
        "\n",
        "    # Implement architecture of the model\n",
        "    def build(self):\n",
        "        return None\n",
        "\n",
        "    # Train the defined model with training and validation data\n",
        "    def train(self):\n",
        "        return None\n",
        "\n",
        "    # Save the trained model to file\n",
        "    def save(self, model_path):\n",
        "        return None\n",
        "\n",
        "    # Load pretrained model from file\n",
        "    def load(self):\n",
        "        return None\n",
        "\n",
        "    # Visualize your model\n",
        "    def summary(self):\n",
        "        return None\n",
        "\n",
        "    # Apply your model with new input data\n",
        "    def predict(self):\n",
        "        return None"
      ]
    },
    {
      "cell_type": "markdown",
      "id": "vjnVbIngbVmW",
      "metadata": {
        "id": "vjnVbIngbVmW"
      },
      "source": [
        "## 1. Import các thư viện Keras\n",
        "\n",
        "Đầu tiên, ta sẽ import các thư viện, module, hàm của `Keras`:\n",
        "- `Input`: để nhận dữ liệu đầu vào cho mô hình\n",
        "- `Dense`: hay còn gọi là lớp Fully Connected (Lớp kết nối đầy đủ), một thành phần quan trọng của các mô hình dựa trên mạng Neural Network.\n",
        "- `Model`: đây là lớp đối tượng mô hình được sử dụng để đóng gói lớp đầu vào, đầu ra, sau đó huấn luyện với phương thức `fit` và dự đoán kết quả với `predict`.\n",
        "- `load_model`: hàm sử dụng để load mô hình lên từ file"
      ]
    },
    {
      "cell_type": "code",
      "execution_count": 101,
      "id": "z6ADUV-_bTqU",
      "metadata": {
        "execution": {
          "iopub.execute_input": "2024-04-06T10:12:19.806911Z",
          "iopub.status.busy": "2024-04-06T10:12:19.805030Z",
          "iopub.status.idle": "2024-04-06T10:12:19.814646Z",
          "shell.execute_reply": "2024-04-06T10:12:19.812587Z"
        },
        "id": "z6ADUV-_bTqU"
      },
      "outputs": [],
      "source": [
        "from keras.layers import Input, Dense\n",
        "from keras import Model\n",
        "import tensorflow as tf\n",
        "from keras.models import load_model\n",
        "import numpy as np"
      ]
    },
    {
      "cell_type": "markdown",
      "id": "p4l_8eFIbZmr",
      "metadata": {
        "id": "p4l_8eFIbZmr"
      },
      "source": [
        "## 2. Cài đặt mô hình Softmax Regression\n",
        "Tiếp theo, ta sẽ dựa trên khung đối tượng `MyModel` đã trình bày ở mục trước để tiến hành cài đặt mô hình **Softmax Regression**. Phương thức chính mà bài tập này cần thực hiện là `def build()`. Các phương thức còn lại đã được cài đặt sẵn, các bạn cần đọc, hiểu ý nghĩa và cách thức sử dụng về sau.\n",
        "\n",
        "<p align=\"center\">\n",
        "  <img src=\"./images/SoftmaxReg.png\" />\n",
        "</p>"
      ]
    },
    {
      "cell_type": "code",
      "execution_count": 105,
      "id": "C2zQnJjDbXY6",
      "metadata": {
        "execution": {
          "iopub.execute_input": "2024-04-06T10:12:19.825422Z",
          "iopub.status.busy": "2024-04-06T10:12:19.823428Z",
          "iopub.status.idle": "2024-04-06T10:12:19.842779Z",
          "shell.execute_reply": "2024-04-06T10:12:19.840669Z"
        },
        "id": "C2zQnJjDbXY6"
      },
      "outputs": [],
      "source": [
        "# Softmax Regression\n",
        "class SoftmaxRegression:\n",
        "    def __init__(self): # Self is similar to your 'this' pointer in C++\n",
        "        return None\n",
        "\n",
        "    def build(self, input_dim, output_dim):\n",
        "        # `input_dim`: kích thước input feature\n",
        "        # `output_dim`: số phân lớp cần phân loại\n",
        "\n",
        "        # Khởi tạo model\n",
        "        self.model = None\n",
        "\n",
        "        # Hãy cài đặt để định nghĩa KIẾN TRÚC MÔ HÌNH và lưu ở thuộc tính `self.model`\n",
        "        # với các biến đối tượng sau:\n",
        "        #  - tạo biến `input` với lớp đối tượng `Input` của Keras,\n",
        "        #    truyền vào kích thước đầu vào `input_dim`\n",
        "        #  - tạo biến `output` với lớp đối tượng `Dense` của Keras,\n",
        "        #    truyền vào các tham số:  kích thước output (chú ý PHÂN LOẠI ĐA LỚP),\n",
        "        #    có sử dụng bias, CÓ SỬ DỤNG hàm activation là `softmax`.\n",
        "        # Sau bước này, self.model sẽ đóng gói 2 biến `input` và `output` để tạo thành mô hình\n",
        "        ### BEGIN SOLUTION\n",
        "        input = Input(shape=(input_dim,))\n",
        "        output = Dense(units=output_dim, use_bias=True, activation='softmax')(input)\n",
        "        self.model = Model(input, output)\n",
        "        ### END SOLUTION\n",
        "\n",
        "        return self.model\n",
        "\n",
        "    def train(self, x_train, y_train):\n",
        "        opt = tf.keras.optimizers.SGD(learning_rate=0.01) # Stochastic Gradient Descent\n",
        "        self.model.compile(optimizer=opt, loss='categorical_crossentropy') # CCE loss\n",
        "        return self.model.fit(x_train, y_train, epochs=100)\n",
        "\n",
        "    def save(self, model_file):\n",
        "        return self.model.save(model_file)\n",
        "\n",
        "    def load(self, model_file):\n",
        "        self.model = load_model(model_file)\n",
        "\n",
        "    def summary(self):\n",
        "        self.model.summary()\n",
        "\n",
        "    def predict(self, x_test):\n",
        "        return self.model.predict(x_test)\n",
        "\n",
        "    def get_weights(self):\n",
        "        return self.model.layers[1].get_weights()"
      ]
    },
    {
      "cell_type": "markdown",
      "id": "yK2vBpYwbeht",
      "metadata": {
        "id": "yK2vBpYwbeht"
      },
      "source": [
        "Tiếp theo, ta sẽ khởi tạo đối tượng SoftmaxRegression và kiểm tra thử xem phương `build` đã cài đặt chính xác chưa."
      ]
    },
    {
      "cell_type": "code",
      "execution_count": 106,
      "id": "_3_AA0Fbbcd4",
      "metadata": {
        "execution": {
          "iopub.execute_input": "2024-04-06T10:12:19.855862Z",
          "iopub.status.busy": "2024-04-06T10:12:19.853955Z",
          "iopub.status.idle": "2024-04-06T10:12:19.905746Z",
          "shell.execute_reply": "2024-04-06T10:12:19.903598Z"
        },
        "id": "_3_AA0Fbbcd4",
        "colab": {
          "base_uri": "https://localhost:8080/"
        },
        "outputId": "14c8cb73-dae0-42bb-f64b-d9b5fafaa7c8"
      },
      "outputs": [
        {
          "output_type": "execute_result",
          "data": {
            "text/plain": [
              "<keras.src.engine.functional.Functional at 0x78d1a8e03210>"
            ]
          },
          "metadata": {},
          "execution_count": 106
        }
      ],
      "source": [
        "sr = SoftmaxRegression()\n",
        "# Trong ví dụ này, ta sẽ khởi tạo input là một vector 1000 chiều,\n",
        "# bài toán cần phân loại 20 lớp đối tượng.\n",
        "sr.build(1000, 20)"
      ]
    },
    {
      "cell_type": "code",
      "execution_count": 107,
      "id": "ieq9pPmXbf9N",
      "metadata": {
        "execution": {
          "iopub.execute_input": "2024-04-06T10:12:19.917388Z",
          "iopub.status.busy": "2024-04-06T10:12:19.915529Z",
          "iopub.status.idle": "2024-04-06T10:12:19.929040Z",
          "shell.execute_reply": "2024-04-06T10:12:19.926926Z"
        },
        "id": "ieq9pPmXbf9N"
      },
      "outputs": [],
      "source": [
        "# Public Test\n",
        "assert len(sr.model.layers) == 2\n",
        "assert str(type(sr.model.layers[0])).endswith(\"input_layer.InputLayer'>\") == True\n",
        "assert str(type(sr.model.layers[1])).endswith(\"core.dense.Dense'>\") == True\n",
        "assert sr.model.layers[0].input_shape[0][1] == 1000\n",
        "assert sr.model.layers[1].output_shape[1] == 20\n",
        "assert sr.model.layers[1].use_bias == True"
      ]
    },
    {
      "cell_type": "markdown",
      "id": "aJTGlLY3bjie",
      "metadata": {
        "id": "aJTGlLY3bjie"
      },
      "source": [
        "## 3. Tạo dữ liệu mẫu (toy example)\n",
        "Bước tiếp theo, ta sẽ tiến hành tạo mẫu dữ liệu để huấn luyện và kiểm thử.\n",
        "\n",
        "Dữ liệu được tạo ra là các điểm rải ngẫu nhiên xung quanh 4 cụm điểm:\n",
        "- [10, -2]\n",
        "- [2, 8]\n",
        "- [12, 8]\n",
        "- [-2, 0]\n",
        "\n",
        "Lưu ý rằng, 4 cụm điểm này rời nhau đủ xa để khi thêm nhiễu ngẫu nhiên,\n",
        "các điểm thuộc 4 cụm này vẫn không giao thoa nhau."
      ]
    },
    {
      "cell_type": "code",
      "execution_count": 109,
      "id": "ZgqAQmLxbh8E",
      "metadata": {
        "execution": {
          "iopub.execute_input": "2024-04-06T10:12:20.033032Z",
          "iopub.status.busy": "2024-04-06T10:12:20.030934Z",
          "iopub.status.idle": "2024-04-06T10:12:20.417768Z",
          "shell.execute_reply": "2024-04-06T10:12:20.415529Z"
        },
        "id": "ZgqAQmLxbh8E",
        "colab": {
          "base_uri": "https://localhost:8080/",
          "height": 430
        },
        "outputId": "c393763e-f80a-438e-d27e-345fd211b73c"
      },
      "outputs": [
        {
          "output_type": "display_data",
          "data": {
            "text/plain": [
              "<Figure size 640x480 with 1 Axes>"
            ],
            "image/png": "[encoded data removed]"
          },
          "metadata": {}
        }
      ],
      "source": [
        "import numpy as np\n",
        "import matplotlib.pyplot as plt\n",
        "\n",
        "# Số phân lớp: 4\n",
        "K = 4\n",
        "# Tạo bộ dữ  liệu gồm 4 điểm\n",
        "# S1, S2, S3, S4 là tâm của 4 lớp\n",
        "S1= np.array([[10,-2]])\n",
        "S2= np.array([[2,8]])\n",
        "S3= np.array([[12,8]])\n",
        "S4= np.array([[-2,0]])\n",
        "\n",
        "# 50 samples mỗi lớp\n",
        "n_sample = 50\n",
        "# Phát sinh các điểm với nhiễu ngẫu nhiên xung quanh 4 tâm\n",
        "pts1 = S1 + np.random.normal(0, 1.5, size=(n_sample,2))\n",
        "pts2 = S2 + np.random.normal(0, 1.5, size=(n_sample,2))\n",
        "pts3 = S3 + np.random.normal(0, 1.5, size=(n_sample,2))\n",
        "pts4 = S4 + np.random.normal(0, 1.5, size=(n_sample,2))\n",
        "\n",
        "# Nối tất cả các mẫu thành một khối dữ liệu X (input feature) và Y (nhãn)\n",
        "X_train = np.concatenate((pts1, pts2, pts3, pts4))\n",
        "# Concatenate data labels to a single input variable Y\n",
        "Y_train = np.concatenate(([0]*n_sample, [1]*n_sample, [2]*n_sample, [3]*n_sample))\n",
        "\n",
        "# Chuyển Y từ dạng nhãn sang one-hot vector\n",
        "Y_train = Y_train.astype(int)\n",
        "Y_oh = np.zeros((Y_train.size, Y_train.max()+1 ))\n",
        "Y_oh[np.arange(Y_train.size), Y_train] = 1\n",
        "\n",
        "# Trực quan hóa dữ liệu bằng các hình tròn màu đỏ, xanh lá, xanh dương và vàng\n",
        "plt.plot(pts1[:,0], pts1[:,1], 'ro')\n",
        "plt.plot(pts2[:,0], pts2[:,1], 'go')\n",
        "plt.plot(pts3[:,0], pts3[:,1], 'bo')\n",
        "plt.plot(pts4[:,0], pts4[:,1], 'yo')\n",
        "plt.show()"
      ]
    },
    {
      "cell_type": "markdown",
      "id": "_cT4gNG3bnOA",
      "metadata": {
        "id": "_cT4gNG3bnOA"
      },
      "source": [
        "## 4. Huấn luyện mô hình với dữ liệu mẫu\n",
        "\n",
        "Tiếp theo, ta sẽ khởi tạo lại mô hình để phù hợp với dữ liệu mẫu đã phát sinh ở bước trước. Việc xây dựng kiến trúc của mô hình phải phù hợp với số chiều của dữ liệu mẫu."
      ]
    },
    {
      "cell_type": "code",
      "execution_count": 116,
      "id": "2cWrbxsQblaY",
      "metadata": {
        "execution": {
          "iopub.execute_input": "2024-04-06T10:12:20.427976Z",
          "iopub.status.busy": "2024-04-06T10:12:20.425951Z",
          "iopub.status.idle": "2024-04-06T10:12:20.508864Z",
          "shell.execute_reply": "2024-04-06T10:12:20.505929Z"
        },
        "id": "2cWrbxsQblaY",
        "colab": {
          "base_uri": "https://localhost:8080/"
        },
        "outputId": "e25f176a-ad40-41cd-eca6-572788728239"
      },
      "outputs": [
        {
          "output_type": "stream",
          "name": "stdout",
          "text": [
            "Kiến trúc của mô hình Softmax Regression: \n",
            "Model: \"model_14\"\n",
            "_________________________________________________________________\n",
            " Layer (type)                Output Shape              Param #   \n",
            "=================================================================\n",
            " input_18 (InputLayer)       [(None, 2)]               0         \n",
            "                                                                 \n",
            " dense_17 (Dense)            (None, 4)                 12        \n",
            "                                                                 \n",
            "=================================================================\n",
            "Total params: 12 (48.00 Byte)\n",
            "Trainable params: 12 (48.00 Byte)\n",
            "Non-trainable params: 0 (0.00 Byte)\n",
            "_________________________________________________________________\n"
          ]
        }
      ],
      "source": [
        "sr = SoftmaxRegression()\n",
        "\n",
        "# Hãy gọi phương thức `build` cho đối tượng `sr` và truyền tham số đầu vào\n",
        "# tương ứng với dữ liệu train đã phát sinh ở code block trên\n",
        "# Theo bạn, `input_dim` và `output_dim` bằng bao nhiêu?\n",
        "\n",
        "### BEGIN SOLUTION\n",
        "sr.build(2, 4)\n",
        "### END SOLUTION\n",
        "\n",
        "# Để hiển thị kiến trúc của mô hình ta gọi phương thức `summary`\n",
        "print(\"Kiến trúc của mô hình Softmax Regression: \")\n",
        "sr.summary()"
      ]
    },
    {
      "cell_type": "code",
      "execution_count": 117,
      "id": "G_VYYBLObryv",
      "metadata": {
        "execution": {
          "iopub.execute_input": "2024-04-06T10:12:20.549700Z",
          "iopub.status.busy": "2024-04-06T10:12:20.549007Z",
          "iopub.status.idle": "2024-04-06T10:12:24.084273Z",
          "shell.execute_reply": "2024-04-06T10:12:24.081670Z"
        },
        "id": "G_VYYBLObryv",
        "colab": {
          "base_uri": "https://localhost:8080/"
        },
        "outputId": "a89676f0-2b80-4737-ec45-9c862a7582f7"
      },
      "outputs": [
        {
          "output_type": "stream",
          "name": "stdout",
          "text": [
            "Epoch 1/100\n",
            "7/7 [==============================] - 0s 3ms/step - loss: 9.1929\n",
            "Epoch 2/100\n",
            "7/7 [==============================] - 0s 2ms/step - loss: 5.7044\n",
            "Epoch 3/100\n",
            "7/7 [==============================] - 0s 2ms/step - loss: 3.0557\n",
            "Epoch 4/100\n",
            "7/7 [==============================] - 0s 2ms/step - loss: 1.7447\n",
            "Epoch 5/100\n",
            "7/7 [==============================] - 0s 2ms/step - loss: 1.1350\n",
            "Epoch 6/100\n",
            "7/7 [==============================] - 0s 2ms/step - loss: 0.8331\n",
            "Epoch 7/100\n",
            "7/7 [==============================] - 0s 2ms/step - loss: 0.6723\n",
            "Epoch 8/100\n",
            "7/7 [==============================] - 0s 3ms/step - loss: 0.5824\n",
            "Epoch 9/100\n",
            "7/7 [==============================] - 0s 4ms/step - loss: 0.5218\n",
            "Epoch 10/100\n",
            "7/7 [==============================] - 0s 2ms/step - loss: 0.4807\n",
            "Epoch 11/100\n",
            "7/7 [==============================] - 0s 2ms/step - loss: 0.4521\n",
            "Epoch 12/100\n",
            "7/7 [==============================] - 0s 2ms/step - loss: 0.4311\n",
            "Epoch 13/100\n",
            "7/7 [==============================] - 0s 2ms/step - loss: 0.4127\n",
            "Epoch 14/100\n",
            "7/7 [==============================] - 0s 2ms/step - loss: 0.3982\n",
            "Epoch 15/100\n",
            "7/7 [==============================] - 0s 2ms/step - loss: 0.3874\n",
            "Epoch 16/100\n",
            "7/7 [==============================] - 0s 2ms/step - loss: 0.3759\n",
            "Epoch 17/100\n",
            "7/7 [==============================] - 0s 2ms/step - loss: 0.3675\n",
            "Epoch 18/100\n",
            "7/7 [==============================] - 0s 2ms/step - loss: 0.3597\n",
            "Epoch 19/100\n",
            "7/7 [==============================] - 0s 2ms/step - loss: 0.3526\n",
            "Epoch 20/100\n",
            "7/7 [==============================] - 0s 2ms/step - loss: 0.3457\n",
            "Epoch 21/100\n",
            "7/7 [==============================] - 0s 2ms/step - loss: 0.3400\n",
            "Epoch 22/100\n",
            "7/7 [==============================] - 0s 3ms/step - loss: 0.3346\n",
            "Epoch 23/100\n",
            "7/7 [==============================] - 0s 3ms/step - loss: 0.3293\n",
            "Epoch 24/100\n",
            "7/7 [==============================] - 0s 3ms/step - loss: 0.3245\n",
            "Epoch 25/100\n",
            "7/7 [==============================] - 0s 2ms/step - loss: 0.3207\n",
            "Epoch 26/100\n",
            "7/7 [==============================] - 0s 3ms/step - loss: 0.3163\n",
            "Epoch 27/100\n",
            "7/7 [==============================] - 0s 2ms/step - loss: 0.3126\n",
            "Epoch 28/100\n",
            "7/7 [==============================] - 0s 2ms/step - loss: 0.3080\n",
            "Epoch 29/100\n",
            "7/7 [==============================] - 0s 2ms/step - loss: 0.3049\n",
            "Epoch 30/100\n",
            "7/7 [==============================] - 0s 2ms/step - loss: 0.3020\n",
            "Epoch 31/100\n",
            "7/7 [==============================] - 0s 2ms/step - loss: 0.2982\n",
            "Epoch 32/100\n",
            "7/7 [==============================] - 0s 2ms/step - loss: 0.2951\n",
            "Epoch 33/100\n",
            "7/7 [==============================] - 0s 3ms/step - loss: 0.2921\n",
            "Epoch 34/100\n",
            "7/7 [==============================] - 0s 4ms/step - loss: 0.2896\n",
            "Epoch 35/100\n",
            "7/7 [==============================] - 0s 3ms/step - loss: 0.2866\n",
            "Epoch 36/100\n",
            "7/7 [==============================] - 0s 4ms/step - loss: 0.2841\n",
            "Epoch 37/100\n",
            "7/7 [==============================] - 0s 3ms/step - loss: 0.2813\n",
            "Epoch 38/100\n",
            "7/7 [==============================] - 0s 3ms/step - loss: 0.2789\n",
            "Epoch 39/100\n",
            "7/7 [==============================] - 0s 3ms/step - loss: 0.2766\n",
            "Epoch 40/100\n",
            "7/7 [==============================] - 0s 3ms/step - loss: 0.2746\n",
            "Epoch 41/100\n",
            "7/7 [==============================] - 0s 3ms/step - loss: 0.2728\n",
            "Epoch 42/100\n",
            "7/7 [==============================] - 0s 3ms/step - loss: 0.2709\n",
            "Epoch 43/100\n",
            "7/7 [==============================] - 0s 3ms/step - loss: 0.2683\n",
            "Epoch 44/100\n",
            "7/7 [==============================] - 0s 3ms/step - loss: 0.2668\n",
            "Epoch 45/100\n",
            "7/7 [==============================] - 0s 3ms/step - loss: 0.2647\n",
            "Epoch 46/100\n",
            "7/7 [==============================] - 0s 3ms/step - loss: 0.2631\n",
            "Epoch 47/100\n",
            "7/7 [==============================] - 0s 3ms/step - loss: 0.2615\n",
            "Epoch 48/100\n",
            "7/7 [==============================] - 0s 3ms/step - loss: 0.2594\n",
            "Epoch 49/100\n",
            "7/7 [==============================] - 0s 3ms/step - loss: 0.2578\n",
            "Epoch 50/100\n",
            "7/7 [==============================] - 0s 3ms/step - loss: 0.2564\n",
            "Epoch 51/100\n",
            "7/7 [==============================] - 0s 3ms/step - loss: 0.2546\n",
            "Epoch 52/100\n",
            "7/7 [==============================] - 0s 2ms/step - loss: 0.2531\n",
            "Epoch 53/100\n",
            "7/7 [==============================] - 0s 4ms/step - loss: 0.2512\n",
            "Epoch 54/100\n",
            "7/7 [==============================] - 0s 4ms/step - loss: 0.2499\n",
            "Epoch 55/100\n",
            "7/7 [==============================] - 0s 3ms/step - loss: 0.2483\n",
            "Epoch 56/100\n",
            "7/7 [==============================] - 0s 3ms/step - loss: 0.2469\n",
            "Epoch 57/100\n",
            "7/7 [==============================] - 0s 3ms/step - loss: 0.2460\n",
            "Epoch 58/100\n",
            "7/7 [==============================] - 0s 3ms/step - loss: 0.2445\n",
            "Epoch 59/100\n",
            "7/7 [==============================] - 0s 3ms/step - loss: 0.2429\n",
            "Epoch 60/100\n",
            "7/7 [==============================] - 0s 2ms/step - loss: 0.2418\n",
            "Epoch 61/100\n",
            "7/7 [==============================] - 0s 4ms/step - loss: 0.2404\n",
            "Epoch 62/100\n",
            "7/7 [==============================] - 0s 2ms/step - loss: 0.2392\n",
            "Epoch 63/100\n",
            "7/7 [==============================] - 0s 3ms/step - loss: 0.2379\n",
            "Epoch 64/100\n",
            "7/7 [==============================] - 0s 2ms/step - loss: 0.2367\n",
            "Epoch 65/100\n",
            "7/7 [==============================] - 0s 2ms/step - loss: 0.2355\n",
            "Epoch 66/100\n",
            "7/7 [==============================] - 0s 2ms/step - loss: 0.2341\n",
            "Epoch 67/100\n",
            "7/7 [==============================] - 0s 2ms/step - loss: 0.2332\n",
            "Epoch 68/100\n",
            "7/7 [==============================] - 0s 3ms/step - loss: 0.2324\n",
            "Epoch 69/100\n",
            "7/7 [==============================] - 0s 2ms/step - loss: 0.2312\n",
            "Epoch 70/100\n",
            "7/7 [==============================] - 0s 2ms/step - loss: 0.2297\n",
            "Epoch 71/100\n",
            "7/7 [==============================] - 0s 3ms/step - loss: 0.2289\n",
            "Epoch 72/100\n",
            "7/7 [==============================] - 0s 2ms/step - loss: 0.2277\n",
            "Epoch 73/100\n",
            "7/7 [==============================] - 0s 2ms/step - loss: 0.2266\n",
            "Epoch 74/100\n",
            "7/7 [==============================] - 0s 3ms/step - loss: 0.2260\n",
            "Epoch 75/100\n",
            "7/7 [==============================] - 0s 3ms/step - loss: 0.2249\n",
            "Epoch 76/100\n",
            "7/7 [==============================] - 0s 3ms/step - loss: 0.2238\n",
            "Epoch 77/100\n",
            "7/7 [==============================] - 0s 3ms/step - loss: 0.2226\n",
            "Epoch 78/100\n",
            "7/7 [==============================] - 0s 3ms/step - loss: 0.2218\n",
            "Epoch 79/100\n",
            "7/7 [==============================] - 0s 5ms/step - loss: 0.2209\n",
            "Epoch 80/100\n",
            "7/7 [==============================] - 0s 3ms/step - loss: 0.2199\n",
            "Epoch 81/100\n",
            "7/7 [==============================] - 0s 3ms/step - loss: 0.2194\n",
            "Epoch 82/100\n",
            "7/7 [==============================] - 0s 4ms/step - loss: 0.2186\n",
            "Epoch 83/100\n",
            "7/7 [==============================] - 0s 5ms/step - loss: 0.2171\n",
            "Epoch 84/100\n",
            "7/7 [==============================] - 0s 3ms/step - loss: 0.2171\n",
            "Epoch 85/100\n",
            "7/7 [==============================] - 0s 2ms/step - loss: 0.2165\n",
            "Epoch 86/100\n",
            "7/7 [==============================] - 0s 3ms/step - loss: 0.2148\n",
            "Epoch 87/100\n",
            "7/7 [==============================] - 0s 2ms/step - loss: 0.2140\n",
            "Epoch 88/100\n",
            "7/7 [==============================] - 0s 2ms/step - loss: 0.2129\n",
            "Epoch 89/100\n",
            "7/7 [==============================] - 0s 2ms/step - loss: 0.2121\n",
            "Epoch 90/100\n",
            "7/7 [==============================] - 0s 2ms/step - loss: 0.2116\n",
            "Epoch 91/100\n",
            "7/7 [==============================] - 0s 2ms/step - loss: 0.2105\n",
            "Epoch 92/100\n",
            "7/7 [==============================] - 0s 2ms/step - loss: 0.2098\n",
            "Epoch 93/100\n",
            "7/7 [==============================] - 0s 2ms/step - loss: 0.2091\n",
            "Epoch 94/100\n",
            "7/7 [==============================] - 0s 2ms/step - loss: 0.2083\n",
            "Epoch 95/100\n",
            "7/7 [==============================] - 0s 2ms/step - loss: 0.2076\n",
            "Epoch 96/100\n",
            "7/7 [==============================] - 0s 2ms/step - loss: 0.2071\n",
            "Epoch 97/100\n",
            "7/7 [==============================] - 0s 3ms/step - loss: 0.2061\n",
            "Epoch 98/100\n",
            "7/7 [==============================] - 0s 3ms/step - loss: 0.2053\n",
            "Epoch 99/100\n",
            "7/7 [==============================] - 0s 2ms/step - loss: 0.2044\n",
            "Epoch 100/100\n",
            "7/7 [==============================] - 0s 2ms/step - loss: 0.2039\n"
          ]
        }
      ],
      "source": [
        "# Để huấn luyện mô hình ta gọi phương thức `train` với dữ liệu mẫu đã tạo được\n",
        "# Nếu bước `build` mô hình gọi đúng thì bước `train` sau sẽ thực hiện thành công\n",
        "# LƯU Ý: Ở đây ta sử dụng output là Y_oh dạng one-hot thay vì dạng nhãn (label)\n",
        "hist = sr.train(X_train, Y_oh)"
      ]
    },
    {
      "cell_type": "code",
      "execution_count": 118,
      "id": "T57sMHCQbtGv",
      "metadata": {
        "execution": {
          "iopub.execute_input": "2024-04-06T10:12:24.093583Z",
          "iopub.status.busy": "2024-04-06T10:12:24.092853Z",
          "iopub.status.idle": "2024-04-06T10:12:24.537275Z",
          "shell.execute_reply": "2024-04-06T10:12:24.535090Z"
        },
        "id": "T57sMHCQbtGv",
        "colab": {
          "base_uri": "https://localhost:8080/",
          "height": 472
        },
        "outputId": "22f0a367-667e-419d-c9f2-24bf3402fabb"
      },
      "outputs": [
        {
          "output_type": "display_data",
          "data": {
            "text/plain": [
              "<Figure size 640x480 with 1 Axes>"
            ],
            "image/png": "[encoded data removed]"
          },
          "metadata": {}
        }
      ],
      "source": [
        "# Hiển thị loss theo số epoch\n",
        "plt.plot(hist.history['loss'])\n",
        "plt.title('Model Loss')\n",
        "plt.ylabel('loss')\n",
        "plt.xlabel('epoch')\n",
        "plt.show()"
      ]
    },
    {
      "cell_type": "code",
      "execution_count": 119,
      "id": "CExu8Scobw65",
      "metadata": {
        "execution": {
          "iopub.execute_input": "2024-04-06T10:12:24.546845Z",
          "iopub.status.busy": "2024-04-06T10:12:24.545031Z",
          "iopub.status.idle": "2024-04-06T10:12:24.576091Z",
          "shell.execute_reply": "2024-04-06T10:12:24.573950Z"
        },
        "id": "CExu8Scobw65",
        "colab": {
          "base_uri": "https://localhost:8080/"
        },
        "outputId": "fab55de6-2948-473e-c49b-459435d9e819"
      },
      "outputs": [
        {
          "output_type": "stream",
          "name": "stderr",
          "text": [
            "/usr/local/lib/python3.11/dist-packages/keras/src/engine/training.py:3103: UserWarning: You are saving your model as an HDF5 file via `model.save()`. This file format is considered legacy. We recommend using instead the native Keras format, e.g. `model.save('my_model.keras')`.\n",
            "  saving_api.save_model(\n"
          ]
        }
      ],
      "source": [
        "# Sau khi đã huấn luyện, ta lưu mô hình về để sau này tái sử dụng\n",
        "# Lưu ý: hai phương thức lưu mô hình `save` và tải mô hình lên 'load'\n",
        "# được sử dụng khi muốn tái sử dụng nhiều lần mà KHÔNG CẦN PHẢI HUẤN LUYỆN LẠI\n",
        "sr.save('softmax_regression_model.h5')"
      ]
    },
    {
      "cell_type": "markdown",
      "id": "_u0aNnJ-bz5c",
      "metadata": {
        "id": "_u0aNnJ-bz5c"
      },
      "source": [
        "## 5. Trực quan hóa mô hình và dự đoán với dữ liệu test"
      ]
    },
    {
      "cell_type": "code",
      "execution_count": 120,
      "id": "CWGwHvn2byjo",
      "metadata": {
        "execution": {
          "iopub.execute_input": "2024-04-06T10:12:24.585386Z",
          "iopub.status.busy": "2024-04-06T10:12:24.583582Z",
          "iopub.status.idle": "2024-04-06T10:12:24.673822Z",
          "shell.execute_reply": "2024-04-06T10:12:24.671487Z"
        },
        "id": "CWGwHvn2byjo"
      },
      "outputs": [],
      "source": [
        "# Khởi tạo đối tượng mới và gọi phương thức load mô hình từ file\n",
        "pretrain_sr = SoftmaxRegression()\n",
        "pretrain_sr.load('softmax_regression_model.h5')"
      ]
    },
    {
      "cell_type": "code",
      "execution_count": 121,
      "id": "EDrNN_iRb1Yy",
      "metadata": {
        "execution": {
          "iopub.execute_input": "2024-04-06T10:12:24.684907Z",
          "iopub.status.busy": "2024-04-06T10:12:24.682511Z",
          "iopub.status.idle": "2024-04-06T10:12:24.697761Z",
          "shell.execute_reply": "2024-04-06T10:12:24.695690Z"
        },
        "id": "EDrNN_iRb1Yy",
        "colab": {
          "base_uri": "https://localhost:8080/"
        },
        "outputId": "b86db890-3fa8-45b0-abcc-6cb4c613b44b"
      },
      "outputs": [
        {
          "output_type": "stream",
          "name": "stdout",
          "text": [
            "Tham số tối ưu: \n",
            "[array([[ 0.25151646, -0.627236  ,  0.08248356, -1.3787892 ],\n",
            "       [-0.72863173,  0.6146364 ,  0.10726488, -0.03318908]],\n",
            "      dtype=float32), array([-0.10995936, -0.18175945, -0.3198482 ,  0.61156625], dtype=float32)]\n"
          ]
        }
      ],
      "source": [
        "# Hiển thị bộ tham số của mô hình Softmax\n",
        "theta = pretrain_sr.get_weights()\n",
        "print('Tham số tối ưu: ')\n",
        "print(theta)"
      ]
    },
    {
      "cell_type": "code",
      "execution_count": 122,
      "id": "FZTEt1Vsb2YN",
      "metadata": {
        "execution": {
          "iopub.execute_input": "2024-04-06T10:12:24.706869Z",
          "iopub.status.busy": "2024-04-06T10:12:24.705111Z",
          "iopub.status.idle": "2024-04-06T10:12:27.193107Z",
          "shell.execute_reply": "2024-04-06T10:12:27.190767Z"
        },
        "id": "FZTEt1Vsb2YN",
        "colab": {
          "base_uri": "https://localhost:8080/",
          "height": 485
        },
        "outputId": "24737135-0986-4603-acc7-c81cfec445fc"
      },
      "outputs": [
        {
          "output_type": "stream",
          "name": "stderr",
          "text": [
            "WARNING:tensorflow:6 out of the last 6 calls to <function Model.make_predict_function.<locals>.predict_function at 0x78d1a8cbaf20> triggered tf.function retracing. Tracing is expensive and the excessive number of tracings could be due to (1) creating @tf.function repeatedly in a loop, (2) passing tensors with different shapes, (3) passing Python objects instead of tensors. For (1), please define your @tf.function outside of the loop. For (2), @tf.function has reduce_retracing=True option that can avoid unnecessary retracing. For (3), please refer to https://www.tensorflow.org/guide/function#controlling_retracing and https://www.tensorflow.org/api_docs/python/tf/function for  more details.\n"
          ]
        },
        {
          "output_type": "stream",
          "name": "stdout",
          "text": [
            "20/20 [==============================] - 0s 3ms/step\n"
          ]
        },
        {
          "output_type": "display_data",
          "data": {
            "text/plain": [
              "<Figure size 640x480 with 1 Axes>"
            ],
            "image/png": "[encoded data removed]"
          },
          "metadata": {}
        }
      ],
      "source": [
        "# Trực quan hóa dữ liệu và mô hình sau khi huấn luyện\n",
        "# Ý tưởng: lấy mẫu dày đặc các điểm trong phạm vi dữ liệu train\n",
        "# Sau đó dùng mô hình để dự đoán và hiển thị kết quả\n",
        "\n",
        "# `colors` là các marker được sử dụng để trực quan hóa kết quả test\n",
        "colors = ['r+', 'g+', 'b+', 'y+']\n",
        "# `gt_colors` là các marker được sử dụng để trực quan hóa dữ liệu train\n",
        "gt_colors = ['ro', 'go', 'bo', 'yo']\n",
        "\n",
        "# Lấy mẫu dày đặc các điểm\n",
        "x = np.arange(-8, 17, 1)\n",
        "y = np.arange(-8, 17, 1)\n",
        "xx, yy = np.meshgrid(x,y)\n",
        "\n",
        "xx = xx.reshape(-1)\n",
        "yy = yy.reshape(-1)\n",
        "\n",
        "# Tạo các dữ liệu test dày đặc\n",
        "X_test = np.concatenate([[xx],[yy]], axis=0).T\n",
        "Y_pred = pretrain_sr.predict(X_test)\n",
        "\n",
        "for i in range(len(xx)):\n",
        "    plt.plot(xx[i],yy[i], colors[np.argmax(Y_pred[i])])\n",
        "plt.plot(pts1[:,0], pts1[:,1], gt_colors[0])\n",
        "plt.plot(pts2[:,0], pts2[:,1], gt_colors[1])\n",
        "plt.plot(pts3[:,0], pts3[:,1], gt_colors[2])\n",
        "plt.plot(pts4[:,0], pts4[:,1], gt_colors[3])\n",
        "plt.show()"
      ]
    },
    {
      "cell_type": "markdown",
      "id": "9kUCyBh1b5vm",
      "metadata": {
        "id": "9kUCyBh1b5vm"
      },
      "source": [
        "Như vậy ta có thể thấy rằng, không gian mặt phẳng đã được phân loại sử dụng mô hình đã huấn luyện trước đó với Softmax Regression. Dựa trên hình trên ta thấy kết quả khá chính xác, chỉ trừ một số điểm ở biên giữa các lớp."
      ]
    },
    {
      "cell_type": "markdown",
      "id": "Lc9lXMIMb-pS",
      "metadata": {
        "id": "Lc9lXMIMb-pS"
      },
      "source": [
        "# PHẦN 4 - CÀI ĐẶT MÔ HÌNH NEURAL NETWORK VỚI KERAS"
      ]
    },
    {
      "cell_type": "markdown",
      "id": "0RI_9W80cCqL",
      "metadata": {
        "id": "0RI_9W80cCqL"
      },
      "source": [
        "Một mô hình máy học cần có đủ ít nhất 7 phương thức sau:\n",
        "- `__init__`: hàm constructor trong hướng đối tượng, được sử dụng để khởi tạo các tham số mặc định hoặc tham số bắt đầu một mô hình. Trong những bài tập đầu tiên, để đơn giản constructor sẽ không sử dụng.\n",
        "- `build`: xây dựng kiến trúc của mô hình\n",
        "- `train`: bắt đầu quá trình huấn luyện mô hình\n",
        "- `save`: lưu lại mô hình sau khi đã huấn luyện\n",
        "- `load`: load lên mô hình từ file đã huấn luyện (pretrained)\n",
        "- `summary`: in tóm tắt kiến trúc mô hình\n",
        "- `predict`: dự đoán giá trị output từ dữ liệu đầu vào"
      ]
    },
    {
      "cell_type": "code",
      "execution_count": 123,
      "id": "bpyrEhf0b3up",
      "metadata": {
        "execution": {
          "iopub.execute_input": "2024-04-06T10:12:27.204697Z",
          "iopub.status.busy": "2024-04-06T10:12:27.202615Z",
          "iopub.status.idle": "2024-04-06T10:12:27.216257Z",
          "shell.execute_reply": "2024-04-06T10:12:27.214140Z"
        },
        "id": "bpyrEhf0b3up"
      },
      "outputs": [],
      "source": [
        "# Mô hình cài đặt tổng quát bao gồm 7 phương thức cơ bản\n",
        "# Lưu ý: mô hình này chỉ mang tính gợi ý, không bắt buộc\n",
        "# Tuy nhiên, trong phần bài tập cần tuân theo các tên phương thức này\n",
        "class MyModel:\n",
        "    # constructor\n",
        "    def __init__(self):\n",
        "        return None\n",
        "\n",
        "    # Implement architecture of the model\n",
        "    def build(self):\n",
        "        return None\n",
        "\n",
        "    # Train the defined model with training and validation data\n",
        "    def train(self):\n",
        "        return None\n",
        "\n",
        "    # Save the trained model to file\n",
        "    def save(self, model_path):\n",
        "        return None\n",
        "\n",
        "    # Load pretrained model from file\n",
        "    def load(self):\n",
        "        return None\n",
        "\n",
        "    # Visualize your model\n",
        "    def summary(self):\n",
        "        return None\n",
        "\n",
        "    # Apply your model with new input data\n",
        "    def predict(self):\n",
        "        return None"
      ]
    },
    {
      "cell_type": "markdown",
      "id": "xK0O019wcFr_",
      "metadata": {
        "id": "xK0O019wcFr_"
      },
      "source": [
        "## 1. Import các thư viện Keras\n",
        "\n",
        "Đầu tiên, ta sẽ import các thư viện, module, hàm của `Keras`:\n",
        "- `Input`: để nhận dữ liệu đầu vào cho mô hình\n",
        "- `Dense`: hay còn gọi là lớp Fully Connected (Lớp kết nối đầy đủ), một thành phần quan trọng của các mô hình dựa trên mạng Neural Network.\n",
        "- `Model`: đây là lớp đối tượng mô hình được sử dụng để đóng gói lớp đầu vào, đầu ra, sau đó huấn luyện với phương thức `fit` và dự đoán kết quả với `predict`.\n",
        "- `load_model`: hàm sử dụng để load mô hình lên từ file"
      ]
    },
    {
      "cell_type": "code",
      "execution_count": 124,
      "id": "lGw0UAsCcEPW",
      "metadata": {
        "execution": {
          "iopub.execute_input": "2024-04-06T10:12:27.225532Z",
          "iopub.status.busy": "2024-04-06T10:12:27.223652Z",
          "iopub.status.idle": "2024-04-06T10:12:27.233750Z",
          "shell.execute_reply": "2024-04-06T10:12:27.231570Z"
        },
        "id": "lGw0UAsCcEPW"
      },
      "outputs": [],
      "source": [
        "from keras.layers import Input, Dense\n",
        "from keras import Model\n",
        "import tensorflow as tf\n",
        "from keras.models import load_model\n",
        "import numpy as np"
      ]
    },
    {
      "cell_type": "markdown",
      "id": "zwK6d3txcIkj",
      "metadata": {
        "id": "zwK6d3txcIkj"
      },
      "source": [
        "## 2. Cài đặt mô hình Neural Network\n",
        "Tiếp theo, ta sẽ dựa trên khung đối tượng `MyModel` đã trình bày ở mục trước để tiến hành cài đặt mô hình **Neural Network**. Phương thức chính mà bài tập này cần thực hiện là `def build()`. Các phương thức còn lại đã được cài đặt sẵn, các bạn cần đọc, hiểu ý nghĩa và cách thức sử dụng về sau.\n",
        "\n",
        "<p align=\"center\">\n",
        "  <img src=\"./images/NeuralNet.png\" />\n",
        "</p>"
      ]
    },
    {
      "cell_type": "code",
      "execution_count": 133,
      "id": "MkXl2AppcHT7",
      "metadata": {
        "execution": {
          "iopub.execute_input": "2024-04-06T10:12:27.243098Z",
          "iopub.status.busy": "2024-04-06T10:12:27.241456Z",
          "iopub.status.idle": "2024-04-06T10:12:27.266124Z",
          "shell.execute_reply": "2024-04-06T10:12:27.263828Z"
        },
        "id": "MkXl2AppcHT7"
      },
      "outputs": [],
      "source": [
        "# Neural Network\n",
        "class NeuralNetwork:\n",
        "    def __init__(self): # Self is similar to your 'this' pointer in C++\n",
        "        return None\n",
        "\n",
        "    def build(self, input_dim, output_dim, n_hidden, n_neurons):\n",
        "        # `input_dim`: kích thước input feature\n",
        "        # `output_dim`: số phân lớp cần phân loại\n",
        "        # `n_hidden`: số lượng lớp ẩn\n",
        "        # `n_neurons`: số lượng neuron mỗi lớp ẩn\n",
        "\n",
        "        # Khởi tạo model\n",
        "        self.model = None\n",
        "\n",
        "        # Hãy cài đặt để định nghĩa KIẾN TRÚC MÔ HÌNH và lưu ở thuộc tính `self.model`\n",
        "        # với các biến đối tượng sau:\n",
        "        #  - tạo biến `input` với lớp đối tượng `Input` của Keras,\n",
        "        #    truyền vào kích thước đầu vào `input_dim`\n",
        "        #  - tạo `n_hidden`lớp ẩn biết rằng, mỗi lớp ẩn có `n_neurons`, có sử dụng bias\n",
        "        #    activation là hàm `sigmoid`. Đầu ra của lớp ẩn này là đầu vào lớp ẩn sau.\n",
        "        #  - tạo biến `output` với lớp đối tượng `Dense` của Keras,\n",
        "        #    truyền vào các tham số:  kích thước output (chú ý PHÂN LOẠI ĐA LỚP),\n",
        "        #    có sử dụng bias, CÓ SỬ DỤNG hàm activation là `softmax`. Đầu vào của lớp\n",
        "        #    output chính là lớp ẩn cuối cùng.\n",
        "        # Sau bước này, self.model sẽ đóng gói 2 biến `input` và `output` để tạo thành mô hình\n",
        "        ### BEGIN SOLUTION\n",
        "        input = Input(shape=(input_dim,))\n",
        "        x = input\n",
        "        for i in range(n_hidden):\n",
        "            x = Dense(units=n_neurons, use_bias=True, activation='sigmoid')(x)\n",
        "        output = Dense(units=output_dim, use_bias=True, activation='softmax')(x)\n",
        "        self.model = Model(input, output)\n",
        "        ### END SOLUTION\n",
        "\n",
        "        return self.model\n",
        "\n",
        "    def train(self, x_train, y_train, epochs=500):\n",
        "        # Khởi tạo mặc định với số `epochs=50`, `learning_rate=0.05`\n",
        "        opt = tf.keras.optimizers.SGD(learning_rate=0.05) # Stochastic Gradient Descent\n",
        "        self.model.compile(optimizer=opt, loss='categorical_crossentropy') # CCE loss\n",
        "        return self.model.fit(x_train, y_train, epochs=epochs)\n",
        "\n",
        "    def save(self, model_file):\n",
        "        return self.model.save(model_file)\n",
        "\n",
        "    def load(self, model_file):\n",
        "        self.model = load_model(model_file)\n",
        "\n",
        "    def summary(self):\n",
        "        self.model.summary()\n",
        "\n",
        "    def predict(self, x_test):\n",
        "        return self.model.predict(x_test)\n",
        "\n",
        "    def get_weights(self, layer_id):\n",
        "        return self.model.layers[layer_id].get_weights()"
      ]
    },
    {
      "cell_type": "markdown",
      "id": "KZG8g70NcOd5",
      "metadata": {
        "id": "KZG8g70NcOd5"
      },
      "source": [
        "Tiếp theo, ta sẽ khởi tạo đối tượng NeuralNetwork và kiểm tra thử xem phương `build` đã cài đặt chính xác chưa."
      ]
    },
    {
      "cell_type": "code",
      "execution_count": 134,
      "id": "Jjph2C2CcLty",
      "metadata": {
        "execution": {
          "iopub.execute_input": "2024-04-06T10:12:27.275624Z",
          "iopub.status.busy": "2024-04-06T10:12:27.273555Z",
          "iopub.status.idle": "2024-04-06T10:12:27.395029Z",
          "shell.execute_reply": "2024-04-06T10:12:27.392884Z"
        },
        "id": "Jjph2C2CcLty",
        "colab": {
          "base_uri": "https://localhost:8080/"
        },
        "outputId": "888c3640-fbe8-4375-a64d-ce8c8e63c76b"
      },
      "outputs": [
        {
          "output_type": "execute_result",
          "data": {
            "text/plain": [
              "<keras.src.engine.functional.Functional at 0x78d19f0caa50>"
            ]
          },
          "metadata": {},
          "execution_count": 134
        }
      ],
      "source": [
        "nn = NeuralNetwork()\n",
        "# Trong ví dụ này, ta sẽ khởi tạo input là một vector 1000 chiều,\n",
        "# bài toán cần phân loại 20 lớp đối tượng. Số lượng lớp ẩn là 3\n",
        "# và số neuron mỗi lớp ẩn là  10.\n",
        "nn.build(1000, 20, 3, 10)"
      ]
    },
    {
      "cell_type": "markdown",
      "id": "GYB5dcBtcS7d",
      "metadata": {
        "id": "GYB5dcBtcS7d"
      },
      "source": [
        "## 3. Tạo dữ liệu mẫu (toy example)\n",
        "Bước tiếp theo, ta sẽ tiến hành tạo mẫu dữ liệu để huấn luyện và kiểm thử.\n",
        "\n",
        "Dữ liệu được tạo ra là các điểm rải ngẫu nhiên xung quanh 4 cụm điểm:\n",
        "- [10, -2]\n",
        "- [2, 8]\n",
        "- [12, 8]\n",
        "- [-2, 0]\n",
        "\n",
        "Lưu ý rằng, 4 cụm điểm này rời nhau đủ xa để khi thêm nhiễu ngẫu nhiên,\n",
        "các điểm thuộc 4 cụm này vẫn không giao thoa nhau."
      ]
    },
    {
      "cell_type": "code",
      "execution_count": 135,
      "id": "oP_aPXwjcRpt",
      "metadata": {
        "execution": {
          "iopub.execute_input": "2024-04-06T10:12:27.553137Z",
          "iopub.status.busy": "2024-04-06T10:12:27.551295Z",
          "iopub.status.idle": "2024-04-06T10:12:27.974500Z",
          "shell.execute_reply": "2024-04-06T10:12:27.972272Z"
        },
        "id": "oP_aPXwjcRpt",
        "colab": {
          "base_uri": "https://localhost:8080/",
          "height": 430
        },
        "outputId": "0d302ce9-3d27-4aff-95e7-e080bf3fed05"
      },
      "outputs": [
        {
          "output_type": "display_data",
          "data": {
            "text/plain": [
              "<Figure size 640x480 with 1 Axes>"
            ],
            "image/png": "[encoded data removed]"
          },
          "metadata": {}
        }
      ],
      "source": [
        "import numpy as np\n",
        "import matplotlib.pyplot as plt\n",
        "\n",
        "# Số phân lớp: 4\n",
        "K = 4\n",
        "# Tạo bộ dữ  liệu gồm 4 điểm\n",
        "# S1, S2, S3, S4 là tâm của 4 lớp\n",
        "S1= np.array([[10,-2]])\n",
        "S2= np.array([[2,8]])\n",
        "S3= np.array([[12,8]])\n",
        "S4= np.array([[-2,0]])\n",
        "\n",
        "# 50 samples mỗi lớp\n",
        "n_sample = 50\n",
        "# Phát sinh các điểm với nhiễu ngẫu nhiên xung quanh 4 tâm\n",
        "pts1 = S1 + np.random.normal(0, 1.5, size=(n_sample,2))\n",
        "pts2 = S2 + np.random.normal(0, 1.5, size=(n_sample,2))\n",
        "pts3 = S3 + np.random.normal(0, 1.5, size=(n_sample,2))\n",
        "pts4 = S4 + np.random.normal(0, 1.5, size=(n_sample,2))\n",
        "\n",
        "# Nối tất cả các mẫu thành một khối dữ liệu X (input feature) và Y (nhãn)\n",
        "X_train = np.concatenate((pts1, pts2, pts3, pts4))\n",
        "# Concatenate data labels to a single input variable Y\n",
        "Y_train = np.concatenate(([0]*n_sample, [1]*n_sample, [2]*n_sample, [3]*n_sample))\n",
        "\n",
        "# Chuyển Y từ dạng nhãn sang one-hot vector\n",
        "Y_train = Y_train.astype(int)\n",
        "Y_oh = np.zeros((Y_train.size, Y_train.max()+1 ))\n",
        "Y_oh[np.arange(Y_train.size), Y_train] = 1\n",
        "\n",
        "# Trực quan hóa dữ liệu bằng các hình tròn màu đỏ, xanh lá, xanh dương và vàng\n",
        "plt.plot(pts1[:,0], pts1[:,1], 'ro')\n",
        "plt.plot(pts2[:,0], pts2[:,1], 'go')\n",
        "plt.plot(pts3[:,0], pts3[:,1], 'bo')\n",
        "plt.plot(pts4[:,0], pts4[:,1], 'yo')\n",
        "plt.show()"
      ]
    },
    {
      "cell_type": "markdown",
      "id": "uopzbiCucXrm",
      "metadata": {
        "id": "uopzbiCucXrm"
      },
      "source": [
        "## 4. Huấn luyện mô hình với dữ liệu mẫu\n",
        "\n",
        "Tiếp theo, ta sẽ khởi tạo lại mô hình để phù hợp với dữ liệu mẫu đã phát sinh ở bước trước. Việc xây dựng kiến trúc của mô hình phải phù hợp với số chiều của dữ liệu mẫu."
      ]
    },
    {
      "cell_type": "code",
      "execution_count": 136,
      "id": "YlAmECLucVk3",
      "metadata": {
        "execution": {
          "iopub.execute_input": "2024-04-06T10:12:27.984335Z",
          "iopub.status.busy": "2024-04-06T10:12:27.982726Z",
          "iopub.status.idle": "2024-04-06T10:12:28.094159Z",
          "shell.execute_reply": "2024-04-06T10:12:28.091649Z"
        },
        "id": "YlAmECLucVk3",
        "colab": {
          "base_uri": "https://localhost:8080/"
        },
        "outputId": "d7acd96a-dfb1-4150-a98a-7f1c436e229c"
      },
      "outputs": [
        {
          "output_type": "stream",
          "name": "stdout",
          "text": [
            "Kiến trúc của mô hình Neural Network: \n",
            "Model: \"model_16\"\n",
            "_________________________________________________________________\n",
            " Layer (type)                Output Shape              Param #   \n",
            "=================================================================\n",
            " input_24 (InputLayer)       [(None, 2)]               0         \n",
            "                                                                 \n",
            " dense_23 (Dense)            (None, 3)                 9         \n",
            "                                                                 \n",
            " dense_24 (Dense)            (None, 4)                 16        \n",
            "                                                                 \n",
            "=================================================================\n",
            "Total params: 25 (100.00 Byte)\n",
            "Trainable params: 25 (100.00 Byte)\n",
            "Non-trainable params: 0 (0.00 Byte)\n",
            "_________________________________________________________________\n"
          ]
        }
      ],
      "source": [
        "nn = NeuralNetwork()\n",
        "\n",
        "# Hãy gọi phương thức `build` cho đối tượng `sr` và truyền tham số đầu vào\n",
        "# tương ứng với dữ liệu train đã phát sinh ở code block trên\n",
        "# Theo bạn, `input_dim`, `output_dim` bằng bao nhiêu?\n",
        "# Đối với các lớp ẩn, ta khởi tạo 01 lớp ẩn và 03 neuron cho mỗi lớp ẩn\n",
        "\n",
        "### BEGIN SOLUTION\n",
        "nn.build(2, 4, 1, 3)\n",
        "### END SOLUTION\n",
        "\n",
        "# Để hiển thị kiến trúc của mô hình ta gọi phương thức `summary`\n",
        "print(\"Kiến trúc của mô hình Neural Network: \")\n",
        "nn.summary()"
      ]
    },
    {
      "cell_type": "code",
      "execution_count": 137,
      "id": "U2LYtxBgca3h",
      "metadata": {
        "execution": {
          "iopub.execute_input": "2024-04-06T10:12:28.139524Z",
          "iopub.status.busy": "2024-04-06T10:12:28.138763Z",
          "iopub.status.idle": "2024-04-06T10:12:43.653052Z",
          "shell.execute_reply": "2024-04-06T10:12:43.650821Z"
        },
        "id": "U2LYtxBgca3h",
        "scrolled": true,
        "colab": {
          "base_uri": "https://localhost:8080/"
        },
        "outputId": "9bb13998-fe4a-47f0-93da-f8abd9902d33"
      },
      "outputs": [
        {
          "output_type": "stream",
          "name": "stdout",
          "text": [
            "Epoch 1/500\n",
            "7/7 [==============================] - 1s 3ms/step - loss: 1.6913\n",
            "Epoch 2/500\n",
            "7/7 [==============================] - 0s 3ms/step - loss: 1.6154\n",
            "Epoch 3/500\n",
            "7/7 [==============================] - 0s 3ms/step - loss: 1.5509\n",
            "Epoch 4/500\n",
            "7/7 [==============================] - 0s 3ms/step - loss: 1.4901\n",
            "Epoch 5/500\n",
            "7/7 [==============================] - 0s 3ms/step - loss: 1.4444\n",
            "Epoch 6/500\n",
            "7/7 [==============================] - 0s 2ms/step - loss: 1.4012\n",
            "Epoch 7/500\n",
            "7/7 [==============================] - 0s 3ms/step - loss: 1.3647\n",
            "Epoch 8/500\n",
            "7/7 [==============================] - 0s 2ms/step - loss: 1.3293\n",
            "Epoch 9/500\n",
            "7/7 [==============================] - 0s 3ms/step - loss: 1.2952\n",
            "Epoch 10/500\n",
            "7/7 [==============================] - 0s 4ms/step - loss: 1.2629\n",
            "Epoch 11/500\n",
            "7/7 [==============================] - 0s 4ms/step - loss: 1.2322\n",
            "Epoch 12/500\n",
            "7/7 [==============================] - 0s 3ms/step - loss: 1.2066\n",
            "Epoch 13/500\n",
            "7/7 [==============================] - 0s 3ms/step - loss: 1.1811\n",
            "Epoch 14/500\n",
            "7/7 [==============================] - 0s 3ms/step - loss: 1.1561\n",
            "Epoch 15/500\n",
            "7/7 [==============================] - 0s 2ms/step - loss: 1.1308\n",
            "Epoch 16/500\n",
            "7/7 [==============================] - 0s 2ms/step - loss: 1.1071\n",
            "Epoch 17/500\n",
            "7/7 [==============================] - 0s 4ms/step - loss: 1.0845\n",
            "Epoch 18/500\n",
            "7/7 [==============================] - 0s 3ms/step - loss: 1.0631\n",
            "Epoch 19/500\n",
            "7/7 [==============================] - 0s 2ms/step - loss: 1.0425\n",
            "Epoch 20/500\n",
            "7/7 [==============================] - 0s 2ms/step - loss: 1.0210\n",
            "Epoch 21/500\n",
            "7/7 [==============================] - 0s 3ms/step - loss: 1.0017\n",
            "Epoch 22/500\n",
            "7/7 [==============================] - 0s 3ms/step - loss: 0.9828\n",
            "Epoch 23/500\n",
            "7/7 [==============================] - 0s 3ms/step - loss: 0.9648\n",
            "Epoch 24/500\n",
            "7/7 [==============================] - 0s 5ms/step - loss: 0.9459\n",
            "Epoch 25/500\n",
            "7/7 [==============================] - 0s 4ms/step - loss: 0.9279\n",
            "Epoch 26/500\n",
            "7/7 [==============================] - 0s 5ms/step - loss: 0.9105\n",
            "Epoch 27/500\n",
            "7/7 [==============================] - 0s 3ms/step - loss: 0.8936\n",
            "Epoch 28/500\n",
            "7/7 [==============================] - 0s 5ms/step - loss: 0.8769\n",
            "Epoch 29/500\n",
            "7/7 [==============================] - 0s 3ms/step - loss: 0.8610\n",
            "Epoch 30/500\n",
            "7/7 [==============================] - 0s 3ms/step - loss: 0.8454\n",
            "Epoch 31/500\n",
            "7/7 [==============================] - 0s 4ms/step - loss: 0.8300\n",
            "Epoch 32/500\n",
            "7/7 [==============================] - 0s 3ms/step - loss: 0.8148\n",
            "Epoch 33/500\n",
            "7/7 [==============================] - 0s 3ms/step - loss: 0.8000\n",
            "Epoch 34/500\n",
            "7/7 [==============================] - 0s 3ms/step - loss: 0.7855\n",
            "Epoch 35/500\n",
            "7/7 [==============================] - 0s 4ms/step - loss: 0.7711\n",
            "Epoch 36/500\n",
            "7/7 [==============================] - 0s 3ms/step - loss: 0.7574\n",
            "Epoch 37/500\n",
            "7/7 [==============================] - 0s 3ms/step - loss: 0.7441\n",
            "Epoch 38/500\n",
            "7/7 [==============================] - 0s 3ms/step - loss: 0.7311\n",
            "Epoch 39/500\n",
            "7/7 [==============================] - 0s 3ms/step - loss: 0.7183\n",
            "Epoch 40/500\n",
            "7/7 [==============================] - 0s 2ms/step - loss: 0.7054\n",
            "Epoch 41/500\n",
            "7/7 [==============================] - 0s 2ms/step - loss: 0.6938\n",
            "Epoch 42/500\n",
            "7/7 [==============================] - 0s 2ms/step - loss: 0.6815\n",
            "Epoch 43/500\n",
            "7/7 [==============================] - 0s 2ms/step - loss: 0.6703\n",
            "Epoch 44/500\n",
            "7/7 [==============================] - 0s 2ms/step - loss: 0.6592\n",
            "Epoch 45/500\n",
            "7/7 [==============================] - 0s 3ms/step - loss: 0.6483\n",
            "Epoch 46/500\n",
            "7/7 [==============================] - 0s 2ms/step - loss: 0.6375\n",
            "Epoch 47/500\n",
            "7/7 [==============================] - 0s 2ms/step - loss: 0.6269\n",
            "Epoch 48/500\n",
            "7/7 [==============================] - 0s 3ms/step - loss: 0.6165\n",
            "Epoch 49/500\n",
            "7/7 [==============================] - 0s 3ms/step - loss: 0.6067\n",
            "Epoch 50/500\n",
            "7/7 [==============================] - 0s 3ms/step - loss: 0.5969\n",
            "Epoch 51/500\n",
            "7/7 [==============================] - 0s 2ms/step - loss: 0.5874\n",
            "Epoch 52/500\n",
            "7/7 [==============================] - 0s 3ms/step - loss: 0.5782\n",
            "Epoch 53/500\n",
            "7/7 [==============================] - 0s 3ms/step - loss: 0.5691\n",
            "Epoch 54/500\n",
            "7/7 [==============================] - 0s 2ms/step - loss: 0.5605\n",
            "Epoch 55/500\n",
            "7/7 [==============================] - 0s 3ms/step - loss: 0.5520\n",
            "Epoch 56/500\n",
            "7/7 [==============================] - 0s 3ms/step - loss: 0.5435\n",
            "Epoch 57/500\n",
            "7/7 [==============================] - 0s 4ms/step - loss: 0.5354\n",
            "Epoch 58/500\n",
            "7/7 [==============================] - 0s 3ms/step - loss: 0.5276\n",
            "Epoch 59/500\n",
            "7/7 [==============================] - 0s 3ms/step - loss: 0.5197\n",
            "Epoch 60/500\n",
            "7/7 [==============================] - 0s 3ms/step - loss: 0.5121\n",
            "Epoch 61/500\n",
            "7/7 [==============================] - 0s 3ms/step - loss: 0.5048\n",
            "Epoch 62/500\n",
            "7/7 [==============================] - 0s 3ms/step - loss: 0.4978\n",
            "Epoch 63/500\n",
            "7/7 [==============================] - 0s 3ms/step - loss: 0.4905\n",
            "Epoch 64/500\n",
            "7/7 [==============================] - 0s 3ms/step - loss: 0.4836\n",
            "Epoch 65/500\n",
            "7/7 [==============================] - 0s 4ms/step - loss: 0.4769\n",
            "Epoch 66/500\n",
            "7/7 [==============================] - 0s 3ms/step - loss: 0.4701\n",
            "Epoch 67/500\n",
            "7/7 [==============================] - 0s 3ms/step - loss: 0.4636\n",
            "Epoch 68/500\n",
            "7/7 [==============================] - 0s 4ms/step - loss: 0.4574\n",
            "Epoch 69/500\n",
            "7/7 [==============================] - 0s 4ms/step - loss: 0.4512\n",
            "Epoch 70/500\n",
            "7/7 [==============================] - 0s 3ms/step - loss: 0.4452\n",
            "Epoch 71/500\n",
            "7/7 [==============================] - 0s 4ms/step - loss: 0.4394\n",
            "Epoch 72/500\n",
            "7/7 [==============================] - 0s 3ms/step - loss: 0.4335\n",
            "Epoch 73/500\n",
            "7/7 [==============================] - 0s 3ms/step - loss: 0.4282\n",
            "Epoch 74/500\n",
            "7/7 [==============================] - 0s 3ms/step - loss: 0.4227\n",
            "Epoch 75/500\n",
            "7/7 [==============================] - 0s 3ms/step - loss: 0.4172\n",
            "Epoch 76/500\n",
            "7/7 [==============================] - 0s 4ms/step - loss: 0.4120\n",
            "Epoch 77/500\n",
            "7/7 [==============================] - 0s 4ms/step - loss: 0.4070\n",
            "Epoch 78/500\n",
            "7/7 [==============================] - 0s 4ms/step - loss: 0.4020\n",
            "Epoch 79/500\n",
            "7/7 [==============================] - 0s 3ms/step - loss: 0.3971\n",
            "Epoch 80/500\n",
            "7/7 [==============================] - 0s 3ms/step - loss: 0.3921\n",
            "Epoch 81/500\n",
            "7/7 [==============================] - 0s 4ms/step - loss: 0.3875\n",
            "Epoch 82/500\n",
            "7/7 [==============================] - 0s 4ms/step - loss: 0.3829\n",
            "Epoch 83/500\n",
            "7/7 [==============================] - 0s 4ms/step - loss: 0.3785\n",
            "Epoch 84/500\n",
            "7/7 [==============================] - 0s 3ms/step - loss: 0.3741\n",
            "Epoch 85/500\n",
            "7/7 [==============================] - 0s 4ms/step - loss: 0.3698\n",
            "Epoch 86/500\n",
            "7/7 [==============================] - 0s 4ms/step - loss: 0.3655\n",
            "Epoch 87/500\n",
            "7/7 [==============================] - 0s 3ms/step - loss: 0.3615\n",
            "Epoch 88/500\n",
            "7/7 [==============================] - 0s 3ms/step - loss: 0.3571\n",
            "Epoch 89/500\n",
            "7/7 [==============================] - 0s 4ms/step - loss: 0.3534\n",
            "Epoch 90/500\n",
            "7/7 [==============================] - 0s 4ms/step - loss: 0.3493\n",
            "Epoch 91/500\n",
            "7/7 [==============================] - 0s 5ms/step - loss: 0.3457\n",
            "Epoch 92/500\n",
            "7/7 [==============================] - 0s 4ms/step - loss: 0.3418\n",
            "Epoch 93/500\n",
            "7/7 [==============================] - 0s 5ms/step - loss: 0.3382\n",
            "Epoch 94/500\n",
            "7/7 [==============================] - 0s 4ms/step - loss: 0.3346\n",
            "Epoch 95/500\n",
            "7/7 [==============================] - 0s 3ms/step - loss: 0.3311\n",
            "Epoch 96/500\n",
            "7/7 [==============================] - 0s 4ms/step - loss: 0.3275\n",
            "Epoch 97/500\n",
            "7/7 [==============================] - 0s 3ms/step - loss: 0.3242\n",
            "Epoch 98/500\n",
            "7/7 [==============================] - 0s 5ms/step - loss: 0.3210\n",
            "Epoch 99/500\n",
            "7/7 [==============================] - 0s 4ms/step - loss: 0.3177\n",
            "Epoch 100/500\n",
            "7/7 [==============================] - 0s 4ms/step - loss: 0.3147\n",
            "Epoch 101/500\n",
            "7/7 [==============================] - 0s 4ms/step - loss: 0.3114\n",
            "Epoch 102/500\n",
            "7/7 [==============================] - 0s 4ms/step - loss: 0.3085\n",
            "Epoch 103/500\n",
            "7/7 [==============================] - 0s 4ms/step - loss: 0.3055\n",
            "Epoch 104/500\n",
            "7/7 [==============================] - 0s 4ms/step - loss: 0.3023\n",
            "Epoch 105/500\n",
            "7/7 [==============================] - 0s 4ms/step - loss: 0.2991\n",
            "Epoch 106/500\n",
            "7/7 [==============================] - 0s 4ms/step - loss: 0.2963\n",
            "Epoch 107/500\n",
            "7/7 [==============================] - 0s 4ms/step - loss: 0.2935\n",
            "Epoch 108/500\n",
            "7/7 [==============================] - 0s 4ms/step - loss: 0.2910\n",
            "Epoch 109/500\n",
            "7/7 [==============================] - 0s 4ms/step - loss: 0.2881\n",
            "Epoch 110/500\n",
            "7/7 [==============================] - 0s 3ms/step - loss: 0.2855\n",
            "Epoch 111/500\n",
            "7/7 [==============================] - 0s 3ms/step - loss: 0.2828\n",
            "Epoch 112/500\n",
            "7/7 [==============================] - 0s 3ms/step - loss: 0.2801\n",
            "Epoch 113/500\n",
            "7/7 [==============================] - 0s 3ms/step - loss: 0.2776\n",
            "Epoch 114/500\n",
            "7/7 [==============================] - 0s 3ms/step - loss: 0.2750\n",
            "Epoch 115/500\n",
            "7/7 [==============================] - 0s 4ms/step - loss: 0.2726\n",
            "Epoch 116/500\n",
            "7/7 [==============================] - 0s 4ms/step - loss: 0.2701\n",
            "Epoch 117/500\n",
            "7/7 [==============================] - 0s 4ms/step - loss: 0.2677\n",
            "Epoch 118/500\n",
            "7/7 [==============================] - 0s 5ms/step - loss: 0.2653\n",
            "Epoch 119/500\n",
            "7/7 [==============================] - 0s 5ms/step - loss: 0.2632\n",
            "Epoch 120/500\n",
            "7/7 [==============================] - 0s 5ms/step - loss: 0.2607\n",
            "Epoch 121/500\n",
            "7/7 [==============================] - 0s 4ms/step - loss: 0.2586\n",
            "Epoch 122/500\n",
            "7/7 [==============================] - 0s 5ms/step - loss: 0.2564\n",
            "Epoch 123/500\n",
            "7/7 [==============================] - 0s 5ms/step - loss: 0.2544\n",
            "Epoch 124/500\n",
            "7/7 [==============================] - 0s 5ms/step - loss: 0.2522\n",
            "Epoch 125/500\n",
            "7/7 [==============================] - 0s 7ms/step - loss: 0.2502\n",
            "Epoch 126/500\n",
            "7/7 [==============================] - 0s 5ms/step - loss: 0.2480\n",
            "Epoch 127/500\n",
            "7/7 [==============================] - 0s 5ms/step - loss: 0.2461\n",
            "Epoch 128/500\n",
            "7/7 [==============================] - 0s 4ms/step - loss: 0.2439\n",
            "Epoch 129/500\n",
            "7/7 [==============================] - 0s 5ms/step - loss: 0.2421\n",
            "Epoch 130/500\n",
            "7/7 [==============================] - 0s 6ms/step - loss: 0.2402\n",
            "Epoch 131/500\n",
            "7/7 [==============================] - 0s 4ms/step - loss: 0.2382\n",
            "Epoch 132/500\n",
            "7/7 [==============================] - 0s 4ms/step - loss: 0.2363\n",
            "Epoch 133/500\n",
            "7/7 [==============================] - 0s 3ms/step - loss: 0.2344\n",
            "Epoch 134/500\n",
            "7/7 [==============================] - 0s 6ms/step - loss: 0.2327\n",
            "Epoch 135/500\n",
            "7/7 [==============================] - 0s 7ms/step - loss: 0.2309\n",
            "Epoch 136/500\n",
            "7/7 [==============================] - 0s 6ms/step - loss: 0.2290\n",
            "Epoch 137/500\n",
            "7/7 [==============================] - 0s 6ms/step - loss: 0.2274\n",
            "Epoch 138/500\n",
            "7/7 [==============================] - 0s 5ms/step - loss: 0.2257\n",
            "Epoch 139/500\n",
            "7/7 [==============================] - 0s 4ms/step - loss: 0.2240\n",
            "Epoch 140/500\n",
            "7/7 [==============================] - 0s 4ms/step - loss: 0.2223\n",
            "Epoch 141/500\n",
            "7/7 [==============================] - 0s 4ms/step - loss: 0.2206\n",
            "Epoch 142/500\n",
            "7/7 [==============================] - 0s 4ms/step - loss: 0.2191\n",
            "Epoch 143/500\n",
            "7/7 [==============================] - 0s 3ms/step - loss: 0.2176\n",
            "Epoch 144/500\n",
            "7/7 [==============================] - 0s 4ms/step - loss: 0.2160\n",
            "Epoch 145/500\n",
            "7/7 [==============================] - 0s 3ms/step - loss: 0.2144\n",
            "Epoch 146/500\n",
            "7/7 [==============================] - 0s 3ms/step - loss: 0.2128\n",
            "Epoch 147/500\n",
            "7/7 [==============================] - 0s 4ms/step - loss: 0.2112\n",
            "Epoch 148/500\n",
            "7/7 [==============================] - 0s 6ms/step - loss: 0.2097\n",
            "Epoch 149/500\n",
            "7/7 [==============================] - 0s 6ms/step - loss: 0.2083\n",
            "Epoch 150/500\n",
            "7/7 [==============================] - 0s 6ms/step - loss: 0.2068\n",
            "Epoch 151/500\n",
            "7/7 [==============================] - 0s 4ms/step - loss: 0.2052\n",
            "Epoch 152/500\n",
            "7/7 [==============================] - 0s 5ms/step - loss: 0.2040\n",
            "Epoch 153/500\n",
            "7/7 [==============================] - 0s 5ms/step - loss: 0.2026\n",
            "Epoch 154/500\n",
            "7/7 [==============================] - 0s 4ms/step - loss: 0.2013\n",
            "Epoch 155/500\n",
            "7/7 [==============================] - 0s 5ms/step - loss: 0.1997\n",
            "Epoch 156/500\n",
            "7/7 [==============================] - 0s 4ms/step - loss: 0.1984\n",
            "Epoch 157/500\n",
            "7/7 [==============================] - 0s 4ms/step - loss: 0.1973\n",
            "Epoch 158/500\n",
            "7/7 [==============================] - 0s 4ms/step - loss: 0.1958\n",
            "Epoch 159/500\n",
            "7/7 [==============================] - 0s 4ms/step - loss: 0.1946\n",
            "Epoch 160/500\n",
            "7/7 [==============================] - 0s 4ms/step - loss: 0.1932\n",
            "Epoch 161/500\n",
            "7/7 [==============================] - 0s 3ms/step - loss: 0.1920\n",
            "Epoch 162/500\n",
            "7/7 [==============================] - 0s 4ms/step - loss: 0.1908\n",
            "Epoch 163/500\n",
            "7/7 [==============================] - 0s 4ms/step - loss: 0.1898\n",
            "Epoch 164/500\n",
            "7/7 [==============================] - 0s 5ms/step - loss: 0.1885\n",
            "Epoch 165/500\n",
            "7/7 [==============================] - 0s 3ms/step - loss: 0.1870\n",
            "Epoch 166/500\n",
            "7/7 [==============================] - 0s 5ms/step - loss: 0.1860\n",
            "Epoch 167/500\n",
            "7/7 [==============================] - 0s 5ms/step - loss: 0.1848\n",
            "Epoch 168/500\n",
            "7/7 [==============================] - 0s 4ms/step - loss: 0.1837\n",
            "Epoch 169/500\n",
            "7/7 [==============================] - 0s 3ms/step - loss: 0.1824\n",
            "Epoch 170/500\n",
            "7/7 [==============================] - 0s 4ms/step - loss: 0.1813\n",
            "Epoch 171/500\n",
            "7/7 [==============================] - 0s 3ms/step - loss: 0.1801\n",
            "Epoch 172/500\n",
            "7/7 [==============================] - 0s 4ms/step - loss: 0.1791\n",
            "Epoch 173/500\n",
            "7/7 [==============================] - 0s 3ms/step - loss: 0.1781\n",
            "Epoch 174/500\n",
            "7/7 [==============================] - 0s 4ms/step - loss: 0.1770\n",
            "Epoch 175/500\n",
            "7/7 [==============================] - 0s 3ms/step - loss: 0.1761\n",
            "Epoch 176/500\n",
            "7/7 [==============================] - 0s 4ms/step - loss: 0.1748\n",
            "Epoch 177/500\n",
            "7/7 [==============================] - 0s 3ms/step - loss: 0.1738\n",
            "Epoch 178/500\n",
            "7/7 [==============================] - 0s 4ms/step - loss: 0.1727\n",
            "Epoch 179/500\n",
            "7/7 [==============================] - 0s 4ms/step - loss: 0.1717\n",
            "Epoch 180/500\n",
            "7/7 [==============================] - 0s 4ms/step - loss: 0.1707\n",
            "Epoch 181/500\n",
            "7/7 [==============================] - 0s 4ms/step - loss: 0.1697\n",
            "Epoch 182/500\n",
            "7/7 [==============================] - 0s 4ms/step - loss: 0.1687\n",
            "Epoch 183/500\n",
            "7/7 [==============================] - 0s 5ms/step - loss: 0.1676\n",
            "Epoch 184/500\n",
            "7/7 [==============================] - 0s 4ms/step - loss: 0.1666\n",
            "Epoch 185/500\n",
            "7/7 [==============================] - 0s 4ms/step - loss: 0.1659\n",
            "Epoch 186/500\n",
            "7/7 [==============================] - 0s 3ms/step - loss: 0.1648\n",
            "Epoch 187/500\n",
            "7/7 [==============================] - 0s 4ms/step - loss: 0.1639\n",
            "Epoch 188/500\n",
            "7/7 [==============================] - 0s 3ms/step - loss: 0.1631\n",
            "Epoch 189/500\n",
            "7/7 [==============================] - 0s 3ms/step - loss: 0.1620\n",
            "Epoch 190/500\n",
            "7/7 [==============================] - 0s 3ms/step - loss: 0.1613\n",
            "Epoch 191/500\n",
            "7/7 [==============================] - 0s 3ms/step - loss: 0.1604\n",
            "Epoch 192/500\n",
            "7/7 [==============================] - 0s 4ms/step - loss: 0.1594\n",
            "Epoch 193/500\n",
            "7/7 [==============================] - 0s 3ms/step - loss: 0.1586\n",
            "Epoch 194/500\n",
            "7/7 [==============================] - 0s 4ms/step - loss: 0.1576\n",
            "Epoch 195/500\n",
            "7/7 [==============================] - 0s 3ms/step - loss: 0.1568\n",
            "Epoch 196/500\n",
            "7/7 [==============================] - 0s 3ms/step - loss: 0.1560\n",
            "Epoch 197/500\n",
            "7/7 [==============================] - 0s 4ms/step - loss: 0.1550\n",
            "Epoch 198/500\n",
            "7/7 [==============================] - 0s 4ms/step - loss: 0.1542\n",
            "Epoch 199/500\n",
            "7/7 [==============================] - 0s 4ms/step - loss: 0.1534\n",
            "Epoch 200/500\n",
            "7/7 [==============================] - 0s 4ms/step - loss: 0.1526\n",
            "Epoch 201/500\n",
            "7/7 [==============================] - 0s 4ms/step - loss: 0.1518\n",
            "Epoch 202/500\n",
            "7/7 [==============================] - 0s 4ms/step - loss: 0.1509\n",
            "Epoch 203/500\n",
            "7/7 [==============================] - 0s 4ms/step - loss: 0.1502\n",
            "Epoch 204/500\n",
            "7/7 [==============================] - 0s 3ms/step - loss: 0.1494\n",
            "Epoch 205/500\n",
            "7/7 [==============================] - 0s 3ms/step - loss: 0.1487\n",
            "Epoch 206/500\n",
            "7/7 [==============================] - 0s 3ms/step - loss: 0.1479\n",
            "Epoch 207/500\n",
            "7/7 [==============================] - 0s 3ms/step - loss: 0.1469\n",
            "Epoch 208/500\n",
            "7/7 [==============================] - 0s 2ms/step - loss: 0.1463\n",
            "Epoch 209/500\n",
            "7/7 [==============================] - 0s 3ms/step - loss: 0.1457\n",
            "Epoch 210/500\n",
            "7/7 [==============================] - 0s 3ms/step - loss: 0.1447\n",
            "Epoch 211/500\n",
            "7/7 [==============================] - 0s 2ms/step - loss: 0.1444\n",
            "Epoch 212/500\n",
            "7/7 [==============================] - 0s 2ms/step - loss: 0.1434\n",
            "Epoch 213/500\n",
            "7/7 [==============================] - 0s 3ms/step - loss: 0.1426\n",
            "Epoch 214/500\n",
            "7/7 [==============================] - 0s 3ms/step - loss: 0.1422\n",
            "Epoch 215/500\n",
            "7/7 [==============================] - 0s 3ms/step - loss: 0.1412\n",
            "Epoch 216/500\n",
            "7/7 [==============================] - 0s 3ms/step - loss: 0.1406\n",
            "Epoch 217/500\n",
            "7/7 [==============================] - 0s 3ms/step - loss: 0.1397\n",
            "Epoch 218/500\n",
            "7/7 [==============================] - 0s 3ms/step - loss: 0.1391\n",
            "Epoch 219/500\n",
            "7/7 [==============================] - 0s 3ms/step - loss: 0.1385\n",
            "Epoch 220/500\n",
            "7/7 [==============================] - 0s 3ms/step - loss: 0.1379\n",
            "Epoch 221/500\n",
            "7/7 [==============================] - 0s 3ms/step - loss: 0.1371\n",
            "Epoch 222/500\n",
            "7/7 [==============================] - 0s 3ms/step - loss: 0.1366\n",
            "Epoch 223/500\n",
            "7/7 [==============================] - 0s 4ms/step - loss: 0.1358\n",
            "Epoch 224/500\n",
            "7/7 [==============================] - 0s 4ms/step - loss: 0.1352\n",
            "Epoch 225/500\n",
            "7/7 [==============================] - 0s 3ms/step - loss: 0.1345\n",
            "Epoch 226/500\n",
            "7/7 [==============================] - 0s 3ms/step - loss: 0.1337\n",
            "Epoch 227/500\n",
            "7/7 [==============================] - 0s 2ms/step - loss: 0.1332\n",
            "Epoch 228/500\n",
            "7/7 [==============================] - 0s 2ms/step - loss: 0.1325\n",
            "Epoch 229/500\n",
            "7/7 [==============================] - 0s 3ms/step - loss: 0.1319\n",
            "Epoch 230/500\n",
            "7/7 [==============================] - 0s 3ms/step - loss: 0.1313\n",
            "Epoch 231/500\n",
            "7/7 [==============================] - 0s 4ms/step - loss: 0.1307\n",
            "Epoch 232/500\n",
            "7/7 [==============================] - 0s 3ms/step - loss: 0.1300\n",
            "Epoch 233/500\n",
            "7/7 [==============================] - 0s 3ms/step - loss: 0.1294\n",
            "Epoch 234/500\n",
            "7/7 [==============================] - 0s 3ms/step - loss: 0.1288\n",
            "Epoch 235/500\n",
            "7/7 [==============================] - 0s 2ms/step - loss: 0.1283\n",
            "Epoch 236/500\n",
            "7/7 [==============================] - 0s 2ms/step - loss: 0.1281\n",
            "Epoch 237/500\n",
            "7/7 [==============================] - 0s 3ms/step - loss: 0.1273\n",
            "Epoch 238/500\n",
            "7/7 [==============================] - 0s 3ms/step - loss: 0.1266\n",
            "Epoch 239/500\n",
            "7/7 [==============================] - 0s 3ms/step - loss: 0.1259\n",
            "Epoch 240/500\n",
            "7/7 [==============================] - 0s 3ms/step - loss: 0.1253\n",
            "Epoch 241/500\n",
            "7/7 [==============================] - 0s 2ms/step - loss: 0.1249\n",
            "Epoch 242/500\n",
            "7/7 [==============================] - 0s 3ms/step - loss: 0.1242\n",
            "Epoch 243/500\n",
            "7/7 [==============================] - 0s 3ms/step - loss: 0.1237\n",
            "Epoch 244/500\n",
            "7/7 [==============================] - 0s 3ms/step - loss: 0.1232\n",
            "Epoch 245/500\n",
            "7/7 [==============================] - 0s 3ms/step - loss: 0.1225\n",
            "Epoch 246/500\n",
            "7/7 [==============================] - 0s 3ms/step - loss: 0.1221\n",
            "Epoch 247/500\n",
            "7/7 [==============================] - 0s 3ms/step - loss: 0.1214\n",
            "Epoch 248/500\n",
            "7/7 [==============================] - 0s 2ms/step - loss: 0.1211\n",
            "Epoch 249/500\n",
            "7/7 [==============================] - 0s 3ms/step - loss: 0.1203\n",
            "Epoch 250/500\n",
            "7/7 [==============================] - 0s 3ms/step - loss: 0.1200\n",
            "Epoch 251/500\n",
            "7/7 [==============================] - 0s 3ms/step - loss: 0.1194\n",
            "Epoch 252/500\n",
            "7/7 [==============================] - 0s 3ms/step - loss: 0.1191\n",
            "Epoch 253/500\n",
            "7/7 [==============================] - 0s 4ms/step - loss: 0.1183\n",
            "Epoch 254/500\n",
            "7/7 [==============================] - 0s 3ms/step - loss: 0.1178\n",
            "Epoch 255/500\n",
            "7/7 [==============================] - 0s 3ms/step - loss: 0.1175\n",
            "Epoch 256/500\n",
            "7/7 [==============================] - 0s 5ms/step - loss: 0.1169\n",
            "Epoch 257/500\n",
            "7/7 [==============================] - 0s 3ms/step - loss: 0.1166\n",
            "Epoch 258/500\n",
            "7/7 [==============================] - 0s 3ms/step - loss: 0.1160\n",
            "Epoch 259/500\n",
            "7/7 [==============================] - 0s 3ms/step - loss: 0.1153\n",
            "Epoch 260/500\n",
            "7/7 [==============================] - 0s 3ms/step - loss: 0.1149\n",
            "Epoch 261/500\n",
            "7/7 [==============================] - 0s 3ms/step - loss: 0.1145\n",
            "Epoch 262/500\n",
            "7/7 [==============================] - 0s 3ms/step - loss: 0.1139\n",
            "Epoch 263/500\n",
            "7/7 [==============================] - 0s 3ms/step - loss: 0.1135\n",
            "Epoch 264/500\n",
            "7/7 [==============================] - 0s 3ms/step - loss: 0.1130\n",
            "Epoch 265/500\n",
            "7/7 [==============================] - 0s 3ms/step - loss: 0.1125\n",
            "Epoch 266/500\n",
            "7/7 [==============================] - 0s 3ms/step - loss: 0.1122\n",
            "Epoch 267/500\n",
            "7/7 [==============================] - 0s 3ms/step - loss: 0.1115\n",
            "Epoch 268/500\n",
            "7/7 [==============================] - 0s 3ms/step - loss: 0.1111\n",
            "Epoch 269/500\n",
            "7/7 [==============================] - 0s 3ms/step - loss: 0.1107\n",
            "Epoch 270/500\n",
            "7/7 [==============================] - 0s 4ms/step - loss: 0.1101\n",
            "Epoch 271/500\n",
            "7/7 [==============================] - 0s 3ms/step - loss: 0.1098\n",
            "Epoch 272/500\n",
            "7/7 [==============================] - 0s 4ms/step - loss: 0.1094\n",
            "Epoch 273/500\n",
            "7/7 [==============================] - 0s 3ms/step - loss: 0.1088\n",
            "Epoch 274/500\n",
            "7/7 [==============================] - 0s 3ms/step - loss: 0.1084\n",
            "Epoch 275/500\n",
            "7/7 [==============================] - 0s 3ms/step - loss: 0.1080\n",
            "Epoch 276/500\n",
            "7/7 [==============================] - 0s 3ms/step - loss: 0.1077\n",
            "Epoch 277/500\n",
            "7/7 [==============================] - 0s 3ms/step - loss: 0.1074\n",
            "Epoch 278/500\n",
            "7/7 [==============================] - 0s 4ms/step - loss: 0.1068\n",
            "Epoch 279/500\n",
            "7/7 [==============================] - 0s 3ms/step - loss: 0.1064\n",
            "Epoch 280/500\n",
            "7/7 [==============================] - 0s 3ms/step - loss: 0.1059\n",
            "Epoch 281/500\n",
            "7/7 [==============================] - 0s 3ms/step - loss: 0.1055\n",
            "Epoch 282/500\n",
            "7/7 [==============================] - 0s 3ms/step - loss: 0.1053\n",
            "Epoch 283/500\n",
            "7/7 [==============================] - 0s 3ms/step - loss: 0.1047\n",
            "Epoch 284/500\n",
            "7/7 [==============================] - 0s 3ms/step - loss: 0.1043\n",
            "Epoch 285/500\n",
            "7/7 [==============================] - 0s 3ms/step - loss: 0.1039\n",
            "Epoch 286/500\n",
            "7/7 [==============================] - 0s 3ms/step - loss: 0.1035\n",
            "Epoch 287/500\n",
            "7/7 [==============================] - 0s 3ms/step - loss: 0.1030\n",
            "Epoch 288/500\n",
            "7/7 [==============================] - 0s 3ms/step - loss: 0.1028\n",
            "Epoch 289/500\n",
            "7/7 [==============================] - 0s 3ms/step - loss: 0.1022\n",
            "Epoch 290/500\n",
            "7/7 [==============================] - 0s 3ms/step - loss: 0.1019\n",
            "Epoch 291/500\n",
            "7/7 [==============================] - 0s 4ms/step - loss: 0.1015\n",
            "Epoch 292/500\n",
            "7/7 [==============================] - 0s 4ms/step - loss: 0.1009\n",
            "Epoch 293/500\n",
            "7/7 [==============================] - 0s 4ms/step - loss: 0.1006\n",
            "Epoch 294/500\n",
            "7/7 [==============================] - 0s 4ms/step - loss: 0.1003\n",
            "Epoch 295/500\n",
            "7/7 [==============================] - 0s 4ms/step - loss: 0.0997\n",
            "Epoch 296/500\n",
            "7/7 [==============================] - 0s 4ms/step - loss: 0.0994\n",
            "Epoch 297/500\n",
            "7/7 [==============================] - 0s 3ms/step - loss: 0.0992\n",
            "Epoch 298/500\n",
            "7/7 [==============================] - 0s 4ms/step - loss: 0.0993\n",
            "Epoch 299/500\n",
            "7/7 [==============================] - 0s 3ms/step - loss: 0.0986\n",
            "Epoch 300/500\n",
            "7/7 [==============================] - 0s 3ms/step - loss: 0.0982\n",
            "Epoch 301/500\n",
            "7/7 [==============================] - 0s 3ms/step - loss: 0.0977\n",
            "Epoch 302/500\n",
            "7/7 [==============================] - 0s 3ms/step - loss: 0.0974\n",
            "Epoch 303/500\n",
            "7/7 [==============================] - 0s 3ms/step - loss: 0.0969\n",
            "Epoch 304/500\n",
            "7/7 [==============================] - 0s 3ms/step - loss: 0.0966\n",
            "Epoch 305/500\n",
            "7/7 [==============================] - 0s 3ms/step - loss: 0.0963\n",
            "Epoch 306/500\n",
            "7/7 [==============================] - 0s 3ms/step - loss: 0.0958\n",
            "Epoch 307/500\n",
            "7/7 [==============================] - 0s 4ms/step - loss: 0.0956\n",
            "Epoch 308/500\n",
            "7/7 [==============================] - 0s 3ms/step - loss: 0.0953\n",
            "Epoch 309/500\n",
            "7/7 [==============================] - 0s 3ms/step - loss: 0.0948\n",
            "Epoch 310/500\n",
            "7/7 [==============================] - 0s 4ms/step - loss: 0.0945\n",
            "Epoch 311/500\n",
            "7/7 [==============================] - 0s 4ms/step - loss: 0.0942\n",
            "Epoch 312/500\n",
            "7/7 [==============================] - 0s 3ms/step - loss: 0.0937\n",
            "Epoch 313/500\n",
            "7/7 [==============================] - 0s 3ms/step - loss: 0.0935\n",
            "Epoch 314/500\n",
            "7/7 [==============================] - 0s 3ms/step - loss: 0.0931\n",
            "Epoch 315/500\n",
            "7/7 [==============================] - 0s 3ms/step - loss: 0.0928\n",
            "Epoch 316/500\n",
            "7/7 [==============================] - 0s 3ms/step - loss: 0.0924\n",
            "Epoch 317/500\n",
            "7/7 [==============================] - 0s 3ms/step - loss: 0.0922\n",
            "Epoch 318/500\n",
            "7/7 [==============================] - 0s 4ms/step - loss: 0.0921\n",
            "Epoch 319/500\n",
            "7/7 [==============================] - 0s 4ms/step - loss: 0.0916\n",
            "Epoch 320/500\n",
            "7/7 [==============================] - 0s 3ms/step - loss: 0.0911\n",
            "Epoch 321/500\n",
            "7/7 [==============================] - 0s 2ms/step - loss: 0.0909\n",
            "Epoch 322/500\n",
            "7/7 [==============================] - 0s 3ms/step - loss: 0.0907\n",
            "Epoch 323/500\n",
            "7/7 [==============================] - 0s 3ms/step - loss: 0.0903\n",
            "Epoch 324/500\n",
            "7/7 [==============================] - 0s 3ms/step - loss: 0.0900\n",
            "Epoch 325/500\n",
            "7/7 [==============================] - 0s 3ms/step - loss: 0.0896\n",
            "Epoch 326/500\n",
            "7/7 [==============================] - 0s 3ms/step - loss: 0.0892\n",
            "Epoch 327/500\n",
            "7/7 [==============================] - 0s 3ms/step - loss: 0.0890\n",
            "Epoch 328/500\n",
            "7/7 [==============================] - 0s 5ms/step - loss: 0.0888\n",
            "Epoch 329/500\n",
            "7/7 [==============================] - 0s 3ms/step - loss: 0.0883\n",
            "Epoch 330/500\n",
            "7/7 [==============================] - 0s 3ms/step - loss: 0.0881\n",
            "Epoch 331/500\n",
            "7/7 [==============================] - 0s 3ms/step - loss: 0.0877\n",
            "Epoch 332/500\n",
            "7/7 [==============================] - 0s 4ms/step - loss: 0.0876\n",
            "Epoch 333/500\n",
            "7/7 [==============================] - 0s 3ms/step - loss: 0.0871\n",
            "Epoch 334/500\n",
            "7/7 [==============================] - 0s 3ms/step - loss: 0.0868\n",
            "Epoch 335/500\n",
            "7/7 [==============================] - 0s 3ms/step - loss: 0.0867\n",
            "Epoch 336/500\n",
            "7/7 [==============================] - 0s 4ms/step - loss: 0.0863\n",
            "Epoch 337/500\n",
            "7/7 [==============================] - 0s 4ms/step - loss: 0.0860\n",
            "Epoch 338/500\n",
            "7/7 [==============================] - 0s 4ms/step - loss: 0.0859\n",
            "Epoch 339/500\n",
            "7/7 [==============================] - 0s 3ms/step - loss: 0.0855\n",
            "Epoch 340/500\n",
            "7/7 [==============================] - 0s 3ms/step - loss: 0.0855\n",
            "Epoch 341/500\n",
            "7/7 [==============================] - 0s 3ms/step - loss: 0.0850\n",
            "Epoch 342/500\n",
            "7/7 [==============================] - 0s 3ms/step - loss: 0.0847\n",
            "Epoch 343/500\n",
            "7/7 [==============================] - 0s 3ms/step - loss: 0.0843\n",
            "Epoch 344/500\n",
            "7/7 [==============================] - 0s 3ms/step - loss: 0.0840\n",
            "Epoch 345/500\n",
            "7/7 [==============================] - 0s 3ms/step - loss: 0.0839\n",
            "Epoch 346/500\n",
            "7/7 [==============================] - 0s 3ms/step - loss: 0.0835\n",
            "Epoch 347/500\n",
            "7/7 [==============================] - 0s 3ms/step - loss: 0.0833\n",
            "Epoch 348/500\n",
            "7/7 [==============================] - 0s 3ms/step - loss: 0.0829\n",
            "Epoch 349/500\n",
            "7/7 [==============================] - 0s 3ms/step - loss: 0.0826\n",
            "Epoch 350/500\n",
            "7/7 [==============================] - 0s 4ms/step - loss: 0.0824\n",
            "Epoch 351/500\n",
            "7/7 [==============================] - 0s 4ms/step - loss: 0.0821\n",
            "Epoch 352/500\n",
            "7/7 [==============================] - 0s 3ms/step - loss: 0.0818\n",
            "Epoch 353/500\n",
            "7/7 [==============================] - 0s 3ms/step - loss: 0.0816\n",
            "Epoch 354/500\n",
            "7/7 [==============================] - 0s 3ms/step - loss: 0.0814\n",
            "Epoch 355/500\n",
            "7/7 [==============================] - 0s 3ms/step - loss: 0.0810\n",
            "Epoch 356/500\n",
            "7/7 [==============================] - 0s 3ms/step - loss: 0.0808\n",
            "Epoch 357/500\n",
            "7/7 [==============================] - 0s 3ms/step - loss: 0.0806\n",
            "Epoch 358/500\n",
            "7/7 [==============================] - 0s 3ms/step - loss: 0.0805\n",
            "Epoch 359/500\n",
            "7/7 [==============================] - 0s 3ms/step - loss: 0.0801\n",
            "Epoch 360/500\n",
            "7/7 [==============================] - 0s 3ms/step - loss: 0.0799\n",
            "Epoch 361/500\n",
            "7/7 [==============================] - 0s 3ms/step - loss: 0.0795\n",
            "Epoch 362/500\n",
            "7/7 [==============================] - 0s 3ms/step - loss: 0.0793\n",
            "Epoch 363/500\n",
            "7/7 [==============================] - 0s 3ms/step - loss: 0.0791\n",
            "Epoch 364/500\n",
            "7/7 [==============================] - 0s 4ms/step - loss: 0.0789\n",
            "Epoch 365/500\n",
            "7/7 [==============================] - 0s 3ms/step - loss: 0.0786\n",
            "Epoch 366/500\n",
            "7/7 [==============================] - 0s 3ms/step - loss: 0.0783\n",
            "Epoch 367/500\n",
            "7/7 [==============================] - 0s 4ms/step - loss: 0.0781\n",
            "Epoch 368/500\n",
            "7/7 [==============================] - 0s 4ms/step - loss: 0.0778\n",
            "Epoch 369/500\n",
            "7/7 [==============================] - 0s 3ms/step - loss: 0.0776\n",
            "Epoch 370/500\n",
            "7/7 [==============================] - 0s 4ms/step - loss: 0.0774\n",
            "Epoch 371/500\n",
            "7/7 [==============================] - 0s 4ms/step - loss: 0.0772\n",
            "Epoch 372/500\n",
            "7/7 [==============================] - 0s 5ms/step - loss: 0.0769\n",
            "Epoch 373/500\n",
            "7/7 [==============================] - 0s 3ms/step - loss: 0.0766\n",
            "Epoch 374/500\n",
            "7/7 [==============================] - 0s 4ms/step - loss: 0.0765\n",
            "Epoch 375/500\n",
            "7/7 [==============================] - 0s 3ms/step - loss: 0.0763\n",
            "Epoch 376/500\n",
            "7/7 [==============================] - 0s 3ms/step - loss: 0.0763\n",
            "Epoch 377/500\n",
            "7/7 [==============================] - 0s 3ms/step - loss: 0.0759\n",
            "Epoch 378/500\n",
            "7/7 [==============================] - 0s 3ms/step - loss: 0.0755\n",
            "Epoch 379/500\n",
            "7/7 [==============================] - 0s 3ms/step - loss: 0.0752\n",
            "Epoch 380/500\n",
            "7/7 [==============================] - 0s 3ms/step - loss: 0.0752\n",
            "Epoch 381/500\n",
            "7/7 [==============================] - 0s 3ms/step - loss: 0.0749\n",
            "Epoch 382/500\n",
            "7/7 [==============================] - 0s 3ms/step - loss: 0.0746\n",
            "Epoch 383/500\n",
            "7/7 [==============================] - 0s 3ms/step - loss: 0.0743\n",
            "Epoch 384/500\n",
            "7/7 [==============================] - 0s 3ms/step - loss: 0.0742\n",
            "Epoch 385/500\n",
            "7/7 [==============================] - 0s 3ms/step - loss: 0.0740\n",
            "Epoch 386/500\n",
            "7/7 [==============================] - 0s 3ms/step - loss: 0.0738\n",
            "Epoch 387/500\n",
            "7/7 [==============================] - 0s 3ms/step - loss: 0.0736\n",
            "Epoch 388/500\n",
            "7/7 [==============================] - 0s 3ms/step - loss: 0.0734\n",
            "Epoch 389/500\n",
            "7/7 [==============================] - 0s 4ms/step - loss: 0.0731\n",
            "Epoch 390/500\n",
            "7/7 [==============================] - 0s 3ms/step - loss: 0.0729\n",
            "Epoch 391/500\n",
            "7/7 [==============================] - 0s 3ms/step - loss: 0.0726\n",
            "Epoch 392/500\n",
            "7/7 [==============================] - 0s 3ms/step - loss: 0.0724\n",
            "Epoch 393/500\n",
            "7/7 [==============================] - 0s 3ms/step - loss: 0.0723\n",
            "Epoch 394/500\n",
            "7/7 [==============================] - 0s 3ms/step - loss: 0.0720\n",
            "Epoch 395/500\n",
            "7/7 [==============================] - 0s 3ms/step - loss: 0.0718\n",
            "Epoch 396/500\n",
            "7/7 [==============================] - 0s 3ms/step - loss: 0.0717\n",
            "Epoch 397/500\n",
            "7/7 [==============================] - 0s 2ms/step - loss: 0.0715\n",
            "Epoch 398/500\n",
            "7/7 [==============================] - 0s 3ms/step - loss: 0.0713\n",
            "Epoch 399/500\n",
            "7/7 [==============================] - 0s 3ms/step - loss: 0.0710\n",
            "Epoch 400/500\n",
            "7/7 [==============================] - 0s 3ms/step - loss: 0.0707\n",
            "Epoch 401/500\n",
            "7/7 [==============================] - 0s 3ms/step - loss: 0.0706\n",
            "Epoch 402/500\n",
            "7/7 [==============================] - 0s 4ms/step - loss: 0.0704\n",
            "Epoch 403/500\n",
            "7/7 [==============================] - 0s 3ms/step - loss: 0.0701\n",
            "Epoch 404/500\n",
            "7/7 [==============================] - 0s 3ms/step - loss: 0.0700\n",
            "Epoch 405/500\n",
            "7/7 [==============================] - 0s 4ms/step - loss: 0.0698\n",
            "Epoch 406/500\n",
            "7/7 [==============================] - 0s 3ms/step - loss: 0.0697\n",
            "Epoch 407/500\n",
            "7/7 [==============================] - 0s 3ms/step - loss: 0.0696\n",
            "Epoch 408/500\n",
            "7/7 [==============================] - 0s 3ms/step - loss: 0.0693\n",
            "Epoch 409/500\n",
            "7/7 [==============================] - 0s 3ms/step - loss: 0.0693\n",
            "Epoch 410/500\n",
            "7/7 [==============================] - 0s 4ms/step - loss: 0.0690\n",
            "Epoch 411/500\n",
            "7/7 [==============================] - 0s 3ms/step - loss: 0.0688\n",
            "Epoch 412/500\n",
            "7/7 [==============================] - 0s 3ms/step - loss: 0.0686\n",
            "Epoch 413/500\n",
            "7/7 [==============================] - 0s 4ms/step - loss: 0.0682\n",
            "Epoch 414/500\n",
            "7/7 [==============================] - 0s 4ms/step - loss: 0.0681\n",
            "Epoch 415/500\n",
            "7/7 [==============================] - 0s 3ms/step - loss: 0.0680\n",
            "Epoch 416/500\n",
            "7/7 [==============================] - 0s 3ms/step - loss: 0.0679\n",
            "Epoch 417/500\n",
            "7/7 [==============================] - 0s 4ms/step - loss: 0.0677\n",
            "Epoch 418/500\n",
            "7/7 [==============================] - 0s 3ms/step - loss: 0.0678\n",
            "Epoch 419/500\n",
            "7/7 [==============================] - 0s 4ms/step - loss: 0.0675\n",
            "Epoch 420/500\n",
            "7/7 [==============================] - 0s 3ms/step - loss: 0.0671\n",
            "Epoch 421/500\n",
            "7/7 [==============================] - 0s 3ms/step - loss: 0.0669\n",
            "Epoch 422/500\n",
            "7/7 [==============================] - 0s 3ms/step - loss: 0.0666\n",
            "Epoch 423/500\n",
            "7/7 [==============================] - 0s 3ms/step - loss: 0.0665\n",
            "Epoch 424/500\n",
            "7/7 [==============================] - 0s 3ms/step - loss: 0.0663\n",
            "Epoch 425/500\n",
            "7/7 [==============================] - 0s 3ms/step - loss: 0.0661\n",
            "Epoch 426/500\n",
            "7/7 [==============================] - 0s 3ms/step - loss: 0.0659\n",
            "Epoch 427/500\n",
            "7/7 [==============================] - 0s 3ms/step - loss: 0.0658\n",
            "Epoch 428/500\n",
            "7/7 [==============================] - 0s 4ms/step - loss: 0.0657\n",
            "Epoch 429/500\n",
            "7/7 [==============================] - 0s 3ms/step - loss: 0.0654\n",
            "Epoch 430/500\n",
            "7/7 [==============================] - 0s 3ms/step - loss: 0.0654\n",
            "Epoch 431/500\n",
            "7/7 [==============================] - 0s 3ms/step - loss: 0.0651\n",
            "Epoch 432/500\n",
            "7/7 [==============================] - 0s 3ms/step - loss: 0.0650\n",
            "Epoch 433/500\n",
            "7/7 [==============================] - 0s 3ms/step - loss: 0.0648\n",
            "Epoch 434/500\n",
            "7/7 [==============================] - 0s 2ms/step - loss: 0.0647\n",
            "Epoch 435/500\n",
            "7/7 [==============================] - 0s 3ms/step - loss: 0.0645\n",
            "Epoch 436/500\n",
            "7/7 [==============================] - 0s 3ms/step - loss: 0.0643\n",
            "Epoch 437/500\n",
            "7/7 [==============================] - 0s 3ms/step - loss: 0.0641\n",
            "Epoch 438/500\n",
            "7/7 [==============================] - 0s 4ms/step - loss: 0.0638\n",
            "Epoch 439/500\n",
            "7/7 [==============================] - 0s 4ms/step - loss: 0.0637\n",
            "Epoch 440/500\n",
            "7/7 [==============================] - 0s 3ms/step - loss: 0.0635\n",
            "Epoch 441/500\n",
            "7/7 [==============================] - 0s 3ms/step - loss: 0.0634\n",
            "Epoch 442/500\n",
            "7/7 [==============================] - 0s 4ms/step - loss: 0.0632\n",
            "Epoch 443/500\n",
            "7/7 [==============================] - 0s 3ms/step - loss: 0.0630\n",
            "Epoch 444/500\n",
            "7/7 [==============================] - 0s 3ms/step - loss: 0.0629\n",
            "Epoch 445/500\n",
            "7/7 [==============================] - 0s 4ms/step - loss: 0.0628\n",
            "Epoch 446/500\n",
            "7/7 [==============================] - 0s 3ms/step - loss: 0.0626\n",
            "Epoch 447/500\n",
            "7/7 [==============================] - 0s 4ms/step - loss: 0.0624\n",
            "Epoch 448/500\n",
            "7/7 [==============================] - 0s 3ms/step - loss: 0.0622\n",
            "Epoch 449/500\n",
            "7/7 [==============================] - 0s 3ms/step - loss: 0.0622\n",
            "Epoch 450/500\n",
            "7/7 [==============================] - 0s 3ms/step - loss: 0.0619\n",
            "Epoch 451/500\n",
            "7/7 [==============================] - 0s 3ms/step - loss: 0.0618\n",
            "Epoch 452/500\n",
            "7/7 [==============================] - 0s 3ms/step - loss: 0.0616\n",
            "Epoch 453/500\n",
            "7/7 [==============================] - 0s 3ms/step - loss: 0.0616\n",
            "Epoch 454/500\n",
            "7/7 [==============================] - 0s 4ms/step - loss: 0.0614\n",
            "Epoch 455/500\n",
            "7/7 [==============================] - 0s 3ms/step - loss: 0.0613\n",
            "Epoch 456/500\n",
            "7/7 [==============================] - 0s 3ms/step - loss: 0.0613\n",
            "Epoch 457/500\n",
            "7/7 [==============================] - 0s 3ms/step - loss: 0.0609\n",
            "Epoch 458/500\n",
            "7/7 [==============================] - 0s 3ms/step - loss: 0.0607\n",
            "Epoch 459/500\n",
            "7/7 [==============================] - 0s 2ms/step - loss: 0.0605\n",
            "Epoch 460/500\n",
            "7/7 [==============================] - 0s 3ms/step - loss: 0.0604\n",
            "Epoch 461/500\n",
            "7/7 [==============================] - 0s 3ms/step - loss: 0.0603\n",
            "Epoch 462/500\n",
            "7/7 [==============================] - 0s 3ms/step - loss: 0.0602\n",
            "Epoch 463/500\n",
            "7/7 [==============================] - 0s 3ms/step - loss: 0.0600\n",
            "Epoch 464/500\n",
            "7/7 [==============================] - 0s 2ms/step - loss: 0.0599\n",
            "Epoch 465/500\n",
            "7/7 [==============================] - 0s 4ms/step - loss: 0.0599\n",
            "Epoch 466/500\n",
            "7/7 [==============================] - 0s 4ms/step - loss: 0.0596\n",
            "Epoch 467/500\n",
            "7/7 [==============================] - 0s 3ms/step - loss: 0.0596\n",
            "Epoch 468/500\n",
            "7/7 [==============================] - 0s 3ms/step - loss: 0.0593\n",
            "Epoch 469/500\n",
            "7/7 [==============================] - 0s 3ms/step - loss: 0.0592\n",
            "Epoch 470/500\n",
            "7/7 [==============================] - 0s 3ms/step - loss: 0.0591\n",
            "Epoch 471/500\n",
            "7/7 [==============================] - 0s 4ms/step - loss: 0.0589\n",
            "Epoch 472/500\n",
            "7/7 [==============================] - 0s 3ms/step - loss: 0.0588\n",
            "Epoch 473/500\n",
            "7/7 [==============================] - 0s 3ms/step - loss: 0.0585\n",
            "Epoch 474/500\n",
            "7/7 [==============================] - 0s 4ms/step - loss: 0.0584\n",
            "Epoch 475/500\n",
            "7/7 [==============================] - 0s 4ms/step - loss: 0.0583\n",
            "Epoch 476/500\n",
            "7/7 [==============================] - 0s 4ms/step - loss: 0.0582\n",
            "Epoch 477/500\n",
            "7/7 [==============================] - 0s 4ms/step - loss: 0.0581\n",
            "Epoch 478/500\n",
            "7/7 [==============================] - 0s 4ms/step - loss: 0.0578\n",
            "Epoch 479/500\n",
            "7/7 [==============================] - 0s 4ms/step - loss: 0.0577\n",
            "Epoch 480/500\n",
            "7/7 [==============================] - 0s 4ms/step - loss: 0.0574\n",
            "Epoch 481/500\n",
            "7/7 [==============================] - 0s 4ms/step - loss: 0.0574\n",
            "Epoch 482/500\n",
            "7/7 [==============================] - 0s 4ms/step - loss: 0.0573\n",
            "Epoch 483/500\n",
            "7/7 [==============================] - 0s 4ms/step - loss: 0.0572\n",
            "Epoch 484/500\n",
            "7/7 [==============================] - 0s 3ms/step - loss: 0.0572\n",
            "Epoch 485/500\n",
            "7/7 [==============================] - 0s 3ms/step - loss: 0.0570\n",
            "Epoch 486/500\n",
            "7/7 [==============================] - 0s 3ms/step - loss: 0.0569\n",
            "Epoch 487/500\n",
            "7/7 [==============================] - 0s 3ms/step - loss: 0.0566\n",
            "Epoch 488/500\n",
            "7/7 [==============================] - 0s 3ms/step - loss: 0.0565\n",
            "Epoch 489/500\n",
            "7/7 [==============================] - 0s 4ms/step - loss: 0.0563\n",
            "Epoch 490/500\n",
            "7/7 [==============================] - 0s 4ms/step - loss: 0.0563\n",
            "Epoch 491/500\n",
            "7/7 [==============================] - 0s 3ms/step - loss: 0.0561\n",
            "Epoch 492/500\n",
            "7/7 [==============================] - 0s 3ms/step - loss: 0.0560\n",
            "Epoch 493/500\n",
            "7/7 [==============================] - 0s 4ms/step - loss: 0.0558\n",
            "Epoch 494/500\n",
            "7/7 [==============================] - 0s 4ms/step - loss: 0.0556\n",
            "Epoch 495/500\n",
            "7/7 [==============================] - 0s 4ms/step - loss: 0.0556\n",
            "Epoch 496/500\n",
            "7/7 [==============================] - 0s 4ms/step - loss: 0.0554\n",
            "Epoch 497/500\n",
            "7/7 [==============================] - 0s 4ms/step - loss: 0.0553\n",
            "Epoch 498/500\n",
            "7/7 [==============================] - 0s 3ms/step - loss: 0.0551\n",
            "Epoch 499/500\n",
            "7/7 [==============================] - 0s 3ms/step - loss: 0.0552\n",
            "Epoch 500/500\n",
            "7/7 [==============================] - 0s 4ms/step - loss: 0.0549\n"
          ]
        }
      ],
      "source": [
        "# Để huấn luyện mô hình ta gọi phương thức `train` với dữ liệu mẫu đã tạo được\n",
        "# Nếu bước `build` mô hình gọi đúng thì bước `train` sau sẽ thực hiện thành công\n",
        "# LƯU Ý: Ở đây ta sử dụng output là Y_oh dạng one-hot thay vì dạng nhãn (label)\n",
        "hist = nn.train(X_train, Y_oh)"
      ]
    },
    {
      "cell_type": "code",
      "execution_count": 138,
      "id": "AmXUsyJqccP-",
      "metadata": {
        "execution": {
          "iopub.execute_input": "2024-04-06T10:12:43.662274Z",
          "iopub.status.busy": "2024-04-06T10:12:43.660593Z",
          "iopub.status.idle": "2024-04-06T10:12:44.125183Z",
          "shell.execute_reply": "2024-04-06T10:12:44.122682Z"
        },
        "id": "AmXUsyJqccP-",
        "colab": {
          "base_uri": "https://localhost:8080/",
          "height": 472
        },
        "outputId": "ad0fcec7-c557-416d-9079-4f6c6206f49c"
      },
      "outputs": [
        {
          "output_type": "display_data",
          "data": {
            "text/plain": [
              "<Figure size 640x480 with 1 Axes>"
            ],
            "image/png": "[encoded data removed]"
          },
          "metadata": {}
        }
      ],
      "source": [
        "# Hiển thị loss theo số epoch\n",
        "plt.plot(hist.history['loss'])\n",
        "plt.title('Model Loss')\n",
        "plt.ylabel('loss')\n",
        "plt.xlabel('epoch')\n",
        "plt.show()"
      ]
    },
    {
      "cell_type": "code",
      "execution_count": 139,
      "id": "ClY-3xfOcfKA",
      "metadata": {
        "execution": {
          "iopub.execute_input": "2024-04-06T10:12:44.134629Z",
          "iopub.status.busy": "2024-04-06T10:12:44.133758Z",
          "iopub.status.idle": "2024-04-06T10:12:44.173234Z",
          "shell.execute_reply": "2024-04-06T10:12:44.170980Z"
        },
        "id": "ClY-3xfOcfKA",
        "colab": {
          "base_uri": "https://localhost:8080/"
        },
        "outputId": "a3ec12cd-9edb-4b28-e813-92438bdd29cf"
      },
      "outputs": [
        {
          "output_type": "stream",
          "name": "stderr",
          "text": [
            "/usr/local/lib/python3.11/dist-packages/keras/src/engine/training.py:3103: UserWarning: You are saving your model as an HDF5 file via `model.save()`. This file format is considered legacy. We recommend using instead the native Keras format, e.g. `model.save('my_model.keras')`.\n",
            "  saving_api.save_model(\n"
          ]
        }
      ],
      "source": [
        "# Sau khi đã huấn luyện, ta lưu mô hình về để sau này tái sử dụng\n",
        "# Lưu ý: hai phương thức lưu mô hình `save` và tải mô hình lên 'load'\n",
        "# được sử dụng khi muốn tái sử dụng nhiều lần mà KHÔNG CẦN PHẢI HUẤN LUYỆN LẠI\n",
        "nn.save('neural_network_model.h5')"
      ]
    },
    {
      "cell_type": "markdown",
      "id": "HSBBOp7lciIP",
      "metadata": {
        "id": "HSBBOp7lciIP"
      },
      "source": [
        "## 5. Trực quan hóa mô hình và dự đoán với dữ liệu test"
      ]
    },
    {
      "cell_type": "code",
      "execution_count": 140,
      "id": "sH1bT06_cgtd",
      "metadata": {
        "execution": {
          "iopub.execute_input": "2024-04-06T10:12:44.182741Z",
          "iopub.status.busy": "2024-04-06T10:12:44.180673Z",
          "iopub.status.idle": "2024-04-06T10:12:44.294924Z",
          "shell.execute_reply": "2024-04-06T10:12:44.292604Z"
        },
        "id": "sH1bT06_cgtd"
      },
      "outputs": [],
      "source": [
        "# Khởi tạo đối tượng mới và gọi phương thức load mô hình từ file\n",
        "pretrain_nn = NeuralNetwork()\n",
        "pretrain_nn.load('neural_network_model.h5')"
      ]
    },
    {
      "cell_type": "code",
      "execution_count": 141,
      "id": "La880IJ2ckQN",
      "metadata": {
        "execution": {
          "iopub.execute_input": "2024-04-06T10:12:44.304133Z",
          "iopub.status.busy": "2024-04-06T10:12:44.302150Z",
          "iopub.status.idle": "2024-04-06T10:12:44.315665Z",
          "shell.execute_reply": "2024-04-06T10:12:44.313669Z"
        },
        "id": "La880IJ2ckQN",
        "colab": {
          "base_uri": "https://localhost:8080/"
        },
        "outputId": "6a11be42-57a3-4182-9ccd-167a2afe17d0"
      },
      "outputs": [
        {
          "output_type": "stream",
          "name": "stdout",
          "text": [
            "Tham số tối ưu: \n",
            "[array([[-2.5220377,  3.687233 , -3.6682491,  1.6843855],\n",
            "       [-0.7832931, -1.9227532, -0.8785445,  4.5829854],\n",
            "       [-3.97488  ,  1.3983907,  3.5040889, -1.9779398]], dtype=float32), array([ 3.1104546 , -1.9292603 , -0.45642066, -0.7247763 ], dtype=float32)]\n"
          ]
        }
      ],
      "source": [
        "# In ra bộ tham số tối ưu lớp cuối cùng\n",
        "theta = pretrain_nn.get_weights(-1)\n",
        "print('Tham số tối ưu: ')\n",
        "print(theta)"
      ]
    },
    {
      "cell_type": "code",
      "execution_count": 142,
      "id": "pC0t6oWyclN_",
      "metadata": {
        "execution": {
          "iopub.execute_input": "2024-04-06T10:12:44.324722Z",
          "iopub.status.busy": "2024-04-06T10:12:44.322742Z",
          "iopub.status.idle": "2024-04-06T10:12:46.795101Z",
          "shell.execute_reply": "2024-04-06T10:12:46.792927Z"
        },
        "id": "pC0t6oWyclN_",
        "colab": {
          "base_uri": "https://localhost:8080/",
          "height": 447
        },
        "outputId": "06b20d92-bc5e-4091-cd07-8251135a87e7"
      },
      "outputs": [
        {
          "output_type": "stream",
          "name": "stdout",
          "text": [
            "20/20 [==============================] - 0s 2ms/step\n"
          ]
        },
        {
          "output_type": "display_data",
          "data": {
            "text/plain": [
              "<Figure size 640x480 with 1 Axes>"
            ],
            "image/png": "[encoded data removed]"
          },
          "metadata": {}
        }
      ],
      "source": [
        "# Trực quan hóa dữ liệu và mô hình sau khi huấn luyện\n",
        "# Ý tưởng: lấy mẫu dày đặc các điểm trong phạm vi dữ liệu train\n",
        "# Sau đó dùng mô hình để dự đoán và hiển thị kết quả\n",
        "\n",
        "# `colors` là các marker được sử dụng để trực quan hóa kết quả test\n",
        "colors = ['r+', 'g+', 'b+', 'y+']\n",
        "# `gt_colors` là các marker được sử dụng để trực quan hóa dữ liệu train\n",
        "gt_colors = ['ro', 'go', 'bo', 'yo']\n",
        "\n",
        "# Lấy mẫu dày đặc các điểm\n",
        "x = np.arange(-8, 17, 1)\n",
        "y = np.arange(-8, 17, 1)\n",
        "xx, yy = np.meshgrid(x,y)\n",
        "\n",
        "xx = xx.reshape(-1)\n",
        "yy = yy.reshape(-1)\n",
        "\n",
        "# Tạo các dữ liệu test dày đặc\n",
        "X_test = np.concatenate([[xx],[yy]], axis=0).T\n",
        "Y_pred = pretrain_nn.predict(X_test)\n",
        "\n",
        "for i in range(len(xx)):\n",
        "    plt.plot(xx[i],yy[i], colors[np.argmax(Y_pred[i])])\n",
        "plt.plot(pts1[:,0], pts1[:,1], gt_colors[0])\n",
        "plt.plot(pts2[:,0], pts2[:,1], gt_colors[1])\n",
        "plt.plot(pts3[:,0], pts3[:,1], gt_colors[2])\n",
        "plt.plot(pts4[:,0], pts4[:,1], gt_colors[3])\n",
        "plt.show()"
      ]
    },
    {
      "cell_type": "markdown",
      "id": "tUTCVHqgcoKc",
      "metadata": {
        "id": "tUTCVHqgcoKc"
      },
      "source": [
        "Ta có thể thấy rằng, không gian mặt phẳng đã được phân loại sử dụng mô hình Neural Network đã huấn luyện trước đó. Dựa trên hình trên ta thấy kết quả khá chính xác, chỉ trừ một số điểm ở biên giữa các lớp."
      ]
    },
    {
      "cell_type": "markdown",
      "id": "olk8nJo8cp9n",
      "metadata": {
        "id": "olk8nJo8cp9n"
      },
      "source": [
        "## 6. Thử nghiệm với tập dữ liệu  MNIST\n",
        "\n",
        "MNIST là tập dữ liệu chữ số viết tay kinh điển trong lĩnh vực máy học. Để tải và sử dụng dữ liệu này cực kỳ đơn giản chỉ với 2 dòng code:"
      ]
    },
    {
      "cell_type": "code",
      "execution_count": 143,
      "id": "nvm8yf2qcmhK",
      "metadata": {
        "execution": {
          "iopub.execute_input": "2024-04-06T10:12:46.805212Z",
          "iopub.status.busy": "2024-04-06T10:12:46.803575Z",
          "iopub.status.idle": "2024-04-06T10:12:47.315346Z",
          "shell.execute_reply": "2024-04-06T10:12:47.313230Z"
        },
        "id": "nvm8yf2qcmhK",
        "colab": {
          "base_uri": "https://localhost:8080/"
        },
        "outputId": "c00a2fac-b54e-42bb-e3bc-57f47477b7fe"
      },
      "outputs": [
        {
          "output_type": "stream",
          "name": "stdout",
          "text": [
            "Downloading data from https://storage.googleapis.com/tensorflow/tf-keras-datasets/mnist.npz\n",
            "11490434/11490434 [==============================] - 0s 0us/step\n",
            "(60000, 28, 28)\n",
            "(60000,)\n",
            "(10000, 28, 28)\n",
            "(10000,)\n"
          ]
        }
      ],
      "source": [
        "# Prepare MNIST dataset\n",
        "from keras.datasets import mnist\n",
        "(x_train, y_train), (x_test, y_test) = mnist.load_data()\n",
        "\n",
        "print(x_train.shape)\n",
        "print(y_train.shape)\n",
        "print(x_test.shape)\n",
        "print(y_test.shape)"
      ]
    },
    {
      "cell_type": "markdown",
      "id": "jIMGbvMCctvv",
      "metadata": {
        "id": "jIMGbvMCctvv"
      },
      "source": [
        "Để hiểu rõ hơn về dữ liệu này, ta sẽ trực quan hóa dữ liệu bằng cách hiển thị ảnh và xem kích thước ảnh."
      ]
    },
    {
      "cell_type": "code",
      "execution_count": 144,
      "id": "taofQbEOcsRo",
      "metadata": {
        "execution": {
          "iopub.execute_input": "2024-04-06T10:12:47.325858Z",
          "iopub.status.busy": "2024-04-06T10:12:47.323814Z",
          "iopub.status.idle": "2024-04-06T10:12:47.741095Z",
          "shell.execute_reply": "2024-04-06T10:12:47.738937Z"
        },
        "id": "taofQbEOcsRo",
        "colab": {
          "base_uri": "https://localhost:8080/",
          "height": 482
        },
        "outputId": "34b15409-3a89-450e-b11e-8ecf1cbd41ab"
      },
      "outputs": [
        {
          "output_type": "stream",
          "name": "stdout",
          "text": [
            "Nhãn của mẫu dữ liệu thứ 1234:  3\n",
            "Kích thước của ảnh train:  (28, 28)\n",
            "Số điểm ảnh nếu biến đổi thành vector:  784\n"
          ]
        },
        {
          "output_type": "display_data",
          "data": {
            "text/plain": [
              "<Figure size 640x480 with 1 Axes>"
            ],
            "image/png": "[encoded data removed]"
          },
          "metadata": {}
        }
      ],
      "source": [
        "plt.imshow(x_train[1234])\n",
        "print('Nhãn của mẫu dữ liệu thứ 1234: ', y_train[1234])\n",
        "print('Kích thước của ảnh train: ', x_train[1234].shape)\n",
        "print('Số điểm ảnh nếu biến đổi thành vector: ',\n",
        "      x_train[1234].shape[0]*x_train[1234].shape[1])"
      ]
    },
    {
      "cell_type": "markdown",
      "id": "5Wy0f6YtcxYD",
      "metadata": {
        "id": "5Wy0f6YtcxYD"
      },
      "source": [
        "Tiền xử lý dữ liệu trước khi huấn luyện mô hình:\n",
        "- Chuyển output sang dạng one-hot vector\n",
        "- Chuẩn hóa dữ liệu input về khoảng giá trị `[0-1]`"
      ]
    },
    {
      "cell_type": "code",
      "execution_count": 145,
      "id": "GBgRbu6icvSj",
      "metadata": {
        "execution": {
          "iopub.execute_input": "2024-04-06T10:12:47.751075Z",
          "iopub.status.busy": "2024-04-06T10:12:47.749090Z",
          "iopub.status.idle": "2024-04-06T10:12:48.018542Z",
          "shell.execute_reply": "2024-04-06T10:12:48.016142Z"
        },
        "id": "GBgRbu6icvSj"
      },
      "outputs": [],
      "source": [
        "# Hàm chuyển đổi output từ dạng nhãn (label) sang vector one-hot\n",
        "def onehot(y):\n",
        "    oh = np.zeros((y.shape[0], y.max()+1))\n",
        "    oh[np.arange(y.shape[0]), y] = 1\n",
        "    return oh\n",
        "\n",
        "y_train_oh = onehot(y_train)\n",
        "y_test_oh = onehot(y_test)\n",
        "\n",
        "# Chuẩn hóa dữ liệu input trên dữ liệu train và test\n",
        "n_train_sample, h, w = x_train.shape\n",
        "n_test_sample, _,_ = x_test.shape # Kích thước ngang x cao giống nhau trên tất cả mẫu\n",
        "\n",
        "x_train = (x_train.astype('float32')) / 255.0\n",
        "x_test = (x_test.astype('float32')) / 255.0\n",
        "x_train_vec = x_train.reshape((n_train_sample, w*h))\n",
        "x_test_vec = x_test.reshape((n_test_sample, w*h))"
      ]
    },
    {
      "cell_type": "markdown",
      "id": "r98H0b84c0mz",
      "metadata": {
        "id": "r98H0b84c0mz"
      },
      "source": [
        "Khởi tạo mô hình từ đầu sao cho phù hợp với dữ liệu MNIST.\n",
        "Trong đó, thông tin cấu hình về lớp ẩn:\n",
        "- 2 lớp ẩn\n",
        "- 100 neuron mỗi lớp ẩn\n",
        "- huấn luyện với 30 epochs"
      ]
    },
    {
      "cell_type": "code",
      "execution_count": 152,
      "id": "syb9FU2pczSp",
      "metadata": {
        "execution": {
          "iopub.execute_input": "2024-04-06T10:12:48.029040Z",
          "iopub.status.busy": "2024-04-06T10:12:48.027218Z",
          "iopub.status.idle": "2024-04-06T10:18:11.737218Z",
          "shell.execute_reply": "2024-04-06T10:18:11.734692Z"
        },
        "id": "syb9FU2pczSp",
        "colab": {
          "base_uri": "https://localhost:8080/"
        },
        "outputId": "5a583da7-1d37-4d8f-9840-0d9648d41818"
      },
      "outputs": [
        {
          "output_type": "stream",
          "name": "stdout",
          "text": [
            "Epoch 1/30\n",
            "1875/1875 [==============================] - 8s 4ms/step - loss: 1.3090\n",
            "Epoch 2/30\n",
            "1875/1875 [==============================] - 5s 3ms/step - loss: 0.4475\n",
            "Epoch 3/30\n",
            "1875/1875 [==============================] - 6s 3ms/step - loss: 0.3412\n",
            "Epoch 4/30\n",
            "1875/1875 [==============================] - 5s 3ms/step - loss: 0.2999\n",
            "Epoch 5/30\n",
            "1875/1875 [==============================] - 6s 3ms/step - loss: 0.2725\n",
            "Epoch 6/30\n",
            "1875/1875 [==============================] - 5s 3ms/step - loss: 0.2507\n",
            "Epoch 7/30\n",
            "1875/1875 [==============================] - 5s 3ms/step - loss: 0.2324\n",
            "Epoch 8/30\n",
            "1875/1875 [==============================] - 6s 3ms/step - loss: 0.2159\n",
            "Epoch 9/30\n",
            "1875/1875 [==============================] - 5s 3ms/step - loss: 0.2017\n",
            "Epoch 10/30\n",
            "1875/1875 [==============================] - 7s 4ms/step - loss: 0.1887\n",
            "Epoch 11/30\n",
            "1875/1875 [==============================] - 5s 3ms/step - loss: 0.1771\n",
            "Epoch 12/30\n",
            "1875/1875 [==============================] - 7s 4ms/step - loss: 0.1665\n",
            "Epoch 13/30\n",
            "1875/1875 [==============================] - 5s 3ms/step - loss: 0.1568\n",
            "Epoch 14/30\n",
            "1875/1875 [==============================] - 6s 3ms/step - loss: 0.1484\n",
            "Epoch 15/30\n",
            "1875/1875 [==============================] - 5s 3ms/step - loss: 0.1407\n",
            "Epoch 16/30\n",
            "1875/1875 [==============================] - 6s 3ms/step - loss: 0.1330\n",
            "Epoch 17/30\n",
            "1875/1875 [==============================] - 6s 3ms/step - loss: 0.1265\n",
            "Epoch 18/30\n",
            "1875/1875 [==============================] - 5s 3ms/step - loss: 0.1200\n",
            "Epoch 19/30\n",
            "1875/1875 [==============================] - 6s 3ms/step - loss: 0.1143\n",
            "Epoch 20/30\n",
            "1875/1875 [==============================] - 5s 3ms/step - loss: 0.1095\n",
            "Epoch 21/30\n",
            "1875/1875 [==============================] - 6s 3ms/step - loss: 0.1049\n",
            "Epoch 22/30\n",
            "1875/1875 [==============================] - 6s 3ms/step - loss: 0.1003\n",
            "Epoch 23/30\n",
            "1875/1875 [==============================] - 6s 3ms/step - loss: 0.0961\n",
            "Epoch 24/30\n",
            "1875/1875 [==============================] - 5s 3ms/step - loss: 0.0921\n",
            "Epoch 25/30\n",
            "1875/1875 [==============================] - 6s 3ms/step - loss: 0.0884\n",
            "Epoch 26/30\n",
            "1875/1875 [==============================] - 6s 3ms/step - loss: 0.0849\n",
            "Epoch 27/30\n",
            "1875/1875 [==============================] - 6s 3ms/step - loss: 0.0814\n",
            "Epoch 28/30\n",
            "1875/1875 [==============================] - 6s 3ms/step - loss: 0.0786\n",
            "Epoch 29/30\n",
            "1875/1875 [==============================] - 6s 3ms/step - loss: 0.0758\n",
            "Epoch 30/30\n",
            "1875/1875 [==============================] - 6s 3ms/step - loss: 0.0731\n"
          ]
        }
      ],
      "source": [
        "nn4mnist = NeuralNetwork()\n",
        "\n",
        "# Hoàn tất đoạn code sau đây với việc sử dụng biến `nn4mnist` để gọi\n",
        "# phương thức `build`# và `train`. Lưu ý: sử dụng các tham số phù hợp\n",
        "# theo yêu cầu đã nêu.\n",
        "\n",
        "### BEGIN SOLUTION\n",
        "nn4mnist = NeuralNetwork()\n",
        "nn4mnist.build(28 * 28, 10, 2, 100)\n",
        "hist = nn4mnist.train(x_train = x_train_vec, y_train = y_train_oh, epochs=30)\n",
        "### END SOLUTION"
      ]
    },
    {
      "cell_type": "code",
      "execution_count": 153,
      "id": "4LkP07Vec5kT",
      "metadata": {
        "execution": {
          "iopub.execute_input": "2024-04-06T10:18:11.747402Z",
          "iopub.status.busy": "2024-04-06T10:18:11.745774Z",
          "iopub.status.idle": "2024-04-06T10:18:12.198532Z",
          "shell.execute_reply": "2024-04-06T10:18:12.196272Z"
        },
        "id": "4LkP07Vec5kT",
        "colab": {
          "base_uri": "https://localhost:8080/",
          "height": 472
        },
        "outputId": "b4b661fe-f7ca-42b6-b08e-4f0005dc4358"
      },
      "outputs": [
        {
          "output_type": "display_data",
          "data": {
            "text/plain": [
              "<Figure size 640x480 with 1 Axes>"
            ],
            "image/png": "[encoded data removed]"
          },
          "metadata": {}
        }
      ],
      "source": [
        "# Trực quan hóa giá trị loss trong quá trình huấn luyện\n",
        "plt.plot(hist.history['loss'])\n",
        "plt.title('Model Loss')\n",
        "plt.ylabel('loss')\n",
        "plt.xlabel('epoch')\n",
        "plt.show()"
      ]
    },
    {
      "cell_type": "code",
      "execution_count": 154,
      "id": "KNngPMH_c2Uk",
      "metadata": {
        "execution": {
          "iopub.execute_input": "2024-04-06T10:18:12.208452Z",
          "iopub.status.busy": "2024-04-06T10:18:12.206264Z",
          "iopub.status.idle": "2024-04-06T10:18:12.216597Z",
          "shell.execute_reply": "2024-04-06T10:18:12.214540Z"
        },
        "id": "KNngPMH_c2Uk"
      },
      "outputs": [],
      "source": [
        "# Public Test\n",
        "assert hist is not None\n",
        "assert 'loss' in hist.history\n",
        "assert len(hist.history['loss']) == 30"
      ]
    },
    {
      "cell_type": "markdown",
      "id": "ZdW22hK-c--7",
      "metadata": {
        "id": "ZdW22hK-c--7"
      },
      "source": [
        "Sau quá trình huấn luyện, chúng ta sử dụng mô hình để dự đoán trên mẫu dữ liệu test:"
      ]
    },
    {
      "cell_type": "code",
      "execution_count": 155,
      "id": "yr_dK2Rwc9JF",
      "metadata": {
        "execution": {
          "iopub.execute_input": "2024-04-06T10:18:12.263088Z",
          "iopub.status.busy": "2024-04-06T10:18:12.262225Z",
          "iopub.status.idle": "2024-04-06T10:18:13.975879Z",
          "shell.execute_reply": "2024-04-06T10:18:13.972235Z"
        },
        "id": "yr_dK2Rwc9JF",
        "colab": {
          "base_uri": "https://localhost:8080/"
        },
        "outputId": "4795d753-60b9-4530-e6ba-b68fd9f6a66c"
      },
      "outputs": [
        {
          "output_type": "stream",
          "name": "stdout",
          "text": [
            "313/313 [==============================] - 1s 2ms/step\n"
          ]
        }
      ],
      "source": [
        "pred = nn4mnist.predict(x_test_vec)"
      ]
    },
    {
      "cell_type": "markdown",
      "id": "4Z6-hDXUdGwk",
      "metadata": {
        "id": "4Z6-hDXUdGwk"
      },
      "source": [
        "Cuối cùng, trực quan hóa một mẫu dữ liệu test bất kỳ (ví dụ mẫu thứ 50):"
      ]
    },
    {
      "cell_type": "code",
      "execution_count": 156,
      "id": "JMKe8wEvdAxY",
      "metadata": {
        "execution": {
          "iopub.execute_input": "2024-04-06T10:18:13.986815Z",
          "iopub.status.busy": "2024-04-06T10:18:13.986099Z",
          "iopub.status.idle": "2024-04-06T10:18:14.426892Z",
          "shell.execute_reply": "2024-04-06T10:18:14.424661Z"
        },
        "id": "JMKe8wEvdAxY",
        "colab": {
          "base_uri": "https://localhost:8080/",
          "height": 465
        },
        "outputId": "4127f6d6-26dc-4d17-eac6-0058b43f031c"
      },
      "outputs": [
        {
          "output_type": "stream",
          "name": "stdout",
          "text": [
            "Label of the data:  6\n",
            "Predicted label of the data:  6\n"
          ]
        },
        {
          "output_type": "display_data",
          "data": {
            "text/plain": [
              "<Figure size 640x480 with 1 Axes>"
            ],
            "image/png": "[encoded data removed]"
          },
          "metadata": {}
        }
      ],
      "source": [
        "# Show the 50-th test sample\n",
        "test_id = 50\n",
        "plt.imshow(x_test[test_id])\n",
        "print('Label of the data: ', y_test[test_id])\n",
        "print('Predicted label of the data: ', np.argmax(pred[test_id]))"
      ]
    }
  ],
  "metadata": {
    "colab": {
      "provenance": []
    },
    "kernelspec": {
      "display_name": "Python 3 (ipykernel)",
      "language": "python",
      "name": "python3"
    },
    "language_info": {
      "codemirror_mode": {
        "name": "ipython",
        "version": 3
      },
      "file_extension": ".py",
      "mimetype": "text/x-python",
      "name": "python",
      "nbconvert_exporter": "python",
      "pygments_lexer": "ipython3",
      "version": "3.11.5"
    }
  },
  "nbformat": 4,
  "nbformat_minor": 5
}