{
  "nbformat": 4,
  "nbformat_minor": 0,
  "metadata": {
    "colab": {
      "provenance": []
    },
    "kernelspec": {
      "name": "python3",
      "display_name": "Python 3"
    },
    "language_info": {
      "name": "python"
    }
  },
  "cells": [
    {
      "cell_type": "code",
      "source": [
        "!pip install snntorch"
      ],
      "metadata": {
        "colab": {
          "base_uri": "https://localhost:8080/"
        },
        "id": "NbL6ZyRAz3rx",
        "outputId": "4ed90de2-d529-464c-be11-677285b79639"
      },
      "execution_count": 1,
      "outputs": [
        {
          "output_type": "stream",
          "name": "stdout",
          "text": [
            "Collecting snntorch\n",
            "  Downloading snntorch-0.9.4-py2.py3-none-any.whl.metadata (15 kB)\n",
            "Downloading snntorch-0.9.4-py2.py3-none-any.whl (125 kB)\n",
            "\u001b[?25l   \u001b[90m━━━━━━━━━━━━━━━━━━━━━━━━━━━━━━━━━━━━━━━━\u001b[0m \u001b[32m0.0/125.6 kB\u001b[0m \u001b[31m?\u001b[0m eta \u001b[36m-:--:--\u001b[0m\r\u001b[2K   \u001b[91m━━━━━━━━━━━━━━━━━━━━━━━━━━━━━━━━━━━━━━━\u001b[0m\u001b[90m╺\u001b[0m \u001b[32m122.9/125.6 kB\u001b[0m \u001b[31m4.7 MB/s\u001b[0m eta \u001b[36m0:00:01\u001b[0m\r\u001b[2K   \u001b[90m━━━━━━━━━━━━━━━━━━━━━━━━━━━━━━━━━━━━━━━━\u001b[0m \u001b[32m125.6/125.6 kB\u001b[0m \u001b[31m1.8 MB/s\u001b[0m eta \u001b[36m0:00:00\u001b[0m\n",
            "\u001b[?25hInstalling collected packages: snntorch\n",
            "Successfully installed snntorch-0.9.4\n"
          ]
        }
      ]
    },
    {
      "cell_type": "markdown",
      "source": [
        "# IMPORT LIBRARIES"
      ],
      "metadata": {
        "id": "NyHh-DQJxH3B"
      }
    },
    {
      "cell_type": "code",
      "source": [
        "# ===== Standard =====\n",
        "import os\n",
        "import time\n",
        "\n",
        "# ===== PyTorch =====\n",
        "import torch\n",
        "import torch.nn as nn\n",
        "import torch.nn.functional as F\n",
        "import torch.optim as optim\n",
        "from torch.utils.data import DataLoader\n",
        "\n",
        "# ===== torchvision =====\n",
        "from torchvision import datasets, transforms\n",
        "\n",
        "# ===== snntorch =====\n",
        "import snntorch as snn\n",
        "from snntorch import spikegen, spikeplot as splt, utils\n",
        "\n",
        "# ===== Other =====\n",
        "import numpy as np\n",
        "import matplotlib.pyplot as plt"
      ],
      "metadata": {
        "id": "f5rF8MgWxKPY"
      },
      "execution_count": 2,
      "outputs": []
    },
    {
      "cell_type": "markdown",
      "source": [
        "# SET RANDOM SEED"
      ],
      "metadata": {
        "id": "p_AplR14xiV3"
      }
    },
    {
      "cell_type": "code",
      "source": [
        "np.random.seed(22520195)"
      ],
      "metadata": {
        "id": "oq52STTExkrR"
      },
      "execution_count": 3,
      "outputs": []
    },
    {
      "cell_type": "markdown",
      "source": [
        "# HELPER FUNCTION"
      ],
      "metadata": {
        "id": "umrn0eh_yzRl"
      }
    },
    {
      "cell_type": "code",
      "source": [
        "def plot_potential_and_spikes(mem_potential, spikes, title, dt):\n",
        "    \"\"\"Plots membrane potential and spike times.\"\"\"\n",
        "    time_steps = np.arange(len(mem_potential)) * dt\n",
        "    fig, ax1 = plt.subplots(figsize=(10, 5))\n",
        "\n",
        "    color = 'tab:blue'\n",
        "    ax1.set_xlabel('Time (s)')\n",
        "    ax1.set_ylabel('Membrane Potential (V)', color=color)\n",
        "    ax1.plot(time_steps, mem_potential, color=color)\n",
        "    ax1.tick_params(axis='y', labelcolor=color)\n",
        "    ax1.set_ylim(min(mem_potential) - 0.01, max(mem_potential) + 0.01) # Adjust ylim for visibility\n",
        "\n",
        "    ax2 = ax1.twinx()  # instantiate a second axes that shares the same x-axis\n",
        "    color = 'tab:red'\n",
        "    # ax2.set_ylabel('Spike', color=color)  # we already handled the x-label with ax1\n",
        "    spike_times = np.where(spikes == 1)[0] * dt\n",
        "    if len(spike_times) > 0 :\n",
        "      ax2.eventplot(spike_times, linelengths=0.8, color=color, orientation='horizontal', lineoffset=0) # Draw spikes as vertical lines\n",
        "    ax2.set_yticks([]) # Hide y-axis ticks for spikes\n",
        "    # ax2.tick_params(axis='y', labelcolor=color)\n",
        "    ax2.set_ylim(0, 1) # Spike axis from 0 to 1\n",
        "\n",
        "    fig.tight_layout()  # otherwise the right y-label is slightly clipped\n",
        "    plt.title(title)\n",
        "    plt.grid(True)\n",
        "    plt.show()\n",
        "\n",
        "def plot_stdp_window(delta_t_values, delta_w_values, title=\"STDP Weight Change Window\"):\n",
        "    \"\"\"Plots the classic STDP weight change curve.\"\"\"\n",
        "    plt.figure(figsize=(8, 5))\n",
        "    plt.plot(delta_t_values[delta_t_values < 0], delta_w_values[delta_t_values < 0], 'o-', label='LTD (Post before Pre)')\n",
        "    plt.plot(delta_t_values[delta_t_values > 0], delta_w_values[delta_t_values > 0], 'o-', label='LTP (Pre before Post)')\n",
        "    plt.axhline(0, color='black', linewidth=0.5)\n",
        "    plt.axvline(0, color='black', linewidth=0.5)\n",
        "    plt.xlabel('Δt = t_post - t_pre (ms)')\n",
        "    plt.ylabel('Δw (Weight Change)')\n",
        "    plt.title(title)\n",
        "    plt.legend()\n",
        "    plt.grid(True)\n",
        "    plt.show()"
      ],
      "metadata": {
        "id": "U-KoLoZyyzB4"
      },
      "execution_count": 4,
      "outputs": []
    },
    {
      "cell_type": "markdown",
      "source": [
        "# DEVICE SETUP"
      ],
      "metadata": {
        "id": "mhwlBFngzHrv"
      }
    },
    {
      "cell_type": "code",
      "source": [
        "device = torch.device(\"cuda\" if torch.cuda.is_available() else \"cpu\")\n",
        "print(f\"Using device: {device}\")"
      ],
      "metadata": {
        "colab": {
          "base_uri": "https://localhost:8080/"
        },
        "id": "1oWnyx38zJFB",
        "outputId": "c631f175-d6a1-44fc-c082-1b27a68822e1"
      },
      "execution_count": 5,
      "outputs": [
        {
          "output_type": "stream",
          "name": "stdout",
          "text": [
            "Using device: cpu\n"
          ]
        }
      ]
    },
    {
      "cell_type": "code",
      "source": [
        "# ========= Constants and Parameters =========\n",
        "batch_size = 128\n",
        "data_path = '/content/data/mnist_csnn_pretrained'  # Đường dẫn dùng trong Google Colab\n",
        "cnn_weights_path = '/content/mnist_cnn_pretrained.pth'  # Nơi lưu trọng số CNN\n",
        "num_steps_snn = 50  # Số bước thời gian cho SNN — càng nhiều bước càng chính xác\n",
        "beta = 0.95  # Hệ số rò rỉ của neuron LIF\n",
        "learning_rate_cnn = 1e-3\n",
        "num_epochs_cnn = 10  # Số epoch huấn luyện CNN\n",
        "\n",
        "# ========= Device Setup =========\n",
        "device = torch.device(\"cuda\" if torch.cuda.is_available() else \"cpu\")  # Chạy trên GPU nếu có\n",
        "\n",
        "# ========= MNIST Data Setup =========\n",
        "transform = transforms.Compose([\n",
        "    transforms.ToTensor(),\n",
        "    transforms.Normalize((0.1307,), (0.3081,))  # Chuẩn hóa ảnh MNIST (mean, std)\n",
        "])\n",
        "\n",
        "# Tải dataset MNIST\n",
        "mnist_train = datasets.MNIST(data_path, train=True, download=True, transform=transform)\n",
        "mnist_test = datasets.MNIST(data_path, train=False, download=True, transform=transform)\n",
        "\n",
        "# Tạo DataLoader\n",
        "train_loader = DataLoader(mnist_train, batch_size=batch_size, shuffle=True, drop_last=True)\n",
        "test_loader = DataLoader(mnist_test, batch_size=batch_size, shuffle=False, drop_last=True)\n",
        "\n",
        "# ========= Step 1: Define the Simple CNN Architecture =========\n",
        "class SimpleCNN(nn.Module):\n",
        "    def __init__(self):\n",
        "        super().__init__()\n",
        "        # CNN cơ bản với AvgPool (dễ chuyển sang SNN hơn MaxPool)\n",
        "        self.conv1 = nn.Conv2d(1, 16, kernel_size=5, padding=2, bias=False)\n",
        "        self.relu1 = nn.ReLU()\n",
        "        self.pool1 = nn.AvgPool2d(kernel_size=2)\n",
        "        self.conv2 = nn.Conv2d(16, 32, kernel_size=5, padding=2, bias=False)\n",
        "        self.relu2 = nn.ReLU()\n",
        "        self.pool2 = nn.AvgPool2d(kernel_size=2)\n",
        "        self.flatten = nn.Flatten()\n",
        "        self.fc1 = nn.Linear(32 * 7 * 7, 120, bias=False)\n",
        "        self.relu3 = nn.ReLU()\n",
        "        self.fc2 = nn.Linear(120, 10, bias=False)  # Output: 10 class MNIST\n",
        "\n",
        "    def forward(self, x):\n",
        "        # Truyền tín hiệu qua các lớp CNN\n",
        "        x = self.pool1(self.relu1(self.conv1(x)))\n",
        "        x = self.pool2(self.relu2(self.conv2(x)))\n",
        "        x = self.flatten(x)\n",
        "        x = self.relu3(self.fc1(x))\n",
        "        x = self.fc2(x)\n",
        "        return x\n",
        "\n",
        "# ========= Step 2: Train the CNN =========\n",
        "def train_cnn(model, train_loader, test_loader, optimizer, criterion, num_epochs, device):\n",
        "    model.train()\n",
        "    for epoch in range(num_epochs):\n",
        "        running_loss = 0.0\n",
        "        for i, (inputs, labels) in enumerate(train_loader):\n",
        "            inputs, labels = inputs.to(device), labels.to(device)\n",
        "            optimizer.zero_grad()\n",
        "            outputs = model(inputs)\n",
        "            loss = criterion(outputs, labels)\n",
        "            loss.backward()\n",
        "            optimizer.step()\n",
        "            running_loss += loss.item()\n",
        "        # Sau mỗi epoch, đánh giá mô hình trên tập test\n",
        "        test_acc = evaluate_cnn(model, test_loader, device)\n",
        "        print(f\"Epoch {epoch+1}: Test Accuracy = {test_acc:.2f}%\")\n",
        "\n",
        "def evaluate_cnn(model, data_loader, device):\n",
        "    # Hàm đánh giá chính xác của CNN\n",
        "    model.eval()\n",
        "    correct = 0\n",
        "    total = 0\n",
        "    with torch.no_grad():\n",
        "        for data, targets in data_loader:\n",
        "            data, targets = data.to(device), targets.to(device)\n",
        "            outputs = model(data)\n",
        "            _, predicted = torch.max(outputs, 1)\n",
        "            total += targets.size(0)\n",
        "            correct += (predicted == targets).sum().item()\n",
        "    return 100 * correct / total\n",
        "\n",
        "# Nếu chưa có trọng số CNN đã huấn luyện thì huấn luyện từ đầu\n",
        "cnn_model = SimpleCNN().to(device)\n",
        "if not os.path.exists(cnn_weights_path):\n",
        "    criterion = nn.CrossEntropyLoss()\n",
        "    optimizer = optim.Adam(cnn_model.parameters(), lr=learning_rate_cnn)\n",
        "    train_cnn(cnn_model, train_loader, test_loader, optimizer, criterion, num_epochs_cnn, device)\n",
        "    torch.save(cnn_model.state_dict(), cnn_weights_path)\n",
        "else:\n",
        "    cnn_model.load_state_dict(torch.load(cnn_weights_path, map_location=device))\n",
        "    cnn_accuracy = evaluate_cnn(cnn_model, test_loader, device)\n",
        "    print(f\"Loaded CNN Test Accuracy: {cnn_accuracy:.2f}%\")\n",
        "\n",
        "# ========= Step 3: Define the Spiking CNN (CSNN) =========\n",
        "class SpikingCNN(nn.Module):\n",
        "    def __init__(self, beta_lif=0.95):\n",
        "        super().__init__()\n",
        "        # Các layer giống hệt CNN gốc để có thể load weight\n",
        "        self.conv1 = nn.Conv2d(1, 16, kernel_size=5, padding=2, bias=False)\n",
        "        self.pool1 = nn.AvgPool2d(kernel_size=2)\n",
        "        self.conv2 = nn.Conv2d(16, 32, kernel_size=5, padding=2, bias=False)\n",
        "        self.pool2 = nn.AvgPool2d(kernel_size=2)\n",
        "        self.flatten = nn.Flatten()\n",
        "        self.fc1 = nn.Linear(32 * 7 * 7, 120, bias=False)\n",
        "        self.fc2 = nn.Linear(120, 10, bias=False)\n",
        "\n",
        "        # Thay ReLU bằng các neuron LIF\n",
        "        self.lif1 = snn.Leaky(beta=beta_lif, init_hidden=True)\n",
        "        self.lif2 = snn.Leaky(beta=beta_lif, init_hidden=True)\n",
        "        self.lif3 = snn.Leaky(beta=beta_lif, init_hidden=True)\n",
        "        self.lif4 = snn.Leaky(beta=beta_lif, init_hidden=True, output=True)  # Output layer\n",
        "\n",
        "    def forward(self, x, num_steps):\n",
        "        # Mã hóa ảnh thành spike train bằng rate coding\n",
        "        spike_input = spikegen.rate(x, num_steps=num_steps)\n",
        "\n",
        "        # Reset trạng thái của các neuron trước mỗi forward\n",
        "        self.lif1.reset_hidden()\n",
        "        self.lif2.reset_hidden()\n",
        "        self.lif3.reset_hidden()\n",
        "        self.lif4.reset_hidden()\n",
        "\n",
        "        spk4_rec = []\n",
        "        for step in range(num_steps):\n",
        "            current_input = spike_input[step]\n",
        "            cur1 = self.pool1(self.conv1(current_input))\n",
        "            spk1 = self.lif1(cur1)\n",
        "            cur2 = self.pool2(self.conv2(spk1))\n",
        "            spk2 = self.lif2(cur2)\n",
        "            cur3 = self.fc1(self.flatten(spk2))\n",
        "            spk3 = self.lif3(cur3)\n",
        "            cur4 = self.fc2(spk3)\n",
        "            spk4, _ = self.lif4(cur4)\n",
        "            spk4_rec.append(spk4)\n",
        "\n",
        "        # Trả về toàn bộ spike output qua thời gian\n",
        "        return torch.stack(spk4_rec, dim=0)\n",
        "\n",
        "# ========= Step 4: Instantiate SNN and Load Weights =========\n",
        "snn_model = SpikingCNN(beta_lif=beta).to(device)\n",
        "\n",
        "# Load trọng số từ CNN vào SNN — strict=False để bỏ qua ReLU (không tồn tại trong SNN)\n",
        "snn_model.load_state_dict(torch.load(cnn_weights_path, map_location=device), strict=False)\n",
        "\n",
        "# ========= Step 5 & 6: Evaluate the Converted SNN =========\n",
        "def evaluate_snn(model, data_loader, num_steps, device):\n",
        "    model.eval()\n",
        "    correct = 0\n",
        "    total = 0\n",
        "    with torch.no_grad():\n",
        "        for data, targets in data_loader:\n",
        "            data, targets = data.to(device), targets.to(device)\n",
        "            # Output là spike qua thời gian: [T, B, C]\n",
        "            output_spikes = model(data, num_steps)\n",
        "            spike_counts = torch.sum(output_spikes, dim=0)  # Tổng số spike mỗi class\n",
        "            _, predicted = torch.max(spike_counts, 1)\n",
        "            total += targets.size(0)\n",
        "            correct += (predicted == targets).sum().item()\n",
        "    return 100 * correct / total\n",
        "\n",
        "# Đánh giá SNN\n",
        "snn_accuracy = evaluate_snn(snn_model, test_loader, num_steps_snn, device)\n",
        "\n",
        "# ========= Kết quả =========\n",
        "cnn_accuracy_final = evaluate_cnn(cnn_model, test_loader, device)\n",
        "print(f\"Original CNN Test Accuracy: {cnn_accuracy_final:.2f}%\")\n",
        "print(f\"Converted SNN Test Accuracy: {snn_accuracy:.2f}%\")\n",
        "print(\"Note: Accuracy drop after conversion is expected due to discrete spikes and rate encoding.\")\n",
        "\n",
        "# ========= Visualize a few predictions =========\n",
        "data_sample, targets_sample = next(iter(test_loader))\n",
        "data_sample, targets_sample = data_sample.to(device), targets_sample.to(device)\n",
        "\n",
        "# Lấy prediction từ SNN cho vài ảnh đầu tiên\n",
        "with torch.no_grad():\n",
        "    output_spikes_sample = snn_model(data_sample, num_steps_snn)\n",
        "    spike_counts_sample = torch.sum(output_spikes_sample, dim=0)\n",
        "    _, predicted_sample = torch.max(spike_counts_sample, 1)\n",
        "\n",
        "# Un-normalize ảnh để hiển thị\n",
        "unorm = transforms.Normalize((-0.1307 / 0.3081,), (1 / 0.3081,))\n",
        "data_sample_cpu = unorm(data_sample.cpu())\n",
        "\n",
        "# Vẽ ảnh và nhãn dự đoán\n",
        "plt.figure(figsize=(12, 6))\n",
        "for i in range(min(10, batch_size)):\n",
        "    plt.subplot(2, 5, i + 1)\n",
        "    plt.imshow(data_sample_cpu[i].squeeze(), cmap=\"gray\")\n",
        "    plt.title(f\"True: {targets_sample[i].item()}\\nSNN Pred: {predicted_sample[i].item()}\")\n",
        "    plt.axis(\"off\")\n",
        "plt.tight_layout()\n",
        "plt.show()"
      ],
      "metadata": {
        "id": "y5mENsOEy2ey",
        "colab": {
          "base_uri": "https://localhost:8080/",
          "height": 891
        },
        "outputId": "8898e48c-e2a4-413e-9f95-1c7cad06eb85"
      },
      "execution_count": 6,
      "outputs": [
        {
          "output_type": "stream",
          "name": "stderr",
          "text": [
            "100%|██████████| 9.91M/9.91M [00:00<00:00, 52.9MB/s]\n",
            "100%|██████████| 28.9k/28.9k [00:00<00:00, 1.88MB/s]\n",
            "100%|██████████| 1.65M/1.65M [00:00<00:00, 12.4MB/s]\n",
            "100%|██████████| 4.54k/4.54k [00:00<00:00, 5.65MB/s]\n"
          ]
        },
        {
          "output_type": "stream",
          "name": "stdout",
          "text": [
            "Epoch 1: Test Accuracy = 97.77%\n",
            "Epoch 2: Test Accuracy = 98.00%\n",
            "Epoch 3: Test Accuracy = 98.66%\n",
            "Epoch 4: Test Accuracy = 98.92%\n",
            "Epoch 5: Test Accuracy = 98.92%\n",
            "Epoch 6: Test Accuracy = 98.75%\n",
            "Epoch 7: Test Accuracy = 99.23%\n",
            "Epoch 8: Test Accuracy = 99.01%\n",
            "Epoch 9: Test Accuracy = 99.15%\n",
            "Epoch 10: Test Accuracy = 99.20%\n",
            "Original CNN Test Accuracy: 99.20%\n",
            "Converted SNN Test Accuracy: 97.97%\n",
            "Note: Accuracy drop after conversion is expected due to discrete spikes and rate encoding.\n"
          ]
        },
        {
          "output_type": "display_data",
          "data": {
            "text/plain": [
              "<Figure size 1200x600 with 10 Axes>"
            ],
            "image/png": "[encoded data removed]"
          },
          "metadata": {}
        }
      ]
    }
  ]
}