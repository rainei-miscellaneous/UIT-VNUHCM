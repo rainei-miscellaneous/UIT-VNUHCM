{
  "cells": [
    {
      "cell_type": "code",
      "execution_count": 1,
      "metadata": {
        "id": "-aD2Px7X49xY"
      },
      "outputs": [],
      "source": [
        "from numpy.random import multivariate_normal\n",
        "import matplotlib.pyplot as plt\n",
        "%matplotlib inline\n",
        "import numpy as np"
      ]
    },
    {
      "cell_type": "code",
      "execution_count": 2,
      "metadata": {
        "id": "ufS01FTDsqi3"
      },
      "outputs": [],
      "source": [
        "def sphere(xy):\n",
        "    x, y = xy\n",
        "    return x ** 2 + y ** 2"
      ]
    },
    {
      "cell_type": "code",
      "execution_count": 3,
      "metadata": {
        "id": "lHu00DsnyTtr"
      },
      "outputs": [],
      "source": [
        "minimum = (0.0, 0.0)"
      ]
    },
    {
      "cell_type": "code",
      "execution_count": 4,
      "metadata": {
        "id": "9VJkggD6kb8W"
      },
      "outputs": [],
      "source": [
        "class MultivariateNormal(object):\n",
        "    def __init__(self):\n",
        "        self.u_ = None\n",
        "        self.sigma_ = None\n",
        "\n",
        "    def fit(self, x):\n",
        "        x = x[...,np.newaxis] if x.ndim == 2 else x\n",
        "        self.u_ = x.mean(0)\n",
        "        self.sig_ = np.einsum('ijk,ikj->jk',x-(self.u_),x-(self.u_)) / (x.shape[0])"
      ]
    },
    {
      "cell_type": "code",
      "execution_count": 5,
      "metadata": {
        "id": "CHoX3PP4uiIU"
      },
      "outputs": [],
      "source": [
        "mod = MultivariateNormal()\n",
        "mod.u_ = np.array([3.0, 3.0])\n",
        "mod.sig_ = np.eye(2)\n",
        "sigma = 0.5"
      ]
    },
    {
      "cell_type": "code",
      "execution_count": 6,
      "metadata": {
        "id": "xuKhQwHduwN5"
      },
      "outputs": [],
      "source": [
        "population = multivariate_normal(mod.u_, 0.1*mod.sig_, size=100)"
      ]
    },
    {
      "cell_type": "code",
      "execution_count": 7,
      "metadata": {
        "id": "OY8XkOEXwgcG"
      },
      "outputs": [],
      "source": [
        "fitness = np.array([sphere(xy) for xy in population])"
      ]
    },
    {
      "cell_type": "code",
      "execution_count": 8,
      "metadata": {
        "colab": {
          "base_uri": "https://localhost:8080/",
          "height": 694
        },
        "id": "evsWPV5Ju1P1",
        "outputId": "afd32b7b-11a7-43d0-e5dc-616a6d991a90"
      },
      "outputs": [
        {
          "data": {
            "text/plain": [
              "[<matplotlib.lines.Line2D at 0x1c2450ff110>]"
            ]
          },
          "execution_count": 8,
          "metadata": {},
          "output_type": "execute_result"
        }
      ],
      "source": [
        "x_lim = (-5, 5)\n",
        "y_lim = (-5, 5)\n",
        "n_seconds = 5\n",
        "n_points = 100\n",
        "x = np.linspace(*x_lim, n_points)\n",
        "y = np.linspace(*y_lim, n_points)\n",
        "X, Y = np.meshgrid(x, y)\n",
        "Z = sphere([X, Y])\n",
        "\n",
        "minimum = (0.0, 0.0)\n",
        "fig, ax = plt.subplots(figsize=(8, 8))\n",
        "ax.axis('equal')\n",
        "ax.contourf(X, Y, Z, 90, cmap=\"viridis\", alpha=0.7)\n",
        "ax.scatter(population[:,0], population[:,1], c=\"magenta\")\n",
        "ax.plot(*minimum, \"rD\")"
      ]
    },
    {
      "cell_type": "code",
      "execution_count": 9,
      "metadata": {
        "id": "Xf82dCvGkTzX"
      },
      "outputs": [],
      "source": [
        "selected_idx = np.argsort(fitness)[:len(fitness)//2]\n",
        "fitness[selected_idx]\n",
        "selection = population[selected_idx]"
      ]
    },
    {
      "cell_type": "code",
      "execution_count": 10,
      "metadata": {
        "colab": {
          "base_uri": "https://localhost:8080/",
          "height": 694
        },
        "id": "mucY_RkVku0d",
        "outputId": "911a901a-0995-4eef-fcde-718423fdb929"
      },
      "outputs": [
        {
          "data": {
            "text/plain": [
              "[<matplotlib.lines.Line2D at 0x1c245177380>]"
            ]
          },
          "execution_count": 10,
          "metadata": {},
          "output_type": "execute_result"
        }
      ],
      "source": [
        "fig, ax = plt.subplots(figsize=(8, 8))\n",
        "ax.axis('equal')\n",
        "ax.contourf(X, Y, Z, 90, cmap=\"viridis\", alpha=0.7)\n",
        "ax.scatter(population[:,0], population[:,1], c=\"magenta\")\n",
        "ax.scatter(selection[:,0], selection[:,1], c=\"cyan\")\n",
        "ax.plot(*minimum, \"rD\")"
      ]
    },
    {
      "cell_type": "code",
      "execution_count": 11,
      "metadata": {
        "colab": {
          "base_uri": "https://localhost:8080/"
        },
        "id": "-PLne5hOksKd",
        "outputId": "1fbdcae7-9c65-44dc-b11d-be715781e742"
      },
      "outputs": [
        {
          "name": "stdout",
          "output_type": "stream",
          "text": [
            "[[2.84550824]\n",
            " [2.8564928 ]]\n",
            "[[ 0.04299218 -0.01978808]\n",
            " [-0.01978808  0.05087679]]\n"
          ]
        }
      ],
      "source": [
        "mod = MultivariateNormal()\n",
        "mod.fit(selection)\n",
        "print(mod.u_)\n",
        "print(mod.sig_)"
      ]
    },
    {
      "cell_type": "code",
      "execution_count": 12,
      "metadata": {
        "id": "7Ihw4nOkrj38"
      },
      "outputs": [],
      "source": [
        "population = multivariate_normal(mod.u_.squeeze(), sigma*mod.sig_, size=100)"
      ]
    },
    {
      "cell_type": "code",
      "execution_count": 13,
      "metadata": {
        "colab": {
          "base_uri": "https://localhost:8080/",
          "height": 694
        },
        "id": "W02bwHCZyEkn",
        "outputId": "e80a326a-7d54-462f-b9e4-3effeb4f50c7"
      },
      "outputs": [
        {
          "data": {
            "text/plain": [
              "[<matplotlib.lines.Line2D at 0x1c2466d1430>]"
            ]
          },
          "execution_count": 13,
          "metadata": {},
          "output_type": "execute_result"
        }
      ],
      "source": [
        "fig, ax = plt.subplots(figsize=(8, 8))\n",
        "ax.axis('equal')\n",
        "ax.contourf(X, Y, Z, 90, cmap=\"viridis\", alpha=0.7)\n",
        "ax.scatter(population[:,0], population[:,1], c=\"magenta\")\n",
        "ax.plot(*minimum, \"rD\")"
      ]
    },
    {
      "cell_type": "code",
      "execution_count": null,
      "metadata": {
        "id": "2c-wEAGLyLZZ"
      },
      "outputs": [],
      "source": []
    }
  ],
  "metadata": {
    "colab": {
      "provenance": []
    },
    "kernelspec": {
      "display_name": "base",
      "language": "python",
      "name": "python3"
    },
    "language_info": {
      "codemirror_mode": {
        "name": "ipython",
        "version": 3
      },
      "file_extension": ".py",
      "mimetype": "text/x-python",
      "name": "python",
      "nbconvert_exporter": "python",
      "pygments_lexer": "ipython3",
      "version": "3.12.4"
    }
  },
  "nbformat": 4,
  "nbformat_minor": 0
}
