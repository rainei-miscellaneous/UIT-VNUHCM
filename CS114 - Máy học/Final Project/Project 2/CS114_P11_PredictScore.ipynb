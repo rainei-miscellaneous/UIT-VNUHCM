{
 "cells": [
  {
   "cell_type": "markdown",
   "id": "07a91f0c",
   "metadata": {
    "papermill": {
     "duration": 0.011033,
     "end_time": "2025-01-10T20:19:42.994247",
     "exception": false,
     "start_time": "2025-01-10T20:19:42.983214",
     "status": "completed"
    },
    "tags": []
   },
   "source": [
    "# ĐỒ ÁN CUỐI KỲ SỐ 02: Dự đoán kết quả nhập môn lập trình từ dữ liệu nộp bài trên wecode."
   ]
  },
  {
   "cell_type": "code",
   "execution_count": 2,
   "id": "05729886",
   "metadata": {
    "execution": {
     "iopub.execute_input": "2025-01-10T20:19:47.621019Z",
     "iopub.status.busy": "2025-01-10T20:19:47.620751Z",
     "iopub.status.idle": "2025-01-10T20:19:50.124156Z",
     "shell.execute_reply": "2025-01-10T20:19:50.123482Z"
    },
    "papermill": {
     "duration": 2.515089,
     "end_time": "2025-01-10T20:19:50.125807",
     "exception": false,
     "start_time": "2025-01-10T20:19:47.610718",
     "status": "completed"
    },
    "tags": []
   },
   "outputs": [],
   "source": [
    "import pandas as pd\n",
    "import json\n",
    "import ast\n",
    "import numpy as np\n",
    "\n",
    "from datetime import datetime\n",
    "from sklearn.pipeline import Pipeline\n",
    "from sklearn.preprocessing import OneHotEncoder\n",
    "from sklearn.decomposition import PCA\n",
    "from sklearn.model_selection import train_test_split, GridSearchCV, KFold, StratifiedKFold, cross_val_score\n",
    "from sklearn.preprocessing import StandardScaler, MinMaxScaler, MaxAbsScaler, RobustScaler, QuantileTransformer, PowerTransformer\n",
    "from sklearn.linear_model import LinearRegression,  Lasso, Ridge, ElasticNet\n",
    "from sklearn.ensemble import RandomForestRegressor, GradientBoostingRegressor, AdaBoostRegressor\n",
    "from sklearn.neighbors import KNeighborsRegressor\n",
    "from sklearn.svm import SVR\n",
    "from sklearn.base import BaseEstimator, RegressorMixin\n",
    "from catboost import CatBoostRegressor\n",
    "from mapie.regression import MapieRegressor"
   ]
  },
  {
   "cell_type": "markdown",
   "id": "63a71e29",
   "metadata": {
    "papermill": {
     "duration": 0.008814,
     "end_time": "2025-01-10T20:19:50.144681",
     "exception": false,
     "start_time": "2025-01-10T20:19:50.135867",
     "status": "completed"
    },
    "tags": []
   },
   "source": [
    "## Khám phá dữ liệu"
   ]
  },
  {
   "cell_type": "code",
   "execution_count": 3,
   "id": "8c9b6708",
   "metadata": {
    "execution": {
     "iopub.execute_input": "2025-01-10T20:19:50.164179Z",
     "iopub.status.busy": "2025-01-10T20:19:50.163828Z",
     "iopub.status.idle": "2025-01-10T20:19:51.945684Z",
     "shell.execute_reply": "2025-01-10T20:19:51.944922Z"
    },
    "papermill": {
     "duration": 1.793238,
     "end_time": "2025-01-10T20:19:51.947289",
     "exception": false,
     "start_time": "2025-01-10T20:19:50.154051",
     "status": "completed"
    },
    "tags": []
   },
   "outputs": [],
   "source": [
    "anno_file = '/kaggle/input/cs114-final-project/annonimized.csv'\n",
    "anno_data = pd.read_csv(anno_file)\n",
    "\n",
    "# Đổi tên cho dễ dùng\n",
    "rename_columns = {\n",
    "    \"concat('it001',`assignment_id`)\": 'assignment_id',\n",
    "    \"concat('it001',`problem_id`)\": 'problem_id',\n",
    "    \"concat('it001', username)\": 'username',\n",
    "    \"concat('it001',`language_id`)\": 'language_id'\n",
    "}\n",
    "\n",
    "anno_data.rename(columns=rename_columns, inplace=True)"
   ]
  },
  {
   "cell_type": "code",
   "execution_count": 4,
   "id": "d19398fb",
   "metadata": {
    "execution": {
     "iopub.execute_input": "2025-01-10T20:19:51.966818Z",
     "iopub.status.busy": "2025-01-10T20:19:51.966535Z",
     "iopub.status.idle": "2025-01-10T20:19:52.079284Z",
     "shell.execute_reply": "2025-01-10T20:19:52.078278Z"
    },
    "papermill": {
     "duration": 0.12394,
     "end_time": "2025-01-10T20:19:52.080852",
     "exception": false,
     "start_time": "2025-01-10T20:19:51.956912",
     "status": "completed"
    },
    "tags": []
   },
   "outputs": [
    {
     "name": "stdout",
     "output_type": "stream",
     "text": [
      "<class 'pandas.core.frame.DataFrame'>\n",
      "RangeIndex: 295198 entries, 0 to 295197\n",
      "Data columns (total 11 columns):\n",
      " #   Column         Non-Null Count   Dtype \n",
      "---  ------         --------------   ----- \n",
      " 0   assignment_id  295198 non-null  object\n",
      " 1   problem_id     295198 non-null  object\n",
      " 2   username       295198 non-null  object\n",
      " 3   is_final       295198 non-null  int64 \n",
      " 4   status         295198 non-null  object\n",
      " 5   pre_score      295198 non-null  int64 \n",
      " 6   coefficient    295198 non-null  int64 \n",
      " 7   language_id    295198 non-null  object\n",
      " 8   created_at     295198 non-null  object\n",
      " 9   updated_at     295198 non-null  object\n",
      " 10  judgement      295198 non-null  object\n",
      "dtypes: int64(3), object(8)\n",
      "memory usage: 24.8+ MB\n"
     ]
    }
   ],
   "source": [
    "anno_data.info()"
   ]
  },
  {
   "cell_type": "code",
   "execution_count": 5,
   "id": "fc41c72a",
   "metadata": {
    "execution": {
     "iopub.execute_input": "2025-01-10T20:19:52.100974Z",
     "iopub.status.busy": "2025-01-10T20:19:52.100708Z",
     "iopub.status.idle": "2025-01-10T20:20:32.781849Z",
     "shell.execute_reply": "2025-01-10T20:20:32.780926Z"
    },
    "papermill": {
     "duration": 40.700403,
     "end_time": "2025-01-10T20:20:32.791225",
     "exception": false,
     "start_time": "2025-01-10T20:19:52.090822",
     "status": "completed"
    },
    "tags": []
   },
   "outputs": [
    {
     "name": "stdout",
     "output_type": "stream",
     "text": [
      "assignment_id    False\n",
      "problem_id       False\n",
      "username         False\n",
      "is_final         False\n",
      "status           False\n",
      "pre_score        False\n",
      "coefficient      False\n",
      "language_id      False\n",
      "created_at       False\n",
      "updated_at       False\n",
      "times             True\n",
      "mems              True\n",
      "verdicts          True\n",
      "dtype: bool\n"
     ]
    }
   ],
   "source": [
    "# Tách thông tin từ cột judgement ra\n",
    "\n",
    "def extract_judgement(row):\n",
    "    data_string = row['judgement']\n",
    "    try:\n",
    "        data_dict = json.loads(data_string)\n",
    "        times = data_dict.get('times', [])\n",
    "        mems = data_dict.get('mems', [])\n",
    "        verdicts = data_dict.get('verdicts', [])\n",
    "        return pd.Series([times, mems, verdicts])\n",
    "    except (json.JSONDecodeError, AttributeError):\n",
    "        return pd.Series([None, None, None])\n",
    "\n",
    "anno_data[['times', 'mems', 'verdicts']] = anno_data.apply(extract_judgement, axis = 1)\n",
    "anno_data.drop(['judgement'], axis = 1, inplace=True)\n",
    "print(anno_data.isna().any())"
   ]
  },
  {
   "cell_type": "code",
   "execution_count": 6,
   "id": "2cf121d1",
   "metadata": {
    "execution": {
     "iopub.execute_input": "2025-01-10T20:20:32.810139Z",
     "iopub.status.busy": "2025-01-10T20:20:32.809876Z",
     "iopub.status.idle": "2025-01-10T20:20:33.174184Z",
     "shell.execute_reply": "2025-01-10T20:20:33.173148Z"
    },
    "papermill": {
     "duration": 0.375329,
     "end_time": "2025-01-10T20:20:33.175703",
     "exception": false,
     "start_time": "2025-01-10T20:20:32.800374",
     "status": "completed"
    },
    "tags": []
   },
   "outputs": [
    {
     "name": "stdout",
     "output_type": "stream",
     "text": [
      "['WRONG' nan\n",
      " \"\\n\\nIn function 'int main()':\\n17:2: error: 'a' was not declared in this scope\\n\"\n",
      " ...\n",
      " \"\\n\\nIn function 'int main()':\\n13:11: error: 'fasle' was not declared in this scope\\n\"\n",
      " \"\\n\\nIn function 'int myStrlen(char*)':\\n24:14: error: 'len' was not declared in this scope\\n\"\n",
      " \"\\n\\n71:1: error: 'Viết' does not name a type\\n\"]\n",
      "Unique status values: ['SCORE' 'Compilation Error' 'pending' 'Syntax Error']\n"
     ]
    }
   ],
   "source": [
    "# Kiểm tra một số lỗi trong verdicts\n",
    "anno_data['verdicts'] = anno_data['verdicts'].apply(lambda x: ast.literal_eval(x) if isinstance(x, str) else x)\n",
    "exploded_verdicts = anno_data['verdicts'].explode()\n",
    "unique_verdicts = exploded_verdicts.unique()\n",
    "print(unique_verdicts)\n",
    "# Thông tin 'verdicts' sẽ khác nhau dựa trên 'status'\n",
    "print(f\"Unique status values: {anno_data['status'].unique()}\")"
   ]
  },
  {
   "cell_type": "markdown",
   "id": "f63b9849",
   "metadata": {
    "papermill": {
     "duration": 0.009926,
     "end_time": "2025-01-10T20:20:33.457943",
     "exception": false,
     "start_time": "2025-01-10T20:20:33.448017",
     "status": "completed"
    },
    "tags": []
   },
   "source": [
    "## Feature Engineering"
   ]
  },
  {
   "cell_type": "markdown",
   "id": "6e0e4225",
   "metadata": {
    "papermill": {
     "duration": 0.009608,
     "end_time": "2025-01-10T20:20:33.477383",
     "exception": false,
     "start_time": "2025-01-10T20:20:33.467775",
     "status": "completed"
    },
    "tags": []
   },
   "source": [
    "### Judgement Features"
   ]
  },
  {
   "cell_type": "code",
   "execution_count": 11,
   "id": "28735b72",
   "metadata": {
    "execution": {
     "iopub.execute_input": "2025-01-10T20:20:33.497943Z",
     "iopub.status.busy": "2025-01-10T20:20:33.497730Z",
     "iopub.status.idle": "2025-01-10T20:20:36.759547Z",
     "shell.execute_reply": "2025-01-10T20:20:36.758803Z"
    },
    "papermill": {
     "duration": 3.273773,
     "end_time": "2025-01-10T20:20:36.761111",
     "exception": false,
     "start_time": "2025-01-10T20:20:33.487338",
     "status": "completed"
    },
    "tags": []
   },
   "outputs": [],
   "source": [
    "# Giảm số lỗi trong verdicts\n",
    "def simplify_error_verdicts(row):\n",
    "    if row['status'] == 'Compilation Error':\n",
    "        row['verdicts'] = {'Compilation Error': -1}\n",
    "    elif row['status'] == 'Syntax Error':\n",
    "        row['verdicts'] = {'Syntax Error': -1}\n",
    "    return row['verdicts']\n",
    "anno_data['verdicts'] = anno_data.apply(simplify_error_verdicts, axis=1)\n"
   ]
  },
  {
   "cell_type": "code",
   "execution_count": 12,
   "id": "67847b62",
   "metadata": {
    "execution": {
     "iopub.execute_input": "2025-01-10T20:20:36.782700Z",
     "iopub.status.busy": "2025-01-10T20:20:36.782392Z",
     "iopub.status.idle": "2025-01-10T20:20:39.187103Z",
     "shell.execute_reply": "2025-01-10T20:20:39.186338Z"
    },
    "papermill": {
     "duration": 2.417031,
     "end_time": "2025-01-10T20:20:39.188739",
     "exception": false,
     "start_time": "2025-01-10T20:20:36.771708",
     "status": "completed"
    },
    "tags": []
   },
   "outputs": [],
   "source": [
    "# Lấy số verdicts được chấm điểm nhưng có test case bị sai\n",
    "def get_wrong(row):\n",
    "    data = row['verdicts']\n",
    "    return (json.dumps(data).replace('\"', \"\").replace('{', \"\").replace('}', \"\").split(\":\")[0] == 'WRONG')\n",
    "anno_data['WRONG'] = anno_data.apply(get_wrong, axis=1)"
   ]
  },
  {
   "cell_type": "markdown",
   "id": "93cca77a",
   "metadata": {
    "papermill": {
     "duration": 0.009675,
     "end_time": "2025-01-10T20:20:39.209041",
     "exception": false,
     "start_time": "2025-01-10T20:20:39.199366",
     "status": "completed"
    },
    "tags": []
   },
   "source": [
    "### Time-based Features"
   ]
  },
  {
   "cell_type": "code",
   "execution_count": 13,
   "id": "50c72af2",
   "metadata": {
    "execution": {
     "iopub.execute_input": "2025-01-10T20:20:39.229866Z",
     "iopub.status.busy": "2025-01-10T20:20:39.229603Z",
     "iopub.status.idle": "2025-01-10T20:20:39.687233Z",
     "shell.execute_reply": "2025-01-10T20:20:39.686501Z"
    },
    "papermill": {
     "duration": 0.470097,
     "end_time": "2025-01-10T20:20:39.688889",
     "exception": false,
     "start_time": "2025-01-10T20:20:39.218792",
     "status": "completed"
    },
    "tags": []
   },
   "outputs": [],
   "source": [
    "# Thêm năm vào ngày, vì tồn tại ngày 29 - 2 => Phải là năm nhuận\n",
    "def add_year(date):\n",
    "    month = int(date.split('-')[0])\n",
    "    year = '2019' if month >= 8 else '2020' # Năm nhuận gần nhất\n",
    "    return f'{year}-{date}'\n",
    "\n",
    "anno_data['created_at'] = pd.to_datetime(anno_data['created_at'].apply(add_year))\n",
    "anno_data['updated_at'] = pd.to_datetime(anno_data['updated_at'].apply(add_year))\n",
    "# Chuyển `created_at` và `updated_at` thành dạng số\n",
    "ref_date = pd.Timestamp('2019-01-01')\n",
    "anno_data['time_to_solve'] = (anno_data['updated_at'] - anno_data['created_at']).dt.total_seconds()\n",
    "anno_data['numeric_created_at'] = (anno_data['created_at'] - ref_date).dt.days\n",
    "anno_data['numeric_updated_at'] = (anno_data['updated_at'] - ref_date).dt.days"
   ]
  },
  {
   "cell_type": "code",
   "execution_count": 14,
   "id": "960dbfe2",
   "metadata": {
    "execution": {
     "iopub.execute_input": "2025-01-10T20:20:39.710467Z",
     "iopub.status.busy": "2025-01-10T20:20:39.710158Z",
     "iopub.status.idle": "2025-01-10T20:20:40.224082Z",
     "shell.execute_reply": "2025-01-10T20:20:40.223117Z"
    },
    "papermill": {
     "duration": 0.52618,
     "end_time": "2025-01-10T20:20:40.225679",
     "exception": false,
     "start_time": "2025-01-10T20:20:39.699499",
     "status": "completed"
    },
    "tags": []
   },
   "outputs": [],
   "source": [
    "anno_data['date'] = anno_data['created_at']\n",
    "# Lấy các giá trị liên quan ngày tháng\n",
    "anno_data['month'] = anno_data['date'].dt.month\n",
    "anno_data['hour_of_day'] = anno_data['created_at'].dt.hour\n",
    "anno_data['day_of_week'] = anno_data['created_at'].dt.dayofweek\n",
    "anno_data['day_of_month'] = anno_data['created_at'].dt.day\n",
    "\n",
    "# Chia các cột tháng ra\n",
    "month_dummies = pd.get_dummies(anno_data['month'], prefix='month')\n",
    "anno_data = pd.concat([anno_data, month_dummies], axis=1)\n",
    "for column in month_dummies.columns:\n",
    "    anno_data[column] = anno_data.groupby('username')[column].transform('sum')"
   ]
  },
  {
   "cell_type": "code",
   "execution_count": 15,
   "id": "5911ad50",
   "metadata": {
    "execution": {
     "iopub.execute_input": "2025-01-10T20:20:40.247058Z",
     "iopub.status.busy": "2025-01-10T20:20:40.246798Z",
     "iopub.status.idle": "2025-01-10T20:20:44.628560Z",
     "shell.execute_reply": "2025-01-10T20:20:44.627827Z"
    },
    "papermill": {
     "duration": 4.394166,
     "end_time": "2025-01-10T20:20:44.630122",
     "exception": false,
     "start_time": "2025-01-10T20:20:40.235956",
     "status": "completed"
    },
    "tags": []
   },
   "outputs": [],
   "source": [
    "# Thời giản giải mỗi problem\n",
    "def time_to_solve(row):\n",
    "    if row[\"status\"] == \"SCORE\" and row[\"is_final\"] == 1:\n",
    "        return (row[\"updated_at\"] - row[\"created_at\"]).total_seconds()\n",
    "    else:\n",
    "        return 0\n",
    "anno_data[\"time_to_solve_seconds\"] = anno_data.apply(time_to_solve, axis=1)\n",
    "time_to_solve_stats = anno_data.groupby(\"username\")[\"time_to_solve_seconds\"].agg([\"mean\", \"std\"])\n",
    "time_to_solve_stats.rename(columns={\"mean\": \"avg_time_to_solve\", \"std\": \"std_time_to_solve\"}, inplace=True)\n",
    "anno_data = anno_data.merge(time_to_solve_stats, on=\"username\", how=\"left\")"
   ]
  },
  {
   "cell_type": "markdown",
   "id": "1402255c",
   "metadata": {
    "papermill": {
     "duration": 0.010716,
     "end_time": "2025-01-10T20:20:44.651893",
     "exception": false,
     "start_time": "2025-01-10T20:20:44.641177",
     "status": "completed"
    },
    "tags": []
   },
   "source": [
    "### Đặc trưng mỗi sinh viên"
   ]
  },
  {
   "cell_type": "markdown",
   "id": "7d4e8896",
   "metadata": {
    "papermill": {
     "duration": 0.009886,
     "end_time": "2025-01-10T20:20:44.671965",
     "exception": false,
     "start_time": "2025-01-10T20:20:44.662079",
     "status": "completed"
    },
    "tags": []
   },
   "source": [
    "- `num_assignments`: Số assignments mỗi sinh viên đã làm\n",
    "- `num_problems`: Số problem của mỗi sinh viên đã làm\n",
    "- `num_submissons`: Số lần submit của mỗi sinh viên\n",
    "- `num_is_final`: Số bài nộp là final của mỗi sinh viên\n",
    "- `num_status_SCORE`: Số bài nộp được chấm điểm của mỗi sinh viên\n",
    "- `num_status_COMPILATION_ERROR`: Số bài nộp có lỗi compilation của mỗi sinh viên\n",
    "- `num_status_PENDING`: Số bài nộp pending của mỗi sinh viên\n",
    "- `num_status_SYNTAX_ERROR`: Số bài nộp có lỗi syntax của mỗi sinh viên\n",
    "- `num_WRONG`: Số bài nộp có test case sai của mỗi sinh viên\n",
    "- `num_late_submissions`: Số bài nộp trễ của mỗi sinh viên\n",
    "- `mean_pre_score`: Trung bình `pre_score` của mỗi sinh viên\n",
    "- `mean_coefficent`: Trung bình `coefficient` của mỗi sinh viên\n",
    "- `std_pre_score`: Độ lệch chuẩn `pre_score` của mỗi sinh viên\n",
    "- `std_coefficient`: Độ lệch chuẩn `coefficient` của mỗi sinh viên\n",
    "- `mean_num_created_at`: Trung bình ngày nộp bài của mỗi sinh viên (Không cần?)\n",
    "- `mean_num_updated_at`: Trung bình ngày chấm bài của mỗi sinh viên (Không cần?)\n",
    "- `mean_submit_hour`: Giờ trong ngày trung bình của mỗi sinh viên\n",
    "- `mean_submit_day`: Ngày trong tuần nộp bài trung bình của mỗi sinh viên"
   ]
  },
  {
   "cell_type": "code",
   "execution_count": 16,
   "id": "7932dc4d",
   "metadata": {
    "execution": {
     "iopub.execute_input": "2025-01-10T20:20:44.692784Z",
     "iopub.status.busy": "2025-01-10T20:20:44.692554Z",
     "iopub.status.idle": "2025-01-10T20:20:45.618535Z",
     "shell.execute_reply": "2025-01-10T20:20:45.617830Z"
    },
    "papermill": {
     "duration": 0.938208,
     "end_time": "2025-01-10T20:20:45.620141",
     "exception": false,
     "start_time": "2025-01-10T20:20:44.681933",
     "status": "completed"
    },
    "tags": []
   },
   "outputs": [],
   "source": [
    "\n",
    "features = anno_data.groupby('username').agg(\n",
    "    num_assignments = ('assignment_id', 'nunique'),\n",
    "    num_problems = ('problem_id', 'nunique'),\n",
    "    num_submissions = ('username', 'count'),\n",
    "    num_is_final=('is_final', 'sum'),\n",
    "    num_status_SCORE=('status', lambda x: (x == 'SCORE').sum()),\n",
    "    num_status_COMPILATION_ERROR=('status', lambda x: (x == 'Compilation Error').sum()),\n",
    "    num_status_PENDING=('status', lambda x: (x == 'pending').sum()),\n",
    "    num_status_SYNTAX_ERROR=('status', lambda x: (x == 'Syntax Error').sum()),\n",
    "    num_WRONG=('WRONG', 'sum'),\n",
    "    num_late_submissions=('coefficient', lambda x: (x < 100).sum()),\n",
    "    mean_pre_score=('pre_score', 'mean'),\n",
    "    mean_coefficient=('coefficient', 'mean'),\n",
    "    std_pre_score=('pre_score', 'std'),\n",
    "    std_coefficient=('coefficient', 'std'),\n",
    "    mean_num_created_at=('numeric_created_at', 'mean'),\n",
    "    mean_num_updated_at=('numeric_updated_at', 'mean'),\n",
    "    mean_submit_hour=('hour_of_day', 'mean'),\n",
    "    mean_submit_day=('day_of_week', 'mean'),\n",
    ").reset_index()\n"
   ]
  },
  {
   "cell_type": "code",
   "execution_count": 17,
   "id": "e289c60c",
   "metadata": {
    "execution": {
     "iopub.execute_input": "2025-01-10T20:20:45.641482Z",
     "iopub.status.busy": "2025-01-10T20:20:45.641178Z",
     "iopub.status.idle": "2025-01-10T20:20:45.799981Z",
     "shell.execute_reply": "2025-01-10T20:20:45.799220Z"
    },
    "papermill": {
     "duration": 0.171085,
     "end_time": "2025-01-10T20:20:45.801637",
     "exception": false,
     "start_time": "2025-01-10T20:20:45.630552",
     "status": "completed"
    },
    "tags": []
   },
   "outputs": [],
   "source": [
    "num_submits_per_assignment = anno_data.groupby([\"username\", \"assignment_id\"])[\"problem_id\"].count().reset_index(name=\"num_submits_per_assignment\")\n",
    "num_submits_per_assignment = num_submits_per_assignment.groupby(\"username\")[\"num_submits_per_assignment\"].agg([\"mean\", \"max\", \"min\", \"std\"]).add_prefix(\"num_submits_per_assignment_\")\n",
    "num_submits_per_problem = anno_data.groupby([\"username\", \"problem_id\"])[\"assignment_id\"].count().reset_index(name=\"num_submits_per_problem\")\n",
    "num_submits_per_problem = num_submits_per_problem.groupby(\"username\")[\"num_submits_per_problem\"].agg([\"mean\", \"max\", \"min\", \"std\"]).add_prefix(\"num_submits_per_problem_\")\n",
    "\n",
    "features = features.merge(num_submits_per_assignment, on=\"username\", how=\"left\")\n",
    "features = features.merge(num_submits_per_problem, on=\"username\", how=\"left\")"
   ]
  },
  {
   "cell_type": "code",
   "execution_count": 18,
   "id": "4f2f823e",
   "metadata": {
    "execution": {
     "iopub.execute_input": "2025-01-10T20:20:45.822902Z",
     "iopub.status.busy": "2025-01-10T20:20:45.822644Z",
     "iopub.status.idle": "2025-01-10T20:20:45.941170Z",
     "shell.execute_reply": "2025-01-10T20:20:45.940498Z"
    },
    "papermill": {
     "duration": 0.130692,
     "end_time": "2025-01-10T20:20:45.942854",
     "exception": false,
     "start_time": "2025-01-10T20:20:45.812162",
     "status": "completed"
    },
    "tags": []
   },
   "outputs": [],
   "source": [
    "# Số lần đạt điểm tối đa (`pre_score == 10000`)\n",
    "full_score_count = anno_data[(anno_data['is_final']) & (anno_data['pre_score'] == 10000)]['username'].value_counts().reset_index()\n",
    "full_score_count.columns = ['username', 'num_full_score']\n",
    "\n",
    "total_scores = (\n",
    "    anno_data[\n",
    "        (anno_data['is_final']) & (anno_data['pre_score'] == 10000)\n",
    "    ]\n",
    "    .groupby(['username', 'problem_id'])\n",
    "    .agg(\n",
    "        pre_score=('pre_score', 'first'),\n",
    "        coefficient=('coefficient', 'first')\n",
    "    )\n",
    "    .reset_index()\n",
    "    .assign(\n",
    "        score=lambda x: (x['pre_score'] / 100) * (x['coefficient'] / 100)\n",
    "    )\n",
    "    .groupby('username')['score'].sum().reset_index(name='total_score')\n",
    ")\n",
    "\n",
    "features = features.merge(\n",
    "    full_score_count, on='username', how='left'\n",
    ")\n",
    "\n",
    "features = features.merge(total_scores, on='username', how='left')\n",
    "\n",
    "features['num_full_score'] = features['num_full_score'].fillna(0).astype(int)\n",
    "features['total_score'] = features['total_score'].fillna(0).astype(int)"
   ]
  },
  {
   "cell_type": "code",
   "execution_count": 19,
   "id": "6ea4f48a",
   "metadata": {
    "execution": {
     "iopub.execute_input": "2025-01-10T20:20:45.963913Z",
     "iopub.status.busy": "2025-01-10T20:20:45.963673Z",
     "iopub.status.idle": "2025-01-10T20:20:46.385208Z",
     "shell.execute_reply": "2025-01-10T20:20:46.384399Z"
    },
    "papermill": {
     "duration": 0.433462,
     "end_time": "2025-01-10T20:20:46.386688",
     "exception": false,
     "start_time": "2025-01-10T20:20:45.953226",
     "status": "completed"
    },
    "tags": []
   },
   "outputs": [
    {
     "data": {
      "text/html": [
       "<div>\n",
       "<style scoped>\n",
       "    .dataframe tbody tr th:only-of-type {\n",
       "        vertical-align: middle;\n",
       "    }\n",
       "\n",
       "    .dataframe tbody tr th {\n",
       "        vertical-align: top;\n",
       "    }\n",
       "\n",
       "    .dataframe thead th {\n",
       "        text-align: right;\n",
       "    }\n",
       "</style>\n",
       "<table border=\"1\" class=\"dataframe\">\n",
       "  <thead>\n",
       "    <tr style=\"text-align: right;\">\n",
       "      <th></th>\n",
       "      <th>assignment_id</th>\n",
       "      <th>problem_id</th>\n",
       "      <th>username</th>\n",
       "      <th>is_final</th>\n",
       "      <th>status</th>\n",
       "      <th>pre_score</th>\n",
       "      <th>coefficient</th>\n",
       "      <th>language_id</th>\n",
       "      <th>created_at</th>\n",
       "      <th>updated_at</th>\n",
       "      <th>...</th>\n",
       "      <th>avg_time_to_solve</th>\n",
       "      <th>std_time_to_solve</th>\n",
       "      <th>0-2</th>\n",
       "      <th>3-5</th>\n",
       "      <th>6-8</th>\n",
       "      <th>9-11</th>\n",
       "      <th>12-14</th>\n",
       "      <th>15-17</th>\n",
       "      <th>18-20</th>\n",
       "      <th>21-23</th>\n",
       "    </tr>\n",
       "  </thead>\n",
       "  <tbody>\n",
       "    <tr>\n",
       "      <th>0</th>\n",
       "      <td>90ce27571176d87961b565d5ef4b3de33ede04ac</td>\n",
       "      <td>789454427dd4097a14749e3dde63346b7a8d3811</td>\n",
       "      <td>ed9eaeb6a707f50154024b24d7efcb874a9795dd</td>\n",
       "      <td>0</td>\n",
       "      <td>SCORE</td>\n",
       "      <td>0</td>\n",
       "      <td>100</td>\n",
       "      <td>it0012</td>\n",
       "      <td>2019-10-09 08:02:04</td>\n",
       "      <td>2019-10-09 08:06:58</td>\n",
       "      <td>...</td>\n",
       "      <td>3.784173</td>\n",
       "      <td>4.873416</td>\n",
       "      <td>8</td>\n",
       "      <td>20</td>\n",
       "      <td>47</td>\n",
       "      <td>26</td>\n",
       "      <td>17</td>\n",
       "      <td>15</td>\n",
       "      <td>0</td>\n",
       "      <td>0</td>\n",
       "    </tr>\n",
       "    <tr>\n",
       "      <th>1</th>\n",
       "      <td>90ce27571176d87961b565d5ef4b3de33ede04ac</td>\n",
       "      <td>789454427dd4097a14749e3dde63346b7a8d3811</td>\n",
       "      <td>ed9eaeb6a707f50154024b24d7efcb874a9795dd</td>\n",
       "      <td>0</td>\n",
       "      <td>SCORE</td>\n",
       "      <td>0</td>\n",
       "      <td>100</td>\n",
       "      <td>it0012</td>\n",
       "      <td>2019-10-09 08:04:41</td>\n",
       "      <td>2019-10-09 08:04:51</td>\n",
       "      <td>...</td>\n",
       "      <td>3.784173</td>\n",
       "      <td>4.873416</td>\n",
       "      <td>8</td>\n",
       "      <td>20</td>\n",
       "      <td>47</td>\n",
       "      <td>26</td>\n",
       "      <td>17</td>\n",
       "      <td>15</td>\n",
       "      <td>0</td>\n",
       "      <td>0</td>\n",
       "    </tr>\n",
       "    <tr>\n",
       "      <th>2</th>\n",
       "      <td>90ce27571176d87961b565d5ef4b3de33ede04ac</td>\n",
       "      <td>789454427dd4097a14749e3dde63346b7a8d3811</td>\n",
       "      <td>ed9eaeb6a707f50154024b24d7efcb874a9795dd</td>\n",
       "      <td>1</td>\n",
       "      <td>SCORE</td>\n",
       "      <td>10000</td>\n",
       "      <td>100</td>\n",
       "      <td>it0012</td>\n",
       "      <td>2019-10-09 08:06:49</td>\n",
       "      <td>2019-10-09 08:06:58</td>\n",
       "      <td>...</td>\n",
       "      <td>3.784173</td>\n",
       "      <td>4.873416</td>\n",
       "      <td>8</td>\n",
       "      <td>20</td>\n",
       "      <td>47</td>\n",
       "      <td>26</td>\n",
       "      <td>17</td>\n",
       "      <td>15</td>\n",
       "      <td>0</td>\n",
       "      <td>0</td>\n",
       "    </tr>\n",
       "    <tr>\n",
       "      <th>3</th>\n",
       "      <td>90ce27571176d87961b565d5ef4b3de33ede04ac</td>\n",
       "      <td>bf96fbdc5f499538c3e2bfbec5779c8a14b0a9ff</td>\n",
       "      <td>ed9eaeb6a707f50154024b24d7efcb874a9795dd</td>\n",
       "      <td>1</td>\n",
       "      <td>SCORE</td>\n",
       "      <td>10000</td>\n",
       "      <td>100</td>\n",
       "      <td>it0012</td>\n",
       "      <td>2019-10-09 08:47:52</td>\n",
       "      <td>2019-10-09 08:48:01</td>\n",
       "      <td>...</td>\n",
       "      <td>3.784173</td>\n",
       "      <td>4.873416</td>\n",
       "      <td>8</td>\n",
       "      <td>20</td>\n",
       "      <td>47</td>\n",
       "      <td>26</td>\n",
       "      <td>17</td>\n",
       "      <td>15</td>\n",
       "      <td>0</td>\n",
       "      <td>0</td>\n",
       "    </tr>\n",
       "    <tr>\n",
       "      <th>4</th>\n",
       "      <td>90ce27571176d87961b565d5ef4b3de33ede04ac</td>\n",
       "      <td>7a6e5ca470ff47c3b5048f240c4738de71010c78</td>\n",
       "      <td>ed9eaeb6a707f50154024b24d7efcb874a9795dd</td>\n",
       "      <td>1</td>\n",
       "      <td>SCORE</td>\n",
       "      <td>10000</td>\n",
       "      <td>100</td>\n",
       "      <td>it0012</td>\n",
       "      <td>2019-10-09 09:19:35</td>\n",
       "      <td>2019-10-09 09:19:45</td>\n",
       "      <td>...</td>\n",
       "      <td>3.784173</td>\n",
       "      <td>4.873416</td>\n",
       "      <td>8</td>\n",
       "      <td>20</td>\n",
       "      <td>47</td>\n",
       "      <td>26</td>\n",
       "      <td>17</td>\n",
       "      <td>15</td>\n",
       "      <td>0</td>\n",
       "      <td>0</td>\n",
       "    </tr>\n",
       "    <tr>\n",
       "      <th>...</th>\n",
       "      <td>...</td>\n",
       "      <td>...</td>\n",
       "      <td>...</td>\n",
       "      <td>...</td>\n",
       "      <td>...</td>\n",
       "      <td>...</td>\n",
       "      <td>...</td>\n",
       "      <td>...</td>\n",
       "      <td>...</td>\n",
       "      <td>...</td>\n",
       "      <td>...</td>\n",
       "      <td>...</td>\n",
       "      <td>...</td>\n",
       "      <td>...</td>\n",
       "      <td>...</td>\n",
       "      <td>...</td>\n",
       "      <td>...</td>\n",
       "      <td>...</td>\n",
       "      <td>...</td>\n",
       "      <td>...</td>\n",
       "      <td>...</td>\n",
       "    </tr>\n",
       "    <tr>\n",
       "      <th>295193</th>\n",
       "      <td>613aea04c978f5e72fffc8bcff1f7b695a63f7b1</td>\n",
       "      <td>388516cbf597351226be1bdbe5ef30b9dcef570f</td>\n",
       "      <td>232cce96362898f08e9150ba244adaf2d6583ab2</td>\n",
       "      <td>1</td>\n",
       "      <td>SCORE</td>\n",
       "      <td>10000</td>\n",
       "      <td>100</td>\n",
       "      <td>it0012</td>\n",
       "      <td>2020-01-15 16:03:43</td>\n",
       "      <td>2020-01-15 16:03:53</td>\n",
       "      <td>...</td>\n",
       "      <td>3.820175</td>\n",
       "      <td>5.165809</td>\n",
       "      <td>17</td>\n",
       "      <td>14</td>\n",
       "      <td>49</td>\n",
       "      <td>28</td>\n",
       "      <td>73</td>\n",
       "      <td>34</td>\n",
       "      <td>12</td>\n",
       "      <td>1</td>\n",
       "    </tr>\n",
       "    <tr>\n",
       "      <th>295194</th>\n",
       "      <td>613aea04c978f5e72fffc8bcff1f7b695a63f7b1</td>\n",
       "      <td>d2b96124ccb8e27b4b8dacdb935e729cb1ba546b</td>\n",
       "      <td>232cce96362898f08e9150ba244adaf2d6583ab2</td>\n",
       "      <td>0</td>\n",
       "      <td>Compilation Error</td>\n",
       "      <td>0</td>\n",
       "      <td>100</td>\n",
       "      <td>it0012</td>\n",
       "      <td>2020-01-15 16:04:07</td>\n",
       "      <td>2020-01-15 16:05:08</td>\n",
       "      <td>...</td>\n",
       "      <td>3.820175</td>\n",
       "      <td>5.165809</td>\n",
       "      <td>17</td>\n",
       "      <td>14</td>\n",
       "      <td>49</td>\n",
       "      <td>28</td>\n",
       "      <td>73</td>\n",
       "      <td>34</td>\n",
       "      <td>12</td>\n",
       "      <td>1</td>\n",
       "    </tr>\n",
       "    <tr>\n",
       "      <th>295195</th>\n",
       "      <td>613aea04c978f5e72fffc8bcff1f7b695a63f7b1</td>\n",
       "      <td>d2b96124ccb8e27b4b8dacdb935e729cb1ba546b</td>\n",
       "      <td>232cce96362898f08e9150ba244adaf2d6583ab2</td>\n",
       "      <td>1</td>\n",
       "      <td>SCORE</td>\n",
       "      <td>10000</td>\n",
       "      <td>100</td>\n",
       "      <td>it0012</td>\n",
       "      <td>2020-01-15 16:04:58</td>\n",
       "      <td>2020-01-15 16:05:08</td>\n",
       "      <td>...</td>\n",
       "      <td>3.820175</td>\n",
       "      <td>5.165809</td>\n",
       "      <td>17</td>\n",
       "      <td>14</td>\n",
       "      <td>49</td>\n",
       "      <td>28</td>\n",
       "      <td>73</td>\n",
       "      <td>34</td>\n",
       "      <td>12</td>\n",
       "      <td>1</td>\n",
       "    </tr>\n",
       "    <tr>\n",
       "      <th>295196</th>\n",
       "      <td>613aea04c978f5e72fffc8bcff1f7b695a63f7b1</td>\n",
       "      <td>8c0f8dd4ff55e1609f733e043ac5e88b1dde6e7c</td>\n",
       "      <td>232cce96362898f08e9150ba244adaf2d6583ab2</td>\n",
       "      <td>1</td>\n",
       "      <td>SCORE</td>\n",
       "      <td>10000</td>\n",
       "      <td>100</td>\n",
       "      <td>it0012</td>\n",
       "      <td>2020-01-15 16:05:13</td>\n",
       "      <td>2020-01-15 16:05:22</td>\n",
       "      <td>...</td>\n",
       "      <td>3.820175</td>\n",
       "      <td>5.165809</td>\n",
       "      <td>17</td>\n",
       "      <td>14</td>\n",
       "      <td>49</td>\n",
       "      <td>28</td>\n",
       "      <td>73</td>\n",
       "      <td>34</td>\n",
       "      <td>12</td>\n",
       "      <td>1</td>\n",
       "    </tr>\n",
       "    <tr>\n",
       "      <th>295197</th>\n",
       "      <td>613aea04c978f5e72fffc8bcff1f7b695a63f7b1</td>\n",
       "      <td>e1baec9d1d9af44372188067b55edfec747f1342</td>\n",
       "      <td>232cce96362898f08e9150ba244adaf2d6583ab2</td>\n",
       "      <td>1</td>\n",
       "      <td>SCORE</td>\n",
       "      <td>10000</td>\n",
       "      <td>100</td>\n",
       "      <td>it0012</td>\n",
       "      <td>2020-01-15 16:05:40</td>\n",
       "      <td>2020-01-15 16:05:50</td>\n",
       "      <td>...</td>\n",
       "      <td>3.820175</td>\n",
       "      <td>5.165809</td>\n",
       "      <td>17</td>\n",
       "      <td>14</td>\n",
       "      <td>49</td>\n",
       "      <td>28</td>\n",
       "      <td>73</td>\n",
       "      <td>34</td>\n",
       "      <td>12</td>\n",
       "      <td>1</td>\n",
       "    </tr>\n",
       "  </tbody>\n",
       "</table>\n",
       "<p>295198 rows × 41 columns</p>\n",
       "</div>"
      ],
      "text/plain": [
       "                                   assignment_id  \\\n",
       "0       90ce27571176d87961b565d5ef4b3de33ede04ac   \n",
       "1       90ce27571176d87961b565d5ef4b3de33ede04ac   \n",
       "2       90ce27571176d87961b565d5ef4b3de33ede04ac   \n",
       "3       90ce27571176d87961b565d5ef4b3de33ede04ac   \n",
       "4       90ce27571176d87961b565d5ef4b3de33ede04ac   \n",
       "...                                          ...   \n",
       "295193  613aea04c978f5e72fffc8bcff1f7b695a63f7b1   \n",
       "295194  613aea04c978f5e72fffc8bcff1f7b695a63f7b1   \n",
       "295195  613aea04c978f5e72fffc8bcff1f7b695a63f7b1   \n",
       "295196  613aea04c978f5e72fffc8bcff1f7b695a63f7b1   \n",
       "295197  613aea04c978f5e72fffc8bcff1f7b695a63f7b1   \n",
       "\n",
       "                                      problem_id  \\\n",
       "0       789454427dd4097a14749e3dde63346b7a8d3811   \n",
       "1       789454427dd4097a14749e3dde63346b7a8d3811   \n",
       "2       789454427dd4097a14749e3dde63346b7a8d3811   \n",
       "3       bf96fbdc5f499538c3e2bfbec5779c8a14b0a9ff   \n",
       "4       7a6e5ca470ff47c3b5048f240c4738de71010c78   \n",
       "...                                          ...   \n",
       "295193  388516cbf597351226be1bdbe5ef30b9dcef570f   \n",
       "295194  d2b96124ccb8e27b4b8dacdb935e729cb1ba546b   \n",
       "295195  d2b96124ccb8e27b4b8dacdb935e729cb1ba546b   \n",
       "295196  8c0f8dd4ff55e1609f733e043ac5e88b1dde6e7c   \n",
       "295197  e1baec9d1d9af44372188067b55edfec747f1342   \n",
       "\n",
       "                                        username  is_final             status  \\\n",
       "0       ed9eaeb6a707f50154024b24d7efcb874a9795dd         0              SCORE   \n",
       "1       ed9eaeb6a707f50154024b24d7efcb874a9795dd         0              SCORE   \n",
       "2       ed9eaeb6a707f50154024b24d7efcb874a9795dd         1              SCORE   \n",
       "3       ed9eaeb6a707f50154024b24d7efcb874a9795dd         1              SCORE   \n",
       "4       ed9eaeb6a707f50154024b24d7efcb874a9795dd         1              SCORE   \n",
       "...                                          ...       ...                ...   \n",
       "295193  232cce96362898f08e9150ba244adaf2d6583ab2         1              SCORE   \n",
       "295194  232cce96362898f08e9150ba244adaf2d6583ab2         0  Compilation Error   \n",
       "295195  232cce96362898f08e9150ba244adaf2d6583ab2         1              SCORE   \n",
       "295196  232cce96362898f08e9150ba244adaf2d6583ab2         1              SCORE   \n",
       "295197  232cce96362898f08e9150ba244adaf2d6583ab2         1              SCORE   \n",
       "\n",
       "        pre_score  coefficient language_id          created_at  \\\n",
       "0               0          100      it0012 2019-10-09 08:02:04   \n",
       "1               0          100      it0012 2019-10-09 08:04:41   \n",
       "2           10000          100      it0012 2019-10-09 08:06:49   \n",
       "3           10000          100      it0012 2019-10-09 08:47:52   \n",
       "4           10000          100      it0012 2019-10-09 09:19:35   \n",
       "...           ...          ...         ...                 ...   \n",
       "295193      10000          100      it0012 2020-01-15 16:03:43   \n",
       "295194          0          100      it0012 2020-01-15 16:04:07   \n",
       "295195      10000          100      it0012 2020-01-15 16:04:58   \n",
       "295196      10000          100      it0012 2020-01-15 16:05:13   \n",
       "295197      10000          100      it0012 2020-01-15 16:05:40   \n",
       "\n",
       "                updated_at  ... avg_time_to_solve std_time_to_solve 0-2  3-5  \\\n",
       "0      2019-10-09 08:06:58  ...          3.784173          4.873416   8   20   \n",
       "1      2019-10-09 08:04:51  ...          3.784173          4.873416   8   20   \n",
       "2      2019-10-09 08:06:58  ...          3.784173          4.873416   8   20   \n",
       "3      2019-10-09 08:48:01  ...          3.784173          4.873416   8   20   \n",
       "4      2019-10-09 09:19:45  ...          3.784173          4.873416   8   20   \n",
       "...                    ...  ...               ...               ...  ..  ...   \n",
       "295193 2020-01-15 16:03:53  ...          3.820175          5.165809  17   14   \n",
       "295194 2020-01-15 16:05:08  ...          3.820175          5.165809  17   14   \n",
       "295195 2020-01-15 16:05:08  ...          3.820175          5.165809  17   14   \n",
       "295196 2020-01-15 16:05:22  ...          3.820175          5.165809  17   14   \n",
       "295197 2020-01-15 16:05:50  ...          3.820175          5.165809  17   14   \n",
       "\n",
       "        6-8  9-11  12-14  15-17  18-20  21-23  \n",
       "0        47    26     17     15      0      0  \n",
       "1        47    26     17     15      0      0  \n",
       "2        47    26     17     15      0      0  \n",
       "3        47    26     17     15      0      0  \n",
       "4        47    26     17     15      0      0  \n",
       "...     ...   ...    ...    ...    ...    ...  \n",
       "295193   49    28     73     34     12      1  \n",
       "295194   49    28     73     34     12      1  \n",
       "295195   49    28     73     34     12      1  \n",
       "295196   49    28     73     34     12      1  \n",
       "295197   49    28     73     34     12      1  \n",
       "\n",
       "[295198 rows x 41 columns]"
      ]
     },
     "execution_count": 19,
     "metadata": {},
     "output_type": "execute_result"
    }
   ],
   "source": [
    "bins = [0, 3, 6, 9, 12, 15, 18, 21, 24]\n",
    "labels = ['0-2', '3-5', '6-8', '9-11', '12-14', '15-17', '18-20', '21-23']\n",
    "anno_data['time_slot'] = pd.cut(anno_data['hour_of_day'], bins=bins, labels=labels, right=True)\n",
    "for label in labels:\n",
    "    anno_data[label] = (anno_data['time_slot'] == label).astype(int)\n",
    "    anno_data[label] = anno_data.groupby('username')[label].transform('sum')\n",
    "\n",
    "anno_data = anno_data.drop(columns=['time_slot', 'date'])\n",
    "anno_data"
   ]
  },
  {
   "cell_type": "markdown",
   "id": "70fba704",
   "metadata": {
    "papermill": {
     "duration": 0.010068,
     "end_time": "2025-01-10T20:20:46.407701",
     "exception": false,
     "start_time": "2025-01-10T20:20:46.397633",
     "status": "completed"
    },
    "tags": []
   },
   "source": [
    "### Đặc trưng Assignment và Problem"
   ]
  },
  {
   "cell_type": "code",
   "execution_count": 20,
   "id": "42e8b18d",
   "metadata": {
    "execution": {
     "iopub.execute_input": "2025-01-10T20:20:46.429052Z",
     "iopub.status.busy": "2025-01-10T20:20:46.428811Z",
     "iopub.status.idle": "2025-01-10T20:20:46.749216Z",
     "shell.execute_reply": "2025-01-10T20:20:46.748485Z"
    },
    "papermill": {
     "duration": 0.333055,
     "end_time": "2025-01-10T20:20:46.750864",
     "exception": false,
     "start_time": "2025-01-10T20:20:46.417809",
     "status": "completed"
    },
    "tags": []
   },
   "outputs": [],
   "source": [
    "assignments_per_problem = anno_data.groupby('problem_id')['assignment_id'].unique()\n",
    "# Tính số lượng sinh viên đã tham gia mỗi assignment_id\n",
    "students_per_assignment = anno_data.groupby('assignment_id')['username'].nunique()\n",
    "# Tính số lượng sinh viên đã tham gia mỗi problem_id thông qua các assignment_id\n",
    "students_per_problem = assignments_per_problem.apply(lambda x: students_per_assignment.loc[x].sum())\n",
    "# Tính số lượng sinh viên đã giải được mỗi problem_id\n",
    "final_solutions = anno_data[(anno_data['is_final'] == 1) & (anno_data['pre_score'] == 10000)]\n",
    "solved_counts = final_solutions.groupby('problem_id')['username'].nunique()\n",
    "\n",
    "assignment_features = pd.DataFrame({\n",
    "    'problem_id': students_per_problem.index,\n",
    "    'participated': students_per_problem.values,\n",
    "    'solved': solved_counts.reindex(students_per_problem.index, fill_value=0).values,\n",
    "})\n"
   ]
  },
  {
   "cell_type": "markdown",
   "id": "614f47db",
   "metadata": {
    "papermill": {
     "duration": 0.010067,
     "end_time": "2025-01-10T20:20:46.771896",
     "exception": false,
     "start_time": "2025-01-10T20:20:46.761829",
     "status": "completed"
    },
    "tags": []
   },
   "source": [
    "### Ratio Features"
   ]
  },
  {
   "cell_type": "markdown",
   "id": "424573b1",
   "metadata": {
    "papermill": {
     "duration": 0.010152,
     "end_time": "2025-01-10T20:20:46.792234",
     "exception": false,
     "start_time": "2025-01-10T20:20:46.782082",
     "status": "completed"
    },
    "tags": []
   },
   "source": [
    "- `ratio_final_submissions`: Tỉ lệ bài nộp là final trên số lần nộp\n",
    "- `ratio_error_submissions`: Tỉ lệ bài nộp là lỗi trên số lần nộp\n",
    "- `ratio_late_submissions`: Tỉ lệ bài nộp trễ trên trên số lần nộp\n",
    "- `ratio_pending_submissions`: Tỉ lệ bài nộp có tình trạng pending trên số lần nộp\n",
    "- `ratio_scores_submissions`: Tỉ lệ bài nộp được chấm điểm trên số lần nộp\n",
    "- `ratio_final_scores`: Tỉ lệ bài nộp là final trên số lần được chấm điểm\n",
    "- `ratio_full_scores`: Tỉ lệ bài nộp được full điểm trên số problems\n",
    "- `ratio_submissions_problems`: Tỉ lệ nộp bài trên số problems\n",
    "- `ratio_assignment_done`: Tỉ lệ bài nộp được chấm điểm trên số assignment\n",
    "- `ratio_problems_done`: Tỉ lệ problems đã làm trên tổng số problems\n",
    "- `ratio_wrong_problems`: Tỉ lệ bài nộp bị wrong trên tổng số problems\n",
    "- `ratio_wrong_assignments`: Tỉ lệ bài nộp bị wrong trên tổng số assignments\n",
    "- `ratio_wrong_scores`: Tỉ lệ bài nộp bị wrong trên số lần được chấm điểm"
   ]
  },
  {
   "cell_type": "code",
   "execution_count": 21,
   "id": "bc9b6135",
   "metadata": {
    "execution": {
     "iopub.execute_input": "2025-01-10T20:20:46.813945Z",
     "iopub.status.busy": "2025-01-10T20:20:46.813706Z",
     "iopub.status.idle": "2025-01-10T20:20:46.830875Z",
     "shell.execute_reply": "2025-01-10T20:20:46.830150Z"
    },
    "papermill": {
     "duration": 0.029632,
     "end_time": "2025-01-10T20:20:46.832066",
     "exception": false,
     "start_time": "2025-01-10T20:20:46.802434",
     "status": "completed"
    },
    "tags": []
   },
   "outputs": [],
   "source": [
    "features['ratio_final_submissions'] = features[\"num_is_final\"] / (features[\"num_submissions\"] + 10**-9)\n",
    "features['ratio_error_submissions'] = (features[\"num_status_COMPILATION_ERROR\"] + features[\"num_status_SYNTAX_ERROR\"]) / (features[\"num_submissions\"] + 10**-9)\n",
    "features['ratio_late_submissions'] = features[\"num_late_submissions\"] / (features['num_submissions'] + 10**-9)\n",
    "features['ratio_pending_submissions'] = features[\"num_status_PENDING\"]/ (features[\"num_submissions\"] + 10**-9)\n",
    "features['ratio_scores_submissions'] = features[\"num_status_SCORE\"] / (features[\"num_submissions\"] + 10**-9)\n",
    "features['ratio_final_scores'] = features[\"num_is_final\"] / (features[\"num_status_SCORE\"] + 10**-9)\n",
    "features['ratio_full_scores'] = features[\"num_full_score\"] / (features[\"num_problems\"] + 10**-9)\n",
    "features['ratio_scores_submissions'] = features[\"num_status_SCORE\"] / (features[\"num_submissions\"] + 10**-9)\n",
    "features[\"ratio_submissions_assignments\"] = features[\"num_submissions\"] / (features[\"num_assignments\"] + 10**-9)\n",
    "features[\"ratio_submissions_problems\"] = features[\"num_submissions\"] / (features[\"num_problems\"] + 10**-9)\n",
    "features[\"ratio_scores_assignments\"] = features[\"num_status_SCORE\"] / (features[\"num_assignments\"] + 10**-9)\n",
    "features[\"ratio_scores_problems\"] = features[\"num_status_SCORE\"] / (features[\"num_problems\"] + 10**-9)\n",
    "features['ratio_assignment_done'] = features[\"num_assignments\"] / (features[\"num_assignments\"].max() + 10**-9)\n",
    "features['ratio_problems_done'] = features[\"num_problems\"] / (features[\"num_problems\"].max() + 10**-9)\n",
    "features['ratio_wrong_problems'] = features['num_WRONG'] / (features[\"num_problems\"] + 10**-9)\n",
    "features['ratio_wrong_assignments'] = features['num_WRONG'] / (features[\"num_assignments\"] + 10**-9)\n",
    "features['ratio_wrong_scores'] = features['num_WRONG'] / (features[\"num_status_SCORE\"] + 10**-9)\n"
   ]
  },
  {
   "cell_type": "code",
   "execution_count": 22,
   "id": "f3520deb",
   "metadata": {
    "execution": {
     "iopub.execute_input": "2025-01-10T20:20:46.854031Z",
     "iopub.status.busy": "2025-01-10T20:20:46.853796Z",
     "iopub.status.idle": "2025-01-10T20:20:47.159968Z",
     "shell.execute_reply": "2025-01-10T20:20:47.158860Z"
    },
    "papermill": {
     "duration": 0.318654,
     "end_time": "2025-01-10T20:20:47.161769",
     "exception": false,
     "start_time": "2025-01-10T20:20:46.843115",
     "status": "completed"
    },
    "tags": []
   },
   "outputs": [],
   "source": [
    "anno_data = anno_data.merge(features, on='username', how='left')"
   ]
  },
  {
   "cell_type": "markdown",
   "id": "a5a4e9ac",
   "metadata": {
    "papermill": {
     "duration": 0.010334,
     "end_time": "2025-01-10T20:20:47.184388",
     "exception": false,
     "start_time": "2025-01-10T20:20:47.174054",
     "status": "completed"
    },
    "tags": []
   },
   "source": [
    "## Đặc trưng theo độ khó\n",
    "Nếu tỉ lệ làm được bài của tất cả sinh viên :\n",
    "- `>= 0.7` thì bài tập đó được xếp vào mức dễ: `easy`\n",
    "- `>= 0.4` thì bài tập đó được xếp vào mức trung bình: `medium`\n",
    "- `>= 0.2` thì bài tập đó được xếp vào mức khó: `hard`\n",
    "- `>= 0.1` thì bài tập đó được xếp vào mức siêu khó: `super_hard`\n",
    "- Còn lại thì bài tập đó được xếp vào mức hủy diệt khó: `deadly_hard`"
   ]
  },
  {
   "cell_type": "code",
   "execution_count": 23,
   "id": "504c507b",
   "metadata": {
    "execution": {
     "iopub.execute_input": "2025-01-10T20:20:47.205865Z",
     "iopub.status.busy": "2025-01-10T20:20:47.205608Z",
     "iopub.status.idle": "2025-01-10T20:20:47.211216Z",
     "shell.execute_reply": "2025-01-10T20:20:47.210569Z"
    },
    "papermill": {
     "duration": 0.01764,
     "end_time": "2025-01-10T20:20:47.212267",
     "exception": false,
     "start_time": "2025-01-10T20:20:47.194627",
     "status": "completed"
    },
    "tags": []
   },
   "outputs": [],
   "source": [
    "def difficult_ranking(ratio):\n",
    "    if ratio >= 0.7:\n",
    "        return 'easy'\n",
    "    elif ratio >= 0.4:\n",
    "        return 'medium'\n",
    "    elif ratio >= 0.2:\n",
    "        return 'hard'\n",
    "    elif ratio >= 0.1:\n",
    "        return 'super_hard'\n",
    "    else:\n",
    "        return 'deadly_hard'\n",
    "assignment_features[\"ratio_solved_participated\"] = assignment_features[\"solved\"] / assignment_features[\"participated\"]\n",
    "assignment_features['difficulty'] = assignment_features['ratio_solved_participated'].apply(difficult_ranking)"
   ]
  },
  {
   "cell_type": "code",
   "execution_count": 24,
   "id": "0d6eaeec",
   "metadata": {
    "execution": {
     "iopub.execute_input": "2025-01-10T20:20:47.233399Z",
     "iopub.status.busy": "2025-01-10T20:20:47.233167Z",
     "iopub.status.idle": "2025-01-10T20:20:47.905831Z",
     "shell.execute_reply": "2025-01-10T20:20:47.904851Z"
    },
    "papermill": {
     "duration": 0.684921,
     "end_time": "2025-01-10T20:20:47.907529",
     "exception": false,
     "start_time": "2025-01-10T20:20:47.222608",
     "status": "completed"
    },
    "tags": []
   },
   "outputs": [],
   "source": [
    "anno_data = anno_data.merge(assignment_features[['problem_id', 'difficulty']], on='problem_id', how='left')\n",
    "ac_submissions = anno_data[(anno_data['is_final'] == 1) & (anno_data['pre_score'] == 10000)]\n",
    "diff_counts = ac_submissions.groupby(['username', 'difficulty']).size().unstack(fill_value=0).reset_index()\n",
    "anno_data = anno_data.merge(diff_counts, on='username', how='left')\n",
    "cols = ['easy', 'medium', 'hard', 'super_hard', 'deadly_hard',]\n",
    "for col in cols:\n",
    "    anno_data[col] = anno_data[col].fillna(0).astype(int)\n",
    "anno_data.drop(columns='difficulty', inplace=True)"
   ]
  },
  {
   "cell_type": "markdown",
   "id": "ed6ef6b2",
   "metadata": {
    "papermill": {
     "duration": 0.010247,
     "end_time": "2025-01-10T20:20:47.928761",
     "exception": false,
     "start_time": "2025-01-10T20:20:47.918514",
     "status": "completed"
    },
    "tags": []
   },
   "source": [
    "### One-hot-encoding\n",
    "One-hot encoding cho các cột như `problem_id`, `assignment_id`. \n",
    "Việc One-hot encoding cho cột `language_id` cho kết quả tệ hơn"
   ]
  },
  {
   "cell_type": "code",
   "execution_count": 25,
   "id": "db483877",
   "metadata": {
    "execution": {
     "iopub.execute_input": "2025-01-10T20:20:47.950292Z",
     "iopub.status.busy": "2025-01-10T20:20:47.950003Z",
     "iopub.status.idle": "2025-01-10T20:20:54.083269Z",
     "shell.execute_reply": "2025-01-10T20:20:54.082282Z"
    },
    "papermill": {
     "duration": 6.145983,
     "end_time": "2025-01-10T20:20:54.085020",
     "exception": false,
     "start_time": "2025-01-10T20:20:47.939037",
     "status": "completed"
    },
    "tags": []
   },
   "outputs": [],
   "source": [
    "problem_encoder = OneHotEncoder(sparse_output=False)\n",
    "anno_data['problem_id'] = anno_data['problem_id'].str.strip()\n",
    "# Thực hiện fit_transform trên cột 'problem_id'\n",
    "problem_encoded_columns = problem_encoder.fit_transform(anno_data[['problem_id']])\n",
    "# Lấy tên các cột sau khi encoding và thêm tiền tố 'problem__'\n",
    "problem_encoded_column_names = ['problem__' + cat for cat in problem_encoder.categories_[0]]\n",
    "# Tạo DataFrame cho các cột đã được One-Hot problem_encoder\n",
    "problem_encoder_df = pd.DataFrame(problem_encoded_columns, columns=problem_encoded_column_names, dtype=int)\n",
    "# Kết hợp DataFrame ban đầu với các cột mới\n",
    "anno_data = pd.concat([anno_data, problem_encoder_df], axis=1)\n",
    "\n",
    "## Không quan trọng, thậm chí còn làm mất điểm.\n",
    "# language_encoder = OneHotEncoder(sparse_output=False)\n",
    "# anno_data['language_id'] = anno_data['language_id'].str.strip()\n",
    "# # Thực hiện fit_transform trên cột 'assignment_id'\n",
    "# language_encoded_columns = language_encoder.fit_transform(anno_data[['language_id']])\n",
    "# # Lấy tên các cột sau khi encoding và thêm tiền tố 'in__'\n",
    "# language_encoded_column_names = ['language__' + cat for cat in language_encoder.categories_[0]]\n",
    "# # Tạo DataFrame cho các cột đã được One-Hot Encoded\n",
    "# language_encoder_df = pd.DataFrame(language_encoded_columns, columns=language_encoded_column_names, dtype=int)\n",
    "# # Kết hợp DataFrame ban đầu với các cột mới\n",
    "# anno_data = pd.concat([anno_data, language_encoder_df], axis=1)\n",
    "\n",
    "assignment_encoder = OneHotEncoder(sparse_output=False)\n",
    "anno_data['assignment_id'] = anno_data['assignment_id'].str.strip()\n",
    "# Thực hiện fit_transform trên cột 'assignment_id'\n",
    "assignment_encoded_columns = assignment_encoder.fit_transform(anno_data[['assignment_id']])\n",
    "# Lấy tên các cột sau khi encoding và thêm tiền tố 'assignment_id__'\n",
    "assignment_encoded_column_names = ['assignment__' + cat for cat in assignment_encoder.categories_[0]]\n",
    "# Tạo DataFrame cho các cột đã được One-Hot Encoded\n",
    "assignment_encoder_df = pd.DataFrame(assignment_encoded_columns, columns=assignment_encoded_column_names, dtype=int)\n",
    "# Kết hợp DataFrame ban đầu với các cột mới\n",
    "anno_data = pd.concat([anno_data, assignment_encoder_df], axis=1)"
   ]
  },
  {
   "cell_type": "markdown",
   "id": "19b2c7f3",
   "metadata": {
    "papermill": {
     "duration": 0.01017,
     "end_time": "2025-01-10T20:20:54.106002",
     "exception": false,
     "start_time": "2025-01-10T20:20:54.095832",
     "status": "completed"
    },
    "tags": []
   },
   "source": [
    "## Dự đoán điểm"
   ]
  },
  {
   "cell_type": "code",
   "execution_count": 26,
   "id": "e660cf75",
   "metadata": {
    "execution": {
     "iopub.execute_input": "2025-01-10T20:20:54.127571Z",
     "iopub.status.busy": "2025-01-10T20:20:54.127247Z",
     "iopub.status.idle": "2025-01-10T20:20:54.211186Z",
     "shell.execute_reply": "2025-01-10T20:20:54.210563Z"
    },
    "papermill": {
     "duration": 0.096377,
     "end_time": "2025-01-10T20:20:54.212505",
     "exception": false,
     "start_time": "2025-01-10T20:20:54.116128",
     "status": "completed"
    },
    "tags": []
   },
   "outputs": [],
   "source": [
    "tbtl_file = '/kaggle/input/cs114-final-project/tbtl-public.csv'\n",
    "qt_file = '/kaggle/input/cs114-final-project/qt-public.csv'\n",
    "th_file = '/kaggle/input/cs114-final-project/th-public.csv'\n",
    "ck_file = '/kaggle/input/cs114-final-project/ck-public.csv'\n",
    "\n",
    "tbtl_data = pd.read_csv(tbtl_file)\n",
    "qt_data = pd.read_csv(qt_file)\n",
    "th_data = pd.read_csv(th_file)\n",
    "ck_data = pd.read_csv(ck_file)\n",
    "# Chuyển cột điểm sang dạng số\n",
    "th_data.iloc[:, 1] = pd.to_numeric(th_data.iloc[:, 1], errors='coerce')\n",
    "tbtl_data.iloc[:, 1] = pd.to_numeric(tbtl_data.iloc[:, 1], errors='coerce')\n",
    "ck_data.iloc[:, 1] = pd.to_numeric(ck_data.iloc[:, 1], errors='coerce')\n",
    "qt_data.iloc[:, 1] = pd.to_numeric(qt_data.iloc[:, 1], errors='coerce')"
   ]
  },
  {
   "cell_type": "code",
   "execution_count": 27,
   "id": "33d9d413",
   "metadata": {
    "execution": {
     "iopub.execute_input": "2025-01-10T20:20:54.233964Z",
     "iopub.status.busy": "2025-01-10T20:20:54.233730Z",
     "iopub.status.idle": "2025-01-10T20:20:54.239780Z",
     "shell.execute_reply": "2025-01-10T20:20:54.238961Z"
    },
    "papermill": {
     "duration": 0.018227,
     "end_time": "2025-01-10T20:20:54.241091",
     "exception": false,
     "start_time": "2025-01-10T20:20:54.222864",
     "status": "completed"
    },
    "tags": []
   },
   "outputs": [
    {
     "name": "stdout",
     "output_type": "stream",
     "text": [
      "TBTL NaN values: 0\n",
      "QT NaN values: 7\n",
      "TH NaN values: 8\n",
      "CK NaN values: 6\n"
     ]
    }
   ],
   "source": [
    "print(f\"TBTL NaN values: {tbtl_data['TBTL'].isna().sum()}\")\n",
    "print(f\"QT NaN values: {qt_data['diemqt'].isna().sum()}\")\n",
    "print(f\"TH NaN values: {th_data['TH'].isna().sum()}\")\n",
    "print(f\"CK NaN values: {ck_data['CK'].isna().sum()}\")"
   ]
  },
  {
   "cell_type": "code",
   "execution_count": 28,
   "id": "a63cd7e0",
   "metadata": {
    "execution": {
     "iopub.execute_input": "2025-01-10T20:20:54.262275Z",
     "iopub.status.busy": "2025-01-10T20:20:54.262073Z",
     "iopub.status.idle": "2025-01-10T20:20:54.266816Z",
     "shell.execute_reply": "2025-01-10T20:20:54.266190Z"
    },
    "papermill": {
     "duration": 0.016581,
     "end_time": "2025-01-10T20:20:54.267871",
     "exception": false,
     "start_time": "2025-01-10T20:20:54.251290",
     "status": "completed"
    },
    "tags": []
   },
   "outputs": [],
   "source": [
    "qt_data['diemqt'] = qt_data['diemqt'].fillna(0)\n",
    "th_data['TH'] = th_data['TH'].fillna(0)\n",
    "ck_data['CK'] = ck_data['CK'].fillna(0)"
   ]
  },
  {
   "cell_type": "code",
   "execution_count": 29,
   "id": "1f8cd6eb",
   "metadata": {
    "execution": {
     "iopub.execute_input": "2025-01-10T20:20:54.288953Z",
     "iopub.status.busy": "2025-01-10T20:20:54.288755Z",
     "iopub.status.idle": "2025-01-10T20:20:54.293123Z",
     "shell.execute_reply": "2025-01-10T20:20:54.292501Z"
    },
    "papermill": {
     "duration": 0.016186,
     "end_time": "2025-01-10T20:20:54.294202",
     "exception": false,
     "start_time": "2025-01-10T20:20:54.278016",
     "status": "completed"
    },
    "tags": []
   },
   "outputs": [],
   "source": [
    "tbtl_data.rename(columns={\"hash\": \"username\"}, inplace=True)\n",
    "qt_data.rename(columns={\"hash\": \"username\"}, inplace=True)\n",
    "th_data.rename(columns={\"hash\": \"username\"}, inplace=True)\n",
    "ck_data.rename(columns={\"hash\": \"username\"}, inplace=True)"
   ]
  },
  {
   "cell_type": "code",
   "execution_count": 30,
   "id": "5c274b94",
   "metadata": {
    "execution": {
     "iopub.execute_input": "2025-01-10T20:20:54.317566Z",
     "iopub.status.busy": "2025-01-10T20:20:54.317328Z",
     "iopub.status.idle": "2025-01-10T20:20:59.843604Z",
     "shell.execute_reply": "2025-01-10T20:20:59.842890Z"
    },
    "papermill": {
     "duration": 5.540849,
     "end_time": "2025-01-10T20:20:59.845185",
     "exception": false,
     "start_time": "2025-01-10T20:20:54.304336",
     "status": "completed"
    },
    "tags": []
   },
   "outputs": [],
   "source": [
    "def create_train_predict_df(df, anno_df):\n",
    "    train_df = df.copy()\n",
    "    username = train_df['username']\n",
    "    anno_username = anno_df['username']\n",
    "    # Tìm các giá trị \"username\" có trong annonimized_df nhưng không có trong df_th - cần predict\n",
    "    unique_username = anno_username[~anno_username.isin(username)]\n",
    "    # Lọc các hàng trong annonimized_df mà có \"username\" nằm trong unique_username\n",
    "    fil_df = anno_df[anno_df['username'].isin(unique_username)]\n",
    "    unique_values = fil_df['username'].unique()\n",
    "    predict_df = pd.DataFrame(unique_values, columns=['username'])\n",
    "    predict_col = df.columns[1]\n",
    "    train_df.rename(columns=rename_columns, inplace=True)\n",
    "    ac_summary = anno_df.groupby('username').first().reset_index()\n",
    "    train_df = pd.merge(train_df, ac_summary, on='username', how='left')\n",
    "    predict_df = pd.merge(predict_df, ac_summary, on='username', how='left')\n",
    "    drop_col = ['assignment_id', 'problem_id', 'is_final', 'status', 'pre_score',\n",
    "                'coefficient', 'language_id', 'created_at', 'updated_at',\n",
    "                'times', 'mems', 'verdicts', 'WRONG']\n",
    "    train_df.drop(columns=drop_col, inplace=True)\n",
    "    predict_df.drop(columns=drop_col, inplace=True)\n",
    "    train_df.dropna(subset=predict_col, inplace=True)\n",
    "    return train_df, predict_df\n",
    "\n",
    "train_df_TL, predict_df_TL = create_train_predict_df(tbtl_data, anno_data)\n",
    "train_df_QT, predict_df_QT = create_train_predict_df(qt_data, anno_data)\n",
    "train_df_TH, predict_df_TH = create_train_predict_df(th_data, anno_data)\n",
    "train_df_CK, predict_df_CK = create_train_predict_df(ck_data, anno_data)\n",
    "\n",
    "\n"
   ]
  },
  {
   "cell_type": "code",
   "execution_count": 31,
   "id": "0b044956",
   "metadata": {
    "execution": {
     "iopub.execute_input": "2025-01-10T20:20:59.867356Z",
     "iopub.status.busy": "2025-01-10T20:20:59.867126Z",
     "iopub.status.idle": "2025-01-10T20:20:59.872383Z",
     "shell.execute_reply": "2025-01-10T20:20:59.871737Z"
    },
    "papermill": {
     "duration": 0.017466,
     "end_time": "2025-01-10T20:20:59.873653",
     "exception": false,
     "start_time": "2025-01-10T20:20:59.856187",
     "status": "completed"
    },
    "tags": []
   },
   "outputs": [
    {
     "name": "stdout",
     "output_type": "stream",
     "text": [
      "['std_time_to_solve', 'std_pre_score', 'std_coefficient', 'num_submits_per_assignment_std', 'num_submits_per_problem_std']\n"
     ]
    }
   ],
   "source": [
    "# Lọc cột có giá trị NaN\n",
    "columns_with_nan = train_df_TL.columns[train_df_TL.isna().any()].tolist()\n",
    "print(columns_with_nan)"
   ]
  },
  {
   "cell_type": "code",
   "execution_count": 32,
   "id": "e6e67a10",
   "metadata": {
    "execution": {
     "iopub.execute_input": "2025-01-10T20:20:59.895255Z",
     "iopub.status.busy": "2025-01-10T20:20:59.895048Z",
     "iopub.status.idle": "2025-01-10T20:20:59.911151Z",
     "shell.execute_reply": "2025-01-10T20:20:59.910598Z"
    },
    "papermill": {
     "duration": 0.028005,
     "end_time": "2025-01-10T20:20:59.912321",
     "exception": false,
     "start_time": "2025-01-10T20:20:59.884316",
     "status": "completed"
    },
    "tags": []
   },
   "outputs": [],
   "source": [
    "train_df_TL[columns_with_nan] = train_df_TL[columns_with_nan].fillna(0)\n",
    "train_df_QT[columns_with_nan] = train_df_QT[columns_with_nan].fillna(0)\n",
    "train_df_TH[columns_with_nan] = train_df_TH[columns_with_nan].fillna(0)\n",
    "train_df_CK[columns_with_nan] = train_df_CK[columns_with_nan].fillna(0)\n",
    "\n",
    "predict_df_TL[columns_with_nan] = predict_df_TL[columns_with_nan].fillna(0)\n",
    "predict_df_QT[columns_with_nan] = predict_df_QT[columns_with_nan].fillna(0)\n",
    "predict_df_TH[columns_with_nan] = predict_df_TH[columns_with_nan].fillna(0)\n",
    "predict_df_CK[columns_with_nan] = predict_df_CK[columns_with_nan].fillna(0)\n"
   ]
  },
  {
   "cell_type": "code",
   "execution_count": 33,
   "id": "93296c7a",
   "metadata": {
    "execution": {
     "iopub.execute_input": "2025-01-10T20:20:59.933797Z",
     "iopub.status.busy": "2025-01-10T20:20:59.933598Z",
     "iopub.status.idle": "2025-01-10T20:20:59.950139Z",
     "shell.execute_reply": "2025-01-10T20:20:59.949584Z"
    },
    "papermill": {
     "duration": 0.028598,
     "end_time": "2025-01-10T20:20:59.951285",
     "exception": false,
     "start_time": "2025-01-10T20:20:59.922687",
     "status": "completed"
    },
    "tags": []
   },
   "outputs": [],
   "source": [
    "base_columns_to_drop = [\n",
    "    'std_time_to_solve', 'avg_time_to_solve',\n",
    "    'ratio_wrong_problems', 'ratio_wrong_assignments', 'ratio_wrong_scores',\n",
    "    'ratio_pending_submissions', 'num_submits_per_assignment_min',\n",
    "    'ratio_error_submissions'\n",
    "]\n",
    "\n",
    "columns_to_drop_TL = base_columns_to_drop + ['num_WRONG']\n",
    "columns_to_drop_QT = base_columns_to_drop + [\n",
    "    'num_status_SYNTAX_ERROR',\n",
    "    'num_status_COMPILATION_ERROR',\n",
    "    'num_status_PENDING',\n",
    "    'num_submits_per_assignment_std',\n",
    "    'mean_submit_day', 'mean_submit_hour',\n",
    "    'mean_num_updated_at', 'mean_num_created_at',\n",
    "    'num_WRONG', \n",
    "    'num_submits_per_assignment_max',\n",
    "    'num_submits_per_problem_std', \n",
    "    'numeric_updated_at'\n",
    "]\n",
    "columns_to_drop_TH = base_columns_to_drop + [\n",
    "    'num_status_SYNTAX_ERROR',\n",
    "    'num_status_COMPILATION_ERROR',\n",
    "    'num_status_PENDING',\n",
    "    'num_submits_per_problem_std', 'num_submits_per_problem_min',\n",
    "    'num_submits_per_problem_max', 'num_submits_per_problem_mean',\n",
    "    'num_submits_per_assignment_std',\n",
    "    'num_submits_per_assignment_max', 'num_submits_per_assignment_mean',\n",
    "    'hour_of_day', 'day_of_week', 'day_of_month',\n",
    "    'num_assignments'\n",
    "]\n",
    "\n",
    "columns_to_drop_CK = base_columns_to_drop + []  \n",
    "train_df_TL = train_df_TL.drop(columns=columns_to_drop_TL)\n",
    "train_df_QT = train_df_QT.drop(columns=columns_to_drop_QT)\n",
    "train_df_TH = train_df_TH.drop(columns=columns_to_drop_TH)\n",
    "train_df_CK = train_df_CK.drop(columns=columns_to_drop_CK)\n",
    "\n",
    "predict_df_TL = predict_df_TL.drop(columns=columns_to_drop_TL)\n",
    "predict_df_QT = predict_df_QT.drop(columns=columns_to_drop_QT)\n",
    "predict_df_TH = predict_df_TH.drop(columns=columns_to_drop_TH)\n",
    "predict_df_CK = predict_df_CK.drop(columns=columns_to_drop_CK)"
   ]
  },
  {
   "cell_type": "code",
   "execution_count": 34,
   "id": "6f8f1bf3",
   "metadata": {
    "execution": {
     "iopub.execute_input": "2025-01-10T20:20:59.973011Z",
     "iopub.status.busy": "2025-01-10T20:20:59.972807Z",
     "iopub.status.idle": "2025-01-10T20:20:59.981167Z",
     "shell.execute_reply": "2025-01-10T20:20:59.980595Z"
    },
    "papermill": {
     "duration": 0.020235,
     "end_time": "2025-01-10T20:20:59.982322",
     "exception": false,
     "start_time": "2025-01-10T20:20:59.962087",
     "status": "completed"
    },
    "tags": []
   },
   "outputs": [],
   "source": [
    "models = [\n",
    "    ('ridge', Ridge(), {\n",
    "        'regressor__alpha': [2, 3, 4, 5, 6, 10]\n",
    "    }),\n",
    "    ('elastic_net', ElasticNet(max_iter=500000), {\n",
    "        'regressor__alpha': [0.01, 0.1, 0.3],\n",
    "        'regressor__l1_ratio': [0.2, 0.4, 0.6, 0.8]\n",
    "    }),\n",
    "    ('svr', SVR(), {\n",
    "        'regressor__C': [2.0, 4.0, 5.0, 6.0 ,7.0],\n",
    "        'regressor__kernel': ['rbf'],\n",
    "        'regressor__epsilon': [0.2, 0.4, 0.6, 0.8, 1]\n",
    "    }),\n",
    "    ('random_forest', RandomForestRegressor(random_state=42), {\n",
    "        'regressor__n_estimators': [50, 70, 100],\n",
    "        'regressor__max_depth': [None, 3, 5, 7, 10]\n",
    "    }),\n",
    "    #7\n",
    "    ('knn_regressor', KNeighborsRegressor(), {\n",
    "        'regressor__n_neighbors': [10, 15, 20],\n",
    "        'regressor__weights': ['distance']\n",
    "    }),\n",
    "    ('catboost', CatBoostRegressor(random_state=42, verbose=0, task_type=\"GPU\", devices='0'), {\n",
    "        'regressor__iterations': [400, 500],\n",
    "        'regressor__learning_rate': [0.03, 0.05],\n",
    "        'regressor__depth': [8, 10],\n",
    "        'regressor__l2_leaf_reg': [1, 3, 5]\n",
    "    }),\n",
    "    ('mapie', MapieRegressor(\n",
    "        estimator=GradientBoostingRegressor(random_state=42),\n",
    "        cv=5,\n",
    "        method=\"plus\"\n",
    "    ), {\n",
    "        'regressor__estimator__n_estimators': [100, 200],\n",
    "        'regressor__estimator__max_depth': [5, 6],\n",
    "    }),\n",
    "]"
   ]
  },
  {
   "cell_type": "code",
   "execution_count": 35,
   "id": "ac025364",
   "metadata": {
    "execution": {
     "iopub.execute_input": "2025-01-10T20:21:00.003738Z",
     "iopub.status.busy": "2025-01-10T20:21:00.003526Z",
     "iopub.status.idle": "2025-01-10T20:21:00.009705Z",
     "shell.execute_reply": "2025-01-10T20:21:00.009056Z"
    },
    "papermill": {
     "duration": 0.017986,
     "end_time": "2025-01-10T20:21:00.010792",
     "exception": false,
     "start_time": "2025-01-10T20:20:59.992806",
     "status": "completed"
    },
    "tags": []
   },
   "outputs": [],
   "source": [
    "class WeightedVotingRegressor(BaseEstimator, RegressorMixin):\n",
    "    def __init__(self, models, weights):\n",
    "        self.models = models\n",
    "        self.weights = weights\n",
    "\n",
    "    def predict(self, X):\n",
    "        preds = np.array([model.predict(X) for model in self.models])\n",
    "        weighted_predictions = np.average(preds, axis=0, weights=self.weights)\n",
    "        return weighted_predictions\n",
    "\n",
    "def search_model(X, y, random_seed, models):\n",
    "    best_models = []\n",
    "    i = 0\n",
    "    for name, model, params in models:\n",
    "        pipeline = Pipeline([\n",
    "            ('scaler', StandardScaler()),\n",
    "            ('regressor', model)\n",
    "        ])\n",
    "\n",
    "        param_grid = {\n",
    "            'scaler': [StandardScaler(), MinMaxScaler(), None]\n",
    "        }\n",
    "        param_grid.update(params)\n",
    "        kf = KFold(n_splits=5, shuffle=True, random_state=random_seed)\n",
    "        grid_search = GridSearchCV(pipeline, param_grid, cv=kf, scoring='r2', n_jobs=1, verbose = 1)\n",
    "        grid_search.fit(X, y)\n",
    "\n",
    "        cv_scores = cross_val_score(grid_search.best_estimator_, X, y, cv=kf, scoring='r2')\n",
    "        mean_cv_score = np.mean(cv_scores)\n",
    "\n",
    "        i += 1\n",
    "        print(f\"#{i} Model: {name}\")\n",
    "        print(f\"Best parameters: {grid_search.best_params_}\")\n",
    "        print(f\"Mean cross-validation score: {mean_cv_score}\")\n",
    "        best = grid_search.best_estimator_\n",
    "        best_models.append(best)\n",
    "        print('-' * 30)\n",
    "\n",
    "    return best_models"
   ]
  },
  {
   "cell_type": "code",
   "execution_count": 36,
   "id": "4458ce48",
   "metadata": {
    "execution": {
     "iopub.execute_input": "2025-01-10T20:21:00.032006Z",
     "iopub.status.busy": "2025-01-10T20:21:00.031810Z",
     "iopub.status.idle": "2025-01-10T22:10:36.630116Z",
     "shell.execute_reply": "2025-01-10T22:10:36.629187Z"
    },
    "papermill": {
     "duration": 6576.623116,
     "end_time": "2025-01-10T22:10:36.644176",
     "exception": false,
     "start_time": "2025-01-10T20:21:00.021060",
     "status": "completed"
    },
    "tags": []
   },
   "outputs": [
    {
     "name": "stdout",
     "output_type": "stream",
     "text": [
      "Fitting 5 folds for each of 18 candidates, totalling 90 fits\n"
     ]
    },
    {
     "name": "stderr",
     "output_type": "stream",
     "text": [
      "/usr/local/lib/python3.10/dist-packages/sklearn/linear_model/_ridge.py:255: UserWarning: Singular matrix in solving dual problem. Using least-squares solution instead.\n",
      "  warnings.warn(\n",
      "/usr/local/lib/python3.10/dist-packages/sklearn/linear_model/_ridge.py:255: UserWarning: Singular matrix in solving dual problem. Using least-squares solution instead.\n",
      "  warnings.warn(\n",
      "/usr/local/lib/python3.10/dist-packages/sklearn/linear_model/_ridge.py:255: UserWarning: Singular matrix in solving dual problem. Using least-squares solution instead.\n",
      "  warnings.warn(\n",
      "/usr/local/lib/python3.10/dist-packages/sklearn/linear_model/_ridge.py:255: UserWarning: Singular matrix in solving dual problem. Using least-squares solution instead.\n",
      "  warnings.warn(\n",
      "/usr/local/lib/python3.10/dist-packages/sklearn/linear_model/_ridge.py:255: UserWarning: Singular matrix in solving dual problem. Using least-squares solution instead.\n",
      "  warnings.warn(\n",
      "/usr/local/lib/python3.10/dist-packages/sklearn/linear_model/_ridge.py:255: UserWarning: Singular matrix in solving dual problem. Using least-squares solution instead.\n",
      "  warnings.warn(\n",
      "/usr/local/lib/python3.10/dist-packages/sklearn/linear_model/_ridge.py:255: UserWarning: Singular matrix in solving dual problem. Using least-squares solution instead.\n",
      "  warnings.warn(\n",
      "/usr/local/lib/python3.10/dist-packages/sklearn/linear_model/_ridge.py:255: UserWarning: Singular matrix in solving dual problem. Using least-squares solution instead.\n",
      "  warnings.warn(\n",
      "/usr/local/lib/python3.10/dist-packages/sklearn/linear_model/_ridge.py:255: UserWarning: Singular matrix in solving dual problem. Using least-squares solution instead.\n",
      "  warnings.warn(\n",
      "/usr/local/lib/python3.10/dist-packages/sklearn/linear_model/_ridge.py:255: UserWarning: Singular matrix in solving dual problem. Using least-squares solution instead.\n",
      "  warnings.warn(\n",
      "/usr/local/lib/python3.10/dist-packages/sklearn/linear_model/_ridge.py:255: UserWarning: Singular matrix in solving dual problem. Using least-squares solution instead.\n",
      "  warnings.warn(\n",
      "/usr/local/lib/python3.10/dist-packages/sklearn/linear_model/_ridge.py:255: UserWarning: Singular matrix in solving dual problem. Using least-squares solution instead.\n",
      "  warnings.warn(\n",
      "/usr/local/lib/python3.10/dist-packages/sklearn/linear_model/_ridge.py:255: UserWarning: Singular matrix in solving dual problem. Using least-squares solution instead.\n",
      "  warnings.warn(\n",
      "/usr/local/lib/python3.10/dist-packages/sklearn/linear_model/_ridge.py:255: UserWarning: Singular matrix in solving dual problem. Using least-squares solution instead.\n",
      "  warnings.warn(\n",
      "/usr/local/lib/python3.10/dist-packages/sklearn/linear_model/_ridge.py:255: UserWarning: Singular matrix in solving dual problem. Using least-squares solution instead.\n",
      "  warnings.warn(\n",
      "/usr/local/lib/python3.10/dist-packages/sklearn/linear_model/_ridge.py:255: UserWarning: Singular matrix in solving dual problem. Using least-squares solution instead.\n",
      "  warnings.warn(\n",
      "/usr/local/lib/python3.10/dist-packages/sklearn/linear_model/_ridge.py:255: UserWarning: Singular matrix in solving dual problem. Using least-squares solution instead.\n",
      "  warnings.warn(\n",
      "/usr/local/lib/python3.10/dist-packages/sklearn/linear_model/_ridge.py:255: UserWarning: Singular matrix in solving dual problem. Using least-squares solution instead.\n",
      "  warnings.warn(\n",
      "/usr/local/lib/python3.10/dist-packages/sklearn/linear_model/_ridge.py:255: UserWarning: Singular matrix in solving dual problem. Using least-squares solution instead.\n",
      "  warnings.warn(\n",
      "/usr/local/lib/python3.10/dist-packages/sklearn/linear_model/_ridge.py:255: UserWarning: Singular matrix in solving dual problem. Using least-squares solution instead.\n",
      "  warnings.warn(\n",
      "/usr/local/lib/python3.10/dist-packages/sklearn/linear_model/_ridge.py:255: UserWarning: Singular matrix in solving dual problem. Using least-squares solution instead.\n",
      "  warnings.warn(\n",
      "/usr/local/lib/python3.10/dist-packages/sklearn/linear_model/_ridge.py:255: UserWarning: Singular matrix in solving dual problem. Using least-squares solution instead.\n",
      "  warnings.warn(\n",
      "/usr/local/lib/python3.10/dist-packages/sklearn/linear_model/_ridge.py:255: UserWarning: Singular matrix in solving dual problem. Using least-squares solution instead.\n",
      "  warnings.warn(\n",
      "/usr/local/lib/python3.10/dist-packages/sklearn/linear_model/_ridge.py:255: UserWarning: Singular matrix in solving dual problem. Using least-squares solution instead.\n",
      "  warnings.warn(\n",
      "/usr/local/lib/python3.10/dist-packages/sklearn/linear_model/_ridge.py:255: UserWarning: Singular matrix in solving dual problem. Using least-squares solution instead.\n",
      "  warnings.warn(\n",
      "/usr/local/lib/python3.10/dist-packages/sklearn/linear_model/_ridge.py:255: UserWarning: Singular matrix in solving dual problem. Using least-squares solution instead.\n",
      "  warnings.warn(\n",
      "/usr/local/lib/python3.10/dist-packages/sklearn/linear_model/_ridge.py:255: UserWarning: Singular matrix in solving dual problem. Using least-squares solution instead.\n",
      "  warnings.warn(\n",
      "/usr/local/lib/python3.10/dist-packages/sklearn/linear_model/_ridge.py:255: UserWarning: Singular matrix in solving dual problem. Using least-squares solution instead.\n",
      "  warnings.warn(\n",
      "/usr/local/lib/python3.10/dist-packages/sklearn/linear_model/_ridge.py:255: UserWarning: Singular matrix in solving dual problem. Using least-squares solution instead.\n",
      "  warnings.warn(\n",
      "/usr/local/lib/python3.10/dist-packages/sklearn/linear_model/_ridge.py:255: UserWarning: Singular matrix in solving dual problem. Using least-squares solution instead.\n",
      "  warnings.warn(\n"
     ]
    },
    {
     "name": "stdout",
     "output_type": "stream",
     "text": [
      "#1 Model: ridge\n",
      "Best parameters: {'regressor__alpha': 6, 'scaler': MinMaxScaler()}\n",
      "Mean cross-validation score: 0.21171716888403944\n",
      "------------------------------\n",
      "Fitting 5 folds for each of 36 candidates, totalling 180 fits\n"
     ]
    },
    {
     "name": "stderr",
     "output_type": "stream",
     "text": [
      "/usr/local/lib/python3.10/dist-packages/sklearn/linear_model/_coordinate_descent.py:631: ConvergenceWarning: Objective did not converge. You might want to increase the number of iterations, check the scale of the features or consider increasing regularisation. Duality gap: 4.925e+00, tolerance: 5.073e-02\n",
      "  model = cd_fast.enet_coordinate_descent(\n",
      "/usr/local/lib/python3.10/dist-packages/sklearn/linear_model/_coordinate_descent.py:631: ConvergenceWarning: Objective did not converge. You might want to increase the number of iterations, check the scale of the features or consider increasing regularisation. Duality gap: 1.209e+02, tolerance: 5.442e-02\n",
      "  model = cd_fast.enet_coordinate_descent(\n",
      "/usr/local/lib/python3.10/dist-packages/sklearn/linear_model/_coordinate_descent.py:631: ConvergenceWarning: Objective did not converge. You might want to increase the number of iterations, check the scale of the features or consider increasing regularisation. Duality gap: 1.459e+02, tolerance: 5.073e-02\n",
      "  model = cd_fast.enet_coordinate_descent(\n"
     ]
    },
    {
     "name": "stdout",
     "output_type": "stream",
     "text": [
      "#2 Model: elastic_net\n",
      "Best parameters: {'regressor__alpha': 0.01, 'regressor__l1_ratio': 0.2, 'scaler': MinMaxScaler()}\n",
      "Mean cross-validation score: 0.19883845891276114\n",
      "------------------------------\n",
      "Fitting 5 folds for each of 75 candidates, totalling 375 fits\n",
      "#3 Model: svr\n",
      "Best parameters: {'regressor__C': 2.0, 'regressor__epsilon': 0.6, 'regressor__kernel': 'rbf', 'scaler': MinMaxScaler()}\n",
      "Mean cross-validation score: 0.24685953306446873\n",
      "------------------------------\n",
      "Fitting 5 folds for each of 45 candidates, totalling 225 fits\n",
      "#4 Model: random_forest\n",
      "Best parameters: {'regressor__max_depth': None, 'regressor__n_estimators': 100, 'scaler': StandardScaler()}\n",
      "Mean cross-validation score: 0.18301303094758958\n",
      "------------------------------\n",
      "Fitting 5 folds for each of 9 candidates, totalling 45 fits\n",
      "#5 Model: knn_regressor\n",
      "Best parameters: {'regressor__n_neighbors': 15, 'regressor__weights': 'distance', 'scaler': StandardScaler()}\n",
      "Mean cross-validation score: 0.1646386999532591\n",
      "------------------------------\n",
      "Fitting 5 folds for each of 72 candidates, totalling 360 fits\n",
      "#6 Model: catboost\n",
      "Best parameters: {'regressor__depth': 8, 'regressor__iterations': 400, 'regressor__l2_leaf_reg': 1, 'regressor__learning_rate': 0.03, 'scaler': MinMaxScaler()}\n",
      "Mean cross-validation score: 0.21853199855401045\n",
      "------------------------------\n",
      "Fitting 5 folds for each of 12 candidates, totalling 60 fits\n",
      "#7 Model: mapie\n",
      "Best parameters: {'regressor__estimator__max_depth': 5, 'regressor__estimator__n_estimators': 100, 'scaler': MinMaxScaler()}\n",
      "Mean cross-validation score: 0.13965619235712529\n",
      "------------------------------\n"
     ]
    },
    {
     "data": {
      "text/plain": [
       "[Pipeline(steps=[('scaler', MinMaxScaler()), ('regressor', Ridge(alpha=6))]),\n",
       " Pipeline(steps=[('scaler', MinMaxScaler()),\n",
       "                 ('regressor',\n",
       "                  ElasticNet(alpha=0.01, l1_ratio=0.2, max_iter=500000))]),\n",
       " Pipeline(steps=[('scaler', MinMaxScaler()),\n",
       "                 ('regressor', SVR(C=2.0, epsilon=0.6))]),\n",
       " Pipeline(steps=[('scaler', StandardScaler()),\n",
       "                 ('regressor', RandomForestRegressor(random_state=42))]),\n",
       " Pipeline(steps=[('scaler', StandardScaler()),\n",
       "                 ('regressor',\n",
       "                  KNeighborsRegressor(n_neighbors=15, weights='distance'))]),\n",
       " Pipeline(steps=[('scaler', MinMaxScaler()),\n",
       "                 ('regressor',\n",
       "                  <catboost.core.CatBoostRegressor object at 0x7ed06e1c9360>)]),\n",
       " Pipeline(steps=[('scaler', MinMaxScaler()),\n",
       "                 ('regressor',\n",
       "                  MapieRegressor(cv=5,\n",
       "                                 estimator=GradientBoostingRegressor(max_depth=5,\n",
       "                                                                     random_state=42)))])]"
      ]
     },
     "execution_count": 36,
     "metadata": {},
     "output_type": "execute_result"
    }
   ],
   "source": [
    "search_model(train_df_TL.drop(columns=[train_df_TL.columns[1], 'username']), train_df_TL[train_df_TL.columns[1]], 42, models)"
   ]
  },
  {
   "cell_type": "code",
   "execution_count": 37,
   "id": "e6e2a938",
   "metadata": {
    "execution": {
     "iopub.execute_input": "2025-01-10T22:10:36.669183Z",
     "iopub.status.busy": "2025-01-10T22:10:36.668948Z",
     "iopub.status.idle": "2025-01-10T22:10:39.067219Z",
     "shell.execute_reply": "2025-01-10T22:10:39.066234Z"
    },
    "papermill": {
     "duration": 2.412593,
     "end_time": "2025-01-10T22:10:39.068935",
     "exception": false,
     "start_time": "2025-01-10T22:10:36.656342",
     "status": "completed"
    },
    "tags": []
   },
   "outputs": [],
   "source": [
    "X_TBTL = train_df_TL.drop(columns=[train_df_TL.columns[1], 'username'])\n",
    "y_TBTL = train_df_TL[train_df_TL.columns[1]]\n",
    "\n",
    "model_TBTL1 = Pipeline(steps=[('scaler', MinMaxScaler()),\n",
    "                            ('regressor', SVR(C=5.0, epsilon=0.4))])\n",
    "model_TBTL1.fit(X_TBTL, y_TBTL)\n",
    "\n",
    "model_TBTL2 =  Pipeline(steps=[('scaler', None),\n",
    "                 ('regressor', CatBoostRegressor(depth=9, l2_leaf_reg=1, iterations=400, learning_rate=0.03, verbose = 0, task_type=\"GPU\", devices='0'))])\n",
    "model_TBTL2.fit(X_TBTL, y_TBTL)\n",
    "\n",
    "list_model_TBTL = [model_TBTL1, model_TBTL2]\n",
    "weights_TBTL = [0.4, 0.8]\n",
    "voting_TBTL = WeightedVotingRegressor(models=list_model_TBTL, weights=weights_TBTL)"
   ]
  },
  {
   "cell_type": "code",
   "execution_count": 38,
   "id": "b2f5ad40",
   "metadata": {
    "execution": {
     "iopub.execute_input": "2025-01-10T22:10:39.096645Z",
     "iopub.status.busy": "2025-01-10T22:10:39.096240Z",
     "iopub.status.idle": "2025-01-11T00:08:51.231876Z",
     "shell.execute_reply": "2025-01-11T00:08:51.230869Z"
    },
    "papermill": {
     "duration": 7092.166869,
     "end_time": "2025-01-11T00:08:51.250008",
     "exception": false,
     "start_time": "2025-01-10T22:10:39.083139",
     "status": "completed"
    },
    "tags": []
   },
   "outputs": [
    {
     "name": "stdout",
     "output_type": "stream",
     "text": [
      "Fitting 5 folds for each of 18 candidates, totalling 90 fits\n"
     ]
    },
    {
     "name": "stderr",
     "output_type": "stream",
     "text": [
      "/usr/local/lib/python3.10/dist-packages/sklearn/linear_model/_ridge.py:255: UserWarning: Singular matrix in solving dual problem. Using least-squares solution instead.\n",
      "  warnings.warn(\n",
      "/usr/local/lib/python3.10/dist-packages/sklearn/linear_model/_ridge.py:255: UserWarning: Singular matrix in solving dual problem. Using least-squares solution instead.\n",
      "  warnings.warn(\n",
      "/usr/local/lib/python3.10/dist-packages/sklearn/linear_model/_ridge.py:255: UserWarning: Singular matrix in solving dual problem. Using least-squares solution instead.\n",
      "  warnings.warn(\n",
      "/usr/local/lib/python3.10/dist-packages/sklearn/linear_model/_ridge.py:255: UserWarning: Singular matrix in solving dual problem. Using least-squares solution instead.\n",
      "  warnings.warn(\n",
      "/usr/local/lib/python3.10/dist-packages/sklearn/linear_model/_ridge.py:255: UserWarning: Singular matrix in solving dual problem. Using least-squares solution instead.\n",
      "  warnings.warn(\n",
      "/usr/local/lib/python3.10/dist-packages/sklearn/linear_model/_ridge.py:255: UserWarning: Singular matrix in solving dual problem. Using least-squares solution instead.\n",
      "  warnings.warn(\n",
      "/usr/local/lib/python3.10/dist-packages/sklearn/linear_model/_ridge.py:255: UserWarning: Singular matrix in solving dual problem. Using least-squares solution instead.\n",
      "  warnings.warn(\n",
      "/usr/local/lib/python3.10/dist-packages/sklearn/linear_model/_ridge.py:255: UserWarning: Singular matrix in solving dual problem. Using least-squares solution instead.\n",
      "  warnings.warn(\n",
      "/usr/local/lib/python3.10/dist-packages/sklearn/linear_model/_ridge.py:255: UserWarning: Singular matrix in solving dual problem. Using least-squares solution instead.\n",
      "  warnings.warn(\n",
      "/usr/local/lib/python3.10/dist-packages/sklearn/linear_model/_ridge.py:255: UserWarning: Singular matrix in solving dual problem. Using least-squares solution instead.\n",
      "  warnings.warn(\n",
      "/usr/local/lib/python3.10/dist-packages/sklearn/linear_model/_ridge.py:255: UserWarning: Singular matrix in solving dual problem. Using least-squares solution instead.\n",
      "  warnings.warn(\n",
      "/usr/local/lib/python3.10/dist-packages/sklearn/linear_model/_ridge.py:255: UserWarning: Singular matrix in solving dual problem. Using least-squares solution instead.\n",
      "  warnings.warn(\n",
      "/usr/local/lib/python3.10/dist-packages/sklearn/linear_model/_ridge.py:255: UserWarning: Singular matrix in solving dual problem. Using least-squares solution instead.\n",
      "  warnings.warn(\n",
      "/usr/local/lib/python3.10/dist-packages/sklearn/linear_model/_ridge.py:255: UserWarning: Singular matrix in solving dual problem. Using least-squares solution instead.\n",
      "  warnings.warn(\n",
      "/usr/local/lib/python3.10/dist-packages/sklearn/linear_model/_ridge.py:255: UserWarning: Singular matrix in solving dual problem. Using least-squares solution instead.\n",
      "  warnings.warn(\n",
      "/usr/local/lib/python3.10/dist-packages/sklearn/linear_model/_ridge.py:255: UserWarning: Singular matrix in solving dual problem. Using least-squares solution instead.\n",
      "  warnings.warn(\n",
      "/usr/local/lib/python3.10/dist-packages/sklearn/linear_model/_ridge.py:255: UserWarning: Singular matrix in solving dual problem. Using least-squares solution instead.\n",
      "  warnings.warn(\n",
      "/usr/local/lib/python3.10/dist-packages/sklearn/linear_model/_ridge.py:255: UserWarning: Singular matrix in solving dual problem. Using least-squares solution instead.\n",
      "  warnings.warn(\n",
      "/usr/local/lib/python3.10/dist-packages/sklearn/linear_model/_ridge.py:255: UserWarning: Singular matrix in solving dual problem. Using least-squares solution instead.\n",
      "  warnings.warn(\n",
      "/usr/local/lib/python3.10/dist-packages/sklearn/linear_model/_ridge.py:255: UserWarning: Singular matrix in solving dual problem. Using least-squares solution instead.\n",
      "  warnings.warn(\n",
      "/usr/local/lib/python3.10/dist-packages/sklearn/linear_model/_ridge.py:255: UserWarning: Singular matrix in solving dual problem. Using least-squares solution instead.\n",
      "  warnings.warn(\n",
      "/usr/local/lib/python3.10/dist-packages/sklearn/linear_model/_ridge.py:255: UserWarning: Singular matrix in solving dual problem. Using least-squares solution instead.\n",
      "  warnings.warn(\n",
      "/usr/local/lib/python3.10/dist-packages/sklearn/linear_model/_ridge.py:255: UserWarning: Singular matrix in solving dual problem. Using least-squares solution instead.\n",
      "  warnings.warn(\n",
      "/usr/local/lib/python3.10/dist-packages/sklearn/linear_model/_ridge.py:255: UserWarning: Singular matrix in solving dual problem. Using least-squares solution instead.\n",
      "  warnings.warn(\n",
      "/usr/local/lib/python3.10/dist-packages/sklearn/linear_model/_ridge.py:255: UserWarning: Singular matrix in solving dual problem. Using least-squares solution instead.\n",
      "  warnings.warn(\n",
      "/usr/local/lib/python3.10/dist-packages/sklearn/linear_model/_ridge.py:255: UserWarning: Singular matrix in solving dual problem. Using least-squares solution instead.\n",
      "  warnings.warn(\n",
      "/usr/local/lib/python3.10/dist-packages/sklearn/linear_model/_ridge.py:255: UserWarning: Singular matrix in solving dual problem. Using least-squares solution instead.\n",
      "  warnings.warn(\n",
      "/usr/local/lib/python3.10/dist-packages/sklearn/linear_model/_ridge.py:255: UserWarning: Singular matrix in solving dual problem. Using least-squares solution instead.\n",
      "  warnings.warn(\n",
      "/usr/local/lib/python3.10/dist-packages/sklearn/linear_model/_ridge.py:255: UserWarning: Singular matrix in solving dual problem. Using least-squares solution instead.\n",
      "  warnings.warn(\n",
      "/usr/local/lib/python3.10/dist-packages/sklearn/linear_model/_ridge.py:255: UserWarning: Singular matrix in solving dual problem. Using least-squares solution instead.\n",
      "  warnings.warn(\n"
     ]
    },
    {
     "name": "stdout",
     "output_type": "stream",
     "text": [
      "#1 Model: ridge\n",
      "Best parameters: {'regressor__alpha': 5, 'scaler': MinMaxScaler()}\n",
      "Mean cross-validation score: 0.2955278151196154\n",
      "------------------------------\n",
      "Fitting 5 folds for each of 36 candidates, totalling 180 fits\n"
     ]
    },
    {
     "name": "stderr",
     "output_type": "stream",
     "text": [
      "/usr/local/lib/python3.10/dist-packages/sklearn/linear_model/_coordinate_descent.py:631: ConvergenceWarning: Objective did not converge. You might want to increase the number of iterations, check the scale of the features or consider increasing regularisation. Duality gap: 1.548e+00, tolerance: 2.338e-01\n",
      "  model = cd_fast.enet_coordinate_descent(\n",
      "/usr/local/lib/python3.10/dist-packages/sklearn/linear_model/_coordinate_descent.py:631: ConvergenceWarning: Objective did not converge. You might want to increase the number of iterations, check the scale of the features or consider increasing regularisation. Duality gap: 5.544e-01, tolerance: 2.313e-01\n",
      "  model = cd_fast.enet_coordinate_descent(\n",
      "/usr/local/lib/python3.10/dist-packages/sklearn/linear_model/_coordinate_descent.py:631: ConvergenceWarning: Objective did not converge. You might want to increase the number of iterations, check the scale of the features or consider increasing regularisation. Duality gap: 1.589e+00, tolerance: 2.160e-01\n",
      "  model = cd_fast.enet_coordinate_descent(\n",
      "/usr/local/lib/python3.10/dist-packages/sklearn/linear_model/_coordinate_descent.py:631: ConvergenceWarning: Objective did not converge. You might want to increase the number of iterations, check the scale of the features or consider increasing regularisation. Duality gap: 2.539e+02, tolerance: 2.338e-01\n",
      "  model = cd_fast.enet_coordinate_descent(\n",
      "/usr/local/lib/python3.10/dist-packages/sklearn/linear_model/_coordinate_descent.py:631: ConvergenceWarning: Objective did not converge. You might want to increase the number of iterations, check the scale of the features or consider increasing regularisation. Duality gap: 9.600e+01, tolerance: 2.313e-01\n",
      "  model = cd_fast.enet_coordinate_descent(\n",
      "/usr/local/lib/python3.10/dist-packages/sklearn/linear_model/_coordinate_descent.py:631: ConvergenceWarning: Objective did not converge. You might want to increase the number of iterations, check the scale of the features or consider increasing regularisation. Duality gap: 6.104e+02, tolerance: 2.160e-01\n",
      "  model = cd_fast.enet_coordinate_descent(\n",
      "/usr/local/lib/python3.10/dist-packages/sklearn/linear_model/_coordinate_descent.py:631: ConvergenceWarning: Objective did not converge. You might want to increase the number of iterations, check the scale of the features or consider increasing regularisation. Duality gap: 6.606e+02, tolerance: 2.210e-01\n",
      "  model = cd_fast.enet_coordinate_descent(\n",
      "/usr/local/lib/python3.10/dist-packages/sklearn/linear_model/_coordinate_descent.py:631: ConvergenceWarning: Objective did not converge. You might want to increase the number of iterations, check the scale of the features or consider increasing regularisation. Duality gap: 6.276e+02, tolerance: 2.057e-01\n",
      "  model = cd_fast.enet_coordinate_descent(\n",
      "/usr/local/lib/python3.10/dist-packages/sklearn/linear_model/_coordinate_descent.py:631: ConvergenceWarning: Objective did not converge. You might want to increase the number of iterations, check the scale of the features or consider increasing regularisation. Duality gap: 7.823e+02, tolerance: 2.338e-01\n",
      "  model = cd_fast.enet_coordinate_descent(\n",
      "/usr/local/lib/python3.10/dist-packages/sklearn/linear_model/_coordinate_descent.py:631: ConvergenceWarning: Objective did not converge. You might want to increase the number of iterations, check the scale of the features or consider increasing regularisation. Duality gap: 7.260e+02, tolerance: 2.313e-01\n",
      "  model = cd_fast.enet_coordinate_descent(\n"
     ]
    },
    {
     "name": "stdout",
     "output_type": "stream",
     "text": [
      "#2 Model: elastic_net\n",
      "Best parameters: {'regressor__alpha': 0.01, 'regressor__l1_ratio': 0.4, 'scaler': MinMaxScaler()}\n",
      "Mean cross-validation score: 0.30179215902993867\n",
      "------------------------------\n",
      "Fitting 5 folds for each of 75 candidates, totalling 375 fits\n",
      "#3 Model: svr\n",
      "Best parameters: {'regressor__C': 7.0, 'regressor__epsilon': 0.4, 'regressor__kernel': 'rbf', 'scaler': MinMaxScaler()}\n",
      "Mean cross-validation score: 0.32657010716776314\n",
      "------------------------------\n",
      "Fitting 5 folds for each of 45 candidates, totalling 225 fits\n",
      "#4 Model: random_forest\n",
      "Best parameters: {'regressor__max_depth': None, 'regressor__n_estimators': 50, 'scaler': StandardScaler()}\n",
      "Mean cross-validation score: 0.34833217420096546\n",
      "------------------------------\n",
      "Fitting 5 folds for each of 9 candidates, totalling 45 fits\n",
      "#5 Model: knn_regressor\n",
      "Best parameters: {'regressor__n_neighbors': 10, 'regressor__weights': 'distance', 'scaler': MinMaxScaler()}\n",
      "Mean cross-validation score: 0.3288588062919497\n",
      "------------------------------\n",
      "Fitting 5 folds for each of 72 candidates, totalling 360 fits\n",
      "#6 Model: catboost\n",
      "Best parameters: {'regressor__depth': 10, 'regressor__iterations': 500, 'regressor__l2_leaf_reg': 5, 'regressor__learning_rate': 0.05, 'scaler': StandardScaler()}\n",
      "Mean cross-validation score: 0.40276496298265235\n",
      "------------------------------\n",
      "Fitting 5 folds for each of 12 candidates, totalling 60 fits\n",
      "#7 Model: mapie\n",
      "Best parameters: {'regressor__estimator__max_depth': 6, 'regressor__estimator__n_estimators': 100, 'scaler': None}\n",
      "Mean cross-validation score: 0.34880871846333295\n",
      "------------------------------\n"
     ]
    },
    {
     "data": {
      "text/plain": [
       "[Pipeline(steps=[('scaler', MinMaxScaler()), ('regressor', Ridge(alpha=5))]),\n",
       " Pipeline(steps=[('scaler', MinMaxScaler()),\n",
       "                 ('regressor',\n",
       "                  ElasticNet(alpha=0.01, l1_ratio=0.4, max_iter=500000))]),\n",
       " Pipeline(steps=[('scaler', MinMaxScaler()),\n",
       "                 ('regressor', SVR(C=7.0, epsilon=0.4))]),\n",
       " Pipeline(steps=[('scaler', StandardScaler()),\n",
       "                 ('regressor',\n",
       "                  RandomForestRegressor(n_estimators=50, random_state=42))]),\n",
       " Pipeline(steps=[('scaler', MinMaxScaler()),\n",
       "                 ('regressor',\n",
       "                  KNeighborsRegressor(n_neighbors=10, weights='distance'))]),\n",
       " Pipeline(steps=[('scaler', StandardScaler()),\n",
       "                 ('regressor',\n",
       "                  <catboost.core.CatBoostRegressor object at 0x7ed0703d1c30>)]),\n",
       " Pipeline(steps=[('scaler', None),\n",
       "                 ('regressor',\n",
       "                  MapieRegressor(cv=5,\n",
       "                                 estimator=GradientBoostingRegressor(max_depth=6,\n",
       "                                                                     random_state=42)))])]"
      ]
     },
     "execution_count": 38,
     "metadata": {},
     "output_type": "execute_result"
    }
   ],
   "source": [
    "search_model(train_df_QT.drop(columns=[train_df_QT.columns[1], 'username']), train_df_QT[train_df_QT.columns[1]], 42, models)"
   ]
  },
  {
   "cell_type": "code",
   "execution_count": 39,
   "id": "eb8e8a63",
   "metadata": {
    "execution": {
     "iopub.execute_input": "2025-01-11T00:08:51.280191Z",
     "iopub.status.busy": "2025-01-11T00:08:51.279887Z",
     "iopub.status.idle": "2025-01-11T00:09:09.841951Z",
     "shell.execute_reply": "2025-01-11T00:09:09.841012Z"
    },
    "papermill": {
     "duration": 18.579064,
     "end_time": "2025-01-11T00:09:09.843551",
     "exception": false,
     "start_time": "2025-01-11T00:08:51.264487",
     "status": "completed"
    },
    "tags": []
   },
   "outputs": [],
   "source": [
    "X_QT = train_df_QT.drop(columns=[train_df_QT.columns[1], 'username'])\n",
    "y_QT = train_df_QT[train_df_QT.columns[1]]\n",
    "\n",
    "model_QT1 = Pipeline(steps=[('scaler', MinMaxScaler()),\n",
    "                            ('regressor', SVR(C=5.0, epsilon=0.4))])\n",
    "model_QT1.fit(X_QT, y_QT)\n",
    "\n",
    "model_QT2 = Pipeline(steps=[('scaler', StandardScaler()),\n",
    "                 ('regressor',\n",
    "                  MapieRegressor(cv=5,\n",
    "                                 estimator=GradientBoostingRegressor(random_state=42, n_estimators=400, learning_rate=0.05)))])\n",
    "model_QT2.fit(X_QT, y_QT)\n",
    "\n",
    "\n",
    "model_QT3 =  Pipeline(steps=[('scaler', StandardScaler()),\n",
    "                 ('regressor',\n",
    "                  RandomForestRegressor(n_estimators=100, random_state=42, min_samples_leaf=6))])\n",
    "\n",
    "model_QT3.fit(X_QT, y_QT)\n",
    "\n",
    "model_QT4 =  Pipeline(steps=[('scaler', MinMaxScaler()),\n",
    "                 ('regressor',\n",
    "                  KNeighborsRegressor(n_neighbors=21, weights='distance'))])\n",
    "model_QT4.fit(X_QT, y_QT)\n",
    "\n",
    "list_model_QT = [model_QT1, model_QT2, model_QT3, model_QT4]\n",
    "weights_QT = [0.4, 0.3, 0.2, 0.2]\n",
    "voting_QT = WeightedVotingRegressor(models=list_model_QT, weights=weights_QT)"
   ]
  },
  {
   "cell_type": "code",
   "execution_count": 40,
   "id": "0aa9b0f0",
   "metadata": {
    "execution": {
     "iopub.execute_input": "2025-01-11T00:09:09.873312Z",
     "iopub.status.busy": "2025-01-11T00:09:09.873060Z",
     "iopub.status.idle": "2025-01-11T02:12:22.181752Z",
     "shell.execute_reply": "2025-01-11T02:12:22.180841Z"
    },
    "papermill": {
     "duration": 7392.342671,
     "end_time": "2025-01-11T02:12:22.200972",
     "exception": false,
     "start_time": "2025-01-11T00:09:09.858301",
     "status": "completed"
    },
    "tags": []
   },
   "outputs": [
    {
     "name": "stdout",
     "output_type": "stream",
     "text": [
      "Fitting 5 folds for each of 18 candidates, totalling 90 fits\n"
     ]
    },
    {
     "name": "stderr",
     "output_type": "stream",
     "text": [
      "/usr/local/lib/python3.10/dist-packages/sklearn/linear_model/_ridge.py:255: UserWarning: Singular matrix in solving dual problem. Using least-squares solution instead.\n",
      "  warnings.warn(\n",
      "/usr/local/lib/python3.10/dist-packages/sklearn/linear_model/_ridge.py:255: UserWarning: Singular matrix in solving dual problem. Using least-squares solution instead.\n",
      "  warnings.warn(\n",
      "/usr/local/lib/python3.10/dist-packages/sklearn/linear_model/_ridge.py:255: UserWarning: Singular matrix in solving dual problem. Using least-squares solution instead.\n",
      "  warnings.warn(\n",
      "/usr/local/lib/python3.10/dist-packages/sklearn/linear_model/_ridge.py:255: UserWarning: Singular matrix in solving dual problem. Using least-squares solution instead.\n",
      "  warnings.warn(\n",
      "/usr/local/lib/python3.10/dist-packages/sklearn/linear_model/_ridge.py:255: UserWarning: Singular matrix in solving dual problem. Using least-squares solution instead.\n",
      "  warnings.warn(\n",
      "/usr/local/lib/python3.10/dist-packages/sklearn/linear_model/_ridge.py:255: UserWarning: Singular matrix in solving dual problem. Using least-squares solution instead.\n",
      "  warnings.warn(\n",
      "/usr/local/lib/python3.10/dist-packages/sklearn/linear_model/_ridge.py:255: UserWarning: Singular matrix in solving dual problem. Using least-squares solution instead.\n",
      "  warnings.warn(\n",
      "/usr/local/lib/python3.10/dist-packages/sklearn/linear_model/_ridge.py:255: UserWarning: Singular matrix in solving dual problem. Using least-squares solution instead.\n",
      "  warnings.warn(\n",
      "/usr/local/lib/python3.10/dist-packages/sklearn/linear_model/_ridge.py:255: UserWarning: Singular matrix in solving dual problem. Using least-squares solution instead.\n",
      "  warnings.warn(\n",
      "/usr/local/lib/python3.10/dist-packages/sklearn/linear_model/_ridge.py:255: UserWarning: Singular matrix in solving dual problem. Using least-squares solution instead.\n",
      "  warnings.warn(\n",
      "/usr/local/lib/python3.10/dist-packages/sklearn/linear_model/_ridge.py:255: UserWarning: Singular matrix in solving dual problem. Using least-squares solution instead.\n",
      "  warnings.warn(\n",
      "/usr/local/lib/python3.10/dist-packages/sklearn/linear_model/_ridge.py:255: UserWarning: Singular matrix in solving dual problem. Using least-squares solution instead.\n",
      "  warnings.warn(\n",
      "/usr/local/lib/python3.10/dist-packages/sklearn/linear_model/_ridge.py:255: UserWarning: Singular matrix in solving dual problem. Using least-squares solution instead.\n",
      "  warnings.warn(\n",
      "/usr/local/lib/python3.10/dist-packages/sklearn/linear_model/_ridge.py:255: UserWarning: Singular matrix in solving dual problem. Using least-squares solution instead.\n",
      "  warnings.warn(\n",
      "/usr/local/lib/python3.10/dist-packages/sklearn/linear_model/_ridge.py:255: UserWarning: Singular matrix in solving dual problem. Using least-squares solution instead.\n",
      "  warnings.warn(\n",
      "/usr/local/lib/python3.10/dist-packages/sklearn/linear_model/_ridge.py:255: UserWarning: Singular matrix in solving dual problem. Using least-squares solution instead.\n",
      "  warnings.warn(\n",
      "/usr/local/lib/python3.10/dist-packages/sklearn/linear_model/_ridge.py:255: UserWarning: Singular matrix in solving dual problem. Using least-squares solution instead.\n",
      "  warnings.warn(\n",
      "/usr/local/lib/python3.10/dist-packages/sklearn/linear_model/_ridge.py:255: UserWarning: Singular matrix in solving dual problem. Using least-squares solution instead.\n",
      "  warnings.warn(\n",
      "/usr/local/lib/python3.10/dist-packages/sklearn/linear_model/_ridge.py:255: UserWarning: Singular matrix in solving dual problem. Using least-squares solution instead.\n",
      "  warnings.warn(\n",
      "/usr/local/lib/python3.10/dist-packages/sklearn/linear_model/_ridge.py:255: UserWarning: Singular matrix in solving dual problem. Using least-squares solution instead.\n",
      "  warnings.warn(\n",
      "/usr/local/lib/python3.10/dist-packages/sklearn/linear_model/_ridge.py:255: UserWarning: Singular matrix in solving dual problem. Using least-squares solution instead.\n",
      "  warnings.warn(\n",
      "/usr/local/lib/python3.10/dist-packages/sklearn/linear_model/_ridge.py:255: UserWarning: Singular matrix in solving dual problem. Using least-squares solution instead.\n",
      "  warnings.warn(\n",
      "/usr/local/lib/python3.10/dist-packages/sklearn/linear_model/_ridge.py:255: UserWarning: Singular matrix in solving dual problem. Using least-squares solution instead.\n",
      "  warnings.warn(\n",
      "/usr/local/lib/python3.10/dist-packages/sklearn/linear_model/_ridge.py:255: UserWarning: Singular matrix in solving dual problem. Using least-squares solution instead.\n",
      "  warnings.warn(\n",
      "/usr/local/lib/python3.10/dist-packages/sklearn/linear_model/_ridge.py:255: UserWarning: Singular matrix in solving dual problem. Using least-squares solution instead.\n",
      "  warnings.warn(\n",
      "/usr/local/lib/python3.10/dist-packages/sklearn/linear_model/_ridge.py:255: UserWarning: Singular matrix in solving dual problem. Using least-squares solution instead.\n",
      "  warnings.warn(\n",
      "/usr/local/lib/python3.10/dist-packages/sklearn/linear_model/_ridge.py:255: UserWarning: Singular matrix in solving dual problem. Using least-squares solution instead.\n",
      "  warnings.warn(\n",
      "/usr/local/lib/python3.10/dist-packages/sklearn/linear_model/_ridge.py:255: UserWarning: Singular matrix in solving dual problem. Using least-squares solution instead.\n",
      "  warnings.warn(\n",
      "/usr/local/lib/python3.10/dist-packages/sklearn/linear_model/_ridge.py:255: UserWarning: Singular matrix in solving dual problem. Using least-squares solution instead.\n",
      "  warnings.warn(\n",
      "/usr/local/lib/python3.10/dist-packages/sklearn/linear_model/_ridge.py:255: UserWarning: Singular matrix in solving dual problem. Using least-squares solution instead.\n",
      "  warnings.warn(\n"
     ]
    },
    {
     "name": "stdout",
     "output_type": "stream",
     "text": [
      "#1 Model: ridge\n",
      "Best parameters: {'regressor__alpha': 5, 'scaler': MinMaxScaler()}\n",
      "Mean cross-validation score: 0.4042092177965909\n",
      "------------------------------\n",
      "Fitting 5 folds for each of 36 candidates, totalling 180 fits\n"
     ]
    },
    {
     "name": "stderr",
     "output_type": "stream",
     "text": [
      "/usr/local/lib/python3.10/dist-packages/sklearn/linear_model/_coordinate_descent.py:631: ConvergenceWarning: Objective did not converge. You might want to increase the number of iterations, check the scale of the features or consider increasing regularisation. Duality gap: 6.056e+02, tolerance: 3.191e-01\n",
      "  model = cd_fast.enet_coordinate_descent(\n",
      "/usr/local/lib/python3.10/dist-packages/sklearn/linear_model/_coordinate_descent.py:631: ConvergenceWarning: Objective did not converge. You might want to increase the number of iterations, check the scale of the features or consider increasing regularisation. Duality gap: 8.369e+01, tolerance: 3.379e-01\n",
      "  model = cd_fast.enet_coordinate_descent(\n",
      "/usr/local/lib/python3.10/dist-packages/sklearn/linear_model/_coordinate_descent.py:631: ConvergenceWarning: Objective did not converge. You might want to increase the number of iterations, check the scale of the features or consider increasing regularisation. Duality gap: 4.658e+02, tolerance: 3.043e-01\n",
      "  model = cd_fast.enet_coordinate_descent(\n",
      "/usr/local/lib/python3.10/dist-packages/sklearn/linear_model/_coordinate_descent.py:631: ConvergenceWarning: Objective did not converge. You might want to increase the number of iterations, check the scale of the features or consider increasing regularisation. Duality gap: 6.786e+02, tolerance: 3.191e-01\n",
      "  model = cd_fast.enet_coordinate_descent(\n",
      "/usr/local/lib/python3.10/dist-packages/sklearn/linear_model/_coordinate_descent.py:631: ConvergenceWarning: Objective did not converge. You might want to increase the number of iterations, check the scale of the features or consider increasing regularisation. Duality gap: 8.302e+02, tolerance: 3.379e-01\n",
      "  model = cd_fast.enet_coordinate_descent(\n",
      "/usr/local/lib/python3.10/dist-packages/sklearn/linear_model/_coordinate_descent.py:631: ConvergenceWarning: Objective did not converge. You might want to increase the number of iterations, check the scale of the features or consider increasing regularisation. Duality gap: 8.667e+02, tolerance: 3.239e-01\n",
      "  model = cd_fast.enet_coordinate_descent(\n"
     ]
    },
    {
     "name": "stdout",
     "output_type": "stream",
     "text": [
      "#2 Model: elastic_net\n",
      "Best parameters: {'regressor__alpha': 0.01, 'regressor__l1_ratio': 0.2, 'scaler': MinMaxScaler()}\n",
      "Mean cross-validation score: 0.4021465110974802\n",
      "------------------------------\n",
      "Fitting 5 folds for each of 75 candidates, totalling 375 fits\n",
      "#3 Model: svr\n",
      "Best parameters: {'regressor__C': 7.0, 'regressor__epsilon': 0.6, 'regressor__kernel': 'rbf', 'scaler': MinMaxScaler()}\n",
      "Mean cross-validation score: 0.4365971440553523\n",
      "------------------------------\n",
      "Fitting 5 folds for each of 45 candidates, totalling 225 fits\n",
      "#4 Model: random_forest\n",
      "Best parameters: {'regressor__max_depth': None, 'regressor__n_estimators': 70, 'scaler': MinMaxScaler()}\n",
      "Mean cross-validation score: 0.4011572757001801\n",
      "------------------------------\n",
      "Fitting 5 folds for each of 9 candidates, totalling 45 fits\n",
      "#5 Model: knn_regressor\n",
      "Best parameters: {'regressor__n_neighbors': 15, 'regressor__weights': 'distance', 'scaler': MinMaxScaler()}\n",
      "Mean cross-validation score: 0.34332004510236275\n",
      "------------------------------\n",
      "Fitting 5 folds for each of 72 candidates, totalling 360 fits\n",
      "#6 Model: catboost\n",
      "Best parameters: {'regressor__depth': 8, 'regressor__iterations': 500, 'regressor__l2_leaf_reg': 1, 'regressor__learning_rate': 0.03, 'scaler': None}\n",
      "Mean cross-validation score: 0.47098122300114165\n",
      "------------------------------\n",
      "Fitting 5 folds for each of 12 candidates, totalling 60 fits\n",
      "#7 Model: mapie\n",
      "Best parameters: {'regressor__estimator__max_depth': 6, 'regressor__estimator__n_estimators': 200, 'scaler': MinMaxScaler()}\n",
      "Mean cross-validation score: 0.39028896112266614\n",
      "------------------------------\n"
     ]
    },
    {
     "data": {
      "text/plain": [
       "[Pipeline(steps=[('scaler', MinMaxScaler()), ('regressor', Ridge(alpha=5))]),\n",
       " Pipeline(steps=[('scaler', MinMaxScaler()),\n",
       "                 ('regressor',\n",
       "                  ElasticNet(alpha=0.01, l1_ratio=0.2, max_iter=500000))]),\n",
       " Pipeline(steps=[('scaler', MinMaxScaler()),\n",
       "                 ('regressor', SVR(C=7.0, epsilon=0.6))]),\n",
       " Pipeline(steps=[('scaler', MinMaxScaler()),\n",
       "                 ('regressor',\n",
       "                  RandomForestRegressor(n_estimators=70, random_state=42))]),\n",
       " Pipeline(steps=[('scaler', MinMaxScaler()),\n",
       "                 ('regressor',\n",
       "                  KNeighborsRegressor(n_neighbors=15, weights='distance'))]),\n",
       " Pipeline(steps=[('scaler', None),\n",
       "                 ('regressor',\n",
       "                  <catboost.core.CatBoostRegressor object at 0x7ed082a0b460>)]),\n",
       " Pipeline(steps=[('scaler', MinMaxScaler()),\n",
       "                 ('regressor',\n",
       "                  MapieRegressor(cv=5,\n",
       "                                 estimator=GradientBoostingRegressor(max_depth=6,\n",
       "                                                                     n_estimators=200,\n",
       "                                                                     random_state=42)))])]"
      ]
     },
     "execution_count": 40,
     "metadata": {},
     "output_type": "execute_result"
    }
   ],
   "source": [
    "search_model(train_df_TH.drop(columns=[train_df_TH.columns[1], 'username']), train_df_TH[train_df_TH.columns[1]], 42, models)"
   ]
  },
  {
   "cell_type": "code",
   "execution_count": 41,
   "id": "864d3e6c",
   "metadata": {
    "execution": {
     "iopub.execute_input": "2025-01-11T02:12:22.234175Z",
     "iopub.status.busy": "2025-01-11T02:12:22.233889Z",
     "iopub.status.idle": "2025-01-11T02:12:24.938884Z",
     "shell.execute_reply": "2025-01-11T02:12:24.937903Z"
    },
    "papermill": {
     "duration": 2.723562,
     "end_time": "2025-01-11T02:12:24.940773",
     "exception": false,
     "start_time": "2025-01-11T02:12:22.217211",
     "status": "completed"
    },
    "tags": []
   },
   "outputs": [],
   "source": [
    "X_TH = train_df_TH.drop(columns=[train_df_TH.columns[1], 'username'])\n",
    "y_TH = train_df_TH[train_df_TH.columns[1]]\n",
    "\n",
    "model_TH1 = Pipeline(steps=[('scaler', MinMaxScaler()),\n",
    "                            ('regressor', SVR(C=5.0, epsilon=0.4))])\n",
    "model_TH1.fit(X_TH, y_TH)\n",
    "\n",
    "model_TH2 =  Pipeline(steps=[('scaler', None),\n",
    "                 ('regressor', CatBoostRegressor(depth=9, l2_leaf_reg=1, iterations=400, learning_rate=0.03, verbose = 0, task_type=\"GPU\", devices='0'))])\n",
    "model_TH2.fit(X_TH, y_TH)\n",
    "\n",
    "list_model_TH = [model_TH1, model_TH2]\n",
    "weights_TH = [0.5,  0.5]\n",
    "voting_TH = WeightedVotingRegressor(models=list_model_TH, weights=weights_TH)"
   ]
  },
  {
   "cell_type": "code",
   "execution_count": 42,
   "id": "e0b6ec72",
   "metadata": {
    "execution": {
     "iopub.execute_input": "2025-01-11T02:12:25.005360Z",
     "iopub.status.busy": "2025-01-11T02:12:25.004976Z",
     "iopub.status.idle": "2025-01-11T04:22:18.508511Z",
     "shell.execute_reply": "2025-01-11T04:22:18.507511Z"
    },
    "papermill": {
     "duration": 7793.556136,
     "end_time": "2025-01-11T04:22:18.528329",
     "exception": false,
     "start_time": "2025-01-11T02:12:24.972193",
     "status": "completed"
    },
    "tags": []
   },
   "outputs": [
    {
     "name": "stdout",
     "output_type": "stream",
     "text": [
      "Fitting 5 folds for each of 18 candidates, totalling 90 fits\n"
     ]
    },
    {
     "name": "stderr",
     "output_type": "stream",
     "text": [
      "/usr/local/lib/python3.10/dist-packages/sklearn/linear_model/_ridge.py:255: UserWarning: Singular matrix in solving dual problem. Using least-squares solution instead.\n",
      "  warnings.warn(\n",
      "/usr/local/lib/python3.10/dist-packages/sklearn/linear_model/_ridge.py:255: UserWarning: Singular matrix in solving dual problem. Using least-squares solution instead.\n",
      "  warnings.warn(\n",
      "/usr/local/lib/python3.10/dist-packages/sklearn/linear_model/_ridge.py:255: UserWarning: Singular matrix in solving dual problem. Using least-squares solution instead.\n",
      "  warnings.warn(\n",
      "/usr/local/lib/python3.10/dist-packages/sklearn/linear_model/_ridge.py:255: UserWarning: Singular matrix in solving dual problem. Using least-squares solution instead.\n",
      "  warnings.warn(\n",
      "/usr/local/lib/python3.10/dist-packages/sklearn/linear_model/_ridge.py:255: UserWarning: Singular matrix in solving dual problem. Using least-squares solution instead.\n",
      "  warnings.warn(\n",
      "/usr/local/lib/python3.10/dist-packages/sklearn/linear_model/_ridge.py:255: UserWarning: Singular matrix in solving dual problem. Using least-squares solution instead.\n",
      "  warnings.warn(\n",
      "/usr/local/lib/python3.10/dist-packages/sklearn/linear_model/_ridge.py:255: UserWarning: Singular matrix in solving dual problem. Using least-squares solution instead.\n",
      "  warnings.warn(\n",
      "/usr/local/lib/python3.10/dist-packages/sklearn/linear_model/_ridge.py:255: UserWarning: Singular matrix in solving dual problem. Using least-squares solution instead.\n",
      "  warnings.warn(\n",
      "/usr/local/lib/python3.10/dist-packages/sklearn/linear_model/_ridge.py:255: UserWarning: Singular matrix in solving dual problem. Using least-squares solution instead.\n",
      "  warnings.warn(\n",
      "/usr/local/lib/python3.10/dist-packages/sklearn/linear_model/_ridge.py:255: UserWarning: Singular matrix in solving dual problem. Using least-squares solution instead.\n",
      "  warnings.warn(\n",
      "/usr/local/lib/python3.10/dist-packages/sklearn/linear_model/_ridge.py:255: UserWarning: Singular matrix in solving dual problem. Using least-squares solution instead.\n",
      "  warnings.warn(\n",
      "/usr/local/lib/python3.10/dist-packages/sklearn/linear_model/_ridge.py:255: UserWarning: Singular matrix in solving dual problem. Using least-squares solution instead.\n",
      "  warnings.warn(\n",
      "/usr/local/lib/python3.10/dist-packages/sklearn/linear_model/_ridge.py:255: UserWarning: Singular matrix in solving dual problem. Using least-squares solution instead.\n",
      "  warnings.warn(\n",
      "/usr/local/lib/python3.10/dist-packages/sklearn/linear_model/_ridge.py:255: UserWarning: Singular matrix in solving dual problem. Using least-squares solution instead.\n",
      "  warnings.warn(\n",
      "/usr/local/lib/python3.10/dist-packages/sklearn/linear_model/_ridge.py:255: UserWarning: Singular matrix in solving dual problem. Using least-squares solution instead.\n",
      "  warnings.warn(\n",
      "/usr/local/lib/python3.10/dist-packages/sklearn/linear_model/_ridge.py:255: UserWarning: Singular matrix in solving dual problem. Using least-squares solution instead.\n",
      "  warnings.warn(\n",
      "/usr/local/lib/python3.10/dist-packages/sklearn/linear_model/_ridge.py:255: UserWarning: Singular matrix in solving dual problem. Using least-squares solution instead.\n",
      "  warnings.warn(\n",
      "/usr/local/lib/python3.10/dist-packages/sklearn/linear_model/_ridge.py:255: UserWarning: Singular matrix in solving dual problem. Using least-squares solution instead.\n",
      "  warnings.warn(\n",
      "/usr/local/lib/python3.10/dist-packages/sklearn/linear_model/_ridge.py:255: UserWarning: Singular matrix in solving dual problem. Using least-squares solution instead.\n",
      "  warnings.warn(\n",
      "/usr/local/lib/python3.10/dist-packages/sklearn/linear_model/_ridge.py:255: UserWarning: Singular matrix in solving dual problem. Using least-squares solution instead.\n",
      "  warnings.warn(\n",
      "/usr/local/lib/python3.10/dist-packages/sklearn/linear_model/_ridge.py:255: UserWarning: Singular matrix in solving dual problem. Using least-squares solution instead.\n",
      "  warnings.warn(\n",
      "/usr/local/lib/python3.10/dist-packages/sklearn/linear_model/_ridge.py:255: UserWarning: Singular matrix in solving dual problem. Using least-squares solution instead.\n",
      "  warnings.warn(\n",
      "/usr/local/lib/python3.10/dist-packages/sklearn/linear_model/_ridge.py:255: UserWarning: Singular matrix in solving dual problem. Using least-squares solution instead.\n",
      "  warnings.warn(\n",
      "/usr/local/lib/python3.10/dist-packages/sklearn/linear_model/_ridge.py:255: UserWarning: Singular matrix in solving dual problem. Using least-squares solution instead.\n",
      "  warnings.warn(\n",
      "/usr/local/lib/python3.10/dist-packages/sklearn/linear_model/_ridge.py:255: UserWarning: Singular matrix in solving dual problem. Using least-squares solution instead.\n",
      "  warnings.warn(\n",
      "/usr/local/lib/python3.10/dist-packages/sklearn/linear_model/_ridge.py:255: UserWarning: Singular matrix in solving dual problem. Using least-squares solution instead.\n",
      "  warnings.warn(\n",
      "/usr/local/lib/python3.10/dist-packages/sklearn/linear_model/_ridge.py:255: UserWarning: Singular matrix in solving dual problem. Using least-squares solution instead.\n",
      "  warnings.warn(\n",
      "/usr/local/lib/python3.10/dist-packages/sklearn/linear_model/_ridge.py:255: UserWarning: Singular matrix in solving dual problem. Using least-squares solution instead.\n",
      "  warnings.warn(\n",
      "/usr/local/lib/python3.10/dist-packages/sklearn/linear_model/_ridge.py:255: UserWarning: Singular matrix in solving dual problem. Using least-squares solution instead.\n",
      "  warnings.warn(\n",
      "/usr/local/lib/python3.10/dist-packages/sklearn/linear_model/_ridge.py:255: UserWarning: Singular matrix in solving dual problem. Using least-squares solution instead.\n",
      "  warnings.warn(\n"
     ]
    },
    {
     "name": "stdout",
     "output_type": "stream",
     "text": [
      "#1 Model: ridge\n",
      "Best parameters: {'regressor__alpha': 5, 'scaler': MinMaxScaler()}\n",
      "Mean cross-validation score: 0.288297078175872\n",
      "------------------------------\n",
      "Fitting 5 folds for each of 36 candidates, totalling 180 fits\n"
     ]
    },
    {
     "name": "stderr",
     "output_type": "stream",
     "text": [
      "/usr/local/lib/python3.10/dist-packages/sklearn/linear_model/_coordinate_descent.py:631: ConvergenceWarning: Objective did not converge. You might want to increase the number of iterations, check the scale of the features or consider increasing regularisation. Duality gap: 1.263e+01, tolerance: 2.905e-01\n",
      "  model = cd_fast.enet_coordinate_descent(\n",
      "/usr/local/lib/python3.10/dist-packages/sklearn/linear_model/_coordinate_descent.py:631: ConvergenceWarning: Objective did not converge. You might want to increase the number of iterations, check the scale of the features or consider increasing regularisation. Duality gap: 7.005e+02, tolerance: 3.068e-01\n",
      "  model = cd_fast.enet_coordinate_descent(\n",
      "/usr/local/lib/python3.10/dist-packages/sklearn/linear_model/_coordinate_descent.py:631: ConvergenceWarning: Objective did not converge. You might want to increase the number of iterations, check the scale of the features or consider increasing regularisation. Duality gap: 8.080e+02, tolerance: 2.820e-01\n",
      "  model = cd_fast.enet_coordinate_descent(\n",
      "/usr/local/lib/python3.10/dist-packages/sklearn/linear_model/_coordinate_descent.py:631: ConvergenceWarning: Objective did not converge. You might want to increase the number of iterations, check the scale of the features or consider increasing regularisation. Duality gap: 2.418e+01, tolerance: 2.905e-01\n",
      "  model = cd_fast.enet_coordinate_descent(\n",
      "/usr/local/lib/python3.10/dist-packages/sklearn/linear_model/_coordinate_descent.py:631: ConvergenceWarning: Objective did not converge. You might want to increase the number of iterations, check the scale of the features or consider increasing regularisation. Duality gap: 8.383e-01, tolerance: 3.008e-01\n",
      "  model = cd_fast.enet_coordinate_descent(\n",
      "/usr/local/lib/python3.10/dist-packages/sklearn/linear_model/_coordinate_descent.py:631: ConvergenceWarning: Objective did not converge. You might want to increase the number of iterations, check the scale of the features or consider increasing regularisation. Duality gap: 7.214e+02, tolerance: 2.820e-01\n",
      "  model = cd_fast.enet_coordinate_descent(\n",
      "/usr/local/lib/python3.10/dist-packages/sklearn/linear_model/_coordinate_descent.py:631: ConvergenceWarning: Objective did not converge. You might want to increase the number of iterations, check the scale of the features or consider increasing regularisation. Duality gap: 1.688e+00, tolerance: 3.008e-01\n",
      "  model = cd_fast.enet_coordinate_descent(\n",
      "/usr/local/lib/python3.10/dist-packages/sklearn/linear_model/_coordinate_descent.py:631: ConvergenceWarning: Objective did not converge. You might want to increase the number of iterations, check the scale of the features or consider increasing regularisation. Duality gap: 7.740e+00, tolerance: 3.068e-01\n",
      "  model = cd_fast.enet_coordinate_descent(\n",
      "/usr/local/lib/python3.10/dist-packages/sklearn/linear_model/_coordinate_descent.py:631: ConvergenceWarning: Objective did not converge. You might want to increase the number of iterations, check the scale of the features or consider increasing regularisation. Duality gap: 5.600e+02, tolerance: 2.820e-01\n",
      "  model = cd_fast.enet_coordinate_descent(\n",
      "/usr/local/lib/python3.10/dist-packages/sklearn/linear_model/_coordinate_descent.py:631: ConvergenceWarning: Objective did not converge. You might want to increase the number of iterations, check the scale of the features or consider increasing regularisation. Duality gap: 7.726e+02, tolerance: 2.905e-01\n",
      "  model = cd_fast.enet_coordinate_descent(\n",
      "/usr/local/lib/python3.10/dist-packages/sklearn/linear_model/_coordinate_descent.py:631: ConvergenceWarning: Objective did not converge. You might want to increase the number of iterations, check the scale of the features or consider increasing regularisation. Duality gap: 8.579e+02, tolerance: 3.008e-01\n",
      "  model = cd_fast.enet_coordinate_descent(\n",
      "/usr/local/lib/python3.10/dist-packages/sklearn/linear_model/_coordinate_descent.py:631: ConvergenceWarning: Objective did not converge. You might want to increase the number of iterations, check the scale of the features or consider increasing regularisation. Duality gap: 6.772e+02, tolerance: 2.890e-01\n",
      "  model = cd_fast.enet_coordinate_descent(\n",
      "/usr/local/lib/python3.10/dist-packages/sklearn/linear_model/_coordinate_descent.py:631: ConvergenceWarning: Objective did not converge. You might want to increase the number of iterations, check the scale of the features or consider increasing regularisation. Duality gap: 8.273e+02, tolerance: 3.068e-01\n",
      "  model = cd_fast.enet_coordinate_descent(\n",
      "/usr/local/lib/python3.10/dist-packages/sklearn/linear_model/_coordinate_descent.py:631: ConvergenceWarning: Objective did not converge. You might want to increase the number of iterations, check the scale of the features or consider increasing regularisation. Duality gap: 7.405e+02, tolerance: 2.820e-01\n",
      "  model = cd_fast.enet_coordinate_descent(\n"
     ]
    },
    {
     "name": "stdout",
     "output_type": "stream",
     "text": [
      "#2 Model: elastic_net\n",
      "Best parameters: {'regressor__alpha': 0.01, 'regressor__l1_ratio': 0.2, 'scaler': MinMaxScaler()}\n",
      "Mean cross-validation score: 0.28815673741425246\n",
      "------------------------------\n",
      "Fitting 5 folds for each of 75 candidates, totalling 375 fits\n",
      "#3 Model: svr\n",
      "Best parameters: {'regressor__C': 5.0, 'regressor__epsilon': 1, 'regressor__kernel': 'rbf', 'scaler': MinMaxScaler()}\n",
      "Mean cross-validation score: 0.32589984324434573\n",
      "------------------------------\n",
      "Fitting 5 folds for each of 45 candidates, totalling 225 fits\n",
      "#4 Model: random_forest\n",
      "Best parameters: {'regressor__max_depth': None, 'regressor__n_estimators': 70, 'scaler': None}\n",
      "Mean cross-validation score: 0.30040716712098775\n",
      "------------------------------\n",
      "Fitting 5 folds for each of 9 candidates, totalling 45 fits\n",
      "#5 Model: knn_regressor\n",
      "Best parameters: {'regressor__n_neighbors': 15, 'regressor__weights': 'distance', 'scaler': MinMaxScaler()}\n",
      "Mean cross-validation score: 0.23955112753032495\n",
      "------------------------------\n",
      "Fitting 5 folds for each of 72 candidates, totalling 360 fits\n",
      "#6 Model: catboost\n",
      "Best parameters: {'regressor__depth': 8, 'regressor__iterations': 500, 'regressor__l2_leaf_reg': 1, 'regressor__learning_rate': 0.03, 'scaler': StandardScaler()}\n",
      "Mean cross-validation score: 0.3688505538562079\n",
      "------------------------------\n",
      "Fitting 5 folds for each of 12 candidates, totalling 60 fits\n",
      "#7 Model: mapie\n",
      "Best parameters: {'regressor__estimator__max_depth': 5, 'regressor__estimator__n_estimators': 100, 'scaler': None}\n",
      "Mean cross-validation score: 0.29053928172808013\n",
      "------------------------------\n"
     ]
    },
    {
     "data": {
      "text/plain": [
       "[Pipeline(steps=[('scaler', MinMaxScaler()), ('regressor', Ridge(alpha=5))]),\n",
       " Pipeline(steps=[('scaler', MinMaxScaler()),\n",
       "                 ('regressor',\n",
       "                  ElasticNet(alpha=0.01, l1_ratio=0.2, max_iter=500000))]),\n",
       " Pipeline(steps=[('scaler', MinMaxScaler()),\n",
       "                 ('regressor', SVR(C=5.0, epsilon=1))]),\n",
       " Pipeline(steps=[('scaler', None),\n",
       "                 ('regressor',\n",
       "                  RandomForestRegressor(n_estimators=70, random_state=42))]),\n",
       " Pipeline(steps=[('scaler', MinMaxScaler()),\n",
       "                 ('regressor',\n",
       "                  KNeighborsRegressor(n_neighbors=15, weights='distance'))]),\n",
       " Pipeline(steps=[('scaler', StandardScaler()),\n",
       "                 ('regressor',\n",
       "                  <catboost.core.CatBoostRegressor object at 0x7ed06af5d3c0>)]),\n",
       " Pipeline(steps=[('scaler', None),\n",
       "                 ('regressor',\n",
       "                  MapieRegressor(cv=5,\n",
       "                                 estimator=GradientBoostingRegressor(max_depth=5,\n",
       "                                                                     random_state=42)))])]"
      ]
     },
     "execution_count": 42,
     "metadata": {},
     "output_type": "execute_result"
    }
   ],
   "source": [
    "search_model(train_df_CK.drop(columns=[train_df_CK.columns[1], 'username']), train_df_CK[train_df_CK.columns[1]], 42, models)"
   ]
  },
  {
   "cell_type": "code",
   "execution_count": 43,
   "id": "b5a22621",
   "metadata": {
    "execution": {
     "iopub.execute_input": "2025-01-11T04:22:18.565608Z",
     "iopub.status.busy": "2025-01-11T04:22:18.565322Z",
     "iopub.status.idle": "2025-01-11T04:22:27.382696Z",
     "shell.execute_reply": "2025-01-11T04:22:27.381881Z"
    },
    "papermill": {
     "duration": 8.837229,
     "end_time": "2025-01-11T04:22:27.384313",
     "exception": false,
     "start_time": "2025-01-11T04:22:18.547084",
     "status": "completed"
    },
    "tags": []
   },
   "outputs": [],
   "source": [
    "X_CK = train_df_CK.drop(columns=[train_df_CK.columns[1], 'username'])\n",
    "y_CK = train_df_CK[train_df_CK.columns[1]]\n",
    "\n",
    "model_CK1 = Pipeline(steps=[('scaler', MinMaxScaler()),\n",
    "                            ('regressor', SVR(C=5.0, epsilon=0.4))])\n",
    "model_CK1.fit(X_CK, y_CK)\n",
    "\n",
    "\n",
    "model_CK2 = Pipeline(steps=[('scaler', StandardScaler()),\n",
    "                 ('regressor',\n",
    "                  MapieRegressor(cv=5,\n",
    "                                 estimator=GradientBoostingRegressor(random_state=42, n_estimators =400, learning_rate=0.05)))])\n",
    "model_CK2.fit(X_CK, y_CK)\n",
    "\n",
    "model_CK3 = Pipeline(steps=[('scaler', StandardScaler()),\n",
    "                 ('regressor',\n",
    "                  RandomForestRegressor(max_depth=10, n_estimators=70,\n",
    "                                        random_state=42))])\n",
    "model_CK3.fit(X_CK, y_CK)\n",
    "\n",
    "model_CK4 = Pipeline(steps=[('scaler', StandardScaler()),\n",
    "                 ('regressor', CatBoostRegressor(depth=9, l2_leaf_reg=1, iterations=400, learning_rate=0.03, verbose=0))])\n",
    "model_CK4.fit(X_CK, y_CK)\n",
    "\n",
    "list_model_CK = [model_CK1, model_CK2, model_CK3, model_CK4]\n",
    "weights_CK = [0.3, 0.3, 0.1, 0.35]\n",
    "voting_CK = WeightedVotingRegressor(models=list_model_CK, weights=weights_CK)"
   ]
  },
  {
   "cell_type": "markdown",
   "id": "cf61b60f",
   "metadata": {
    "papermill": {
     "duration": 0.01783,
     "end_time": "2025-01-11T04:22:27.421132",
     "exception": false,
     "start_time": "2025-01-11T04:22:27.403302",
     "status": "completed"
    },
    "tags": []
   },
   "source": [
    "## Xuất file dự đoán"
   ]
  },
  {
   "cell_type": "code",
   "execution_count": 44,
   "id": "faa72bd6",
   "metadata": {
    "execution": {
     "iopub.execute_input": "2025-01-11T04:22:27.457666Z",
     "iopub.status.busy": "2025-01-11T04:22:27.457304Z",
     "iopub.status.idle": "2025-01-11T04:22:28.659208Z",
     "shell.execute_reply": "2025-01-11T04:22:28.658489Z"
    },
    "papermill": {
     "duration": 1.221801,
     "end_time": "2025-01-11T04:22:28.660707",
     "exception": false,
     "start_time": "2025-01-11T04:22:27.438906",
     "status": "completed"
    },
    "tags": []
   },
   "outputs": [],
   "source": [
    "def predict_submit(model, df, desc, predict_col):\n",
    "    tdf = df.copy()\n",
    "    predicted_target = model.predict(tdf.drop(columns=['username']))\n",
    "    tdf['target'] = predicted_target\n",
    "    tdf['target'] = tdf['target'].apply(lambda x: min(max(x, 0), 10))\n",
    "    output_df = tdf[['username', 'target']]\n",
    "    output_df.to_csv(f'out_{predict_col}_{desc}.csv', index=False, header=False)\n",
    "\n",
    "predict_submit(voting_TBTL, predict_df_TL, 'final', 'TBTL')\n",
    "predict_submit(voting_QT, predict_df_QT, 'final', 'diemqt')\n",
    "predict_submit(voting_TH, predict_df_TH, 'final', 'TH')\n",
    "predict_submit(voting_CK, predict_df_CK, 'final', 'CK')"
   ]
  },
  {
   "cell_type": "markdown",
   "id": "786ffbb3",
   "metadata": {
    "papermill": {
     "duration": 0.017667,
     "end_time": "2025-01-11T04:22:28.697407",
     "exception": false,
     "start_time": "2025-01-11T04:22:28.679740",
     "status": "completed"
    },
    "tags": []
   },
   "source": [
    "### H2O"
   ]
  },
  {
   "cell_type": "code",
   "execution_count": 45,
   "id": "51b53ebe",
   "metadata": {
    "execution": {
     "iopub.execute_input": "2025-01-11T04:22:28.734921Z",
     "iopub.status.busy": "2025-01-11T04:22:28.734661Z",
     "iopub.status.idle": "2025-01-11T04:22:28.738095Z",
     "shell.execute_reply": "2025-01-11T04:22:28.737483Z"
    },
    "papermill": {
     "duration": 0.023232,
     "end_time": "2025-01-11T04:22:28.739228",
     "exception": false,
     "start_time": "2025-01-11T04:22:28.715996",
     "status": "completed"
    },
    "tags": []
   },
   "outputs": [],
   "source": [
    "# import h2o\n",
    "# from h2o.automl import H2OAutoML\n",
    "\n",
    "# h2o.init(max_mem_size=\"20g\") \n",
    "\n",
    "# def h2o_automl_predict(train_df, predict_df, target_col, max_runtime_secs=1200):\n",
    "#     \"\"\"\n",
    "#     Trains an H2O AutoML model and makes predictions.\n",
    "\n",
    "#     Args:\n",
    "#         train_df: Training DataFrame (pandas).\n",
    "#         predict_df: Prediction DataFrame (pandas).\n",
    "#         target_col: Name of the target column.\n",
    "#         max_runtime_secs: Maximum runtime for AutoML in seconds.\n",
    "\n",
    "#     Returns:\n",
    "#         Pandas DataFrame with predictions.\n",
    "#     \"\"\"\n",
    "\n",
    "#     train_hf = h2o.H2OFrame(train_df)\n",
    "#     predict_hf = h2o.H2OFrame(predict_df)\n",
    "\n",
    "#     x = train_hf.columns\n",
    "#     y = target_col\n",
    "#     x.remove(y)\n",
    "#     x.remove(\"username\") \n",
    "\n",
    "#     aml = H2OAutoML(max_runtime_secs=max_runtime_secs, \n",
    "#                     seed=42,\n",
    "#                     sort_metric=\"RMSE\",\n",
    "#                     exclude_algos=[\"StackedEnsemble\", \"DeepLearning\"])\n",
    "#     aml.train(x=x, y=y, training_frame=train_hf)\n",
    "\n",
    "#     lb = aml.leaderboard\n",
    "#     print(lb.head(rows=lb.nrows))\n",
    "\n",
    "#     preds = aml.predict(predict_hf)\n",
    "\n",
    "#     preds_df = h2o.as_list(preds)\n",
    "#     preds_df.columns = [\"target\"]\n",
    "    \n",
    "#     output_df = h2o.as_list(predict_hf[[\"username\"]])\n",
    "#     output_df[\"target\"] = preds_df[\"target\"]\n",
    "\n",
    "#     return output_df\n",
    "\n",
    "# output_df_TBTL = h2o_automl_predict(train_df_TL, predict_df_TL, \"TBTL\", max_runtime_secs=600)\n",
    "# output_df_TBTL[\"target\"] = output_df_TBTL[\"target\"].apply(lambda x: min(max(x, 0), 10))\n",
    "# output_df_TBTL.to_csv(\"out_TBTL_h2o_automl.csv\", index=False, header=False)\n",
    "\n",
    "# output_df_QT = h2o_automl_predict(train_df_QT, predict_df_QT, \"diemqt\", max_runtime_secs=600)\n",
    "# output_df_QT[\"target\"] = output_df_QT[\"target\"].apply(lambda x: min(max(x, 0), 10))\n",
    "# output_df_QT.to_csv(\"out_diemqt_h2o_automl.csv\", index=False, header=False)\n",
    "\n",
    "# output_df_TH = h2o_automl_predict(train_df_TH, predict_df_TH, \"TH\", max_runtime_secs=600)\n",
    "# output_df_TH[\"target\"] = output_df_TH[\"target\"].apply(lambda x: min(max(x, 0), 10))\n",
    "# output_df_TH.to_csv(\"out_TH_h2o_automl.csv\", index=False, header=False)\n",
    "\n",
    "# output_df_CK = h2o_automl_predict(train_df_CK, predict_df_CK, \"CK\", max_runtime_secs=600)\n",
    "# output_df_CK[\"target\"] = output_df_CK[\"target\"].apply(lambda x: min(max(x, 0), 10))\n",
    "# output_df_CK.to_csv(\"out_CK_h2o_automl.csv\", index=False, header=False)\n",
    "\n",
    "# h2o.cluster().shutdown()"
   ]
  },
  {
   "cell_type": "markdown",
   "id": "c7d3e9be",
   "metadata": {
    "papermill": {
     "duration": 0.017862,
     "end_time": "2025-01-11T04:22:28.775274",
     "exception": false,
     "start_time": "2025-01-11T04:22:28.757412",
     "status": "completed"
    },
    "tags": []
   },
   "source": [
    "### AutoGluon"
   ]
  },
  {
   "cell_type": "code",
   "execution_count": 46,
   "id": "107ce7f3",
   "metadata": {
    "execution": {
     "iopub.execute_input": "2025-01-11T04:22:28.813954Z",
     "iopub.status.busy": "2025-01-11T04:22:28.813683Z",
     "iopub.status.idle": "2025-01-11T04:22:28.817068Z",
     "shell.execute_reply": "2025-01-11T04:22:28.816258Z"
    },
    "papermill": {
     "duration": 0.023996,
     "end_time": "2025-01-11T04:22:28.818251",
     "exception": false,
     "start_time": "2025-01-11T04:22:28.794255",
     "status": "completed"
    },
    "tags": []
   },
   "outputs": [],
   "source": [
    "# from autogluon.tabular import TabularPredictor\n",
    "\n",
    "# def autogluon_regressor(train_df, predict_col, eval_metric='r2', presets='best_quality', time_limit=3600):\n",
    "#     predictor = TabularPredictor(\n",
    "#         label=predict_col,\n",
    "#         eval_metric=eval_metric,\n",
    "#         path=f'autogluon_predictions_{predict_col}'  \n",
    "#     ).fit(\n",
    "#         train_data=train_df.drop(columns=['username']),\n",
    "#         time_limit=time_limit,\n",
    "#         num_gpus=1,\n",
    "#         presets=presets\n",
    "#     )\n",
    "    \n",
    "#     leaderboard = predictor.leaderboard()\n",
    "#     print(leaderboard)\n",
    "#     return predictor\n",
    "\n",
    "# autogluon_tbtl = autogluon_regressor(train_df_TL, 'TBTL')\n",
    "# autogluon_qt = autogluon_regressor(train_df_QT, 'diemqt')\n",
    "# autogluon_th = autogluon_regressor(train_df_TH, 'TH')\n",
    "# autogluon_ck = autogluon_regressor(train_df_CK, 'CK')\n",
    "# predict_submit(autogluon_tbtl, predict_df_TL, 'autogluon', 'TBTL')\n",
    "# predict_submit(autogluon_qt, predict_df_QT, 'autogluon', 'diemqt')\n",
    "# predict_submit(autogluon_th, predict_df_TH, 'autogluon', 'TH')\n",
    "# predict_submit(autogluon_ck, predict_df_CK, 'autogluon', 'CK')"
   ]
  },
  {
   "cell_type": "markdown",
   "id": "7654346d",
   "metadata": {
    "papermill": {
     "duration": 0.017843,
     "end_time": "2025-01-11T04:22:28.855040",
     "exception": false,
     "start_time": "2025-01-11T04:22:28.837197",
     "status": "completed"
    },
    "tags": []
   },
   "source": [
    "### MLJAR"
   ]
  },
  {
   "cell_type": "code",
   "execution_count": 47,
   "id": "de2d300c",
   "metadata": {
    "execution": {
     "iopub.execute_input": "2025-01-11T04:22:28.892911Z",
     "iopub.status.busy": "2025-01-11T04:22:28.892699Z",
     "iopub.status.idle": "2025-01-11T04:22:28.895773Z",
     "shell.execute_reply": "2025-01-11T04:22:28.895113Z"
    },
    "papermill": {
     "duration": 0.024102,
     "end_time": "2025-01-11T04:22:28.896910",
     "exception": false,
     "start_time": "2025-01-11T04:22:28.872808",
     "status": "completed"
    },
    "tags": []
   },
   "outputs": [],
   "source": [
    "# from supervised.automl import AutoML\n",
    "\n",
    "# def mljar_regressor(train_df, predict_col, mode=\"Compete\", eval_metric='r2', total_time_limit=3600):\n",
    "#     X_train = train_df.drop(columns=['username', predict_col])\n",
    "#     y_train = train_df[predict_col]\n",
    "\n",
    "#     automl = AutoML(\n",
    "#         mode=mode,\n",
    "#         eval_metric=eval_metric,\n",
    "#         total_time_limit=total_time_limit,\n",
    "#         random_state=42,\n",
    "#         results_path=f'mljar_predictions_{predict_col}',\n",
    "#         ml_task='regression'\n",
    "#     )\n",
    "#     automl.fit(X_train, y_train)\n",
    "#     return automl\n",
    "\n",
    "# mljar_tbtl = mljar_regressor(train_df_TL, 'TBTL')\n",
    "# mljar_qt = mljar_regressor(train_df_QT, 'diemqt')\n",
    "# mljar_th = mljar_regressor(train_df_TH, 'TH')\n",
    "# mljar_ck = mljar_regressor(train_df_CK, 'CK')\n",
    "\n",
    "# predict_submit(mljar_tbtl, predict_df_TL, 'mljar', 'TBTL')\n",
    "# predict_submit(mljar_qt, predict_df_QT, 'mljar', 'diemqt')\n",
    "# predict_submit(mljar_th, predict_df_TH, 'mljar', 'TH')\n",
    "# predict_submit(mljar_ck, predict_df_CK, 'mljar', 'CK')"
   ]
  }
 ],
 "metadata": {
  "kaggle": {
   "accelerator": "gpu",
   "dataSources": [
    {
     "datasetId": 6432769,
     "sourceId": 10384157,
     "sourceType": "datasetVersion"
    }
   ],
   "dockerImageVersionId": 30823,
   "isGpuEnabled": true,
   "isInternetEnabled": true,
   "language": "python",
   "sourceType": "notebook"
  },
  "kernelspec": {
   "display_name": "Python 3",
   "language": "python",
   "name": "python3"
  },
  "language_info": {
   "codemirror_mode": {
    "name": "ipython",
    "version": 3
   },
   "file_extension": ".py",
   "mimetype": "text/x-python",
   "name": "python",
   "nbconvert_exporter": "python",
   "pygments_lexer": "ipython3",
   "version": "3.10.12"
  },
  "papermill": {
   "default_parameters": {},
   "duration": 28969.632543,
   "end_time": "2025-01-11T04:22:30.465260",
   "environment_variables": {},
   "exception": null,
   "input_path": "__notebook__.ipynb",
   "output_path": "__notebook__.ipynb",
   "parameters": {},
   "start_time": "2025-01-10T20:19:40.832717",
   "version": "2.6.0"
  }
 },
 "nbformat": 4,
 "nbformat_minor": 5
}
