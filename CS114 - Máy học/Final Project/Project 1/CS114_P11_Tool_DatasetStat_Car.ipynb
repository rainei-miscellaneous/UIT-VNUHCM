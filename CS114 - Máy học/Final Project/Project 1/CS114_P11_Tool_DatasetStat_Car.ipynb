{
  "cells": [
    {
      "cell_type": "markdown",
      "metadata": {
        "id": "kXLvTDMGbDjG"
      },
      "source": [
        "# THỐNG KÊ DỮ LIỆU\n",
        "\n",
        "1. Yêu cầu chung: Thống kê được số lượng ảnh trong từng phân loại mà mỗi SV đóng góp\n",
        "\n",
        "2. Yêu cầu cụ thể:\n",
        "- Input:\n",
        "    + Thư mục cha chứa các thư mục con - mỗi thư mục con tương ứng với tên của từng hiệu xe (Honda, Suzuki, VinFast, Others). Ví dụ: https://drive.google.com/drive/u/1/folders/1Uj0V9URNHpzSHeXHSB89AoGCjGki8Yra\n",
        "    + Các ảnh được đặt tên theo quy ước: các tập tin ảnh theo quy ước https://colab.research.google.com/drive/1bUmXMM_ggnEXKo2qylfe6h0JnQuos-8_\n",
        "- Output:\n",
        "    + File CarDataset-1.csv - Thống kê số lượng ảnh theo từng SV\n",
        "      + Mỗi dòng sẽ có các thông tin cách nhau bằng dấu phẩy, theo quy ước: MSSV, All, Số lượng.\n",
        "        \n",
        "        Ví dụ: 20221234, All, 1.2\n",
        "      + Số lượng có thể là số thực vì một ảnh có thể có đóng góp từ nhiều sinh viên\n",
        "    + File CarDataset-2.csv - Thống kê số lượng ảnh theo từng Hiệu xe mà từng SV đóng góp\n",
        "      + Mỗi dòng sẽ có các thông tin cách nhau bằng dấu phẩy, theo quy ước: MSSV, Hiệu xe, Số lượng.\n",
        "        \n",
        "        Ví dụ: 20221234, Honda, 1.2\n",
        "      + Số lượng có thể là số thực vì một ảnh có thể có đóng góp từ nhiều sinh viên\n",
        "      + Chỉ chấp nhận file .jpg, .jpeg và .png\n",
        "3. Nộp bài: SV share notebook. Các bài nộp sớm sẽ được full điểm. Deadline: 17:00 - ??/??/2024\n",
        "\n",
        "4. Bài làm đạt yêu cầu sẽ được paste vào notebook với ghi nhận đóng góp từ tác giả.\n"
      ]
    },
    {
      "cell_type": "markdown",
      "metadata": {
        "id": "a6hsKWe7eVbt"
      },
      "source": [
        "## **Thông tin của tác giả, ngày cập nhật**\n",
        "\n",
        "<hr>\n",
        "\n",
        "**Thành viên nhóm**:\n",
        "- **Trần Đình Khánh Đăng - 22520195**\n",
        "- **Tăng Nhất - 22521027**\n",
        "- **Lê Minh Nhựt - 22521060**\n",
        "\n",
        "**Ngày cập nhật**: 13/12/2024"
      ]
    },
    {
      "cell_type": "markdown",
      "metadata": {
        "id": "vND5OS0DeVbv"
      },
      "source": [
        "## Import thư viện cần thiết"
      ]
    },
    {
      "cell_type": "code",
      "execution_count": 1,
      "metadata": {
        "id": "VdOEwRNyeVbw"
      },
      "outputs": [],
      "source": [
        "import re\n",
        "import os\n",
        "import csv\n",
        "from tqdm import tqdm\n",
        "import pandas as pd\n",
        "from collections import defaultdict"
      ]
    },
    {
      "cell_type": "markdown",
      "metadata": {
        "id": "nYZgPJzWeVbx"
      },
      "source": [
        "### Mount Drive Colab"
      ]
    },
    {
      "cell_type": "code",
      "execution_count": 2,
      "metadata": {
        "colab": {
          "base_uri": "https://localhost:8080/"
        },
        "id": "hWKKg8XIeVby",
        "outputId": "8bc69efb-ce8d-43eb-8734-9d10dc3c1ea0"
      },
      "outputs": [
        {
          "name": "stdout",
          "output_type": "stream",
          "text": [
            "Drive already mounted at /content/drive; to attempt to forcibly remount, call drive.mount(\"/content/drive\", force_remount=True).\n"
          ]
        }
      ],
      "source": [
        "from google.colab import drive\n",
        "drive.mount('/content/drive')"
      ]
    },
    {
      "cell_type": "markdown",
      "metadata": {
        "id": "SvqNjU3WeVbz"
      },
      "source": [
        "## Code"
      ]
    },
    {
      "cell_type": "code",
      "execution_count": 3,
      "metadata": {
        "id": "0jGCbzuoeVbz"
      },
      "outputs": [],
      "source": [
        "def create_dataframe(data, sort=False, sort_value=None) -> pd.DataFrame:\n",
        "    \"\"\"\n",
        "    Tạo một DataFrame từ danh sách dữ liệu, với tùy chọn sắp xếp theo cột cụ thể.\n",
        "\n",
        "    Args:\n",
        "        data (list of dict): Danh sách dữ liệu để chuyển thành DataFrame.\n",
        "        sort (bool, optional): Nếu True, sắp xếp DataFrame theo giá trị trong cột `sort_value`.\n",
        "        sort_value (str, optional): Tên cột dùng để sắp xếp (chỉ áp dụng khi `sort` là True).\n",
        "\n",
        "    Returns:\n",
        "        pd.DataFrame: DataFrame đã được tạo và sắp xếp (nếu cần).\n",
        "    \"\"\"\n",
        "    df = pd.DataFrame(data)\n",
        "    if sort and sort_value:\n",
        "        df = df.sort_values(by=sort_value, ascending=False).reset_index(drop=True)\n",
        "    return df\n",
        "\n",
        "def get_image_count(base_dir='./',\n",
        "                   categories=['Honda', 'Hyundai', 'KIA', 'Mazda', 'Mitsubishi', 'Others', 'Suzuki', 'Toyota', 'VinFast'],\n",
        "                   take_average=False,\n",
        "                   ) -> defaultdict:\n",
        "    \"\"\"\n",
        "    Lấy số lượng ảnh theo MSSV và loại xe từ thư mục gốc.\n",
        "\n",
        "    Args:\n",
        "        base_dir (str, optional): Thư mục gốc chứa các thư mục loại xe.\n",
        "        categories (list of str, optional): Danh sách các loại xe hợp lệ.\n",
        "        take_average (bool, optional): Nếu True, chia đều số lượng ảnh cho các thành viên trong nhóm MSSV.\n",
        "\n",
        "    Returns:\n",
        "        defaultdict: Dictionary dạng {MSSV: {Hiệu xe: Số lượng ảnh}}.\n",
        "    \"\"\"\n",
        "    # Tạo biến tạm để lưu số lượng ảnh theo MSSV\n",
        "    image_count = defaultdict(lambda: defaultdict(float))  # Có tình trạng có MSSV không đóng góp ảnh (?)\n",
        "\n",
        "    student_ids_pattern = r'(\\d{8}(?:-\\d{8})*)' # Lấy MSSV hợp lệ (đủ 8 số)\n",
        "    categories_pattern = '|'.join(categories) # Lấy hiệu xe hợp lệ\n",
        "    file_extension_pattern = r'\\.\\d+\\.(jpg|jpeg|png)$' # Lấy extension hợp lệ (chỉ chấp nhận file .jpg, .jpeg và .png)\n",
        "    # Regex lấy tên file hợp lệ\n",
        "    accepted_filename = re.compile(fr'{student_ids_pattern}\\.({categories_pattern}){file_extension_pattern}')\n",
        "\n",
        "    # accepted_filename_2 = re.compile(fr'(\\d{{8}}(?:-\\d{{8}})*)\\.({categories_pattern})\\.\\d+\\.(jpg|jpeg|png)$')\n",
        "    for category in categories: # Duyệt qua các hiệu xe\n",
        "        category_path = os.path.join(base_dir, category)\n",
        "        if os.path.isdir(category_path): # Kiểm tra nếu thư mục tồn tại\n",
        "            for filename in os.listdir(category_path):\n",
        "                match = accepted_filename.match(filename)\n",
        "                if match: # Chỉ xử lý file có tên hợp lệ\n",
        "                    student_ids, car_category, img_idx = match.groups()\n",
        "                    student_ids_list = student_ids.split('-')\n",
        "                    num_members = len(student_ids_list)\n",
        "                    # Đếm ảnh theo MSSV\n",
        "                    for student_id in student_ids_list:\n",
        "                        image_count[student_id][car_category] += 1 / num_members if take_average else 1\n",
        "\n",
        "    return image_count\n",
        "\n",
        "def write_csv(base_dir='./',\n",
        "              dataset_dir='./',\n",
        "              categories=['Honda', 'Hyundai', 'KIA', 'Mazda', 'Mitsubishi', 'Others', 'Suzuki', 'Toyota', 'VinFast'],\n",
        "              file_name_cars='CarDataset-1.csv',\n",
        "              file_name_categories='CarDataset-2.csv',\n",
        "              save_csv=False,\n",
        "              take_average=False,\n",
        "              sort=False\n",
        "              ) -> tuple:\n",
        "    \"\"\"\n",
        "    Ghi số liệu ảnh theo MSSV và loại xe vào các file CSV.\n",
        "\n",
        "    Args:\n",
        "        base_dir (str, optional): Thư mục gốc chứa các thư mục loại xe.\n",
        "        dataset_dir (str, optional): Thư mục lưu trữ các file CSV đầu ra.\n",
        "        categories (list of str, optional): Danh sách các loại xe hợp lệ.\n",
        "        file_name_cars (str, optional): Tên file CSV lưu số lượng ảnh tổng hợp theo MSSV.\n",
        "        file_name_categories (str, optional): Tên file CSV lưu số lượng ảnh chi tiết theo loại xe.\n",
        "        save_csv (bool, optional): Nếu True, lưu các DataFrame dưới dạng file CSV.\n",
        "        take_average (bool, optional): Nếu True, chia đều số lượng ảnh cho các thành viên trong nhóm MSSV.\n",
        "        sort (bool, optional): Nếu True, sắp xếp dữ liệu theo số lượng ảnh.\n",
        "\n",
        "    Returns:\n",
        "        tuple: Tuple chứa 2 DataFrame: (df_cars, df_categories).\n",
        "    \"\"\"\n",
        "    os.makedirs(dataset_dir, exist_ok=True) # Tạo thư mục đầu ra nếu chưa tồn tại\n",
        "    image_count = get_image_count(base_dir=base_dir, categories=categories, take_average=take_average) # Lấy số lượng ảnh theo MSSV và loại xe\n",
        "\n",
        "    cars_list = [] # Danh sách tổng số lượng ảnh của mỗi MSSV\n",
        "    categories_list = [] # Danh sách số lượng ảnh theo hiệu xe của mỗi MSSV\n",
        "\n",
        "    for student_id, car_data in image_count.items():\n",
        "        total_images = 0\n",
        "        for car_category, count in car_data.items():\n",
        "            total_images += count\n",
        "            categories_list.append({'MSSV': student_id, 'Hiệu xe': car_category, 'Số lượng': round(count, 2)})\n",
        "        cars_list.append({'MSSV': student_id, 'All': 'All', 'Số lượng': round(total_images, 2)})\n",
        "\n",
        "    # Chuyển danh sách thành DataFrame\n",
        "    df_cars = create_dataframe(cars_list, sort=sort, sort_value='Số lượng')\n",
        "    df_categories = create_dataframe(categories_list, sort=sort, sort_value='Số lượng')\n",
        "\n",
        "    # Lấy đường dẫn file CSV\n",
        "    file_path_categories = os.path.join(dataset_dir, file_name_categories)\n",
        "    file_path_cars = os.path.join(dataset_dir, file_name_cars)\n",
        "\n",
        "    # Lưu CSV nếu cần\n",
        "    if save_csv:\n",
        "        df_categories.to_csv(file_path_categories, index=False)\n",
        "        df_cars.to_csv(file_path_cars, index=False)\n",
        "\n",
        "        print(f'{file_name_cars} saved to: {file_path_cars}')\n",
        "        print(f'{file_name_categories} saved to: {file_path_categories}')\n",
        "\n",
        "    return df_cars, df_categories\n"
      ]
    },
    {
      "cell_type": "code",
      "execution_count": 4,
      "metadata": {
        "colab": {
          "base_uri": "https://localhost:8080/"
        },
        "id": "EyHxZIsYeVb1",
        "outputId": "59bae18b-a887-4003-a2a8-9bab983e75e2"
      },
      "outputs": [
        {
          "name": "stdout",
          "output_type": "stream",
          "text": [
            "CarDataset-1.csv saved to: ./drive/MyDrive/Classroom/CS114.ML - MACHINE LEARNING CS114.P11 - HK1 (2024-2025)/Final Project/Dataset/CarDataset-1.csv\n",
            "CarDataset-2.csv saved to: ./drive/MyDrive/Classroom/CS114.ML - MACHINE LEARNING CS114.P11 - HK1 (2024-2025)/Final Project/Dataset/CarDataset-2.csv\n"
          ]
        }
      ],
      "source": [
        "base_dir = './drive/MyDrive/Classroom/CS114.ML - MACHINE LEARNING CS114.P11 - HK1 (2024-2025)/Final Project/Public'\n",
        "dataset_dir = './drive/MyDrive/Classroom/CS114.ML - MACHINE LEARNING CS114.P11 - HK1 (2024-2025)/Final Project/Dataset'\n",
        "\n",
        "categories = ['Others', 'Honda', 'Hyundai', 'KIA', 'Mazda', 'Mitsubishi', 'Suzuki', 'Toyota', 'VinFast']\n",
        "\n",
        "file_name_cars = 'CarDataset-1.csv'\n",
        "file_name_categories = 'CarDataset-2.csv'\n",
        "\n",
        "df_cars, df_categories = write_csv(base_dir=base_dir,\n",
        "                                   dataset_dir=dataset_dir,\n",
        "                                   categories=categories,\n",
        "                                   file_name_cars=file_name_cars,\n",
        "                                   file_name_categories=file_name_categories,\n",
        "                                   save_csv=False,\n",
        "                                   take_average=False,\n",
        "                                   sort=True)   "
      ]
    },
    {
      "cell_type": "code",
      "execution_count": 5,
      "metadata": {
        "colab": {
          "base_uri": "https://localhost:8080/"
        },
        "id": "lBnH_oAkfVmW",
        "outputId": "5a03a8c8-1618-4c66-c5f8-6185cc6e34ff"
      },
      "outputs": [
        {
          "name": "stdout",
          "output_type": "stream",
          "text": [
            "CarDataset-1.csv:\n",
            "        MSSV  All  Số lượng\n",
            "0   22521060  All   11969.0\n",
            "1   22521027  All   11969.0\n",
            "2   22520195  All   11969.0\n",
            "3   22520459  All    3777.0\n",
            "4   22520507  All    3777.0\n",
            "5   22520862  All    3777.0\n",
            "6   22520394  All    2945.0\n",
            "7   22520395  All    2945.0\n",
            "8   22520779  All    2720.0\n",
            "9   22521587  All    2720.0\n",
            "10  22521070  All    2183.0\n",
            "11  22520211  All    2183.0\n",
            "12  22520970  All    1764.0\n",
            "13  22521342  All    1764.0\n",
            "14  22521586  All    1446.0\n",
            "15  22521559  All    1446.0\n",
            "16  21520938  All    1046.0\n",
            "17  22520634  All    1046.0\n",
            "18  22521692  All    1035.0\n",
            "19  22521676  All    1035.0\n",
            "20  22520915  All     660.0\n",
            "21  22520914  All     660.0\n",
            "22  22521599  All     599.0\n",
            "23  22521492  All     599.0\n",
            "24  21522924  All     596.0\n",
            "25  22520477  All     578.0\n",
            "26  22520490  All     578.0\n",
            "27  22521614  All     499.0\n",
            "28  22521560  All     499.0\n",
            "29  22520348  All     419.0\n",
            "30  22520530  All     419.0\n",
            "31  22520837  All     419.0\n",
            "32  22521463  All     299.0\n",
            "33  22521213  All     299.0\n",
            "34  22521259  All     299.0\n",
            "35  22520521  All     290.0\n",
            "36  22520884  All     290.0\n",
            "37  22520550  All     204.0\n",
            "38  22520967  All     204.0\n",
            "39  22520683  All     195.0\n",
            "40  22521465  All     195.0\n",
            "41  22520811  All     195.0\n",
            "42  22520213  All     159.0\n",
            "43  22520223  All     159.0\n",
            "44  22520318  All     116.0\n",
            "45  22521425  All     116.0\n",
            "46  22520581  All     100.0\n"
          ]
        }
      ],
      "source": [
        "print(f'{file_name_cars}:\\n{df_cars}')"
      ]
    },
    {
      "cell_type": "code",
      "execution_count": 6,
      "metadata": {
        "colab": {
          "base_uri": "https://localhost:8080/"
        },
        "id": "H6JFpAhQgjbt",
        "outputId": "c2c4faeb-0ab5-4723-b764-4f5793e94772"
      },
      "outputs": [
        {
          "name": "stdout",
          "output_type": "stream",
          "text": [
            "CarDataset-2.csv:\n",
            "         MSSV  Hiệu xe  Số lượng\n",
            "0    22520507   Suzuki    2400.0\n",
            "1    22520862   Suzuki    2400.0\n",
            "2    22520459   Suzuki    2400.0\n",
            "3    22520195   Suzuki    2307.0\n",
            "4    22521027   Suzuki    2307.0\n",
            "..        ...      ...       ...\n",
            "346  22521425      KIA      10.0\n",
            "347  22520318    Mazda      10.0\n",
            "348  22520318    Honda      10.0\n",
            "349  22520318      KIA      10.0\n",
            "350  22520318  Hyundai      10.0\n",
            "\n",
            "[351 rows x 3 columns]\n"
          ]
        }
      ],
      "source": [
        "print(f'{file_name_categories}:\\n{df_categories}')"
      ]
    }
  ],
  "metadata": {
    "colab": {
      "provenance": []
    },
    "kernelspec": {
      "display_name": ".venv",
      "language": "python",
      "name": "python3"
    },
    "language_info": {
      "codemirror_mode": {
        "name": "ipython",
        "version": 3
      },
      "file_extension": ".py",
      "mimetype": "text/x-python",
      "name": "python",
      "nbconvert_exporter": "python",
      "pygments_lexer": "ipython3",
      "version": "3.10.11"
    }
  },
  "nbformat": 4,
  "nbformat_minor": 0
}
