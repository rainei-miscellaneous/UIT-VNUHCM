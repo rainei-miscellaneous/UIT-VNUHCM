{
 "cells": [
  {
   "cell_type": "markdown",
   "id": "53853195-a8c4-40ae-9bf1-ded651326392",
   "metadata": {},
   "source": [
    "### Bài tập 1: Sử dụng Python như một Máy tính cầm tay"
   ]
  },
  {
   "cell_type": "markdown",
   "id": "9673efa0-0044-4786-991a-1eb824556de2",
   "metadata": {},
   "source": [
    "Lucky Larry đã mua $75$ cổ phiếu của Google với giá $\\$235$ cho mỗi cổ phiếu. Hôm nay, giá của cổ phiếu Google là $\\$711$. Sử dụng chế độ tương tác (interactive mode) của Python như một máy tính cầm tay, hãy tính toán xem Larry sẽ lãi bao nhiêu nếu anh ấy bán tất cả cổ phiếu của mình."
   ]
  },
  {
   "cell_type": "code",
   "execution_count": 1,
   "id": "c6607735-6544-4f9f-ac8d-f0b864b2967c",
   "metadata": {},
   "outputs": [
    {
     "data": {
      "text/plain": [
       "35700"
      ]
     },
     "execution_count": 1,
     "metadata": {},
     "output_type": "execute_result"
    }
   ],
   "source": [
    "(711 - 235) * 75"
   ]
  },
  {
   "cell_type": "markdown",
   "id": "8e2e92c8-1e76-401c-b257-d35a697170db",
   "metadata": {},
   "source": [
    "Sử dụng biến gạch dưới (_) để sử dụng kết quả của phép tính lần gần nhất. Larry sẽ lãi bao nhiêu sau khi người môi giới xấu xa của anh ta lấy đi $20\\%$?"
   ]
  },
  {
   "cell_type": "code",
   "execution_count": 2,
   "id": "e85d99d3-56ce-431c-b159-faa4e28fae8c",
   "metadata": {},
   "outputs": [
    {
     "data": {
      "text/plain": [
       "28560.0"
      ]
     },
     "execution_count": 2,
     "metadata": {},
     "output_type": "execute_result"
    }
   ],
   "source": [
    "### BEGIN SOLUTION\n",
    "\n",
    "### END SOLUTION"
   ]
  },
  {
   "cell_type": "markdown",
   "id": "2040dab8-23e3-4874-a0f1-761990f37be3",
   "metadata": {},
   "source": [
    "### Bài tập 2: Nhận trợ giúp"
   ]
  },
  {
   "cell_type": "markdown",
   "id": "1028962c-921a-41c0-a917-60f522360661",
   "metadata": {},
   "source": [
    "Sử dụng lệnh `help()` để nhận trợ giúp về hàm `abs()`, và sau này bạn có thể truy cập http://docs.python.org để tìm thêm tài liệu về hàm `abs()` hoặc các hàm khác."
   ]
  },
  {
   "cell_type": "code",
   "execution_count": 4,
   "id": "a4833a60-07b8-4dd8-a108-ee0c3dd2faae",
   "metadata": {},
   "outputs": [
    {
     "name": "stdout",
     "output_type": "stream",
     "text": [
      "Help on built-in function abs in module builtins:\n",
      "\n",
      "abs(x, /)\n",
      "    Return the absolute value of the argument.\n",
      "\n"
     ]
    }
   ],
   "source": [
    "### BEGIN SOLUTION\n",
    "\n",
    "### END SOLUTION"
   ]
  },
  {
   "cell_type": "markdown",
   "id": "c26f3d20-7b40-4f2d-9e64-016d4268c6d5",
   "metadata": {},
   "source": [
    "### Bài tập 3: Quả bóng nảy"
   ]
  },
  {
   "cell_type": "markdown",
   "id": "880d2b4e-c4d7-4e95-915b-e823a97b26d5",
   "metadata": {},
   "source": [
    "Viết một hàm có tên `display_bounce_heights` nhận đầu vào là độ cao ban đầu $h$ (mét) ($100 \\leq h \\leq 1000000$) của quả bóng cao su, sau đó in ra bảng hiển thị độ cao của quả bóng sau $10$ lần nảy đầu tiên. Mỗi lần quả bóng chạm đất, nó sẽ nảy lên độ cao bằng $3/5$ độ cao mà nó rơi. Làm tròn kết quả đến $4$ chữ số thập phân."
   ]
  },
  {
   "cell_type": "code",
   "execution_count": 6,
   "id": "af185290-9e4b-4273-9de3-f5d1e4a66372",
   "metadata": {},
   "outputs": [],
   "source": [
    "### BEGIN SOLUTION\n",
    "def display_bounce_heights(h):\n",
    "\n",
    "\n",
    "\n",
    "\n",
    "\n",
    "\n",
    "\n",
    "\n",
    "\n",
    "\n",
    "        \n",
    "### END SOLUTION"
   ]
  },
  {
   "cell_type": "code",
   "execution_count": 7,
   "id": "781c2710-7c2f-4a13-941b-860c8bd811df",
   "metadata": {},
   "outputs": [
    {
     "name": "stdout",
     "output_type": "stream",
     "text": [
      "Lần | Độ cao\n",
      "-----------------\n",
      " 1  |  60.0000 m\n",
      " 2  |  36.0000 m\n",
      " 3  |  21.6000 m\n",
      " 4  |  12.9600 m\n",
      " 5  |   7.7760 m\n",
      " 6  |   4.6656 m\n",
      " 7  |   2.7994 m\n",
      " 8  |   1.6796 m\n",
      " 9  |   1.0078 m\n",
      " 10 |   0.6047 m\n"
     ]
    }
   ],
   "source": [
    "display_bounce_heights(100)"
   ]
  },
  {
   "cell_type": "markdown",
   "id": "9fba9def-a5f1-4020-b9cd-05f277612fd1",
   "metadata": {},
   "source": [
    "### Bài tập 4: Biểu thức chính quy"
   ]
  },
  {
   "cell_type": "markdown",
   "id": "75937350-f5db-4dbf-921b-581a633a3eee",
   "metadata": {},
   "source": [
    "Viết một hàm có tên `find_and_replace_dates` để tìm tất cả các ngày có định dạng `mm/dd/yyyy` trong một chuỗi văn bản đầu vào và thay thế chúng bằng định dạng `yyyy-mm-dd`. Hàm sẽ trả về một `tuple` bao gồm danh sách (`list`) các ngày tìm được và chuỗi (`str`) văn bản mới sau khi thực hiện thay thế."
   ]
  },
  {
   "cell_type": "code",
   "execution_count": 9,
   "id": "3956a991-0bf3-42e2-8040-abb0738c1e53",
   "metadata": {},
   "outputs": [],
   "source": [
    "### BEGIN SOLUTION\n",
    "\n",
    "\n",
    "\n",
    "\n",
    "\n",
    "### END SOLUTION"
   ]
  },
  {
   "cell_type": "code",
   "execution_count": 10,
   "id": "e24238be-64e7-4da4-8eee-f87fd7a98639",
   "metadata": {},
   "outputs": [
    {
     "data": {
      "text/plain": [
       "(['3/4/2024', '3/5/2024'], 'Hôm nay là ngày 2024-3-4. Ngày mai là 2024-3-5.')"
      ]
     },
     "execution_count": 10,
     "metadata": {},
     "output_type": "execute_result"
    }
   ],
   "source": [
    "find_and_replace_dates(\"Hôm nay là ngày 3/4/2024. Ngày mai là 3/5/2024.\")"
   ]
  },
  {
   "cell_type": "markdown",
   "id": "4f4564df-572e-409d-a9d2-7012728def87",
   "metadata": {},
   "source": [
    "### Bài tập 5: Các phương thức của chuỗi"
   ]
  },
  {
   "cell_type": "markdown",
   "id": "c77e50e9-8162-4d57-98c0-4a2449a4be5c",
   "metadata": {},
   "source": [
    "Hãy lập danh sách tất cả các phương thức có sẵn của đối tượng `s` trong môi trường Python mà đoạn mã này sẽ được chạy. Đối tượng `s` là một chuỗi (`str`), và yêu cầu của bài tập là xác định và ghi lại tất cả các phương thức mà Python cung cấp cho kiểu dữ liệu này vào danh sách `string_methods`. Ví dụ: `string_methods = ['lower', '__add__']`. Lưu ý, trong bài tập này bạn vui lòng liệt kê tất cả phương thức"
   ]
  },
  {
   "cell_type": "code",
   "execution_count": 12,
   "id": "32cc8c2d-4d69-490f-b033-b9f29a70ee95",
   "metadata": {},
   "outputs": [],
   "source": [
    "s = \"Hello, World!\"\n",
    "### BEGIN SOLUTION\n",
    "string_methods = \n",
    "### END SOLUTION"
   ]
  },
  {
   "cell_type": "markdown",
   "id": "b53c04c3-eff0-48d0-a892-a4a598e869c0",
   "metadata": {},
   "source": [
    "### Bài tập 6: Xử lý chuỗi"
   ]
  },
  {
   "cell_type": "markdown",
   "id": "94fe0514-c1e0-4e59-a93a-93857060b35f",
   "metadata": {},
   "source": [
    "Viết một hàm với tên `sort_and_join_stocks`. Hàm này sẽ nhận vào một chuỗi (`str`) là danh sách các mã chứng khoán, trong đó mỗi mã chứng khoán được phân tách bởi dấu phẩy. Hàm sẽ sắp xếp các mã chứng khoán theo thứ tự tăng dần và sau đó nối chúng lại thành một chuỗi mới, với các mã vẫn được phân tách bởi dấu phẩy. Hàm sẽ trả về một chuỗi (`str`)."
   ]
  },
  {
   "cell_type": "code",
   "execution_count": 14,
   "id": "2115a895-0410-4d65-b679-7d7d1a44ee3d",
   "metadata": {},
   "outputs": [],
   "source": [
    "### BEGIN SOLUTION\n",
    "\n",
    "\n",
    "\n",
    "\n",
    "\n",
    "### END SOLUTION"
   ]
  },
  {
   "cell_type": "code",
   "execution_count": 15,
   "id": "699359d0-c4c6-4a63-9902-1a915cc3b9d9",
   "metadata": {},
   "outputs": [
    {
     "data": {
      "text/plain": [
       "'AAPL,AMZN,CSCO,FB,HPQ,NFLX,NVDA'"
      ]
     },
     "execution_count": 15,
     "metadata": {},
     "output_type": "execute_result"
    }
   ],
   "source": [
    "sort_and_join_stocks('NVDA,AMZN,AAPL,CSCO,HPQ,NFLX,FB')"
   ]
  },
  {
   "cell_type": "markdown",
   "id": "81816fe6-36d3-4a08-9660-647d2dbc01ca",
   "metadata": {},
   "source": [
    "### Bài tập 7: Sử dụng thư viện `os`"
   ]
  },
  {
   "cell_type": "markdown",
   "id": "3578d5cb-f2a5-4422-9caf-a946c34a2f4a",
   "metadata": {},
   "source": [
    "Vui lòng sử dụng thư viện `os` để xác định đường dẫn đến thư mục chứa tập tin Jupyter Notebook hoặc tập tin Python đang được thực thi. Sau đó, lưu chuỗi đường dẫn thu được vào biến `current_working_directory`. Phương pháp này cần phải đảm bảo tính chính xác khi được áp dụng trên một máy tính khác, không chỉ riêng máy tính của bạn."
   ]
  },
  {
   "cell_type": "code",
   "execution_count": 17,
   "id": "9620c261-07c0-45b0-a5df-7450fc4d2599",
   "metadata": {},
   "outputs": [],
   "source": [
    "import os\n",
    "### BEGIN SOLUTION\n",
    "current_working_directory = \n",
    "### END SOLUTION"
   ]
  },
  {
   "cell_type": "markdown",
   "id": "a7491701-4620-404a-8249-edc25e022d56",
   "metadata": {},
   "source": [
    "### Bài tập 8: Làm việc với tập tin"
   ]
  },
  {
   "cell_type": "markdown",
   "id": "e4c7efc4-c271-4034-a6d7-e492c3fa9ae9",
   "metadata": {},
   "source": [
    "Các cột trong tệp `./data/portfolio.csv` tương ứng với `tên cổ phiếu`, `số lượng cổ phiếu` và `giá mua của một lô cổ phiếu đơn lẻ`. Đọc tất cả các dòng và tính toán xem việc mua tất cả các cổ phiếu trong danh mục đầu tư này tốn bao nhiêu tiền và lưu kết quả vào biến `total_cost`. Gợi ý: để chuyển đổi một chuỗi thành một số nguyên, sử dụng `int(s)`. Để chuyển đổi một chuỗi thành một số thực, sử dụng `float(s)`. Nếu bạn sử dụng thư viện `pandas` trong bài tập này, bạn sẽ không được tính điểm."
   ]
  },
  {
   "cell_type": "code",
   "execution_count": 19,
   "id": "a7cc0eb6-418c-402f-a162-3918550ccf45",
   "metadata": {},
   "outputs": [],
   "source": [
    "total_cost = None\n",
    "### BEGIN SOLUTION\n",
    "\n",
    "\n",
    "\n",
    "\n",
    "\n",
    "\n",
    "\n",
    "\n",
    "### END SOLUTION"
   ]
  }
 ],
 "metadata": {
  "kernelspec": {
   "display_name": "Python 3 (ipykernel)",
   "language": "python",
   "name": "python3"
  },
  "language_info": {
   "codemirror_mode": {
    "name": "ipython",
    "version": 3
   },
   "file_extension": ".py",
   "mimetype": "text/x-python",
   "name": "python",
   "nbconvert_exporter": "python",
   "pygments_lexer": "ipython3",
   "version": "3.11.5"
  }
 },
 "nbformat": 4,
 "nbformat_minor": 5
}
