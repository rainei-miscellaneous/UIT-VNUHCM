{
  "cells": [
    {
      "cell_type": "markdown",
      "metadata": {
        "id": "3EqhiUHw1bcD"
      },
      "source": [
        "# Basic usage of the GraphRAG-SDK to Create a Knowledge Graph and RAG System\n",
        "\n",
        "The following example demonstrates the basic usage of this SDK to create a GraphRAG using URLs with auto-detected ontology."
      ]
    },
    {
      "cell_type": "code",
      "execution_count": 1,
      "metadata": {
        "colab": {
          "base_uri": "https://localhost:8080/"
        },
        "id": "p32rUjvq1bcE",
        "outputId": "4b96cc56-8841-46f9-8aec-a88b3646102c"
      },
      "outputs": [
        {
          "name": "stdout",
          "output_type": "stream",
          "text": [
            "Requirement already satisfied: graphrag_sdk[all] in c:\\users\\acer\\anaconda3\\lib\\site-packages (0.3.4)\n",
            "Requirement already satisfied: backoff<3.0.0,>=2.2.1 in c:\\users\\acer\\anaconda3\\lib\\site-packages (from graphrag_sdk[all]) (2.2.1)\n",
            "Requirement already satisfied: bs4<0.0.3,>=0.0.2 in c:\\users\\acer\\anaconda3\\lib\\site-packages (from graphrag_sdk[all]) (0.0.2)\n",
            "Requirement already satisfied: falkordb<2.0.0,>=1.0.9 in c:\\users\\acer\\anaconda3\\lib\\site-packages (from graphrag_sdk[all]) (1.0.10)\n",
            "Requirement already satisfied: fix-busted-json<0.0.19,>=0.0.18 in c:\\users\\acer\\anaconda3\\lib\\site-packages (from graphrag_sdk[all]) (0.0.18)\n",
            "Requirement already satisfied: google-generativeai<0.9.0,>=0.8.1 in c:\\users\\acer\\anaconda3\\lib\\site-packages (from graphrag_sdk[all]) (0.8.3)\n",
            "Requirement already satisfied: ipykernel<7.0.0,>=6.29.5 in c:\\users\\acer\\anaconda3\\lib\\site-packages (from graphrag_sdk[all]) (6.29.5)\n",
            "Requirement already satisfied: ollama<0.3.0,>=0.2.1 in c:\\users\\acer\\anaconda3\\lib\\site-packages (from graphrag_sdk[all]) (0.2.1)\n",
            "Requirement already satisfied: openai<2.0.0,>=1.35.9 in c:\\users\\acer\\anaconda3\\lib\\site-packages (from graphrag_sdk[all]) (1.57.4)\n",
            "Requirement already satisfied: pypdf<5.0.0,>=4.2.0 in c:\\users\\acer\\anaconda3\\lib\\site-packages (from graphrag_sdk[all]) (4.3.1)\n",
            "Requirement already satisfied: python-abc<0.3.0,>=0.2.0 in c:\\users\\acer\\anaconda3\\lib\\site-packages (from graphrag_sdk[all]) (0.2.0)\n",
            "Requirement already satisfied: python-dotenv<2.0.0,>=1.0.1 in c:\\users\\acer\\anaconda3\\lib\\site-packages (from graphrag_sdk[all]) (1.0.1)\n",
            "Requirement already satisfied: ratelimit<3.0.0,>=2.2.1 in c:\\users\\acer\\anaconda3\\lib\\site-packages (from graphrag_sdk[all]) (2.2.1)\n",
            "Requirement already satisfied: requests<3.0.0,>=2.32.3 in c:\\users\\acer\\anaconda3\\lib\\site-packages (from graphrag_sdk[all]) (2.32.3)\n",
            "Requirement already satisfied: typing-extensions<5.0.0,>=4.12.1 in c:\\users\\acer\\anaconda3\\lib\\site-packages (from graphrag_sdk[all]) (4.12.2)\n",
            "Requirement already satisfied: vertexai<2.0.0,>=1.49.0 in c:\\users\\acer\\anaconda3\\lib\\site-packages (from graphrag_sdk[all]) (1.71.1)\n",
            "Requirement already satisfied: beautifulsoup4 in c:\\users\\acer\\anaconda3\\lib\\site-packages (from bs4<0.0.3,>=0.0.2->graphrag_sdk[all]) (4.12.3)\n",
            "Requirement already satisfied: redis<6.0.0,>=5.0.1 in c:\\users\\acer\\anaconda3\\lib\\site-packages (from falkordb<2.0.0,>=1.0.9->graphrag_sdk[all]) (5.2.1)\n",
            "Requirement already satisfied: google-ai-generativelanguage==0.6.10 in c:\\users\\acer\\anaconda3\\lib\\site-packages (from google-generativeai<0.9.0,>=0.8.1->graphrag_sdk[all]) (0.6.10)\n",
            "Requirement already satisfied: google-api-core in c:\\users\\acer\\anaconda3\\lib\\site-packages (from google-generativeai<0.9.0,>=0.8.1->graphrag_sdk[all]) (2.24.0)\n",
            "Requirement already satisfied: google-api-python-client in c:\\users\\acer\\anaconda3\\lib\\site-packages (from google-generativeai<0.9.0,>=0.8.1->graphrag_sdk[all]) (2.155.0)\n",
            "Requirement already satisfied: google-auth>=2.15.0 in c:\\users\\acer\\anaconda3\\lib\\site-packages (from google-generativeai<0.9.0,>=0.8.1->graphrag_sdk[all]) (2.37.0)\n",
            "Requirement already satisfied: protobuf in c:\\users\\acer\\anaconda3\\lib\\site-packages (from google-generativeai<0.9.0,>=0.8.1->graphrag_sdk[all]) (5.29.1)\n",
            "Requirement already satisfied: pydantic in c:\\users\\acer\\anaconda3\\lib\\site-packages (from google-generativeai<0.9.0,>=0.8.1->graphrag_sdk[all]) (2.5.3)\n",
            "Requirement already satisfied: tqdm in c:\\users\\acer\\anaconda3\\lib\\site-packages (from google-generativeai<0.9.0,>=0.8.1->graphrag_sdk[all]) (4.66.4)\n",
            "Requirement already satisfied: proto-plus<2.0.0dev,>=1.22.3 in c:\\users\\acer\\anaconda3\\lib\\site-packages (from google-ai-generativelanguage==0.6.10->google-generativeai<0.9.0,>=0.8.1->graphrag_sdk[all]) (1.25.0)\n",
            "Requirement already satisfied: comm>=0.1.1 in c:\\users\\acer\\anaconda3\\lib\\site-packages (from ipykernel<7.0.0,>=6.29.5->graphrag_sdk[all]) (0.2.1)\n",
            "Requirement already satisfied: debugpy>=1.6.5 in c:\\users\\acer\\anaconda3\\lib\\site-packages (from ipykernel<7.0.0,>=6.29.5->graphrag_sdk[all]) (1.6.7)\n",
            "Requirement already satisfied: ipython>=7.23.1 in c:\\users\\acer\\anaconda3\\lib\\site-packages (from ipykernel<7.0.0,>=6.29.5->graphrag_sdk[all]) (8.25.0)\n",
            "Requirement already satisfied: jupyter-client>=6.1.12 in c:\\users\\acer\\anaconda3\\lib\\site-packages (from ipykernel<7.0.0,>=6.29.5->graphrag_sdk[all]) (8.6.0)\n",
            "Requirement already satisfied: jupyter-core!=5.0.*,>=4.12 in c:\\users\\acer\\anaconda3\\lib\\site-packages (from ipykernel<7.0.0,>=6.29.5->graphrag_sdk[all]) (5.7.2)\n",
            "Requirement already satisfied: matplotlib-inline>=0.1 in c:\\users\\acer\\anaconda3\\lib\\site-packages (from ipykernel<7.0.0,>=6.29.5->graphrag_sdk[all]) (0.1.6)\n",
            "Requirement already satisfied: nest-asyncio in c:\\users\\acer\\anaconda3\\lib\\site-packages (from ipykernel<7.0.0,>=6.29.5->graphrag_sdk[all]) (1.6.0)\n",
            "Requirement already satisfied: packaging in c:\\users\\acer\\anaconda3\\lib\\site-packages (from ipykernel<7.0.0,>=6.29.5->graphrag_sdk[all]) (23.2)\n",
            "Requirement already satisfied: psutil in c:\\users\\acer\\anaconda3\\lib\\site-packages (from ipykernel<7.0.0,>=6.29.5->graphrag_sdk[all]) (5.9.0)\n",
            "Requirement already satisfied: pyzmq>=24 in c:\\users\\acer\\anaconda3\\lib\\site-packages (from ipykernel<7.0.0,>=6.29.5->graphrag_sdk[all]) (25.1.2)\n",
            "Requirement already satisfied: tornado>=6.1 in c:\\users\\acer\\anaconda3\\lib\\site-packages (from ipykernel<7.0.0,>=6.29.5->graphrag_sdk[all]) (6.4.1)\n",
            "Requirement already satisfied: traitlets>=5.4.0 in c:\\users\\acer\\anaconda3\\lib\\site-packages (from ipykernel<7.0.0,>=6.29.5->graphrag_sdk[all]) (5.14.3)\n",
            "Requirement already satisfied: httpx<0.28.0,>=0.27.0 in c:\\users\\acer\\anaconda3\\lib\\site-packages (from ollama<0.3.0,>=0.2.1->graphrag_sdk[all]) (0.27.2)\n",
            "Requirement already satisfied: anyio<5,>=3.5.0 in c:\\users\\acer\\anaconda3\\lib\\site-packages (from openai<2.0.0,>=1.35.9->graphrag_sdk[all]) (4.2.0)\n",
            "Requirement already satisfied: distro<2,>=1.7.0 in c:\\users\\acer\\anaconda3\\lib\\site-packages (from openai<2.0.0,>=1.35.9->graphrag_sdk[all]) (1.9.0)\n",
            "Requirement already satisfied: jiter<1,>=0.4.0 in c:\\users\\acer\\anaconda3\\lib\\site-packages (from openai<2.0.0,>=1.35.9->graphrag_sdk[all]) (0.8.2)\n",
            "Requirement already satisfied: sniffio in c:\\users\\acer\\anaconda3\\lib\\site-packages (from openai<2.0.0,>=1.35.9->graphrag_sdk[all]) (1.3.0)\n",
            "Requirement already satisfied: charset-normalizer<4,>=2 in c:\\users\\acer\\anaconda3\\lib\\site-packages (from requests<3.0.0,>=2.32.3->graphrag_sdk[all]) (2.0.4)\n",
            "Requirement already satisfied: idna<4,>=2.5 in c:\\users\\acer\\anaconda3\\lib\\site-packages (from requests<3.0.0,>=2.32.3->graphrag_sdk[all]) (3.7)\n",
            "Requirement already satisfied: urllib3<3,>=1.21.1 in c:\\users\\acer\\anaconda3\\lib\\site-packages (from requests<3.0.0,>=2.32.3->graphrag_sdk[all]) (2.2.2)\n",
            "Requirement already satisfied: certifi>=2017.4.17 in c:\\users\\acer\\anaconda3\\lib\\site-packages (from requests<3.0.0,>=2.32.3->graphrag_sdk[all]) (2024.6.2)\n",
            "Requirement already satisfied: google-cloud-aiplatform==1.71.1 in c:\\users\\acer\\anaconda3\\lib\\site-packages (from google-cloud-aiplatform[all]==1.71.1->vertexai<2.0.0,>=1.49.0->graphrag_sdk[all]) (1.71.1)\n",
            "Requirement already satisfied: google-cloud-storage<3.0.0dev,>=1.32.0 in c:\\users\\acer\\anaconda3\\lib\\site-packages (from google-cloud-aiplatform==1.71.1->google-cloud-aiplatform[all]==1.71.1->vertexai<2.0.0,>=1.49.0->graphrag_sdk[all]) (2.19.0)\n",
            "Requirement already satisfied: google-cloud-bigquery!=3.20.0,<4.0.0dev,>=1.15.0 in c:\\users\\acer\\anaconda3\\lib\\site-packages (from google-cloud-aiplatform==1.71.1->google-cloud-aiplatform[all]==1.71.1->vertexai<2.0.0,>=1.49.0->graphrag_sdk[all]) (3.27.0)\n",
            "Requirement already satisfied: google-cloud-resource-manager<3.0.0dev,>=1.3.3 in c:\\users\\acer\\anaconda3\\lib\\site-packages (from google-cloud-aiplatform==1.71.1->google-cloud-aiplatform[all]==1.71.1->vertexai<2.0.0,>=1.49.0->graphrag_sdk[all]) (1.14.0)\n",
            "Requirement already satisfied: shapely<3.0.0dev in c:\\users\\acer\\anaconda3\\lib\\site-packages (from google-cloud-aiplatform==1.71.1->google-cloud-aiplatform[all]==1.71.1->vertexai<2.0.0,>=1.49.0->graphrag_sdk[all]) (2.0.6)\n",
            "Requirement already satisfied: docstring-parser<1 in c:\\users\\acer\\anaconda3\\lib\\site-packages (from google-cloud-aiplatform==1.71.1->google-cloud-aiplatform[all]==1.71.1->vertexai<2.0.0,>=1.49.0->graphrag_sdk[all]) (0.16)\n",
            "Requirement already satisfied: googleapis-common-protos<2.0.dev0,>=1.56.2 in c:\\users\\acer\\anaconda3\\lib\\site-packages (from google-api-core->google-generativeai<0.9.0,>=0.8.1->graphrag_sdk[all]) (1.66.0)\n",
            "Requirement already satisfied: cachetools<6.0,>=2.0.0 in c:\\users\\acer\\anaconda3\\lib\\site-packages (from google-auth>=2.15.0->google-generativeai<0.9.0,>=0.8.1->graphrag_sdk[all]) (5.3.3)\n",
            "Requirement already satisfied: pyasn1-modules>=0.2.1 in c:\\users\\acer\\anaconda3\\lib\\site-packages (from google-auth>=2.15.0->google-generativeai<0.9.0,>=0.8.1->graphrag_sdk[all]) (0.2.8)\n",
            "Requirement already satisfied: rsa<5,>=3.1.4 in c:\\users\\acer\\anaconda3\\lib\\site-packages (from google-auth>=2.15.0->google-generativeai<0.9.0,>=0.8.1->graphrag_sdk[all]) (4.9)\n",
            "Requirement already satisfied: httpcore==1.* in c:\\users\\acer\\anaconda3\\lib\\site-packages (from httpx<0.28.0,>=0.27.0->ollama<0.3.0,>=0.2.1->graphrag_sdk[all]) (1.0.7)\n",
            "Requirement already satisfied: h11<0.15,>=0.13 in c:\\users\\acer\\anaconda3\\lib\\site-packages (from httpcore==1.*->httpx<0.28.0,>=0.27.0->ollama<0.3.0,>=0.2.1->graphrag_sdk[all]) (0.14.0)\n",
            "Requirement already satisfied: decorator in c:\\users\\acer\\anaconda3\\lib\\site-packages (from ipython>=7.23.1->ipykernel<7.0.0,>=6.29.5->graphrag_sdk[all]) (5.1.1)\n",
            "Requirement already satisfied: jedi>=0.16 in c:\\users\\acer\\anaconda3\\lib\\site-packages (from ipython>=7.23.1->ipykernel<7.0.0,>=6.29.5->graphrag_sdk[all]) (0.18.1)\n",
            "Requirement already satisfied: prompt-toolkit<3.1.0,>=3.0.41 in c:\\users\\acer\\anaconda3\\lib\\site-packages (from ipython>=7.23.1->ipykernel<7.0.0,>=6.29.5->graphrag_sdk[all]) (3.0.43)\n",
            "Requirement already satisfied: pygments>=2.4.0 in c:\\users\\acer\\anaconda3\\lib\\site-packages (from ipython>=7.23.1->ipykernel<7.0.0,>=6.29.5->graphrag_sdk[all]) (2.15.1)\n",
            "Requirement already satisfied: stack-data in c:\\users\\acer\\anaconda3\\lib\\site-packages (from ipython>=7.23.1->ipykernel<7.0.0,>=6.29.5->graphrag_sdk[all]) (0.2.0)\n",
            "Requirement already satisfied: colorama in c:\\users\\acer\\anaconda3\\lib\\site-packages (from ipython>=7.23.1->ipykernel<7.0.0,>=6.29.5->graphrag_sdk[all]) (0.4.6)\n",
            "Requirement already satisfied: python-dateutil>=2.8.2 in c:\\users\\acer\\anaconda3\\lib\\site-packages (from jupyter-client>=6.1.12->ipykernel<7.0.0,>=6.29.5->graphrag_sdk[all]) (2.9.0.post0)\n",
            "Requirement already satisfied: platformdirs>=2.5 in c:\\users\\acer\\anaconda3\\lib\\site-packages (from jupyter-core!=5.0.*,>=4.12->ipykernel<7.0.0,>=6.29.5->graphrag_sdk[all]) (3.10.0)\n",
            "Requirement already satisfied: pywin32>=300 in c:\\users\\acer\\anaconda3\\lib\\site-packages (from jupyter-core!=5.0.*,>=4.12->ipykernel<7.0.0,>=6.29.5->graphrag_sdk[all]) (305.1)\n",
            "Requirement already satisfied: annotated-types>=0.4.0 in c:\\users\\acer\\anaconda3\\lib\\site-packages (from pydantic->google-generativeai<0.9.0,>=0.8.1->graphrag_sdk[all]) (0.6.0)\n",
            "Requirement already satisfied: pydantic-core==2.14.6 in c:\\users\\acer\\anaconda3\\lib\\site-packages (from pydantic->google-generativeai<0.9.0,>=0.8.1->graphrag_sdk[all]) (2.14.6)\n",
            "Requirement already satisfied: soupsieve>1.2 in c:\\users\\acer\\anaconda3\\lib\\site-packages (from beautifulsoup4->bs4<0.0.3,>=0.0.2->graphrag_sdk[all]) (2.5)\n",
            "Requirement already satisfied: httplib2<1.dev0,>=0.19.0 in c:\\users\\acer\\anaconda3\\lib\\site-packages (from google-api-python-client->google-generativeai<0.9.0,>=0.8.1->graphrag_sdk[all]) (0.22.0)\n",
            "Requirement already satisfied: google-auth-httplib2<1.0.0,>=0.2.0 in c:\\users\\acer\\anaconda3\\lib\\site-packages (from google-api-python-client->google-generativeai<0.9.0,>=0.8.1->graphrag_sdk[all]) (0.2.0)\n",
            "Requirement already satisfied: uritemplate<5,>=3.0.1 in c:\\users\\acer\\anaconda3\\lib\\site-packages (from google-api-python-client->google-generativeai<0.9.0,>=0.8.1->graphrag_sdk[all]) (4.1.1)\n",
            "Requirement already satisfied: grpcio<2.0dev,>=1.33.2 in c:\\users\\acer\\anaconda3\\lib\\site-packages (from google-api-core[grpc]!=2.0.*,!=2.1.*,!=2.10.*,!=2.2.*,!=2.3.*,!=2.4.*,!=2.5.*,!=2.6.*,!=2.7.*,!=2.8.*,!=2.9.*,<3.0.0dev,>=1.34.1->google-ai-generativelanguage==0.6.10->google-generativeai<0.9.0,>=0.8.1->graphrag_sdk[all]) (1.68.1)\n",
            "Requirement already satisfied: grpcio-status<2.0.dev0,>=1.33.2 in c:\\users\\acer\\anaconda3\\lib\\site-packages (from google-api-core[grpc]!=2.0.*,!=2.1.*,!=2.10.*,!=2.2.*,!=2.3.*,!=2.4.*,!=2.5.*,!=2.6.*,!=2.7.*,!=2.8.*,!=2.9.*,<3.0.0dev,>=1.34.1->google-ai-generativelanguage==0.6.10->google-generativeai<0.9.0,>=0.8.1->graphrag_sdk[all]) (1.68.1)\n",
            "Requirement already satisfied: google-cloud-core<3.0.0dev,>=2.4.1 in c:\\users\\acer\\anaconda3\\lib\\site-packages (from google-cloud-bigquery!=3.20.0,<4.0.0dev,>=1.15.0->google-cloud-aiplatform==1.71.1->google-cloud-aiplatform[all]==1.71.1->vertexai<2.0.0,>=1.49.0->graphrag_sdk[all]) (2.4.1)\n",
            "Requirement already satisfied: google-resumable-media<3.0dev,>=2.0.0 in c:\\users\\acer\\anaconda3\\lib\\site-packages (from google-cloud-bigquery!=3.20.0,<4.0.0dev,>=1.15.0->google-cloud-aiplatform==1.71.1->google-cloud-aiplatform[all]==1.71.1->vertexai<2.0.0,>=1.49.0->graphrag_sdk[all]) (2.7.2)\n",
            "Requirement already satisfied: grpc-google-iam-v1<1.0.0dev,>=0.12.4 in c:\\users\\acer\\anaconda3\\lib\\site-packages (from google-cloud-resource-manager<3.0.0dev,>=1.3.3->google-cloud-aiplatform==1.71.1->google-cloud-aiplatform[all]==1.71.1->vertexai<2.0.0,>=1.49.0->graphrag_sdk[all]) (0.13.1)\n",
            "Requirement already satisfied: google-crc32c<2.0dev,>=1.0 in c:\\users\\acer\\anaconda3\\lib\\site-packages (from google-cloud-storage<3.0.0dev,>=1.32.0->google-cloud-aiplatform==1.71.1->google-cloud-aiplatform[all]==1.71.1->vertexai<2.0.0,>=1.49.0->graphrag_sdk[all]) (1.6.0)\n",
            "Requirement already satisfied: pyparsing!=3.0.0,!=3.0.1,!=3.0.2,!=3.0.3,<4,>=2.4.2 in c:\\users\\acer\\anaconda3\\lib\\site-packages (from httplib2<1.dev0,>=0.19.0->google-api-python-client->google-generativeai<0.9.0,>=0.8.1->graphrag_sdk[all]) (3.0.9)\n",
            "Requirement already satisfied: parso<0.9.0,>=0.8.0 in c:\\users\\acer\\anaconda3\\lib\\site-packages (from jedi>=0.16->ipython>=7.23.1->ipykernel<7.0.0,>=6.29.5->graphrag_sdk[all]) (0.8.3)\n",
            "Requirement already satisfied: wcwidth in c:\\users\\acer\\anaconda3\\lib\\site-packages (from prompt-toolkit<3.1.0,>=3.0.41->ipython>=7.23.1->ipykernel<7.0.0,>=6.29.5->graphrag_sdk[all]) (0.2.5)\n",
            "Requirement already satisfied: pyasn1<0.5.0,>=0.4.6 in c:\\users\\acer\\anaconda3\\lib\\site-packages (from pyasn1-modules>=0.2.1->google-auth>=2.15.0->google-generativeai<0.9.0,>=0.8.1->graphrag_sdk[all]) (0.4.8)\n",
            "Requirement already satisfied: six>=1.5 in c:\\users\\acer\\anaconda3\\lib\\site-packages (from python-dateutil>=2.8.2->jupyter-client>=6.1.12->ipykernel<7.0.0,>=6.29.5->graphrag_sdk[all]) (1.16.0)\n",
            "Requirement already satisfied: numpy<3,>=1.14 in c:\\users\\acer\\anaconda3\\lib\\site-packages (from shapely<3.0.0dev->google-cloud-aiplatform==1.71.1->google-cloud-aiplatform[all]==1.71.1->vertexai<2.0.0,>=1.49.0->graphrag_sdk[all]) (1.26.4)\n",
            "Requirement already satisfied: executing in c:\\users\\acer\\anaconda3\\lib\\site-packages (from stack-data->ipython>=7.23.1->ipykernel<7.0.0,>=6.29.5->graphrag_sdk[all]) (0.8.3)\n",
            "Requirement already satisfied: asttokens in c:\\users\\acer\\anaconda3\\lib\\site-packages (from stack-data->ipython>=7.23.1->ipykernel<7.0.0,>=6.29.5->graphrag_sdk[all]) (2.0.5)\n",
            "Requirement already satisfied: pure-eval in c:\\users\\acer\\anaconda3\\lib\\site-packages (from stack-data->ipython>=7.23.1->ipykernel<7.0.0,>=6.29.5->graphrag_sdk[all]) (0.2.2)\n",
            "Note: you may need to restart the kernel to use updated packages.\n"
          ]
        },
        {
          "name": "stderr",
          "output_type": "stream",
          "text": [
            "WARNING: google-cloud-aiplatform 1.71.1 does not provide the extra 'all'\n"
          ]
        }
      ],
      "source": [
        "%pip install graphrag_sdk[all]"
      ]
    },
    {
      "cell_type": "code",
      "execution_count": 2,
      "metadata": {
        "id": "DyuP2ceF6HsN"
      },
      "outputs": [],
      "source": [
        "# !touch .env\n",
        "# GOOGLE_API_KEY = userdata.get(\"GOOGLE_API_KEY\")"
      ]
    },
    {
      "cell_type": "code",
      "execution_count": null,
      "metadata": {
        "colab": {
          "base_uri": "https://localhost:8080/"
        },
        "id": "-fskC7yo1bcE",
        "outputId": "52d915ef-116f-4684-c2fa-2bb5d457447b"
      },
      "outputs": [
        {
          "data": {
            "text/plain": [
              "False"
            ]
          },
          "execution_count": 3,
          "metadata": {},
          "output_type": "execute_result"
        }
      ],
      "source": [
        "from graphrag_sdk.source import URL\n",
        "from graphrag_sdk import KnowledgeGraph, Ontology\n",
        "# from graphrag_sdk.models.openai import OpenAiGenerativeModel\n",
        "from graphrag_sdk.models.gemini import GeminiGenerativeModel\n",
        "from graphrag_sdk.model_config import KnowledgeGraphModelConfig"
      ]
    },
    {
      "cell_type": "markdown",
      "metadata": {
        "id": "NFUmx4C41bcE"
      },
      "source": [
        "### Import Source Data from URLs\n",
        "\n",
        "This example uses rottentomatoes URL files as the source data. We will import these files as `Source` objects."
      ]
    },
    {
      "cell_type": "code",
      "execution_count": 5,
      "metadata": {
        "id": "qI1mLAMC1bcE"
      },
      "outputs": [],
      "source": [
        "urls = [\"https://www.rottentomatoes.com/m/side_by_side_2012\",\n",
        "\"https://www.rottentomatoes.com/m/matrix\",\n",
        "\"https://www.rottentomatoes.com/m/matrix_revolutions\",\n",
        "\"https://www.rottentomatoes.com/m/matrix_reloaded\",\n",
        "\"https://www.rottentomatoes.com/m/speed_1994\",\n",
        "\"https://www.rottentomatoes.com/m/john_wick_chapter_4\"]\n",
        "\n",
        "sources = [URL(url) for url in urls]"
      ]
    },
    {
      "cell_type": "markdown",
      "metadata": {
        "id": "TwHs1LL81bcE"
      },
      "source": [
        "### Ontology from the Sources\n",
        "\n",
        "Next, we will utilize an LLM to automatically extract ontology from the data. We will also add `boundaries` to the ontology detection process to ensure the desired ontology is accurately identified."
      ]
    },
    {
      "cell_type": "code",
      "execution_count": 6,
      "metadata": {
        "colab": {
          "base_uri": "https://localhost:8080/",
          "height": 926
        },
        "id": "J9YGSY-71bcE",
        "outputId": "673232dd-64fe-4c64-9c70-39e7c6ac3ec3"
      },
      "outputs": [],
      "source": [
        "model = GeminiGenerativeModel(model_name=\"gemini-1.5-flash-001\")\n",
        "\n",
        "boundaries = \"\"\"\n",
        "    Extract only the most relevant information about all the movies, actors, and directors over the text.\n",
        "    Avoid creating entities for details that can be expressed as attributes.\n",
        "\"\"\"\n",
        "\n",
        "ontology = Ontology.from_sources(\n",
        "    sources=sources,\n",
        "    boundaries=boundaries,\n",
        "    model=model,\n",
        ")"
      ]
    },
    {
      "cell_type": "markdown",
      "metadata": {
        "id": "aqTSwNH_1bcF"
      },
      "source": [
        "### KG from Sources and Ontology\n",
        "\n",
        "Create a Knowledge Graph (KG) from the sources."
      ]
    },
    {
      "cell_type": "code",
      "execution_count": 24,
      "metadata": {
        "colab": {
          "base_uri": "https://localhost:8080/",
          "height": 424
        },
        "id": "mbZFHtGL1bcF",
        "outputId": "1839a211-6615-4d4e-a42d-457793dcbf19"
      },
      "outputs": [],
      "source": [
        "kg = KnowledgeGraph(\n",
        "    name=\"movies\",\n",
        "    model_config=KnowledgeGraphModelConfig.with_model(model),\n",
        "    ontology=ontology,\n",
        ")\n",
        "kg.process_sources(sources)"
      ]
    },
    {
      "cell_type": "markdown",
      "metadata": {
        "id": "dO7ae3k_1bcF"
      },
      "source": [
        "### Graph RAG\n",
        "\n",
        "Utilize the `chat_session` method to start a conversations."
      ]
    },
    {
      "cell_type": "code",
      "execution_count": null,
      "metadata": {
        "id": "ndIcRjlo1bcF"
      },
      "outputs": [],
      "source": [
        "chat = kg.chat_session()\n",
        "\n",
        "print(chat.send_message(\"Who is the director of the movie The Matrix?\"))\n",
        "print(chat.send_message(\"How this director connected to Keanu Reeves?\"))\n",
        "print(chat.send_message(\"Who is the director of the movie Side by Side?\"))\n",
        "print(chat.send_message(\"Order the directors that you mentioned in all of our conversation by lexical order.\"))\n",
        "print(chat.send_message(\"Is The Matrix good?\"))"
      ]
    }
  ],
  "metadata": {
    "colab": {
      "provenance": []
    },
    "kernelspec": {
      "display_name": "base",
      "language": "python",
      "name": "python3"
    },
    "language_info": {
      "codemirror_mode": {
        "name": "ipython",
        "version": 3
      },
      "file_extension": ".py",
      "mimetype": "text/x-python",
      "name": "python",
      "nbconvert_exporter": "python",
      "pygments_lexer": "ipython3",
      "version": "3.12.4"
    }
  },
  "nbformat": 4,
  "nbformat_minor": 0
}
