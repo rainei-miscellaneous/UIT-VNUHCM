{
 "cells": [
  {
   "cell_type": "code",
   "execution_count": 82,
   "metadata": {
    "id": "AjBvSXC9PvOn"
   },
   "outputs": [],
   "source": [
    "import numpy as np\n",
    "import matplotlib.pyplot as plt"
   ]
  },
  {
   "cell_type": "markdown",
   "metadata": {
    "id": "FFcxx9oI9I8b"
   },
   "source": [
    "# Simple Linear Regression (1 independent variable + 1 target variable)"
   ]
  },
  {
   "cell_type": "markdown",
   "metadata": {
    "id": "brR_JU3-JIRN"
   },
   "source": [
    "## Experiment with Original Data"
   ]
  },
  {
   "cell_type": "markdown",
   "metadata": {
    "id": "WdofzHxh-B0y"
   },
   "source": [
    "### Load Data"
   ]
  },
  {
   "cell_type": "code",
   "execution_count": 83,
   "metadata": {
    "id": "Gwud7GOm4xpJ"
   },
   "outputs": [],
   "source": [
    "# load package for loading data\n",
    "import pandas as pd\n",
    "import random"
   ]
  },
  {
   "cell_type": "code",
   "execution_count": 84,
   "metadata": {
    "id": "1Q0arOd3I8QQ"
   },
   "outputs": [
    {
     "data": {
      "text/html": [
       "<div>\n",
       "<style scoped>\n",
       "    .dataframe tbody tr th:only-of-type {\n",
       "        vertical-align: middle;\n",
       "    }\n",
       "\n",
       "    .dataframe tbody tr th {\n",
       "        vertical-align: top;\n",
       "    }\n",
       "\n",
       "    .dataframe thead th {\n",
       "        text-align: right;\n",
       "    }\n",
       "</style>\n",
       "<table border=\"1\" class=\"dataframe\">\n",
       "  <thead>\n",
       "    <tr style=\"text-align: right;\">\n",
       "      <th></th>\n",
       "      <th>CRIM</th>\n",
       "      <th>ZN</th>\n",
       "      <th>INDUS</th>\n",
       "      <th>CHAS</th>\n",
       "      <th>NOX</th>\n",
       "      <th>RM</th>\n",
       "      <th>AGE</th>\n",
       "      <th>DIS</th>\n",
       "      <th>RAD</th>\n",
       "      <th>TAX</th>\n",
       "      <th>PTRATIO</th>\n",
       "      <th>B</th>\n",
       "      <th>LSTAT</th>\n",
       "      <th>MEDV</th>\n",
       "    </tr>\n",
       "  </thead>\n",
       "  <tbody>\n",
       "    <tr>\n",
       "      <th>0</th>\n",
       "      <td>0.00632</td>\n",
       "      <td>18.0</td>\n",
       "      <td>2.31</td>\n",
       "      <td>0</td>\n",
       "      <td>0.538</td>\n",
       "      <td>6.575</td>\n",
       "      <td>65.2</td>\n",
       "      <td>4.0900</td>\n",
       "      <td>1</td>\n",
       "      <td>296</td>\n",
       "      <td>15.3</td>\n",
       "      <td>396.90</td>\n",
       "      <td>4.98</td>\n",
       "      <td>24.0</td>\n",
       "    </tr>\n",
       "    <tr>\n",
       "      <th>1</th>\n",
       "      <td>0.02731</td>\n",
       "      <td>0.0</td>\n",
       "      <td>7.07</td>\n",
       "      <td>0</td>\n",
       "      <td>0.469</td>\n",
       "      <td>6.421</td>\n",
       "      <td>78.9</td>\n",
       "      <td>4.9671</td>\n",
       "      <td>2</td>\n",
       "      <td>242</td>\n",
       "      <td>17.8</td>\n",
       "      <td>396.90</td>\n",
       "      <td>9.14</td>\n",
       "      <td>21.6</td>\n",
       "    </tr>\n",
       "    <tr>\n",
       "      <th>2</th>\n",
       "      <td>0.02729</td>\n",
       "      <td>0.0</td>\n",
       "      <td>7.07</td>\n",
       "      <td>0</td>\n",
       "      <td>0.469</td>\n",
       "      <td>7.185</td>\n",
       "      <td>61.1</td>\n",
       "      <td>4.9671</td>\n",
       "      <td>2</td>\n",
       "      <td>242</td>\n",
       "      <td>17.8</td>\n",
       "      <td>392.83</td>\n",
       "      <td>4.03</td>\n",
       "      <td>34.7</td>\n",
       "    </tr>\n",
       "    <tr>\n",
       "      <th>3</th>\n",
       "      <td>0.03237</td>\n",
       "      <td>0.0</td>\n",
       "      <td>2.18</td>\n",
       "      <td>0</td>\n",
       "      <td>0.458</td>\n",
       "      <td>6.998</td>\n",
       "      <td>45.8</td>\n",
       "      <td>6.0622</td>\n",
       "      <td>3</td>\n",
       "      <td>222</td>\n",
       "      <td>18.7</td>\n",
       "      <td>394.63</td>\n",
       "      <td>2.94</td>\n",
       "      <td>33.4</td>\n",
       "    </tr>\n",
       "    <tr>\n",
       "      <th>4</th>\n",
       "      <td>0.06905</td>\n",
       "      <td>0.0</td>\n",
       "      <td>2.18</td>\n",
       "      <td>0</td>\n",
       "      <td>0.458</td>\n",
       "      <td>7.147</td>\n",
       "      <td>54.2</td>\n",
       "      <td>6.0622</td>\n",
       "      <td>3</td>\n",
       "      <td>222</td>\n",
       "      <td>18.7</td>\n",
       "      <td>396.90</td>\n",
       "      <td>5.33</td>\n",
       "      <td>36.2</td>\n",
       "    </tr>\n",
       "    <tr>\n",
       "      <th>5</th>\n",
       "      <td>0.02985</td>\n",
       "      <td>0.0</td>\n",
       "      <td>2.18</td>\n",
       "      <td>0</td>\n",
       "      <td>0.458</td>\n",
       "      <td>6.430</td>\n",
       "      <td>58.7</td>\n",
       "      <td>6.0622</td>\n",
       "      <td>3</td>\n",
       "      <td>222</td>\n",
       "      <td>18.7</td>\n",
       "      <td>394.12</td>\n",
       "      <td>5.21</td>\n",
       "      <td>28.7</td>\n",
       "    </tr>\n",
       "    <tr>\n",
       "      <th>6</th>\n",
       "      <td>0.08829</td>\n",
       "      <td>12.5</td>\n",
       "      <td>7.87</td>\n",
       "      <td>0</td>\n",
       "      <td>0.524</td>\n",
       "      <td>6.012</td>\n",
       "      <td>66.6</td>\n",
       "      <td>5.5605</td>\n",
       "      <td>5</td>\n",
       "      <td>311</td>\n",
       "      <td>15.2</td>\n",
       "      <td>395.60</td>\n",
       "      <td>12.43</td>\n",
       "      <td>22.9</td>\n",
       "    </tr>\n",
       "  </tbody>\n",
       "</table>\n",
       "</div>"
      ],
      "text/plain": [
       "      CRIM    ZN  INDUS  CHAS    NOX     RM   AGE     DIS  RAD  TAX  PTRATIO  \\\n",
       "0  0.00632  18.0   2.31     0  0.538  6.575  65.2  4.0900    1  296     15.3   \n",
       "1  0.02731   0.0   7.07     0  0.469  6.421  78.9  4.9671    2  242     17.8   \n",
       "2  0.02729   0.0   7.07     0  0.469  7.185  61.1  4.9671    2  242     17.8   \n",
       "3  0.03237   0.0   2.18     0  0.458  6.998  45.8  6.0622    3  222     18.7   \n",
       "4  0.06905   0.0   2.18     0  0.458  7.147  54.2  6.0622    3  222     18.7   \n",
       "5  0.02985   0.0   2.18     0  0.458  6.430  58.7  6.0622    3  222     18.7   \n",
       "6  0.08829  12.5   7.87     0  0.524  6.012  66.6  5.5605    5  311     15.2   \n",
       "\n",
       "        B  LSTAT  MEDV  \n",
       "0  396.90   4.98  24.0  \n",
       "1  396.90   9.14  21.6  \n",
       "2  392.83   4.03  34.7  \n",
       "3  394.63   2.94  33.4  \n",
       "4  396.90   5.33  36.2  \n",
       "5  394.12   5.21  28.7  \n",
       "6  395.60  12.43  22.9  "
      ]
     },
     "execution_count": 84,
     "metadata": {},
     "output_type": "execute_result"
    }
   ],
   "source": [
    "housing_dataset = pd.read_csv(\"boston_housing.csv\")\n",
    "housing_dataset.head(7)"
   ]
  },
  {
   "cell_type": "markdown",
   "metadata": {
    "id": "dTAvrCRJJO0T"
   },
   "source": [
    "Requirement:\n",
    "* Use the average number of rooms (RM) to estimate the house price (MEDV)\n",
    "* Split training, testing set with ratio 7:3 and random state = 42"
   ]
  },
  {
   "cell_type": "code",
   "execution_count": 85,
   "metadata": {
    "id": "jKTi3jfpgiZa"
   },
   "outputs": [],
   "source": [
    "\n",
    "X = housing_dataset[['RM']]\n",
    "y = housing_dataset[['MEDV']]\n",
    "noise_x = np.random.normal(0, 1, X.shape)\n",
    "noise_y = np.random.normal(0, 1, y.shape)\n",
    "X = X.values\n",
    "y = y.values.flatten()"
   ]
  },
  {
   "cell_type": "code",
   "execution_count": 86,
   "metadata": {
    "id": "wFhpMOt_mgbB"
   },
   "outputs": [],
   "source": [
    "# load package for spliting data\n",
    "from sklearn.model_selection import train_test_split"
   ]
  },
  {
   "cell_type": "code",
   "execution_count": 87,
   "metadata": {
    "id": "my1NsaUrmhi-"
   },
   "outputs": [],
   "source": [
    "# X = feature\n",
    "# y = label\n",
    "# X |-> y\n",
    "X_train, X_test, y_train, y_test = train_test_split(X, y, test_size=0.1, random_state=42)"
   ]
  },
  {
   "cell_type": "markdown",
   "metadata": {
    "id": "JUvlqHp3miW7"
   },
   "source": [
    "### Data Visualization"
   ]
  },
  {
   "cell_type": "code",
   "execution_count": 88,
   "metadata": {
    "id": "U8MqoIlqkKgi"
   },
   "outputs": [
    {
     "data": {
      "image/png": "[encoded data removed]",
      "text/plain": [
       "<Figure size 640x480 with 1 Axes>"
      ]
     },
     "metadata": {},
     "output_type": "display_data"
    }
   ],
   "source": [
    "# visualize data\n",
    "# xlabel: 'Average Number of Rooms'; yla bel: 'Median House Value (x1000$)'\n",
    "\n",
    "plt.scatter(X_train, y_train, facecolor='tab:blue', edgecolor='black', s=70)\n",
    "plt.xlabel('Average Number of Rooms')\n",
    "plt.ylabel('Median House Value (x1000$)')\n",
    "# plt.xlabel('...')\n",
    "# plt.ylabel('...')\n",
    "plt.show()"
   ]
  },
  {
   "cell_type": "markdown",
   "metadata": {
    "id": "E5fIKoVu9LTZ"
   },
   "source": [
    "### Linear Regression (Base)"
   ]
  },
  {
   "cell_type": "code",
   "execution_count": null,
   "metadata": {
    "id": "vd-joYJS9QRr",
    "scrolled": false
   },
   "outputs": [],
   "source": [
    "class LinearRegressionBase:\n",
    "    def __init__(self):\n",
    "        self.w = None\n",
    "    \n",
    "    # Return label\n",
    "    def predict(self, X):\n",
    "        return X.dot(self.w[1:]) + self.w[0]\n",
    "\n",
    "    # \n",
    "    def fit(self, X, y):\n",
    "        # Initialize a vector consists of 1 1-column  \n",
    "        one = np.ones((X.shape[0], 1))\n",
    "        Xbar = np.concatenate((one, X), axis=1)\n",
    "        \n",
    "\n",
    "        A = np.dot(Xbar.T, Xbar)\n",
    "        b = np.dot(Xbar.T, y)\n",
    "        # Pseudo Inverse\n",
    "        # w = A.PInv * b\n",
    "        self.w = np.dot(np.linalg.pinv(A), b)"
   ]
  },
  {
   "cell_type": "markdown",
   "metadata": {
    "id": "T0J3diNKsYNf"
   },
   "source": [
    "### Gradient Descent"
   ]
  },
  {
   "cell_type": "code",
   "execution_count": null,
   "metadata": {
    "id": "hbHHIRbnQTmt"
   },
   "outputs": [],
   "source": [
    "class GradientDescent(LinearRegressionBase):\n",
    "    def __init__(self, eta=0.001, max_iter=20, random_state=42):\n",
    "        super().__init__()\n",
    "        self.eta = eta\n",
    "        self.max_iter = max_iter\n",
    "        self.random_state = random_state\n",
    "        self.costs = []\n",
    "\n",
    "    def fit(self, X, y):\n",
    "        rgen = np.random.RandomState(self.random_state)\n",
    "        self.w = rgen.normal(loc=0.0, scale=0.01, size= 1 + X.shape[1])\n",
    "\n",
    "        self.costs = []\n",
    "        for iter_i in range(self.max_iter):\n",
    "            y_pred = self.predict(X)\n",
    "            diff = y - y_pred\n",
    "\n",
    "            self.w[0] += self.eta * np.sum(diff)\n",
    "            self.w[1:] += self.eta * np.dot(X.T, diff)\n",
    "            J = 1/2 * np.sum(diff ** 2)\n",
    "            self.costs.append(J)"
   ]
  },
  {
   "cell_type": "markdown",
   "metadata": {
    "id": "_QbE586kQ8vt"
   },
   "source": [
    "- Requirement: Experiment with\n",
    "-- Different learning rate values: eta = {1e-2, 1e-3, 1e-4}\n",
    "-- Maximum number of iterations = 200\n",
    "-- Random state = 42\n",
    "- What is the suitable 'learning rate' value?"
   ]
  },
  {
   "cell_type": "code",
   "execution_count": null,
   "metadata": {
    "id": "Biy2OfztsYNg"
   },
   "outputs": [],
   "source": [
    "# Initialize the model\n",
    "reg_GD = GradientDescent(eta=1e-4, max_iter=200, random_state=42)\n",
    "\n",
    "# Train model\n",
    "reg_GD.fit(X_train, y_train)\n",
    "\n",
    "# Visualize the cost trend\n",
    "plt.plot(range(1, len(reg_GD.costs) + 1), reg_GD.costs)\n",
    "plt.xlabel('Epochs')\n",
    "plt.ylabel('Cost')\n",
    "plt.title('Gradient Descent')\n",
    "plt.show()\n",
    "\n",
    "# 1e-4"
   ]
  },
  {
   "cell_type": "markdown",
   "metadata": {
    "id": "O6P5R3d7UTV5"
   },
   "source": [
    "Visualize the prediction of Gradient Descent model on Training Data"
   ]
  },
  {
   "cell_type": "code",
   "execution_count": null,
   "metadata": {
    "id": "XBlcNeupsYNh"
   },
   "outputs": [],
   "source": [
    "plt.scatter(X_train, y_train, facecolor='tab:blue', edgecolor='white', s=70)\n",
    "plt.plot(X_train, reg_GD.predict(X_train), color='green', lw=3, label='Gradient Descent')\n",
    "plt.xlabel('Average Number of Rooms (normalized)')\n",
    "plt.ylabel('Median House Value (x1000$)')\n",
    "plt.legend()\n",
    "plt.show()"
   ]
  },
  {
   "cell_type": "markdown",
   "metadata": {
    "id": "VgFLk-QXKgVi"
   },
   "source": [
    "### Stochastic Gradient Descent"
   ]
  },
  {
   "cell_type": "code",
   "execution_count": null,
   "metadata": {
    "id": "Rt45cDYuKmoI"
   },
   "outputs": [],
   "source": [
    "class StochasticGradientDescent(GradientDescent):\n",
    "    def __init__(self, eta=0.001, max_iter=200, random_state=42):\n",
    "        super().__init__(eta, max_iter, random_state)\n",
    "\n",
    "    def fit(self, X, y):\n",
    "        rgen = np.random.RandomState(self.random_state)\n",
    "        self.w = rgen.normal(loc=0.0, scale=0.01, size= 1 + X.shape[1])\n",
    "        self.costs = []\n",
    "        for iter_i in range(self.max_iter):\n",
    "            J = 0.0\n",
    "            for i, x in enumerate(X):  \n",
    "                y_pred = self.predict(np.array([x]))\n",
    "                diff = y[i] - y_pred\n",
    "                self.w[0] += self.eta * diff\n",
    "                self.w[1:] += self.eta * x * diff\n",
    "                J += 1/2 * diff ** 2\n",
    "            self.costs.append(J)"
   ]
  },
  {
   "cell_type": "markdown",
   "metadata": {
    "id": "H88ANj9pVSxB"
   },
   "source": [
    "- Requirement: Experiment with\n",
    "-- Different learning rate values: eta0 = 1e-4\n",
    "-- Maximum number of iterations = 200\n",
    "-- Random state = 42"
   ]
  },
  {
   "cell_type": "code",
   "execution_count": null,
   "metadata": {
    "id": "qJZ3mnVvKdvu"
   },
   "outputs": [],
   "source": [
    "# Initialize the model\n",
    "reg_SGD = StochasticGradientDescent(eta=1e-4, max_iter=200, random_state=42)\n",
    "\n",
    "# Train model\n",
    "reg_SGD.fit(X_train, y_train)\n",
    "\n",
    "plt.plot(range(1, len(reg_SGD.costs) + 1), reg_SGD.costs)\n",
    "plt.xlabel('Epoch')\n",
    "plt.ylabel('Cost')\n",
    "plt.title('Stochastic Gradient Descent')\n",
    "plt.show()"
   ]
  },
  {
   "cell_type": "markdown",
   "metadata": {
    "id": "gklMvTPhVnJs"
   },
   "source": [
    "Visualize the prediction of Stochastic Gradient Descent model on Training Data"
   ]
  },
  {
   "cell_type": "code",
   "execution_count": null,
   "metadata": {
    "id": "NeL_mxQALm6Z"
   },
   "outputs": [],
   "source": [
    "plt.scatter(X_train, y_train, c='tab:blue', edgecolor='white', s=70)\n",
    "plt.plot(X_train, reg_SGD.predict(X_train), color='black', lw=4, label='Stochastic Gradient Descent')\n",
    "plt.xlabel('Average Number of Rooms')\n",
    "plt.ylabel('Median House Value (x1000$)')\n",
    "plt.legend()\n",
    "plt.show()"
   ]
  },
  {
   "cell_type": "markdown",
   "metadata": {
    "id": "crz_EPF4MS1Z"
   },
   "source": [
    "### Normal Equation (sklearn)"
   ]
  },
  {
   "cell_type": "code",
   "execution_count": null,
   "metadata": {
    "id": "aJGIzzFVMcH-"
   },
   "outputs": [],
   "source": [
    "from sklearn.linear_model import LinearRegression"
   ]
  },
  {
   "cell_type": "code",
   "execution_count": null,
   "metadata": {
    "id": "G03mBZRCMR4b"
   },
   "outputs": [],
   "source": [
    "# Intialize the Normal Equation model\n",
    "reg_NE = LinearRegression()\n",
    "\n",
    "# Train model\n",
    "reg_NE.fit(X_train, y_train)"
   ]
  },
  {
   "cell_type": "markdown",
   "metadata": {
    "id": "gRAC1_zzV1D6"
   },
   "source": [
    "Visualize the prediction of Normal Equation model on Training Data"
   ]
  },
  {
   "cell_type": "code",
   "execution_count": null,
   "metadata": {
    "id": "EEnmW4qOOJ4v"
   },
   "outputs": [],
   "source": [
    "plt.scatter(X_train, y_train, c='tab:blue', edgecolor='white', s=70)\n",
    "plt.plot(X_train, reg_NE.predict(X_train), color='orange', lw=2, label='Normal Equation')\n",
    "plt.xlabel('Average Number of Rooms')\n",
    "plt.ylabel('Median House Value (x1000$)')\n",
    "plt.legend()\n",
    "plt.show()"
   ]
  },
  {
   "cell_type": "markdown",
   "metadata": {
    "id": "hwNM8wI8WznF"
   },
   "source": [
    "### Visualize all models on Training Data"
   ]
  },
  {
   "cell_type": "code",
   "execution_count": null,
   "metadata": {
    "id": "rdlMNPmpWDyx"
   },
   "outputs": [],
   "source": [
    "plt.scatter(X_train, y_train, c='tab:blue', edgecolor='white', s=70)\n",
    "plt.plot(X_train, reg_GD.predict(X_train), color='green', lw=8, label='Gradient Descent')\n",
    "plt.plot(X_train, reg_SGD.predict(X_train), color='red', lw=4, label='Stochastic Gradient Descent')\n",
    "plt.plot(X_train, reg_NE.predict(X_train), color='orange', lw=2, label='Normal Equation')\n",
    "plt.xlabel('Average Number of Rooms')\n",
    "plt.ylabel('Median House Value (x1000$)')\n",
    "plt.legend()\n",
    "plt.show()"
   ]
  },
  {
   "cell_type": "markdown",
   "metadata": {
    "id": "y_mLF-5NtTYc"
   },
   "source": [
    "### Algorithms Comparisons"
   ]
  },
  {
   "cell_type": "markdown",
   "metadata": {
    "id": "szwq4vMAWGXa"
   },
   "source": [
    "Weight Comparisions"
   ]
  },
  {
   "cell_type": "code",
   "execution_count": null,
   "metadata": {
    "id": "esKZ2UN45Ljm"
   },
   "outputs": [],
   "source": [
    "w_GD = reg_GD.w\n",
    "w_SGD = reg_SGD.w\n",
    "w_NE = np.append(reg_NE.intercept_, reg_NE.coef_)\n",
    "print(w_GD)\n",
    "print(w_SGD)\n",
    "print(w_NE)"
   ]
  },
  {
   "cell_type": "markdown",
   "metadata": {
    "id": "kl4lVMTKWSfg"
   },
   "source": [
    "Performance Comparisons (on Testing Set)"
   ]
  },
  {
   "cell_type": "code",
   "execution_count": null,
   "metadata": {
    "id": "U0JwDCut-mLe"
   },
   "outputs": [],
   "source": [
    "y_pred_GD = reg_GD.predict(X_test)"
   ]
  },
  {
   "cell_type": "code",
   "execution_count": null,
   "metadata": {
    "id": "_cPcwNR6P6aB"
   },
   "outputs": [],
   "source": [
    "y_pred_SGD = reg_SGD.predict(X_test)"
   ]
  },
  {
   "cell_type": "code",
   "execution_count": null,
   "metadata": {
    "id": "_Y3w-4HnQBHB"
   },
   "outputs": [],
   "source": [
    "y_pred_NE = reg_NE.predict(X_test)"
   ]
  },
  {
   "cell_type": "code",
   "execution_count": null,
   "metadata": {
    "id": "3gmajHHUQIA9"
   },
   "outputs": [],
   "source": [
    "from sklearn.metrics import mean_absolute_error as MAE\n",
    "from sklearn.metrics import mean_squared_error as MSE\n",
    "from sklearn.metrics import r2_score as R2"
   ]
  },
  {
   "cell_type": "code",
   "execution_count": null,
   "metadata": {
    "id": "EZUo-N3pQMev"
   },
   "outputs": [],
   "source": [
    "print('MAE of GD:', round(MAE(y_test, y_pred_GD), 6))\n",
    "print('MAE of SGD:', round(MAE(y_test, y_pred_SGD), 6))\n",
    "print('MAE of NE:', round(MAE(y_test, y_pred_NE), 6))"
   ]
  },
  {
   "cell_type": "code",
   "execution_count": null,
   "metadata": {
    "id": "aAq8Fzc-QYN6"
   },
   "outputs": [],
   "source": [
    "print('MSE of GD:', round(MSE(y_test, y_pred_GD), 6))\n",
    "print('MSE of SGD:', round(MSE(y_test, y_pred_SGD), 6))\n",
    "print('MSE of NE:', round(MSE(y_test, y_pred_NE), 6))"
   ]
  },
  {
   "cell_type": "code",
   "execution_count": null,
   "metadata": {
    "id": "WVKf8mCXQd1X"
   },
   "outputs": [],
   "source": [
    "print('R2 of GD:', round(R2(y_test, y_pred_GD), 6))\n",
    "print('R2 of SGD:', round(R2(y_test, y_pred_SGD), 6))\n",
    "print('R2 of NE:', round(R2(y_test, y_pred_NE), 6))"
   ]
  },
  {
   "cell_type": "markdown",
   "metadata": {
    "id": "YydUuoYyOcqm"
   },
   "source": [
    "## Experiment with Standardized Data"
   ]
  },
  {
   "cell_type": "code",
   "execution_count": null,
   "metadata": {
    "id": "aKTSABGP653A"
   },
   "outputs": [],
   "source": [
    "# Re-load the dataset\n",
    "housing_dataset = pd.read_csv(\"boston_housing.csv\")"
   ]
  },
  {
   "cell_type": "code",
   "execution_count": null,
   "metadata": {
    "id": "aeK-0Y7RNnn4"
   },
   "outputs": [],
   "source": [
    "# load the package for standardizing data (Standard Scaler)\n",
    "from sklearn.preprocessing import StandardScaler"
   ]
  },
  {
   "cell_type": "code",
   "execution_count": null,
   "metadata": {
    "id": "0FanU0TQNpFG"
   },
   "outputs": [],
   "source": [
    "# Standardize the 'RM' column\n",
    "scaler = StandardScaler()\n",
    "housing_dataset[['RM']] = scaler.fit_transform(housing_dataset[['RM']])"
   ]
  },
  {
   "cell_type": "code",
   "execution_count": null,
   "metadata": {
    "id": "ogLkqsNc0GN4"
   },
   "outputs": [],
   "source": [
    "# X_new <- 'RM' column, y <- 'MEDV' column\n",
    "X_new = housing_dataset[['RM']]\n",
    "y = housing_dataset[['MEDV']]\n",
    "X_new = X_new.values\n",
    "y = y.values.flatten()"
   ]
  },
  {
   "cell_type": "code",
   "execution_count": null,
   "metadata": {
    "id": "1da8H6wG0Oo8"
   },
   "outputs": [],
   "source": [
    "# Train-test spliting (7:3, random state = 42)\n",
    "X_train_norm, X_test_norm, y_train, y_test = train_test_split(X_new, y, test_size=0.3, random_state=42)"
   ]
  },
  {
   "cell_type": "markdown",
   "metadata": {
    "id": "1Vdr-VaP9vF9"
   },
   "source": [
    "### Gradient Descent"
   ]
  },
  {
   "cell_type": "code",
   "execution_count": null,
   "metadata": {
    "id": "r_dK-Ih70gyM"
   },
   "outputs": [],
   "source": [
    "# Initalize the Gradient Descent model with: learning rate = 1e-3, max_iter = 200, random_state = 42\n",
    "reg_GD = GradientDescent(eta=1e-4, max_iter=150, random_state=42)\n",
    "\n",
    "# Train model on standardized data\n",
    "reg_GD.fit(X_train_norm, y_train)\n",
    "\n",
    "\n",
    "# Visualize the cost trend\n",
    "plt.plot(range(1, len(reg_GD.costs) + 1), reg_GD.costs)\n",
    "plt.xlabel('Epochs')\n",
    "plt.ylabel('Cost')\n",
    "plt.title('Gradient Descent')\n",
    "plt.show()"
   ]
  },
  {
   "cell_type": "markdown",
   "metadata": {
    "id": "YFxpwfsx0gyN"
   },
   "source": [
    "Visualize the prediction of Gradient Descent model on Training Data\n",
    "\n"
   ]
  },
  {
   "cell_type": "code",
   "execution_count": null,
   "metadata": {
    "id": "0dDpFczr0gyO"
   },
   "outputs": [],
   "source": [
    "plt.scatter(X_train_norm, y_train, c='tab:blue', edgecolor='white', s=70)\n",
    "plt.plot(X_train_norm, reg_GD.predict(X_train_norm), color='green', lw=6, label='Gradient Descent')\n",
    "plt.xlabel('Average Number of Rooms (normalized)')\n",
    "plt.ylabel('Median House Value (x1000$)')\n",
    "plt.legend()\n",
    "plt.show()"
   ]
  },
  {
   "cell_type": "markdown",
   "metadata": {
    "id": "JTlMu5Ez0gyO"
   },
   "source": [
    "### Stochastic Gradient Descent"
   ]
  },
  {
   "cell_type": "code",
   "execution_count": null,
   "metadata": {
    "id": "5AyUapBc0gyO"
   },
   "outputs": [],
   "source": [
    "# Initalize the Stochastic Gradient Descent model with: eta0 = 1e-3, max_iter = 200, random_state=42, learning_rate = 'constant'\n",
    "reg_SGD = StochasticGradientDescent(eta=1e-3, max_iter=200, random_state=42)\n",
    "\n",
    "# Train SGD model on standardized data\n",
    "reg_SGD.fit(X_train_norm, y_train)"
   ]
  },
  {
   "cell_type": "markdown",
   "metadata": {
    "id": "adg2JN50ZAfC"
   },
   "source": [
    "Visualize the prediction of Stochastic Gradient Descent model on Training Data\n"
   ]
  },
  {
   "cell_type": "code",
   "execution_count": null,
   "metadata": {
    "id": "MP4sTSpY0gyP"
   },
   "outputs": [],
   "source": [
    "plt.scatter(X_train_norm, y_train, c='tab:blue', edgecolor='white', s=70)\n",
    "plt.plot(X_train_norm, reg_SGD.predict(X_train_norm), color='black', lw=4, label='Stochastic Gradient Descent')\n",
    "plt.xlabel('Average Number of Rooms (normalized)')\n",
    "plt.ylabel('Median House Value (x1000$)')\n",
    "plt.legend()\n",
    "plt.show()"
   ]
  },
  {
   "cell_type": "markdown",
   "metadata": {
    "id": "-_sTzQmj0gyP"
   },
   "source": [
    "### Normal Equation (sklearn)"
   ]
  },
  {
   "cell_type": "code",
   "execution_count": null,
   "metadata": {
    "id": "SjhAklwF0gyP"
   },
   "outputs": [],
   "source": [
    "# Initalize the Normal Equation model\n",
    "reg_NE = LinearRegression()\n",
    "\n",
    "# Train model\n",
    "reg_NE.fit(X_train_norm, y_train)"
   ]
  },
  {
   "cell_type": "code",
   "execution_count": null,
   "metadata": {
    "id": "ZeOy47Rr0gyP"
   },
   "outputs": [],
   "source": [
    "plt.scatter(X_train_norm, y_train, c='tab:orange', edgecolor='white', s=70)\n",
    "plt.plot(X_train_norm, reg_NE.predict(X_train_norm), color='orange', lw=2, label='Normal Equation')\n",
    "plt.xlabel('Average Number of Rooms (normalized)')\n",
    "plt.ylabel('Median House Value (x1000$)')\n",
    "plt.legend()\n",
    "plt.show()"
   ]
  },
  {
   "cell_type": "markdown",
   "metadata": {
    "id": "g5S2sujaZq39"
   },
   "source": [
    "### Visualize all models on Training Data"
   ]
  },
  {
   "cell_type": "code",
   "execution_count": null,
   "metadata": {
    "id": "b7a6rgxlZq39"
   },
   "outputs": [],
   "source": [
    "plt.scatter(X_train_norm, y_train, c='tab:blue', edgecolor='white', s=70)\n",
    "plt.plot(X_train_norm, reg_NE.predict(X_train_norm), color='green', lw=8, label='Normal Equation')\n",
    "plt.plot(X_train_norm, reg_SGD.predict(X_train_norm), color='red', lw=6, label='Stochastic Gradient Descent')\n",
    "plt.plot(X_train_norm, reg_GD.predict(X_train_norm), color='orange', lw=2, label='Gradient Descent')\n",
    "plt.xlabel('Average Number of Rooms (normalized)')\n",
    "plt.ylabel('Median House Value (x1000$)')\n",
    "plt.legend()\n",
    "plt.show()"
   ]
  },
  {
   "cell_type": "markdown",
   "metadata": {
    "id": "bqOJwJnX0gyQ"
   },
   "source": [
    "### Algorithms Comparisons"
   ]
  },
  {
   "cell_type": "code",
   "execution_count": null,
   "metadata": {
    "id": "1pTd-Sy70gyQ"
   },
   "outputs": [],
   "source": [
    "w_GD = reg_GD.w\n",
    "w_GD"
   ]
  },
  {
   "cell_type": "code",
   "execution_count": null,
   "metadata": {
    "id": "kGQDcysf0gyR"
   },
   "outputs": [],
   "source": [
    "w_SGD = reg_SGD.w\n",
    "w_SGD"
   ]
  },
  {
   "cell_type": "code",
   "execution_count": null,
   "metadata": {
    "id": "mx-rpPOu0gyR"
   },
   "outputs": [],
   "source": [
    "w_NE = np.append(reg_NE.intercept_, reg_NE.coef_)\n",
    "w_NE"
   ]
  },
  {
   "cell_type": "code",
   "execution_count": null,
   "metadata": {
    "id": "KTda0V850gyR"
   },
   "outputs": [],
   "source": [
    "y_pred_GD = reg_GD.predict(X_test_norm)"
   ]
  },
  {
   "cell_type": "code",
   "execution_count": null,
   "metadata": {
    "id": "bkH5c2ao0gyR"
   },
   "outputs": [],
   "source": [
    "y_pred_SGD = reg_SGD.predict(X_test_norm)"
   ]
  },
  {
   "cell_type": "code",
   "execution_count": null,
   "metadata": {
    "id": "WuquW7mv0gyS"
   },
   "outputs": [],
   "source": [
    "y_pred_NE = reg_NE.predict(X_test_norm)"
   ]
  },
  {
   "cell_type": "code",
   "execution_count": null,
   "metadata": {
    "id": "kArHK3-p0gyS"
   },
   "outputs": [],
   "source": [
    "print('MAE of GD:', round(MAE(y_test, y_pred_GD), 6))\n",
    "print('MAE of SGD:', round(MAE(y_test, y_pred_SGD), 6))\n",
    "print('MAE of NE:', round(MAE(y_test, y_pred_NE), 6))"
   ]
  },
  {
   "cell_type": "code",
   "execution_count": null,
   "metadata": {
    "id": "FeqkeSbf0gyS"
   },
   "outputs": [],
   "source": [
    "print('MSE of GD:', round(MSE(y_test, y_pred_GD), 6))\n",
    "print('MSE of SGD:', round(MSE(y_test, y_pred_SGD), 6))\n",
    "print('MSE of NE:', round(MSE(y_test, y_pred_NE), 6))"
   ]
  },
  {
   "cell_type": "code",
   "execution_count": null,
   "metadata": {
    "id": "t3QJG_4s0gyS"
   },
   "outputs": [],
   "source": [
    "print('R2 of GD:', round(R2(y_test, y_pred_GD), 6))\n",
    "print('R2 of SGD:', round(R2(y_test, y_pred_SGD), 6))\n",
    "print('R2 of NE:', round(R2(y_test, y_pred_NE), 6))"
   ]
  },
  {
   "cell_type": "markdown",
   "metadata": {
    "id": "g2aXnerT7Dk7"
   },
   "source": [
    "# Multiple Linear Regression (n independent variable (n >=2) + 1 target variable)"
   ]
  },
  {
   "cell_type": "markdown",
   "metadata": {
    "id": "adV59eeA-XDE"
   },
   "source": [
    "## Experiment with normal data"
   ]
  },
  {
   "cell_type": "code",
   "execution_count": null,
   "metadata": {
    "id": "ybhdf7bU7TY_"
   },
   "outputs": [],
   "source": [
    "# Re-load dataset\n",
    "housing_dataset = pd.read_csv(\"boston_housing.csv\")"
   ]
  },
  {
   "cell_type": "markdown",
   "metadata": {
    "id": "S09ztaagaZHV"
   },
   "source": [
    "* X: 13 remaining variables (except 'MEDV' variable)\n",
    "* y: 'MEDV' variable"
   ]
  },
  {
   "cell_type": "code",
   "execution_count": null,
   "metadata": {
    "id": "x33Qg1by7TY_"
   },
   "outputs": [],
   "source": [
    "X = housing_dataset.iloc[:, :-1]\n",
    "y = housing_dataset[['MEDV']]\n",
    "# [all row, all column except the last one]\n",
    "X = X.values\n",
    "y = y.values.flatten()"
   ]
  },
  {
   "cell_type": "code",
   "execution_count": null,
   "metadata": {
    "id": "xONmImcO7TZA"
   },
   "outputs": [],
   "source": [
    "# Train-test set spliting with ratio 7:3, random_state = 42\n",
    "X_train, X_test, y_train, y_test = train_test_split(X, y, test_size=0.3, random_state=42)"
   ]
  },
  {
   "cell_type": "markdown",
   "metadata": {
    "id": "YY03pTD5-WOJ"
   },
   "source": [
    "### Gradient Descent"
   ]
  },
  {
   "cell_type": "markdown",
   "metadata": {
    "id": "pVeMJgtpbXiD"
   },
   "source": [
    "- Experiment with:\n",
    "-- max_iter = 200\n",
    "-- random_state = 42\n",
    "-- learning_rate (eta) = {1e-3, 1e-4, 1e-5, 1e-6, 1e-7, 1e-8}\n",
    "- What is the suitable learning rate value?"
   ]
  },
  {
   "cell_type": "code",
   "execution_count": null,
   "metadata": {
    "id": "SvADdqMF7TZA"
   },
   "outputs": [],
   "source": [
    "# Initalize the GD model\n",
    "reg_GD = GradientDescent(eta=1e-8, max_iter=200, random_state=42)\n",
    "\n",
    "# Train model\n",
    "reg_GD.fit(X_train, y_train)\n",
    "\n",
    "# Visualize the cost trend\n",
    "plt.plot(range(1, len(reg_GD.costs) + 1), reg_GD.costs)\n",
    "plt.xlabel('Epochs')\n",
    "plt.ylabel('Cost')\n",
    "plt.title('Gradient Descent')\n",
    "plt.show()\n",
    "\n",
    "# Learning rate phù hợp là 1e-8, bởi vì quá trình tối ưu hoá hội tụ nhanh và chính xác khi learning rate =1e-8."
   ]
  },
  {
   "cell_type": "markdown",
   "metadata": {
    "id": "SwEswKTl7TZB"
   },
   "source": [
    "### Stochastic Gradient Descent"
   ]
  },
  {
   "cell_type": "code",
   "execution_count": null,
   "metadata": {
    "id": "duoaBXaZ7TZB"
   },
   "outputs": [],
   "source": [
    "# Initialize the SGD model\n",
    "reg_SGD = StochasticGradientDescent(eta=1e-6, max_iter=200, random_state=42)\n",
    "\n",
    "# Train model\n",
    "reg_SGD.fit(X_train, y_train)"
   ]
  },
  {
   "cell_type": "markdown",
   "metadata": {
    "id": "ayo4QBUX7TZC"
   },
   "source": [
    "### Normal Equation"
   ]
  },
  {
   "cell_type": "code",
   "execution_count": null,
   "metadata": {
    "id": "U9bfuOgI9zLs"
   },
   "outputs": [],
   "source": [
    "ones = np.ones((X_train.shape[0], 1))\n",
    "X_train_NE = np.concatenate((ones, X_train), axis = 1)\n",
    "\n",
    "ones = np.ones((X_test.shape[0], 1))\n",
    "X_test_NE = np.concatenate((ones, X_test), axis = 1)"
   ]
  },
  {
   "cell_type": "code",
   "execution_count": null,
   "metadata": {
    "id": "raV2LByu7TZC"
   },
   "outputs": [],
   "source": [
    "# Intialize the NE model\n",
    "reg_NE = LinearRegression()\n",
    "\n",
    "# Train model\n",
    "reg_NE.fit(X_train_NE, y_train)"
   ]
  },
  {
   "cell_type": "markdown",
   "metadata": {
    "id": "a__Dcv2Z7TZD"
   },
   "source": [
    "### Algorithms Comparisons"
   ]
  },
  {
   "cell_type": "code",
   "execution_count": null,
   "metadata": {
    "id": "3mr9S-Xq7TZD"
   },
   "outputs": [],
   "source": [
    "w_GD = reg_GD.w\n",
    "w_GD"
   ]
  },
  {
   "cell_type": "code",
   "execution_count": null,
   "metadata": {
    "id": "e2vK3x4Y7TZE"
   },
   "outputs": [],
   "source": [
    "w_SGD = reg_SGD.w\n",
    "w_SGD"
   ]
  },
  {
   "cell_type": "code",
   "execution_count": null,
   "metadata": {
    "id": "CK-wqHW07TZF"
   },
   "outputs": [],
   "source": [
    "w_NE = np.append(reg_NE.intercept_, reg_NE.coef_)\n",
    "w_NE"
   ]
  },
  {
   "cell_type": "code",
   "execution_count": null,
   "metadata": {
    "id": "F4gZnhNv7TZH"
   },
   "outputs": [],
   "source": [
    "y_pred_GD = reg_GD.predict(X_test)"
   ]
  },
  {
   "cell_type": "code",
   "execution_count": null,
   "metadata": {
    "id": "7eHZMVfr7TZH"
   },
   "outputs": [],
   "source": [
    "y_pred_SGD = reg_SGD.predict(X_test)"
   ]
  },
  {
   "cell_type": "code",
   "execution_count": null,
   "metadata": {
    "id": "trSZZ8Xq7TZH"
   },
   "outputs": [],
   "source": [
    "y_pred_NE = reg_NE.predict(X_test_NE)"
   ]
  },
  {
   "cell_type": "code",
   "execution_count": null,
   "metadata": {
    "id": "LWtUr-H77TZH"
   },
   "outputs": [],
   "source": [
    "print('MAE of GD:', round(MAE(y_test, y_pred_GD), 6))\n",
    "print('MAE of SGD:', round(MAE(y_test, y_pred_SGD), 6))\n",
    "print('MAE of NE:', round(MAE(y_test, y_pred_NE), 6))"
   ]
  },
  {
   "cell_type": "code",
   "execution_count": null,
   "metadata": {
    "id": "JqcyFCAd7TZI"
   },
   "outputs": [],
   "source": [
    "print('MSE of GD:', round(MSE(y_test, y_pred_GD), 6))\n",
    "print('MSE of SGD:', round(MSE(y_test, y_pred_SGD), 6))\n",
    "print('MSE of NE:', round(MSE(y_test, y_pred_NE), 6))"
   ]
  },
  {
   "cell_type": "code",
   "execution_count": null,
   "metadata": {
    "id": "vmnO_U947TZI"
   },
   "outputs": [],
   "source": [
    "print('R2 of GD:', round(R2(y_test, y_pred_GD), 6))\n",
    "print('R2 of SGD:', round(R2(y_test, y_pred_SGD), 6))\n",
    "print('R2 of NE:', round(R2(y_test, y_pred_NE), 6))"
   ]
  },
  {
   "cell_type": "markdown",
   "metadata": {
    "id": "BpACcIOO7TZI"
   },
   "source": [
    "## Experiment with Standardized Data"
   ]
  },
  {
   "cell_type": "code",
   "execution_count": null,
   "metadata": {
    "id": "PjTXjd29_Dk5"
   },
   "outputs": [],
   "source": [
    "# Re-load dataset\n",
    "housing_dataset = pd.read_csv(\"boston_housing.csv\")"
   ]
  },
  {
   "cell_type": "code",
   "execution_count": null,
   "metadata": {
    "id": "CgVPdXg0_Ml-"
   },
   "outputs": [],
   "source": [
    "# Get the columns' names\n",
    "name_columns = housing_dataset.columns.values\n",
    "name_columns"
   ]
  },
  {
   "cell_type": "code",
   "execution_count": null,
   "metadata": {
    "id": "Q2kkDzp8-9en"
   },
   "outputs": [],
   "source": [
    "# Initialize the standardize scaler\n",
    "scaler = StandardScaler()\n",
    "\n",
    "# Standardize all independent variables\n",
    "housing_dataset[name_columns[:-1]] = scaler.fit_transform(housing_dataset[name_columns[:-1]])"
   ]
  },
  {
   "cell_type": "markdown",
   "metadata": {
    "id": "fB09VGkcdfOX"
   },
   "source": [
    "X_new <- 13 independent variables\n",
    "\n",
    "y <- 'MEDV' column"
   ]
  },
  {
   "cell_type": "code",
   "execution_count": null,
   "metadata": {
    "id": "HWMm4RHz-9eo"
   },
   "outputs": [],
   "source": [
    "X_new = housing_dataset.iloc[:, :-1]\n",
    "y = housing_dataset[['MEDV']]\n",
    "X_new = X_new.values\n",
    "y = y.values.flatten()"
   ]
  },
  {
   "cell_type": "code",
   "execution_count": null,
   "metadata": {
    "id": "8fiVXV3P-9eo"
   },
   "outputs": [],
   "source": [
    "# Split train-test set (7:3, random_state = 42)\n",
    "X_train_norm, X_test_norm, y_train, y_test = train_test_split(X_new, y, test_size=30, random_state=42)"
   ]
  },
  {
   "cell_type": "markdown",
   "metadata": {
    "id": "zLX9iM9v-9eo"
   },
   "source": [
    "### Gradient Descent"
   ]
  },
  {
   "cell_type": "markdown",
   "metadata": {
    "id": "4Y06rXajeeq0"
   },
   "source": [
    "- Experiment with following learning rates = {1e-3, 1e-5, 1e-4}\n",
    "- max_iter = 200\n",
    "- random_state = 42"
   ]
  },
  {
   "cell_type": "code",
   "execution_count": null,
   "metadata": {
    "id": "1iIaUV_c-9eo"
   },
   "outputs": [],
   "source": [
    "# Initalize the GD model\n",
    "reg_GD = GradientDescent(eta=1e-4, max_iter=50, random_state=95)\n",
    "\n",
    "# Train model on normalized data\n",
    "reg_GD.fit(X_train_norm, y_train)\n",
    "\n",
    "# Visualize the cost trend\n",
    "plt.plot(range(1, len(reg_GD.costs) + 1), reg_GD.costs)\n",
    "plt.xlabel('Epochs')\n",
    "plt.ylabel('Cost')\n",
    "plt.title('Gradient Descent')\n",
    "plt.show()"
   ]
  },
  {
   "cell_type": "markdown",
   "metadata": {
    "id": "ytyMss5s-9ep"
   },
   "source": [
    "### Stochastic Gradient Descent"
   ]
  },
  {
   "cell_type": "code",
   "execution_count": null,
   "metadata": {
    "id": "aIlO_0Jc-9ep"
   },
   "outputs": [],
   "source": [
    "# Initialize SGD model (eta0=1e-4, max_iter=200, random_state=42, learning_rate='constant')\n",
    "reg_SGD = StochasticGradientDescent(eta=1e-4, max_iter=200, random_state=42)\n",
    "\n",
    "# Train model\n",
    "reg_SGD.fit(X_train_norm, y_train)"
   ]
  },
  {
   "cell_type": "markdown",
   "metadata": {
    "id": "R0XVYjgP-9ep"
   },
   "source": [
    "### Normal Equation (sklearn)"
   ]
  },
  {
   "cell_type": "code",
   "execution_count": null,
   "metadata": {
    "id": "mb8ErDl9-9eq"
   },
   "outputs": [],
   "source": [
    "# Initialize NE model\n",
    "reg_NE = LinearRegression()\n",
    "\n",
    "# Train model\n",
    "reg_NE.fit(X_train_norm, y_train)"
   ]
  },
  {
   "cell_type": "markdown",
   "metadata": {
    "id": "tzpweVOf-9eq"
   },
   "source": [
    "### Algorithms Comparisons"
   ]
  },
  {
   "cell_type": "code",
   "execution_count": null,
   "metadata": {
    "id": "eURC1SqD-9eq"
   },
   "outputs": [],
   "source": [
    "w_GD = reg_GD.w\n",
    "w_GD"
   ]
  },
  {
   "cell_type": "code",
   "execution_count": null,
   "metadata": {
    "id": "LbVpzkQD-9eq"
   },
   "outputs": [],
   "source": [
    "w_SGD = reg_SGD.w\n",
    "w_SGD"
   ]
  },
  {
   "cell_type": "code",
   "execution_count": null,
   "metadata": {
    "id": "aZSNoh6M-9eq"
   },
   "outputs": [],
   "source": [
    "w_NE = np.append(reg_NE.intercept_, reg_NE.coef_)\n",
    "w_NE"
   ]
  },
  {
   "cell_type": "code",
   "execution_count": null,
   "metadata": {
    "id": "nYswp86H-9er"
   },
   "outputs": [],
   "source": [
    "y_pred_GD = reg_GD.predict(X_test_norm)"
   ]
  },
  {
   "cell_type": "code",
   "execution_count": null,
   "metadata": {
    "id": "ztLNdZNo-9er"
   },
   "outputs": [],
   "source": [
    "y_pred_SGD = reg_SGD.predict(X_test_norm)"
   ]
  },
  {
   "cell_type": "code",
   "execution_count": null,
   "metadata": {
    "id": "2jGxn65t-9er"
   },
   "outputs": [],
   "source": [
    "y_pred_NE = reg_NE.predict(X_test_norm)"
   ]
  },
  {
   "cell_type": "code",
   "execution_count": null,
   "metadata": {
    "id": "Ng1QJSAw-9er"
   },
   "outputs": [],
   "source": [
    "print('MAE of GD:', round(MAE(y_test, y_pred_GD), 6))\n",
    "print('MAE of SGD:', round(MAE(y_test, y_pred_SGD), 6))\n",
    "print('MAE of NE:', round(MAE(y_test, y_pred_NE), 6))"
   ]
  },
  {
   "cell_type": "code",
   "execution_count": null,
   "metadata": {
    "id": "4Yqvk9Ey-9er",
    "scrolled": true
   },
   "outputs": [],
   "source": [
    "print('MSE of GD:', round(MSE(y_test, y_pred_GD), 6))\n",
    "print('MSE of SGD:', round(MSE(y_test, y_pred_SGD), 6))\n",
    "print('MSE of NE:', round(MSE(y_test, y_pred_NE), 6))"
   ]
  },
  {
   "cell_type": "code",
   "execution_count": null,
   "metadata": {
    "id": "TzP_SDzK-9er"
   },
   "outputs": [],
   "source": [
    "print('R2 of GD:', round(R2(y_test, y_pred_GD), 6))\n",
    "print('R2 of SGD:', round(R2(y_test, y_pred_SGD), 6))\n",
    "print('R2 of NE:', round(R2(y_test, y_pred_NE), 6))"
   ]
  },
  {
   "cell_type": "markdown",
   "metadata": {
    "id": "8-DVQPjADofi"
   },
   "source": [
    "# Explain what $R^2$ coefficient is."
   ]
  },
  {
   "cell_type": "code",
   "execution_count": null,
   "metadata": {
    "id": "aH5ZSzyODze4"
   },
   "outputs": [],
   "source": [
    "# R2 (Coefficient of determination) represents the proportion of variance (of y)\n",
    "# that has been explained by the independent variables in the model. \n",
    "# It provides an indication of goodness of fit and \n",
    "# therefore a measure of how well unseen samples are likely to be predicted by the model,\n",
    "# through the proportion of explained variance."
   ]
  }
 ],
 "metadata": {
  "colab": {
   "provenance": []
  },
  "kernelspec": {
   "display_name": "Python 3 (ipykernel)",
   "language": "python",
   "name": "python3"
  },
  "language_info": {
   "codemirror_mode": {
    "name": "ipython",
    "version": 3
   },
   "file_extension": ".py",
   "mimetype": "text/x-python",
   "name": "python",
   "nbconvert_exporter": "python",
   "pygments_lexer": "ipython3",
   "version": "3.11.3"
  }
 },
 "nbformat": 4,
 "nbformat_minor": 1
}
